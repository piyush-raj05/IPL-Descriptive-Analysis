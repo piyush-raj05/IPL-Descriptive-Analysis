{
 "cells": [
  {
   "cell_type": "markdown",
   "metadata": {
    "papermill": {
     "duration": 0.035728,
     "end_time": "2021-03-09T15:31:57.604338",
     "exception": false,
     "start_time": "2021-03-09T15:31:57.568610",
     "status": "completed"
    },
    "tags": []
   },
   "source": [
    "#  Exploratory Data Analysis on IPL Data (2008-2019)"
   ]
  },
  {
   "cell_type": "markdown",
   "metadata": {
    "papermill": {
     "duration": 0.032594,
     "end_time": "2021-03-09T15:31:57.671426",
     "exception": false,
     "start_time": "2021-03-09T15:31:57.638832",
     "status": "completed"
    },
    "tags": []
   },
   "source": [
    "#### check if plots are loaded..if not follow steps in next cell....if they are SCROLL AND ENJOY"
   ]
  },
  {
   "cell_type": "markdown",
   "metadata": {
    "papermill": {
     "duration": 0.033007,
     "end_time": "2021-03-09T15:31:57.737617",
     "exception": false,
     "start_time": "2021-03-09T15:31:57.704610",
     "status": "completed"
    },
    "tags": []
   },
   "source": [
    "#### run all cells..there is chance that plots are not saved..because plotly is browser rendered and make sure u have all libs "
   ]
  },
  {
   "cell_type": "markdown",
   "metadata": {
    "papermill": {
     "duration": 0.032365,
     "end_time": "2021-03-09T15:31:57.802683",
     "exception": false,
     "start_time": "2021-03-09T15:31:57.770318",
     "status": "completed"
    },
    "tags": []
   },
   "source": [
    "#### library installations (run these here..)"
   ]
  },
  {
   "cell_type": "code",
   "execution_count": 1,
   "metadata": {
    "execution": {
     "iopub.execute_input": "2021-03-09T15:31:57.886291Z",
     "iopub.status.busy": "2021-03-09T15:31:57.874744Z",
     "iopub.status.idle": "2021-03-09T15:32:05.934498Z",
     "shell.execute_reply": "2021-03-09T15:32:05.933830Z"
    },
    "papermill": {
     "duration": 8.098726,
     "end_time": "2021-03-09T15:32:05.934700",
     "exception": false,
     "start_time": "2021-03-09T15:31:57.835974",
     "status": "completed"
    },
    "tags": []
   },
   "outputs": [
    {
     "name": "stdout",
     "output_type": "stream",
     "text": [
      "Requirement already satisfied: plotly in /opt/conda/lib/python3.7/site-packages (4.14.3)\r\n",
      "Requirement already satisfied: retrying>=1.3.3 in /opt/conda/lib/python3.7/site-packages (from plotly) (1.3.3)\r\n",
      "Requirement already satisfied: six in /opt/conda/lib/python3.7/site-packages (from plotly) (1.15.0)\r\n"
     ]
    }
   ],
   "source": [
    "!pip install plotly"
   ]
  },
  {
   "cell_type": "code",
   "execution_count": 2,
   "metadata": {
    "execution": {
     "iopub.execute_input": "2021-03-09T15:32:06.009272Z",
     "iopub.status.busy": "2021-03-09T15:32:06.008272Z",
     "iopub.status.idle": "2021-03-09T15:32:13.530212Z",
     "shell.execute_reply": "2021-03-09T15:32:13.529646Z"
    },
    "papermill": {
     "duration": 7.561085,
     "end_time": "2021-03-09T15:32:13.530367",
     "exception": false,
     "start_time": "2021-03-09T15:32:05.969282",
     "status": "completed"
    },
    "tags": []
   },
   "outputs": [
    {
     "name": "stdout",
     "output_type": "stream",
     "text": [
      "Collecting opencage\r\n",
      "  Downloading opencage-1.2.2-py3-none-any.whl (6.1 kB)\r\n",
      "Requirement already satisfied: Requests>=2.2.0 in /opt/conda/lib/python3.7/site-packages (from opencage) (2.25.1)\r\n",
      "Collecting backoff>=1.10.0\r\n",
      "  Downloading backoff-1.10.0-py2.py3-none-any.whl (31 kB)\r\n",
      "Requirement already satisfied: six>=1.4.0 in /opt/conda/lib/python3.7/site-packages (from opencage) (1.15.0)\r\n",
      "Requirement already satisfied: pyopenssl>=0.15.1 in /opt/conda/lib/python3.7/site-packages (from opencage) (20.0.1)\r\n",
      "Requirement already satisfied: cryptography>=3.2 in /opt/conda/lib/python3.7/site-packages (from pyopenssl>=0.15.1->opencage) (3.3.1)\r\n",
      "Requirement already satisfied: cffi>=1.12 in /opt/conda/lib/python3.7/site-packages (from cryptography>=3.2->pyopenssl>=0.15.1->opencage) (1.14.4)\r\n",
      "Requirement already satisfied: pycparser in /opt/conda/lib/python3.7/site-packages (from cffi>=1.12->cryptography>=3.2->pyopenssl>=0.15.1->opencage) (2.20)\r\n",
      "Requirement already satisfied: certifi>=2017.4.17 in /opt/conda/lib/python3.7/site-packages (from Requests>=2.2.0->opencage) (2020.12.5)\r\n",
      "Requirement already satisfied: idna<3,>=2.5 in /opt/conda/lib/python3.7/site-packages (from Requests>=2.2.0->opencage) (2.10)\r\n",
      "Requirement already satisfied: urllib3<1.27,>=1.21.1 in /opt/conda/lib/python3.7/site-packages (from Requests>=2.2.0->opencage) (1.26.2)\r\n",
      "Requirement already satisfied: chardet<5,>=3.0.2 in /opt/conda/lib/python3.7/site-packages (from Requests>=2.2.0->opencage) (3.0.4)\r\n",
      "Installing collected packages: backoff, opencage\r\n",
      "Successfully installed backoff-1.10.0 opencage-1.2.2\r\n"
     ]
    }
   ],
   "source": [
    "!pip install opencage"
   ]
  },
  {
   "cell_type": "markdown",
   "metadata": {
    "papermill": {
     "duration": 0.036858,
     "end_time": "2021-03-09T15:32:13.604289",
     "exception": false,
     "start_time": "2021-03-09T15:32:13.567431",
     "status": "completed"
    },
    "tags": []
   },
   "source": [
    "#### make sure u have \"map_token.txt\" and \"geo.txt\" in current directory before running"
   ]
  },
  {
   "cell_type": "markdown",
   "metadata": {
    "papermill": {
     "duration": 0.036008,
     "end_time": "2021-03-09T15:32:13.677236",
     "exception": false,
     "start_time": "2021-03-09T15:32:13.641228",
     "status": "completed"
    },
    "tags": []
   },
   "source": [
    "### ------------------------------------------------------ EDA starts here---------------------------------------------------------"
   ]
  },
  {
   "cell_type": "code",
   "execution_count": 3,
   "metadata": {
    "execution": {
     "iopub.execute_input": "2021-03-09T15:32:13.756356Z",
     "iopub.status.busy": "2021-03-09T15:32:13.755388Z",
     "iopub.status.idle": "2021-03-09T15:32:14.921267Z",
     "shell.execute_reply": "2021-03-09T15:32:14.920566Z"
    },
    "papermill": {
     "duration": 1.207854,
     "end_time": "2021-03-09T15:32:14.921417",
     "exception": false,
     "start_time": "2021-03-09T15:32:13.713563",
     "status": "completed"
    },
    "tags": []
   },
   "outputs": [],
   "source": [
    "import numpy as np\n",
    "import pandas as pd\n",
    "import plotly.express as px"
   ]
  },
  {
   "cell_type": "code",
   "execution_count": 4,
   "metadata": {
    "execution": {
     "iopub.execute_input": "2021-03-09T15:32:14.999972Z",
     "iopub.status.busy": "2021-03-09T15:32:14.999349Z",
     "iopub.status.idle": "2021-03-09T15:32:15.027550Z",
     "shell.execute_reply": "2021-03-09T15:32:15.026961Z"
    },
    "papermill": {
     "duration": 0.069479,
     "end_time": "2021-03-09T15:32:15.027691",
     "exception": false,
     "start_time": "2021-03-09T15:32:14.958212",
     "status": "completed"
    },
    "tags": []
   },
   "outputs": [],
   "source": [
    "matches = pd.read_csv(\"../input/api-tokens/matches_ipl.csv\")"
   ]
  },
  {
   "cell_type": "code",
   "execution_count": 5,
   "metadata": {
    "execution": {
     "iopub.execute_input": "2021-03-09T15:32:15.114993Z",
     "iopub.status.busy": "2021-03-09T15:32:15.114304Z",
     "iopub.status.idle": "2021-03-09T15:32:15.143875Z",
     "shell.execute_reply": "2021-03-09T15:32:15.143271Z"
    },
    "papermill": {
     "duration": 0.079175,
     "end_time": "2021-03-09T15:32:15.144011",
     "exception": false,
     "start_time": "2021-03-09T15:32:15.064836",
     "status": "completed"
    },
    "tags": []
   },
   "outputs": [
    {
     "data": {
      "text/html": [
       "<div>\n",
       "<style scoped>\n",
       "    .dataframe tbody tr th:only-of-type {\n",
       "        vertical-align: middle;\n",
       "    }\n",
       "\n",
       "    .dataframe tbody tr th {\n",
       "        vertical-align: top;\n",
       "    }\n",
       "\n",
       "    .dataframe thead th {\n",
       "        text-align: right;\n",
       "    }\n",
       "</style>\n",
       "<table border=\"1\" class=\"dataframe\">\n",
       "  <thead>\n",
       "    <tr style=\"text-align: right;\">\n",
       "      <th></th>\n",
       "      <th>id</th>\n",
       "      <th>season</th>\n",
       "      <th>city</th>\n",
       "      <th>date</th>\n",
       "      <th>team1</th>\n",
       "      <th>team2</th>\n",
       "      <th>toss_winner</th>\n",
       "      <th>toss_decision</th>\n",
       "      <th>result</th>\n",
       "      <th>dl_applied</th>\n",
       "      <th>winner</th>\n",
       "      <th>win_by_runs</th>\n",
       "      <th>win_by_wickets</th>\n",
       "      <th>player_of_match</th>\n",
       "      <th>venue</th>\n",
       "      <th>umpire1</th>\n",
       "      <th>umpire2</th>\n",
       "      <th>umpire3</th>\n",
       "    </tr>\n",
       "  </thead>\n",
       "  <tbody>\n",
       "    <tr>\n",
       "      <th>0</th>\n",
       "      <td>1</td>\n",
       "      <td>2017</td>\n",
       "      <td>Hyderabad</td>\n",
       "      <td>2017-04-05</td>\n",
       "      <td>Sunrisers Hyderabad</td>\n",
       "      <td>Royal Challengers Bangalore</td>\n",
       "      <td>Royal Challengers Bangalore</td>\n",
       "      <td>field</td>\n",
       "      <td>normal</td>\n",
       "      <td>0</td>\n",
       "      <td>Sunrisers Hyderabad</td>\n",
       "      <td>35</td>\n",
       "      <td>0</td>\n",
       "      <td>Yuvraj Singh</td>\n",
       "      <td>Rajiv Gandhi International Stadium, Uppal</td>\n",
       "      <td>AY Dandekar</td>\n",
       "      <td>NJ Llong</td>\n",
       "      <td>NaN</td>\n",
       "    </tr>\n",
       "    <tr>\n",
       "      <th>1</th>\n",
       "      <td>2</td>\n",
       "      <td>2017</td>\n",
       "      <td>Pune</td>\n",
       "      <td>2017-04-06</td>\n",
       "      <td>Mumbai Indians</td>\n",
       "      <td>Rising Pune Supergiant</td>\n",
       "      <td>Rising Pune Supergiant</td>\n",
       "      <td>field</td>\n",
       "      <td>normal</td>\n",
       "      <td>0</td>\n",
       "      <td>Rising Pune Supergiant</td>\n",
       "      <td>0</td>\n",
       "      <td>7</td>\n",
       "      <td>SPD Smith</td>\n",
       "      <td>Maharashtra Cricket Association Stadium</td>\n",
       "      <td>A Nand Kishore</td>\n",
       "      <td>S Ravi</td>\n",
       "      <td>NaN</td>\n",
       "    </tr>\n",
       "    <tr>\n",
       "      <th>2</th>\n",
       "      <td>3</td>\n",
       "      <td>2017</td>\n",
       "      <td>Rajkot</td>\n",
       "      <td>2017-04-07</td>\n",
       "      <td>Gujarat Lions</td>\n",
       "      <td>Kolkata Knight Riders</td>\n",
       "      <td>Kolkata Knight Riders</td>\n",
       "      <td>field</td>\n",
       "      <td>normal</td>\n",
       "      <td>0</td>\n",
       "      <td>Kolkata Knight Riders</td>\n",
       "      <td>0</td>\n",
       "      <td>10</td>\n",
       "      <td>CA Lynn</td>\n",
       "      <td>Saurashtra Cricket Association Stadium</td>\n",
       "      <td>Nitin Menon</td>\n",
       "      <td>CK Nandan</td>\n",
       "      <td>NaN</td>\n",
       "    </tr>\n",
       "    <tr>\n",
       "      <th>3</th>\n",
       "      <td>4</td>\n",
       "      <td>2017</td>\n",
       "      <td>Indore</td>\n",
       "      <td>2017-04-08</td>\n",
       "      <td>Rising Pune Supergiant</td>\n",
       "      <td>Kings XI Punjab</td>\n",
       "      <td>Kings XI Punjab</td>\n",
       "      <td>field</td>\n",
       "      <td>normal</td>\n",
       "      <td>0</td>\n",
       "      <td>Kings XI Punjab</td>\n",
       "      <td>0</td>\n",
       "      <td>6</td>\n",
       "      <td>GJ Maxwell</td>\n",
       "      <td>Holkar Cricket Stadium</td>\n",
       "      <td>AK Chaudhary</td>\n",
       "      <td>C Shamshuddin</td>\n",
       "      <td>NaN</td>\n",
       "    </tr>\n",
       "    <tr>\n",
       "      <th>4</th>\n",
       "      <td>5</td>\n",
       "      <td>2017</td>\n",
       "      <td>Bangalore</td>\n",
       "      <td>2017-04-08</td>\n",
       "      <td>Royal Challengers Bangalore</td>\n",
       "      <td>Delhi Daredevils</td>\n",
       "      <td>Royal Challengers Bangalore</td>\n",
       "      <td>bat</td>\n",
       "      <td>normal</td>\n",
       "      <td>0</td>\n",
       "      <td>Royal Challengers Bangalore</td>\n",
       "      <td>15</td>\n",
       "      <td>0</td>\n",
       "      <td>KM Jadhav</td>\n",
       "      <td>M Chinnaswamy Stadium</td>\n",
       "      <td>NaN</td>\n",
       "      <td>NaN</td>\n",
       "      <td>NaN</td>\n",
       "    </tr>\n",
       "  </tbody>\n",
       "</table>\n",
       "</div>"
      ],
      "text/plain": [
       "   id  season       city        date                        team1  \\\n",
       "0   1    2017  Hyderabad  2017-04-05          Sunrisers Hyderabad   \n",
       "1   2    2017       Pune  2017-04-06               Mumbai Indians   \n",
       "2   3    2017     Rajkot  2017-04-07                Gujarat Lions   \n",
       "3   4    2017     Indore  2017-04-08       Rising Pune Supergiant   \n",
       "4   5    2017  Bangalore  2017-04-08  Royal Challengers Bangalore   \n",
       "\n",
       "                         team2                  toss_winner toss_decision  \\\n",
       "0  Royal Challengers Bangalore  Royal Challengers Bangalore         field   \n",
       "1       Rising Pune Supergiant       Rising Pune Supergiant         field   \n",
       "2        Kolkata Knight Riders        Kolkata Knight Riders         field   \n",
       "3              Kings XI Punjab              Kings XI Punjab         field   \n",
       "4             Delhi Daredevils  Royal Challengers Bangalore           bat   \n",
       "\n",
       "   result  dl_applied                       winner  win_by_runs  \\\n",
       "0  normal           0          Sunrisers Hyderabad           35   \n",
       "1  normal           0       Rising Pune Supergiant            0   \n",
       "2  normal           0        Kolkata Knight Riders            0   \n",
       "3  normal           0              Kings XI Punjab            0   \n",
       "4  normal           0  Royal Challengers Bangalore           15   \n",
       "\n",
       "   win_by_wickets player_of_match                                      venue  \\\n",
       "0               0    Yuvraj Singh  Rajiv Gandhi International Stadium, Uppal   \n",
       "1               7       SPD Smith    Maharashtra Cricket Association Stadium   \n",
       "2              10         CA Lynn     Saurashtra Cricket Association Stadium   \n",
       "3               6      GJ Maxwell                     Holkar Cricket Stadium   \n",
       "4               0       KM Jadhav                      M Chinnaswamy Stadium   \n",
       "\n",
       "          umpire1        umpire2 umpire3  \n",
       "0     AY Dandekar       NJ Llong     NaN  \n",
       "1  A Nand Kishore         S Ravi     NaN  \n",
       "2     Nitin Menon      CK Nandan     NaN  \n",
       "3    AK Chaudhary  C Shamshuddin     NaN  \n",
       "4             NaN            NaN     NaN  "
      ]
     },
     "execution_count": 5,
     "metadata": {},
     "output_type": "execute_result"
    }
   ],
   "source": [
    "matches.head()"
   ]
  },
  {
   "cell_type": "code",
   "execution_count": 6,
   "metadata": {
    "execution": {
     "iopub.execute_input": "2021-03-09T15:32:15.228781Z",
     "iopub.status.busy": "2021-03-09T15:32:15.228159Z",
     "iopub.status.idle": "2021-03-09T15:32:15.246720Z",
     "shell.execute_reply": "2021-03-09T15:32:15.247271Z"
    },
    "papermill": {
     "duration": 0.065734,
     "end_time": "2021-03-09T15:32:15.247451",
     "exception": false,
     "start_time": "2021-03-09T15:32:15.181717",
     "status": "completed"
    },
    "tags": []
   },
   "outputs": [],
   "source": [
    "matches = matches.drop(columns  = ['umpire3'])\n",
    "matches = matches.dropna().reset_index()"
   ]
  },
  {
   "cell_type": "markdown",
   "metadata": {
    "papermill": {
     "duration": 0.03633,
     "end_time": "2021-03-09T15:32:15.320885",
     "exception": false,
     "start_time": "2021-03-09T15:32:15.284555",
     "status": "completed"
    },
    "tags": []
   },
   "source": [
    "## ------------------------------------global data analysis (2008- 2019)--------------------------------------"
   ]
  },
  {
   "cell_type": "code",
   "execution_count": 7,
   "metadata": {
    "execution": {
     "iopub.execute_input": "2021-03-09T15:32:15.399622Z",
     "iopub.status.busy": "2021-03-09T15:32:15.398943Z",
     "iopub.status.idle": "2021-03-09T15:32:16.669939Z",
     "shell.execute_reply": "2021-03-09T15:32:16.670478Z"
    },
    "papermill": {
     "duration": 1.312001,
     "end_time": "2021-03-09T15:32:16.670640",
     "exception": false,
     "start_time": "2021-03-09T15:32:15.358639",
     "status": "completed"
    },
    "scrolled": false,
    "tags": []
   },
   "outputs": [
    {
     "data": {
      "text/html": [
       "        <script type=\"text/javascript\">\n",
       "        window.PlotlyConfig = {MathJaxConfig: 'local'};\n",
       "        if (window.MathJax) {MathJax.Hub.Config({SVG: {font: \"STIX-Web\"}});}\n",
       "        if (typeof require !== 'undefined') {\n",
       "        require.undef(\"plotly\");\n",
       "        requirejs.config({\n",
       "            paths: {\n",
       "                'plotly': ['https://cdn.plot.ly/plotly-latest.min']\n",
       "            }\n",
       "        });\n",
       "        require(['plotly'], function(Plotly) {\n",
       "            window._Plotly = Plotly;\n",
       "        });\n",
       "        }\n",
       "        </script>\n",
       "        "
      ]
     },
     "metadata": {},
     "output_type": "display_data"
    },
    {
     "data": {
      "text/html": [
       "<div>                            <div id=\"6df2a319-ef02-4900-a0c3-c92ab040514b\" class=\"plotly-graph-div\" style=\"height:525px; width:100%;\"></div>            <script type=\"text/javascript\">                require([\"plotly\"], function(Plotly) {                    window.PLOTLYENV=window.PLOTLYENV || {};                                    if (document.getElementById(\"6df2a319-ef02-4900-a0c3-c92ab040514b\")) {                    Plotly.newPlot(                        \"6df2a319-ef02-4900-a0c3-c92ab040514b\",                        [{\"alignmentgroup\": \"True\", \"hovertemplate\": \"color=CH Gayle<br>x=%{x}<br>y=%{y}<extra></extra>\", \"legendgroup\": \"CH Gayle\", \"marker\": {\"color\": \"#636efa\"}, \"name\": \"CH Gayle\", \"offsetgroup\": \"CH Gayle\", \"orientation\": \"v\", \"showlegend\": true, \"textposition\": \"auto\", \"type\": \"bar\", \"x\": [\"CH Gayle\"], \"xaxis\": \"x\", \"y\": [21], \"yaxis\": \"y\"}, {\"alignmentgroup\": \"True\", \"hovertemplate\": \"color=AB de Villiers<br>x=%{x}<br>y=%{y}<extra></extra>\", \"legendgroup\": \"AB de Villiers\", \"marker\": {\"color\": \"#EF553B\"}, \"name\": \"AB de Villiers\", \"offsetgroup\": \"AB de Villiers\", \"orientation\": \"v\", \"showlegend\": true, \"textposition\": \"auto\", \"type\": \"bar\", \"x\": [\"AB de Villiers\"], \"xaxis\": \"x\", \"y\": [20], \"yaxis\": \"y\"}, {\"alignmentgroup\": \"True\", \"hovertemplate\": \"color=MS Dhoni<br>x=%{x}<br>y=%{y}<extra></extra>\", \"legendgroup\": \"MS Dhoni\", \"marker\": {\"color\": \"#00cc96\"}, \"name\": \"MS Dhoni\", \"offsetgroup\": \"MS Dhoni\", \"orientation\": \"v\", \"showlegend\": true, \"textposition\": \"auto\", \"type\": \"bar\", \"x\": [\"MS Dhoni\"], \"xaxis\": \"x\", \"y\": [17], \"yaxis\": \"y\"}, {\"alignmentgroup\": \"True\", \"hovertemplate\": \"color=RG Sharma<br>x=%{x}<br>y=%{y}<extra></extra>\", \"legendgroup\": \"RG Sharma\", \"marker\": {\"color\": \"#ab63fa\"}, \"name\": \"RG Sharma\", \"offsetgroup\": \"RG Sharma\", \"orientation\": \"v\", \"showlegend\": true, \"textposition\": \"auto\", \"type\": \"bar\", \"x\": [\"RG Sharma\"], \"xaxis\": \"x\", \"y\": [17], \"yaxis\": \"y\"}, {\"alignmentgroup\": \"True\", \"hovertemplate\": \"color=DA Warner<br>x=%{x}<br>y=%{y}<extra></extra>\", \"legendgroup\": \"DA Warner\", \"marker\": {\"color\": \"#FFA15A\"}, \"name\": \"DA Warner\", \"offsetgroup\": \"DA Warner\", \"orientation\": \"v\", \"showlegend\": true, \"textposition\": \"auto\", \"type\": \"bar\", \"x\": [\"DA Warner\"], \"xaxis\": \"x\", \"y\": [17], \"yaxis\": \"y\"}, {\"alignmentgroup\": \"True\", \"hovertemplate\": \"color=YK Pathan<br>x=%{x}<br>y=%{y}<extra></extra>\", \"legendgroup\": \"YK Pathan\", \"marker\": {\"color\": \"#19d3f3\"}, \"name\": \"YK Pathan\", \"offsetgroup\": \"YK Pathan\", \"orientation\": \"v\", \"showlegend\": true, \"textposition\": \"auto\", \"type\": \"bar\", \"x\": [\"YK Pathan\"], \"xaxis\": \"x\", \"y\": [16], \"yaxis\": \"y\"}, {\"alignmentgroup\": \"True\", \"hovertemplate\": \"color=SR Watson<br>x=%{x}<br>y=%{y}<extra></extra>\", \"legendgroup\": \"SR Watson\", \"marker\": {\"color\": \"#FF6692\"}, \"name\": \"SR Watson\", \"offsetgroup\": \"SR Watson\", \"orientation\": \"v\", \"showlegend\": true, \"textposition\": \"auto\", \"type\": \"bar\", \"x\": [\"SR Watson\"], \"xaxis\": \"x\", \"y\": [15], \"yaxis\": \"y\"}, {\"alignmentgroup\": \"True\", \"hovertemplate\": \"color=SK Raina<br>x=%{x}<br>y=%{y}<extra></extra>\", \"legendgroup\": \"SK Raina\", \"marker\": {\"color\": \"#B6E880\"}, \"name\": \"SK Raina\", \"offsetgroup\": \"SK Raina\", \"orientation\": \"v\", \"showlegend\": true, \"textposition\": \"auto\", \"type\": \"bar\", \"x\": [\"SK Raina\"], \"xaxis\": \"x\", \"y\": [14], \"yaxis\": \"y\"}, {\"alignmentgroup\": \"True\", \"hovertemplate\": \"color=G Gambhir<br>x=%{x}<br>y=%{y}<extra></extra>\", \"legendgroup\": \"G Gambhir\", \"marker\": {\"color\": \"#FF97FF\"}, \"name\": \"G Gambhir\", \"offsetgroup\": \"G Gambhir\", \"orientation\": \"v\", \"showlegend\": true, \"textposition\": \"auto\", \"type\": \"bar\", \"x\": [\"G Gambhir\"], \"xaxis\": \"x\", \"y\": [13], \"yaxis\": \"y\"}, {\"alignmentgroup\": \"True\", \"hovertemplate\": \"color=MEK Hussey<br>x=%{x}<br>y=%{y}<extra></extra>\", \"legendgroup\": \"MEK Hussey\", \"marker\": {\"color\": \"#FECB52\"}, \"name\": \"MEK Hussey\", \"offsetgroup\": \"MEK Hussey\", \"orientation\": \"v\", \"showlegend\": true, \"textposition\": \"auto\", \"type\": \"bar\", \"x\": [\"MEK Hussey\"], \"xaxis\": \"x\", \"y\": [12], \"yaxis\": \"y\"}, {\"alignmentgroup\": \"True\", \"hovertemplate\": \"color=AM Rahane<br>x=%{x}<br>y=%{y}<extra></extra>\", \"legendgroup\": \"AM Rahane\", \"marker\": {\"color\": \"#636efa\"}, \"name\": \"AM Rahane\", \"offsetgroup\": \"AM Rahane\", \"orientation\": \"v\", \"showlegend\": true, \"textposition\": \"auto\", \"type\": \"bar\", \"x\": [\"AM Rahane\"], \"xaxis\": \"x\", \"y\": [12], \"yaxis\": \"y\"}, {\"alignmentgroup\": \"True\", \"hovertemplate\": \"color=V Kohli<br>x=%{x}<br>y=%{y}<extra></extra>\", \"legendgroup\": \"V Kohli\", \"marker\": {\"color\": \"#EF553B\"}, \"name\": \"V Kohli\", \"offsetgroup\": \"V Kohli\", \"orientation\": \"v\", \"showlegend\": true, \"textposition\": \"auto\", \"type\": \"bar\", \"x\": [\"V Kohli\"], \"xaxis\": \"x\", \"y\": [12], \"yaxis\": \"y\"}, {\"alignmentgroup\": \"True\", \"hovertemplate\": \"color=AD Russell<br>x=%{x}<br>y=%{y}<extra></extra>\", \"legendgroup\": \"AD Russell\", \"marker\": {\"color\": \"#00cc96\"}, \"name\": \"AD Russell\", \"offsetgroup\": \"AD Russell\", \"orientation\": \"v\", \"showlegend\": true, \"textposition\": \"auto\", \"type\": \"bar\", \"x\": [\"AD Russell\"], \"xaxis\": \"x\", \"y\": [11], \"yaxis\": \"y\"}, {\"alignmentgroup\": \"True\", \"hovertemplate\": \"color=V Sehwag<br>x=%{x}<br>y=%{y}<extra></extra>\", \"legendgroup\": \"V Sehwag\", \"marker\": {\"color\": \"#ab63fa\"}, \"name\": \"V Sehwag\", \"offsetgroup\": \"V Sehwag\", \"orientation\": \"v\", \"showlegend\": true, \"textposition\": \"auto\", \"type\": \"bar\", \"x\": [\"V Sehwag\"], \"xaxis\": \"x\", \"y\": [11], \"yaxis\": \"y\"}, {\"alignmentgroup\": \"True\", \"hovertemplate\": \"color=DR Smith<br>x=%{x}<br>y=%{y}<extra></extra>\", \"legendgroup\": \"DR Smith\", \"marker\": {\"color\": \"#FFA15A\"}, \"name\": \"DR Smith\", \"offsetgroup\": \"DR Smith\", \"orientation\": \"v\", \"showlegend\": true, \"textposition\": \"auto\", \"type\": \"bar\", \"x\": [\"DR Smith\"], \"xaxis\": \"x\", \"y\": [11], \"yaxis\": \"y\"}, {\"alignmentgroup\": \"True\", \"hovertemplate\": \"color=A Mishra<br>x=%{x}<br>y=%{y}<extra></extra>\", \"legendgroup\": \"A Mishra\", \"marker\": {\"color\": \"#19d3f3\"}, \"name\": \"A Mishra\", \"offsetgroup\": \"A Mishra\", \"orientation\": \"v\", \"showlegend\": true, \"textposition\": \"auto\", \"type\": \"bar\", \"x\": [\"A Mishra\"], \"xaxis\": \"x\", \"y\": [11], \"yaxis\": \"y\"}, {\"alignmentgroup\": \"True\", \"hovertemplate\": \"color=JH Kallis<br>x=%{x}<br>y=%{y}<extra></extra>\", \"legendgroup\": \"JH Kallis\", \"marker\": {\"color\": \"#FF6692\"}, \"name\": \"JH Kallis\", \"offsetgroup\": \"JH Kallis\", \"orientation\": \"v\", \"showlegend\": true, \"textposition\": \"auto\", \"type\": \"bar\", \"x\": [\"JH Kallis\"], \"xaxis\": \"x\", \"y\": [10], \"yaxis\": \"y\"}, {\"alignmentgroup\": \"True\", \"hovertemplate\": \"color=KA Pollard<br>x=%{x}<br>y=%{y}<extra></extra>\", \"legendgroup\": \"KA Pollard\", \"marker\": {\"color\": \"#B6E880\"}, \"name\": \"KA Pollard\", \"offsetgroup\": \"KA Pollard\", \"orientation\": \"v\", \"showlegend\": true, \"textposition\": \"auto\", \"type\": \"bar\", \"x\": [\"KA Pollard\"], \"xaxis\": \"x\", \"y\": [10], \"yaxis\": \"y\"}, {\"alignmentgroup\": \"True\", \"hovertemplate\": \"color=AT Rayudu<br>x=%{x}<br>y=%{y}<extra></extra>\", \"legendgroup\": \"AT Rayudu\", \"marker\": {\"color\": \"#FF97FF\"}, \"name\": \"AT Rayudu\", \"offsetgroup\": \"AT Rayudu\", \"orientation\": \"v\", \"showlegend\": true, \"textposition\": \"auto\", \"type\": \"bar\", \"x\": [\"AT Rayudu\"], \"xaxis\": \"x\", \"y\": [9], \"yaxis\": \"y\"}, {\"alignmentgroup\": \"True\", \"hovertemplate\": \"color=SE Marsh<br>x=%{x}<br>y=%{y}<extra></extra>\", \"legendgroup\": \"SE Marsh\", \"marker\": {\"color\": \"#FECB52\"}, \"name\": \"SE Marsh\", \"offsetgroup\": \"SE Marsh\", \"orientation\": \"v\", \"showlegend\": true, \"textposition\": \"auto\", \"type\": \"bar\", \"x\": [\"SE Marsh\"], \"xaxis\": \"x\", \"y\": [9], \"yaxis\": \"y\"}],                        {\"barmode\": \"relative\", \"legend\": {\"title\": {\"text\": \"color\"}, \"tracegroupgap\": 0}, \"template\": {\"data\": {\"bar\": [{\"error_x\": {\"color\": \"#2a3f5f\"}, \"error_y\": {\"color\": \"#2a3f5f\"}, \"marker\": {\"line\": {\"color\": \"#E5ECF6\", \"width\": 0.5}}, \"type\": \"bar\"}], \"barpolar\": [{\"marker\": {\"line\": {\"color\": \"#E5ECF6\", \"width\": 0.5}}, \"type\": \"barpolar\"}], \"carpet\": [{\"aaxis\": {\"endlinecolor\": \"#2a3f5f\", \"gridcolor\": \"white\", \"linecolor\": \"white\", \"minorgridcolor\": \"white\", \"startlinecolor\": \"#2a3f5f\"}, \"baxis\": {\"endlinecolor\": \"#2a3f5f\", \"gridcolor\": \"white\", \"linecolor\": \"white\", \"minorgridcolor\": \"white\", \"startlinecolor\": \"#2a3f5f\"}, \"type\": \"carpet\"}], \"choropleth\": [{\"colorbar\": {\"outlinewidth\": 0, \"ticks\": \"\"}, \"type\": \"choropleth\"}], \"contour\": [{\"colorbar\": {\"outlinewidth\": 0, \"ticks\": \"\"}, \"colorscale\": [[0.0, \"#0d0887\"], [0.1111111111111111, \"#46039f\"], [0.2222222222222222, \"#7201a8\"], [0.3333333333333333, \"#9c179e\"], [0.4444444444444444, \"#bd3786\"], [0.5555555555555556, \"#d8576b\"], [0.6666666666666666, \"#ed7953\"], [0.7777777777777778, \"#fb9f3a\"], [0.8888888888888888, \"#fdca26\"], [1.0, \"#f0f921\"]], \"type\": \"contour\"}], \"contourcarpet\": [{\"colorbar\": {\"outlinewidth\": 0, \"ticks\": \"\"}, \"type\": \"contourcarpet\"}], \"heatmap\": [{\"colorbar\": {\"outlinewidth\": 0, \"ticks\": \"\"}, \"colorscale\": [[0.0, \"#0d0887\"], [0.1111111111111111, \"#46039f\"], [0.2222222222222222, \"#7201a8\"], [0.3333333333333333, \"#9c179e\"], [0.4444444444444444, \"#bd3786\"], [0.5555555555555556, \"#d8576b\"], [0.6666666666666666, \"#ed7953\"], [0.7777777777777778, \"#fb9f3a\"], [0.8888888888888888, \"#fdca26\"], [1.0, \"#f0f921\"]], \"type\": \"heatmap\"}], \"heatmapgl\": [{\"colorbar\": {\"outlinewidth\": 0, \"ticks\": \"\"}, \"colorscale\": [[0.0, \"#0d0887\"], [0.1111111111111111, \"#46039f\"], [0.2222222222222222, \"#7201a8\"], [0.3333333333333333, \"#9c179e\"], [0.4444444444444444, \"#bd3786\"], [0.5555555555555556, \"#d8576b\"], [0.6666666666666666, \"#ed7953\"], [0.7777777777777778, \"#fb9f3a\"], [0.8888888888888888, \"#fdca26\"], [1.0, \"#f0f921\"]], \"type\": \"heatmapgl\"}], \"histogram\": [{\"marker\": {\"colorbar\": {\"outlinewidth\": 0, \"ticks\": \"\"}}, \"type\": \"histogram\"}], \"histogram2d\": [{\"colorbar\": {\"outlinewidth\": 0, \"ticks\": \"\"}, \"colorscale\": [[0.0, \"#0d0887\"], [0.1111111111111111, \"#46039f\"], [0.2222222222222222, \"#7201a8\"], [0.3333333333333333, \"#9c179e\"], [0.4444444444444444, \"#bd3786\"], [0.5555555555555556, \"#d8576b\"], [0.6666666666666666, \"#ed7953\"], [0.7777777777777778, \"#fb9f3a\"], [0.8888888888888888, \"#fdca26\"], [1.0, \"#f0f921\"]], \"type\": \"histogram2d\"}], \"histogram2dcontour\": [{\"colorbar\": {\"outlinewidth\": 0, \"ticks\": \"\"}, \"colorscale\": [[0.0, \"#0d0887\"], [0.1111111111111111, \"#46039f\"], [0.2222222222222222, \"#7201a8\"], [0.3333333333333333, \"#9c179e\"], [0.4444444444444444, \"#bd3786\"], [0.5555555555555556, \"#d8576b\"], [0.6666666666666666, \"#ed7953\"], [0.7777777777777778, \"#fb9f3a\"], [0.8888888888888888, \"#fdca26\"], [1.0, \"#f0f921\"]], \"type\": \"histogram2dcontour\"}], \"mesh3d\": [{\"colorbar\": {\"outlinewidth\": 0, \"ticks\": \"\"}, \"type\": \"mesh3d\"}], \"parcoords\": [{\"line\": {\"colorbar\": {\"outlinewidth\": 0, \"ticks\": \"\"}}, \"type\": \"parcoords\"}], \"pie\": [{\"automargin\": true, \"type\": \"pie\"}], \"scatter\": [{\"marker\": {\"colorbar\": {\"outlinewidth\": 0, \"ticks\": \"\"}}, \"type\": \"scatter\"}], \"scatter3d\": [{\"line\": {\"colorbar\": {\"outlinewidth\": 0, \"ticks\": \"\"}}, \"marker\": {\"colorbar\": {\"outlinewidth\": 0, \"ticks\": \"\"}}, \"type\": \"scatter3d\"}], \"scattercarpet\": [{\"marker\": {\"colorbar\": {\"outlinewidth\": 0, \"ticks\": \"\"}}, \"type\": \"scattercarpet\"}], \"scattergeo\": [{\"marker\": {\"colorbar\": {\"outlinewidth\": 0, \"ticks\": \"\"}}, \"type\": \"scattergeo\"}], \"scattergl\": [{\"marker\": {\"colorbar\": {\"outlinewidth\": 0, \"ticks\": \"\"}}, \"type\": \"scattergl\"}], \"scattermapbox\": [{\"marker\": {\"colorbar\": {\"outlinewidth\": 0, \"ticks\": \"\"}}, \"type\": \"scattermapbox\"}], \"scatterpolar\": [{\"marker\": {\"colorbar\": {\"outlinewidth\": 0, \"ticks\": \"\"}}, \"type\": \"scatterpolar\"}], \"scatterpolargl\": [{\"marker\": {\"colorbar\": {\"outlinewidth\": 0, \"ticks\": \"\"}}, \"type\": \"scatterpolargl\"}], \"scatterternary\": [{\"marker\": {\"colorbar\": {\"outlinewidth\": 0, \"ticks\": \"\"}}, \"type\": \"scatterternary\"}], \"surface\": [{\"colorbar\": {\"outlinewidth\": 0, \"ticks\": \"\"}, \"colorscale\": [[0.0, \"#0d0887\"], [0.1111111111111111, \"#46039f\"], [0.2222222222222222, \"#7201a8\"], [0.3333333333333333, \"#9c179e\"], [0.4444444444444444, \"#bd3786\"], [0.5555555555555556, \"#d8576b\"], [0.6666666666666666, \"#ed7953\"], [0.7777777777777778, \"#fb9f3a\"], [0.8888888888888888, \"#fdca26\"], [1.0, \"#f0f921\"]], \"type\": \"surface\"}], \"table\": [{\"cells\": {\"fill\": {\"color\": \"#EBF0F8\"}, \"line\": {\"color\": \"white\"}}, \"header\": {\"fill\": {\"color\": \"#C8D4E3\"}, \"line\": {\"color\": \"white\"}}, \"type\": \"table\"}]}, \"layout\": {\"annotationdefaults\": {\"arrowcolor\": \"#2a3f5f\", \"arrowhead\": 0, \"arrowwidth\": 1}, \"autotypenumbers\": \"strict\", \"coloraxis\": {\"colorbar\": {\"outlinewidth\": 0, \"ticks\": \"\"}}, \"colorscale\": {\"diverging\": [[0, \"#8e0152\"], [0.1, \"#c51b7d\"], [0.2, \"#de77ae\"], [0.3, \"#f1b6da\"], [0.4, \"#fde0ef\"], [0.5, \"#f7f7f7\"], [0.6, \"#e6f5d0\"], [0.7, \"#b8e186\"], [0.8, \"#7fbc41\"], [0.9, \"#4d9221\"], [1, \"#276419\"]], \"sequential\": [[0.0, \"#0d0887\"], [0.1111111111111111, \"#46039f\"], [0.2222222222222222, \"#7201a8\"], [0.3333333333333333, \"#9c179e\"], [0.4444444444444444, \"#bd3786\"], [0.5555555555555556, \"#d8576b\"], [0.6666666666666666, \"#ed7953\"], [0.7777777777777778, \"#fb9f3a\"], [0.8888888888888888, \"#fdca26\"], [1.0, \"#f0f921\"]], \"sequentialminus\": [[0.0, \"#0d0887\"], [0.1111111111111111, \"#46039f\"], [0.2222222222222222, \"#7201a8\"], [0.3333333333333333, \"#9c179e\"], [0.4444444444444444, \"#bd3786\"], [0.5555555555555556, \"#d8576b\"], [0.6666666666666666, \"#ed7953\"], [0.7777777777777778, \"#fb9f3a\"], [0.8888888888888888, \"#fdca26\"], [1.0, \"#f0f921\"]]}, \"colorway\": [\"#636efa\", \"#EF553B\", \"#00cc96\", \"#ab63fa\", \"#FFA15A\", \"#19d3f3\", \"#FF6692\", \"#B6E880\", \"#FF97FF\", \"#FECB52\"], \"font\": {\"color\": \"#2a3f5f\"}, \"geo\": {\"bgcolor\": \"white\", \"lakecolor\": \"white\", \"landcolor\": \"#E5ECF6\", \"showlakes\": true, \"showland\": true, \"subunitcolor\": \"white\"}, \"hoverlabel\": {\"align\": \"left\"}, \"hovermode\": \"closest\", \"mapbox\": {\"style\": \"light\"}, \"paper_bgcolor\": \"white\", \"plot_bgcolor\": \"#E5ECF6\", \"polar\": {\"angularaxis\": {\"gridcolor\": \"white\", \"linecolor\": \"white\", \"ticks\": \"\"}, \"bgcolor\": \"#E5ECF6\", \"radialaxis\": {\"gridcolor\": \"white\", \"linecolor\": \"white\", \"ticks\": \"\"}}, \"scene\": {\"xaxis\": {\"backgroundcolor\": \"#E5ECF6\", \"gridcolor\": \"white\", \"gridwidth\": 2, \"linecolor\": \"white\", \"showbackground\": true, \"ticks\": \"\", \"zerolinecolor\": \"white\"}, \"yaxis\": {\"backgroundcolor\": \"#E5ECF6\", \"gridcolor\": \"white\", \"gridwidth\": 2, \"linecolor\": \"white\", \"showbackground\": true, \"ticks\": \"\", \"zerolinecolor\": \"white\"}, \"zaxis\": {\"backgroundcolor\": \"#E5ECF6\", \"gridcolor\": \"white\", \"gridwidth\": 2, \"linecolor\": \"white\", \"showbackground\": true, \"ticks\": \"\", \"zerolinecolor\": \"white\"}}, \"shapedefaults\": {\"line\": {\"color\": \"#2a3f5f\"}}, \"ternary\": {\"aaxis\": {\"gridcolor\": \"white\", \"linecolor\": \"white\", \"ticks\": \"\"}, \"baxis\": {\"gridcolor\": \"white\", \"linecolor\": \"white\", \"ticks\": \"\"}, \"bgcolor\": \"#E5ECF6\", \"caxis\": {\"gridcolor\": \"white\", \"linecolor\": \"white\", \"ticks\": \"\"}}, \"title\": {\"x\": 0.05}, \"xaxis\": {\"automargin\": true, \"gridcolor\": \"white\", \"linecolor\": \"white\", \"ticks\": \"\", \"title\": {\"standoff\": 15}, \"zerolinecolor\": \"white\", \"zerolinewidth\": 2}, \"yaxis\": {\"automargin\": true, \"gridcolor\": \"white\", \"linecolor\": \"white\", \"ticks\": \"\", \"title\": {\"standoff\": 15}, \"zerolinecolor\": \"white\", \"zerolinewidth\": 2}}}, \"title\": {\"text\": \"top 20 players with most IPL MVPs (2008-2019)\"}, \"xaxis\": {\"anchor\": \"y\", \"domain\": [0.0, 1.0], \"title\": {\"text\": \"players\"}}, \"yaxis\": {\"anchor\": \"x\", \"domain\": [0.0, 1.0], \"title\": {\"text\": \"NO.OF MVPs\"}}},                        {\"responsive\": true}                    ).then(function(){\n",
       "                            \n",
       "var gd = document.getElementById('6df2a319-ef02-4900-a0c3-c92ab040514b');\n",
       "var x = new MutationObserver(function (mutations, observer) {{\n",
       "        var display = window.getComputedStyle(gd).display;\n",
       "        if (!display || display === 'none') {{\n",
       "            console.log([gd, 'removed!']);\n",
       "            Plotly.purge(gd);\n",
       "            observer.disconnect();\n",
       "        }}\n",
       "}});\n",
       "\n",
       "// Listen for the removal of the full notebook cells\n",
       "var notebookContainer = gd.closest('#notebook-container');\n",
       "if (notebookContainer) {{\n",
       "    x.observe(notebookContainer, {childList: true});\n",
       "}}\n",
       "\n",
       "// Listen for the clearing of the current output cell\n",
       "var outputEl = gd.closest('.output');\n",
       "if (outputEl) {{\n",
       "    x.observe(outputEl, {childList: true});\n",
       "}}\n",
       "\n",
       "                        })                };                });            </script>        </div>"
      ]
     },
     "metadata": {},
     "output_type": "display_data"
    }
   ],
   "source": [
    "fig = px.bar(x = matches['player_of_match'].value_counts().index.tolist()[:20],\n",
    "             y = matches['player_of_match'].value_counts().values.tolist()[:20], \n",
    "             title = \"top 20 players with most IPL MVPs (2008-2019)\",color =matches['player_of_match'].value_counts().index.tolist()[:20] )\n",
    "fig.update_xaxes(title = \"players\")\n",
    "fig.update_yaxes(title = \"NO.OF MVPs\")\n",
    "fig.show()"
   ]
  },
  {
   "cell_type": "code",
   "execution_count": 8,
   "metadata": {
    "execution": {
     "iopub.execute_input": "2021-03-09T15:32:16.754406Z",
     "iopub.status.busy": "2021-03-09T15:32:16.753410Z",
     "iopub.status.idle": "2021-03-09T15:32:16.768999Z",
     "shell.execute_reply": "2021-03-09T15:32:16.768341Z"
    },
    "papermill": {
     "duration": 0.059326,
     "end_time": "2021-03-09T15:32:16.769181",
     "exception": false,
     "start_time": "2021-03-09T15:32:16.709855",
     "status": "completed"
    },
    "tags": []
   },
   "outputs": [],
   "source": [
    "from opencage.geocoder import OpenCageGeocode\n",
    "geo = OpenCageGeocode(open('../input/api-tokens/geo.txt').read())"
   ]
  },
  {
   "cell_type": "code",
   "execution_count": 9,
   "metadata": {
    "execution": {
     "iopub.execute_input": "2021-03-09T15:32:16.856395Z",
     "iopub.status.busy": "2021-03-09T15:32:16.855671Z",
     "iopub.status.idle": "2021-03-09T15:32:30.010463Z",
     "shell.execute_reply": "2021-03-09T15:32:30.009872Z"
    },
    "papermill": {
     "duration": 13.202069,
     "end_time": "2021-03-09T15:32:30.010623",
     "exception": false,
     "start_time": "2021-03-09T15:32:16.808554",
     "status": "completed"
    },
    "tags": []
   },
   "outputs": [],
   "source": [
    "latlong_dict = {}\n",
    "visited = []\n",
    "for index in matches['city'].value_counts().index.tolist():\n",
    "    if index not in visited:\n",
    "        call = geo.geocode(index)\n",
    "        latlong_dict[index] = [call[0]['geometry']['lat'],call[0]['geometry']['lng']]"
   ]
  },
  {
   "cell_type": "code",
   "execution_count": 10,
   "metadata": {
    "execution": {
     "iopub.execute_input": "2021-03-09T15:32:30.097931Z",
     "iopub.status.busy": "2021-03-09T15:32:30.097254Z",
     "iopub.status.idle": "2021-03-09T15:32:30.561265Z",
     "shell.execute_reply": "2021-03-09T15:32:30.560764Z"
    },
    "papermill": {
     "duration": 0.510383,
     "end_time": "2021-03-09T15:32:30.561410",
     "exception": false,
     "start_time": "2021-03-09T15:32:30.051027",
     "status": "completed"
    },
    "tags": []
   },
   "outputs": [],
   "source": [
    "hyd_re = geo.geocode(\"hyderabad, india\")\n",
    "del latlong_dict['Hyderabad']\n",
    "latlong_dict['Hyderabad'] = [hyd_re[0]['geometry']['lat'],hyd_re[0]['geometry']['lng']]"
   ]
  },
  {
   "cell_type": "code",
   "execution_count": 11,
   "metadata": {
    "execution": {
     "iopub.execute_input": "2021-03-09T15:32:30.642307Z",
     "iopub.status.busy": "2021-03-09T15:32:30.641718Z",
     "iopub.status.idle": "2021-03-09T15:32:31.113570Z",
     "shell.execute_reply": "2021-03-09T15:32:31.114103Z"
    },
    "papermill": {
     "duration": 0.513335,
     "end_time": "2021-03-09T15:32:31.114278",
     "exception": false,
     "start_time": "2021-03-09T15:32:30.600943",
     "status": "completed"
    },
    "tags": []
   },
   "outputs": [],
   "source": [
    "matches['lat'] =[latlong_dict[index][0] for index in matches['city']]\n",
    "matches['lng'] =[latlong_dict[index][1] for index in matches['city']]\n",
    "matches['city_counts'] = [matches['city'].value_counts().to_dict()[index] for index in matches['city']]"
   ]
  },
  {
   "cell_type": "code",
   "execution_count": 12,
   "metadata": {
    "execution": {
     "iopub.execute_input": "2021-03-09T15:32:31.196155Z",
     "iopub.status.busy": "2021-03-09T15:32:31.195483Z",
     "iopub.status.idle": "2021-03-09T15:32:31.209421Z",
     "shell.execute_reply": "2021-03-09T15:32:31.209937Z"
    },
    "papermill": {
     "duration": 0.056389,
     "end_time": "2021-03-09T15:32:31.210147",
     "exception": false,
     "start_time": "2021-03-09T15:32:31.153758",
     "status": "completed"
    },
    "tags": []
   },
   "outputs": [],
   "source": [
    "px.set_mapbox_access_token(open('../input/api-tokens/map_token.txt').read())"
   ]
  },
  {
   "cell_type": "markdown",
   "metadata": {
    "papermill": {
     "duration": 0.038626,
     "end_time": "2021-03-09T15:32:31.288146",
     "exception": false,
     "start_time": "2021-03-09T15:32:31.249520",
     "status": "completed"
    },
    "tags": []
   },
   "source": [
    "###  zoom out of the map, if it is not auto scaled"
   ]
  },
  {
   "cell_type": "code",
   "execution_count": 13,
   "metadata": {
    "execution": {
     "iopub.execute_input": "2021-03-09T15:32:31.369404Z",
     "iopub.status.busy": "2021-03-09T15:32:31.368759Z",
     "iopub.status.idle": "2021-03-09T15:32:31.583104Z",
     "shell.execute_reply": "2021-03-09T15:32:31.583631Z"
    },
    "papermill": {
     "duration": 0.256336,
     "end_time": "2021-03-09T15:32:31.583802",
     "exception": false,
     "start_time": "2021-03-09T15:32:31.327466",
     "status": "completed"
    },
    "scrolled": false,
    "tags": []
   },
   "outputs": [
    {
     "data": {
      "text/html": [
       "<div>                            <div id=\"6c97f30d-e0d9-408b-a826-f2760d90629a\" class=\"plotly-graph-div\" style=\"height:700px; width:100%;\"></div>            <script type=\"text/javascript\">                require([\"plotly\"], function(Plotly) {                    window.PLOTLYENV=window.PLOTLYENV || {};                                    if (document.getElementById(\"6c97f30d-e0d9-408b-a826-f2760d90629a\")) {                    Plotly.newPlot(                        \"6c97f30d-e0d9-408b-a826-f2760d90629a\",                        [{\"hovertemplate\": \"color=Hyderabad<br>size=%{marker.size}<br>lat=%{lat}<br>lon=%{lon}<extra></extra>\", \"lat\": [17.360589, 17.360589, 17.360589, 17.360589, 17.360589, 17.360589, 17.360589, 17.360589, 17.360589, 17.360589, 17.360589, 17.360589, 17.360589, 17.360589, 17.360589, 17.360589, 17.360589, 17.360589, 17.360589, 17.360589, 17.360589, 17.360589, 17.360589, 17.360589, 17.360589, 17.360589, 17.360589, 17.360589, 17.360589, 17.360589, 17.360589, 17.360589, 17.360589, 17.360589, 17.360589, 17.360589, 17.360589, 17.360589, 17.360589, 17.360589, 17.360589, 17.360589, 17.360589, 17.360589, 17.360589, 17.360589, 17.360589, 17.360589, 17.360589, 17.360589, 17.360589, 17.360589, 17.360589, 17.360589, 17.360589, 17.360589, 17.360589, 17.360589, 17.360589, 17.360589, 17.360589, 17.360589, 17.360589, 17.360589], \"legendgroup\": \"Hyderabad\", \"lon\": [78.4740613, 78.4740613, 78.4740613, 78.4740613, 78.4740613, 78.4740613, 78.4740613, 78.4740613, 78.4740613, 78.4740613, 78.4740613, 78.4740613, 78.4740613, 78.4740613, 78.4740613, 78.4740613, 78.4740613, 78.4740613, 78.4740613, 78.4740613, 78.4740613, 78.4740613, 78.4740613, 78.4740613, 78.4740613, 78.4740613, 78.4740613, 78.4740613, 78.4740613, 78.4740613, 78.4740613, 78.4740613, 78.4740613, 78.4740613, 78.4740613, 78.4740613, 78.4740613, 78.4740613, 78.4740613, 78.4740613, 78.4740613, 78.4740613, 78.4740613, 78.4740613, 78.4740613, 78.4740613, 78.4740613, 78.4740613, 78.4740613, 78.4740613, 78.4740613, 78.4740613, 78.4740613, 78.4740613, 78.4740613, 78.4740613, 78.4740613, 78.4740613, 78.4740613, 78.4740613, 78.4740613, 78.4740613, 78.4740613, 78.4740613], \"marker\": {\"color\": \"#636efa\", \"size\": [64, 64, 64, 64, 64, 64, 64, 64, 64, 64, 64, 64, 64, 64, 64, 64, 64, 64, 64, 64, 64, 64, 64, 64, 64, 64, 64, 64, 64, 64, 64, 64, 64, 64, 64, 64, 64, 64, 64, 64, 64, 64, 64, 64, 64, 64, 64, 64, 64, 64, 64, 64, 64, 64, 64, 64, 64, 64, 64, 64, 64, 64, 64, 64], \"sizemode\": \"area\", \"sizeref\": 0.4488888888888889}, \"mode\": \"markers\", \"name\": \"Hyderabad\", \"showlegend\": true, \"subplot\": \"mapbox\", \"type\": \"scattermapbox\"}, {\"hovertemplate\": \"color=Pune<br>size=%{marker.size}<br>lat=%{lat}<br>lon=%{lon}<extra></extra>\", \"lat\": [18.521428, 18.521428, 18.521428, 18.521428, 18.521428, 18.521428, 18.521428, 18.521428, 18.521428, 18.521428, 18.521428, 18.521428, 18.521428, 18.521428, 18.521428, 18.521428, 18.521428, 18.521428, 18.521428, 18.521428, 18.521428, 18.521428, 18.521428, 18.521428, 18.521428, 18.521428, 18.521428, 18.521428, 18.521428, 18.521428, 18.521428, 18.521428, 18.521428, 18.521428, 18.521428, 18.521428, 18.521428, 18.521428], \"legendgroup\": \"Pune\", \"lon\": [73.8544541, 73.8544541, 73.8544541, 73.8544541, 73.8544541, 73.8544541, 73.8544541, 73.8544541, 73.8544541, 73.8544541, 73.8544541, 73.8544541, 73.8544541, 73.8544541, 73.8544541, 73.8544541, 73.8544541, 73.8544541, 73.8544541, 73.8544541, 73.8544541, 73.8544541, 73.8544541, 73.8544541, 73.8544541, 73.8544541, 73.8544541, 73.8544541, 73.8544541, 73.8544541, 73.8544541, 73.8544541, 73.8544541, 73.8544541, 73.8544541, 73.8544541, 73.8544541, 73.8544541], \"marker\": {\"color\": \"#EF553B\", \"size\": [38, 38, 38, 38, 38, 38, 38, 38, 38, 38, 38, 38, 38, 38, 38, 38, 38, 38, 38, 38, 38, 38, 38, 38, 38, 38, 38, 38, 38, 38, 38, 38, 38, 38, 38, 38, 38, 38], \"sizemode\": \"area\", \"sizeref\": 0.4488888888888889}, \"mode\": \"markers\", \"name\": \"Pune\", \"showlegend\": true, \"subplot\": \"mapbox\", \"type\": \"scattermapbox\"}, {\"hovertemplate\": \"color=Rajkot<br>size=%{marker.size}<br>lat=%{lat}<br>lon=%{lon}<extra></extra>\", \"lat\": [22.3051991, 22.3051991, 22.3051991, 22.3051991, 22.3051991, 22.3051991, 22.3051991, 22.3051991, 22.3051991, 22.3051991], \"legendgroup\": \"Rajkot\", \"lon\": [70.8028335, 70.8028335, 70.8028335, 70.8028335, 70.8028335, 70.8028335, 70.8028335, 70.8028335, 70.8028335, 70.8028335], \"marker\": {\"color\": \"#00cc96\", \"size\": [10, 10, 10, 10, 10, 10, 10, 10, 10, 10], \"sizemode\": \"area\", \"sizeref\": 0.4488888888888889}, \"mode\": \"markers\", \"name\": \"Rajkot\", \"showlegend\": true, \"subplot\": \"mapbox\", \"type\": \"scattermapbox\"}, {\"hovertemplate\": \"color=Indore<br>size=%{marker.size}<br>lat=%{lat}<br>lon=%{lon}<extra></extra>\", \"lat\": [22.7203616, 22.7203616, 22.7203616, 22.7203616, 22.7203616, 22.7203616, 22.7203616, 22.7203616, 22.7203616], \"legendgroup\": \"Indore\", \"lon\": [75.8681996, 75.8681996, 75.8681996, 75.8681996, 75.8681996, 75.8681996, 75.8681996, 75.8681996, 75.8681996], \"marker\": {\"color\": \"#ab63fa\", \"size\": [9, 9, 9, 9, 9, 9, 9, 9, 9], \"sizemode\": \"area\", \"sizeref\": 0.4488888888888889}, \"mode\": \"markers\", \"name\": \"Indore\", \"showlegend\": true, \"subplot\": \"mapbox\", \"type\": \"scattermapbox\"}, {\"hovertemplate\": \"color=Mumbai<br>size=%{marker.size}<br>lat=%{lat}<br>lon=%{lon}<extra></extra>\", \"lat\": [19.0759899, 19.0759899, 19.0759899, 19.0759899, 19.0759899, 19.0759899, 19.0759899, 19.0759899, 19.0759899, 19.0759899, 19.0759899, 19.0759899, 19.0759899, 19.0759899, 19.0759899, 19.0759899, 19.0759899, 19.0759899, 19.0759899, 19.0759899, 19.0759899, 19.0759899, 19.0759899, 19.0759899, 19.0759899, 19.0759899, 19.0759899, 19.0759899, 19.0759899, 19.0759899, 19.0759899, 19.0759899, 19.0759899, 19.0759899, 19.0759899, 19.0759899, 19.0759899, 19.0759899, 19.0759899, 19.0759899, 19.0759899, 19.0759899, 19.0759899, 19.0759899, 19.0759899, 19.0759899, 19.0759899, 19.0759899, 19.0759899, 19.0759899, 19.0759899, 19.0759899, 19.0759899, 19.0759899, 19.0759899, 19.0759899, 19.0759899, 19.0759899, 19.0759899, 19.0759899, 19.0759899, 19.0759899, 19.0759899, 19.0759899, 19.0759899, 19.0759899, 19.0759899, 19.0759899, 19.0759899, 19.0759899, 19.0759899, 19.0759899, 19.0759899, 19.0759899, 19.0759899, 19.0759899, 19.0759899, 19.0759899, 19.0759899, 19.0759899, 19.0759899, 19.0759899, 19.0759899, 19.0759899, 19.0759899, 19.0759899, 19.0759899, 19.0759899, 19.0759899, 19.0759899, 19.0759899, 19.0759899, 19.0759899, 19.0759899, 19.0759899, 19.0759899, 19.0759899, 19.0759899, 19.0759899, 19.0759899, 19.0759899], \"legendgroup\": \"Mumbai\", \"lon\": [72.8773928, 72.8773928, 72.8773928, 72.8773928, 72.8773928, 72.8773928, 72.8773928, 72.8773928, 72.8773928, 72.8773928, 72.8773928, 72.8773928, 72.8773928, 72.8773928, 72.8773928, 72.8773928, 72.8773928, 72.8773928, 72.8773928, 72.8773928, 72.8773928, 72.8773928, 72.8773928, 72.8773928, 72.8773928, 72.8773928, 72.8773928, 72.8773928, 72.8773928, 72.8773928, 72.8773928, 72.8773928, 72.8773928, 72.8773928, 72.8773928, 72.8773928, 72.8773928, 72.8773928, 72.8773928, 72.8773928, 72.8773928, 72.8773928, 72.8773928, 72.8773928, 72.8773928, 72.8773928, 72.8773928, 72.8773928, 72.8773928, 72.8773928, 72.8773928, 72.8773928, 72.8773928, 72.8773928, 72.8773928, 72.8773928, 72.8773928, 72.8773928, 72.8773928, 72.8773928, 72.8773928, 72.8773928, 72.8773928, 72.8773928, 72.8773928, 72.8773928, 72.8773928, 72.8773928, 72.8773928, 72.8773928, 72.8773928, 72.8773928, 72.8773928, 72.8773928, 72.8773928, 72.8773928, 72.8773928, 72.8773928, 72.8773928, 72.8773928, 72.8773928, 72.8773928, 72.8773928, 72.8773928, 72.8773928, 72.8773928, 72.8773928, 72.8773928, 72.8773928, 72.8773928, 72.8773928, 72.8773928, 72.8773928, 72.8773928, 72.8773928, 72.8773928, 72.8773928, 72.8773928, 72.8773928, 72.8773928, 72.8773928], \"marker\": {\"color\": \"#FFA15A\", \"size\": [101, 101, 101, 101, 101, 101, 101, 101, 101, 101, 101, 101, 101, 101, 101, 101, 101, 101, 101, 101, 101, 101, 101, 101, 101, 101, 101, 101, 101, 101, 101, 101, 101, 101, 101, 101, 101, 101, 101, 101, 101, 101, 101, 101, 101, 101, 101, 101, 101, 101, 101, 101, 101, 101, 101, 101, 101, 101, 101, 101, 101, 101, 101, 101, 101, 101, 101, 101, 101, 101, 101, 101, 101, 101, 101, 101, 101, 101, 101, 101, 101, 101, 101, 101, 101, 101, 101, 101, 101, 101, 101, 101, 101, 101, 101, 101, 101, 101, 101, 101, 101], \"sizemode\": \"area\", \"sizeref\": 0.4488888888888889}, \"mode\": \"markers\", \"name\": \"Mumbai\", \"showlegend\": true, \"subplot\": \"mapbox\", \"type\": \"scattermapbox\"}, {\"hovertemplate\": \"color=Kolkata<br>size=%{marker.size}<br>lat=%{lat}<br>lon=%{lon}<extra></extra>\", \"lat\": [22.5414185, 22.5414185, 22.5414185, 22.5414185, 22.5414185, 22.5414185, 22.5414185, 22.5414185, 22.5414185, 22.5414185, 22.5414185, 22.5414185, 22.5414185, 22.5414185, 22.5414185, 22.5414185, 22.5414185, 22.5414185, 22.5414185, 22.5414185, 22.5414185, 22.5414185, 22.5414185, 22.5414185, 22.5414185, 22.5414185, 22.5414185, 22.5414185, 22.5414185, 22.5414185, 22.5414185, 22.5414185, 22.5414185, 22.5414185, 22.5414185, 22.5414185, 22.5414185, 22.5414185, 22.5414185, 22.5414185, 22.5414185, 22.5414185, 22.5414185, 22.5414185, 22.5414185, 22.5414185, 22.5414185, 22.5414185, 22.5414185, 22.5414185, 22.5414185, 22.5414185, 22.5414185, 22.5414185, 22.5414185, 22.5414185, 22.5414185, 22.5414185, 22.5414185, 22.5414185, 22.5414185, 22.5414185, 22.5414185, 22.5414185, 22.5414185, 22.5414185, 22.5414185, 22.5414185, 22.5414185, 22.5414185, 22.5414185, 22.5414185, 22.5414185, 22.5414185, 22.5414185, 22.5414185, 22.5414185], \"legendgroup\": \"Kolkata\", \"lon\": [88.3576912, 88.3576912, 88.3576912, 88.3576912, 88.3576912, 88.3576912, 88.3576912, 88.3576912, 88.3576912, 88.3576912, 88.3576912, 88.3576912, 88.3576912, 88.3576912, 88.3576912, 88.3576912, 88.3576912, 88.3576912, 88.3576912, 88.3576912, 88.3576912, 88.3576912, 88.3576912, 88.3576912, 88.3576912, 88.3576912, 88.3576912, 88.3576912, 88.3576912, 88.3576912, 88.3576912, 88.3576912, 88.3576912, 88.3576912, 88.3576912, 88.3576912, 88.3576912, 88.3576912, 88.3576912, 88.3576912, 88.3576912, 88.3576912, 88.3576912, 88.3576912, 88.3576912, 88.3576912, 88.3576912, 88.3576912, 88.3576912, 88.3576912, 88.3576912, 88.3576912, 88.3576912, 88.3576912, 88.3576912, 88.3576912, 88.3576912, 88.3576912, 88.3576912, 88.3576912, 88.3576912, 88.3576912, 88.3576912, 88.3576912, 88.3576912, 88.3576912, 88.3576912, 88.3576912, 88.3576912, 88.3576912, 88.3576912, 88.3576912, 88.3576912, 88.3576912, 88.3576912, 88.3576912, 88.3576912], \"marker\": {\"color\": \"#19d3f3\", \"size\": [77, 77, 77, 77, 77, 77, 77, 77, 77, 77, 77, 77, 77, 77, 77, 77, 77, 77, 77, 77, 77, 77, 77, 77, 77, 77, 77, 77, 77, 77, 77, 77, 77, 77, 77, 77, 77, 77, 77, 77, 77, 77, 77, 77, 77, 77, 77, 77, 77, 77, 77, 77, 77, 77, 77, 77, 77, 77, 77, 77, 77, 77, 77, 77, 77, 77, 77, 77, 77, 77, 77, 77, 77, 77, 77, 77, 77], \"sizemode\": \"area\", \"sizeref\": 0.4488888888888889}, \"mode\": \"markers\", \"name\": \"Kolkata\", \"showlegend\": true, \"subplot\": \"mapbox\", \"type\": \"scattermapbox\"}, {\"hovertemplate\": \"color=Bangalore<br>size=%{marker.size}<br>lat=%{lat}<br>lon=%{lon}<extra></extra>\", \"lat\": [12.9791198, 12.9791198, 12.9791198, 12.9791198, 12.9791198, 12.9791198, 12.9791198, 12.9791198, 12.9791198, 12.9791198, 12.9791198, 12.9791198, 12.9791198, 12.9791198, 12.9791198, 12.9791198, 12.9791198, 12.9791198, 12.9791198, 12.9791198, 12.9791198, 12.9791198, 12.9791198, 12.9791198, 12.9791198, 12.9791198, 12.9791198, 12.9791198, 12.9791198, 12.9791198, 12.9791198, 12.9791198, 12.9791198, 12.9791198, 12.9791198, 12.9791198, 12.9791198, 12.9791198, 12.9791198, 12.9791198, 12.9791198, 12.9791198, 12.9791198, 12.9791198, 12.9791198, 12.9791198, 12.9791198, 12.9791198, 12.9791198, 12.9791198, 12.9791198, 12.9791198, 12.9791198, 12.9791198, 12.9791198, 12.9791198, 12.9791198, 12.9791198, 12.9791198, 12.9791198, 12.9791198, 12.9791198, 12.9791198], \"legendgroup\": \"Bangalore\", \"lon\": [77.5912997, 77.5912997, 77.5912997, 77.5912997, 77.5912997, 77.5912997, 77.5912997, 77.5912997, 77.5912997, 77.5912997, 77.5912997, 77.5912997, 77.5912997, 77.5912997, 77.5912997, 77.5912997, 77.5912997, 77.5912997, 77.5912997, 77.5912997, 77.5912997, 77.5912997, 77.5912997, 77.5912997, 77.5912997, 77.5912997, 77.5912997, 77.5912997, 77.5912997, 77.5912997, 77.5912997, 77.5912997, 77.5912997, 77.5912997, 77.5912997, 77.5912997, 77.5912997, 77.5912997, 77.5912997, 77.5912997, 77.5912997, 77.5912997, 77.5912997, 77.5912997, 77.5912997, 77.5912997, 77.5912997, 77.5912997, 77.5912997, 77.5912997, 77.5912997, 77.5912997, 77.5912997, 77.5912997, 77.5912997, 77.5912997, 77.5912997, 77.5912997, 77.5912997, 77.5912997, 77.5912997, 77.5912997, 77.5912997], \"marker\": {\"color\": \"#FF6692\", \"size\": [63, 63, 63, 63, 63, 63, 63, 63, 63, 63, 63, 63, 63, 63, 63, 63, 63, 63, 63, 63, 63, 63, 63, 63, 63, 63, 63, 63, 63, 63, 63, 63, 63, 63, 63, 63, 63, 63, 63, 63, 63, 63, 63, 63, 63, 63, 63, 63, 63, 63, 63, 63, 63, 63, 63, 63, 63, 63, 63, 63, 63, 63, 63], \"sizemode\": \"area\", \"sizeref\": 0.4488888888888889}, \"mode\": \"markers\", \"name\": \"Bangalore\", \"showlegend\": true, \"subplot\": \"mapbox\", \"type\": \"scattermapbox\"}, {\"hovertemplate\": \"color=Delhi<br>size=%{marker.size}<br>lat=%{lat}<br>lon=%{lon}<extra></extra>\", \"lat\": [28.6517178, 28.6517178, 28.6517178, 28.6517178, 28.6517178, 28.6517178, 28.6517178, 28.6517178, 28.6517178, 28.6517178, 28.6517178, 28.6517178, 28.6517178, 28.6517178, 28.6517178, 28.6517178, 28.6517178, 28.6517178, 28.6517178, 28.6517178, 28.6517178, 28.6517178, 28.6517178, 28.6517178, 28.6517178, 28.6517178, 28.6517178, 28.6517178, 28.6517178, 28.6517178, 28.6517178, 28.6517178, 28.6517178, 28.6517178, 28.6517178, 28.6517178, 28.6517178, 28.6517178, 28.6517178, 28.6517178, 28.6517178, 28.6517178, 28.6517178, 28.6517178, 28.6517178, 28.6517178, 28.6517178, 28.6517178, 28.6517178, 28.6517178, 28.6517178, 28.6517178, 28.6517178, 28.6517178, 28.6517178, 28.6517178, 28.6517178, 28.6517178, 28.6517178, 28.6517178, 28.6517178, 28.6517178, 28.6517178, 28.6517178, 28.6517178, 28.6517178, 28.6517178, 28.6517178, 28.6517178, 28.6517178, 28.6517178, 28.6517178, 28.6517178], \"legendgroup\": \"Delhi\", \"lon\": [77.2219388, 77.2219388, 77.2219388, 77.2219388, 77.2219388, 77.2219388, 77.2219388, 77.2219388, 77.2219388, 77.2219388, 77.2219388, 77.2219388, 77.2219388, 77.2219388, 77.2219388, 77.2219388, 77.2219388, 77.2219388, 77.2219388, 77.2219388, 77.2219388, 77.2219388, 77.2219388, 77.2219388, 77.2219388, 77.2219388, 77.2219388, 77.2219388, 77.2219388, 77.2219388, 77.2219388, 77.2219388, 77.2219388, 77.2219388, 77.2219388, 77.2219388, 77.2219388, 77.2219388, 77.2219388, 77.2219388, 77.2219388, 77.2219388, 77.2219388, 77.2219388, 77.2219388, 77.2219388, 77.2219388, 77.2219388, 77.2219388, 77.2219388, 77.2219388, 77.2219388, 77.2219388, 77.2219388, 77.2219388, 77.2219388, 77.2219388, 77.2219388, 77.2219388, 77.2219388, 77.2219388, 77.2219388, 77.2219388, 77.2219388, 77.2219388, 77.2219388, 77.2219388, 77.2219388, 77.2219388, 77.2219388, 77.2219388, 77.2219388, 77.2219388], \"marker\": {\"color\": \"#B6E880\", \"size\": [73, 73, 73, 73, 73, 73, 73, 73, 73, 73, 73, 73, 73, 73, 73, 73, 73, 73, 73, 73, 73, 73, 73, 73, 73, 73, 73, 73, 73, 73, 73, 73, 73, 73, 73, 73, 73, 73, 73, 73, 73, 73, 73, 73, 73, 73, 73, 73, 73, 73, 73, 73, 73, 73, 73, 73, 73, 73, 73, 73, 73, 73, 73, 73, 73, 73, 73, 73, 73, 73, 73, 73, 73], \"sizemode\": \"area\", \"sizeref\": 0.4488888888888889}, \"mode\": \"markers\", \"name\": \"Delhi\", \"showlegend\": true, \"subplot\": \"mapbox\", \"type\": \"scattermapbox\"}, {\"hovertemplate\": \"color=Chandigarh<br>size=%{marker.size}<br>lat=%{lat}<br>lon=%{lon}<extra></extra>\", \"lat\": [30.7334421, 30.7334421, 30.7334421, 30.7334421, 30.7334421, 30.7334421, 30.7334421, 30.7334421, 30.7334421, 30.7334421, 30.7334421, 30.7334421, 30.7334421, 30.7334421, 30.7334421, 30.7334421, 30.7334421, 30.7334421, 30.7334421, 30.7334421, 30.7334421, 30.7334421, 30.7334421, 30.7334421, 30.7334421, 30.7334421, 30.7334421, 30.7334421, 30.7334421, 30.7334421, 30.7334421, 30.7334421, 30.7334421, 30.7334421, 30.7334421, 30.7334421, 30.7334421, 30.7334421, 30.7334421, 30.7334421, 30.7334421, 30.7334421, 30.7334421, 30.7334421, 30.7334421, 30.7334421], \"legendgroup\": \"Chandigarh\", \"lon\": [76.7797143, 76.7797143, 76.7797143, 76.7797143, 76.7797143, 76.7797143, 76.7797143, 76.7797143, 76.7797143, 76.7797143, 76.7797143, 76.7797143, 76.7797143, 76.7797143, 76.7797143, 76.7797143, 76.7797143, 76.7797143, 76.7797143, 76.7797143, 76.7797143, 76.7797143, 76.7797143, 76.7797143, 76.7797143, 76.7797143, 76.7797143, 76.7797143, 76.7797143, 76.7797143, 76.7797143, 76.7797143, 76.7797143, 76.7797143, 76.7797143, 76.7797143, 76.7797143, 76.7797143, 76.7797143, 76.7797143, 76.7797143, 76.7797143, 76.7797143, 76.7797143, 76.7797143, 76.7797143], \"marker\": {\"color\": \"#FF97FF\", \"size\": [46, 46, 46, 46, 46, 46, 46, 46, 46, 46, 46, 46, 46, 46, 46, 46, 46, 46, 46, 46, 46, 46, 46, 46, 46, 46, 46, 46, 46, 46, 46, 46, 46, 46, 46, 46, 46, 46, 46, 46, 46, 46, 46, 46, 46, 46], \"sizemode\": \"area\", \"sizeref\": 0.4488888888888889}, \"mode\": \"markers\", \"name\": \"Chandigarh\", \"showlegend\": true, \"subplot\": \"mapbox\", \"type\": \"scattermapbox\"}, {\"hovertemplate\": \"color=Kanpur<br>size=%{marker.size}<br>lat=%{lat}<br>lon=%{lon}<extra></extra>\", \"lat\": [26.4609135, 26.4609135, 26.4609135, 26.4609135], \"legendgroup\": \"Kanpur\", \"lon\": [80.3217588, 80.3217588, 80.3217588, 80.3217588], \"marker\": {\"color\": \"#FECB52\", \"size\": [4, 4, 4, 4], \"sizemode\": \"area\", \"sizeref\": 0.4488888888888889}, \"mode\": \"markers\", \"name\": \"Kanpur\", \"showlegend\": true, \"subplot\": \"mapbox\", \"type\": \"scattermapbox\"}, {\"hovertemplate\": \"color=Jaipur<br>size=%{marker.size}<br>lat=%{lat}<br>lon=%{lon}<extra></extra>\", \"lat\": [26.9154576, 26.9154576, 26.9154576, 26.9154576, 26.9154576, 26.9154576, 26.9154576, 26.9154576, 26.9154576, 26.9154576, 26.9154576, 26.9154576, 26.9154576, 26.9154576, 26.9154576, 26.9154576, 26.9154576, 26.9154576, 26.9154576, 26.9154576, 26.9154576, 26.9154576, 26.9154576, 26.9154576, 26.9154576, 26.9154576, 26.9154576, 26.9154576, 26.9154576, 26.9154576, 26.9154576, 26.9154576, 26.9154576, 26.9154576, 26.9154576, 26.9154576, 26.9154576, 26.9154576, 26.9154576, 26.9154576, 26.9154576, 26.9154576, 26.9154576, 26.9154576, 26.9154576, 26.9154576, 26.9154576], \"legendgroup\": \"Jaipur\", \"lon\": [75.8189817, 75.8189817, 75.8189817, 75.8189817, 75.8189817, 75.8189817, 75.8189817, 75.8189817, 75.8189817, 75.8189817, 75.8189817, 75.8189817, 75.8189817, 75.8189817, 75.8189817, 75.8189817, 75.8189817, 75.8189817, 75.8189817, 75.8189817, 75.8189817, 75.8189817, 75.8189817, 75.8189817, 75.8189817, 75.8189817, 75.8189817, 75.8189817, 75.8189817, 75.8189817, 75.8189817, 75.8189817, 75.8189817, 75.8189817, 75.8189817, 75.8189817, 75.8189817, 75.8189817, 75.8189817, 75.8189817, 75.8189817, 75.8189817, 75.8189817, 75.8189817, 75.8189817, 75.8189817, 75.8189817], \"marker\": {\"color\": \"#636efa\", \"size\": [47, 47, 47, 47, 47, 47, 47, 47, 47, 47, 47, 47, 47, 47, 47, 47, 47, 47, 47, 47, 47, 47, 47, 47, 47, 47, 47, 47, 47, 47, 47, 47, 47, 47, 47, 47, 47, 47, 47, 47, 47, 47, 47, 47, 47, 47, 47], \"sizemode\": \"area\", \"sizeref\": 0.4488888888888889}, \"mode\": \"markers\", \"name\": \"Jaipur\", \"showlegend\": true, \"subplot\": \"mapbox\", \"type\": \"scattermapbox\"}, {\"hovertemplate\": \"color=Chennai<br>size=%{marker.size}<br>lat=%{lat}<br>lon=%{lon}<extra></extra>\", \"lat\": [13.0836939, 13.0836939, 13.0836939, 13.0836939, 13.0836939, 13.0836939, 13.0836939, 13.0836939, 13.0836939, 13.0836939, 13.0836939, 13.0836939, 13.0836939, 13.0836939, 13.0836939, 13.0836939, 13.0836939, 13.0836939, 13.0836939, 13.0836939, 13.0836939, 13.0836939, 13.0836939, 13.0836939, 13.0836939, 13.0836939, 13.0836939, 13.0836939, 13.0836939, 13.0836939, 13.0836939, 13.0836939, 13.0836939, 13.0836939, 13.0836939, 13.0836939, 13.0836939, 13.0836939, 13.0836939, 13.0836939, 13.0836939, 13.0836939, 13.0836939, 13.0836939, 13.0836939, 13.0836939, 13.0836939, 13.0836939, 13.0836939, 13.0836939, 13.0836939, 13.0836939, 13.0836939, 13.0836939, 13.0836939, 13.0836939, 13.0836939], \"legendgroup\": \"Chennai\", \"lon\": [80.270186, 80.270186, 80.270186, 80.270186, 80.270186, 80.270186, 80.270186, 80.270186, 80.270186, 80.270186, 80.270186, 80.270186, 80.270186, 80.270186, 80.270186, 80.270186, 80.270186, 80.270186, 80.270186, 80.270186, 80.270186, 80.270186, 80.270186, 80.270186, 80.270186, 80.270186, 80.270186, 80.270186, 80.270186, 80.270186, 80.270186, 80.270186, 80.270186, 80.270186, 80.270186, 80.270186, 80.270186, 80.270186, 80.270186, 80.270186, 80.270186, 80.270186, 80.270186, 80.270186, 80.270186, 80.270186, 80.270186, 80.270186, 80.270186, 80.270186, 80.270186, 80.270186, 80.270186, 80.270186, 80.270186, 80.270186, 80.270186], \"marker\": {\"color\": \"#EF553B\", \"size\": [57, 57, 57, 57, 57, 57, 57, 57, 57, 57, 57, 57, 57, 57, 57, 57, 57, 57, 57, 57, 57, 57, 57, 57, 57, 57, 57, 57, 57, 57, 57, 57, 57, 57, 57, 57, 57, 57, 57, 57, 57, 57, 57, 57, 57, 57, 57, 57, 57, 57, 57, 57, 57, 57, 57, 57, 57], \"sizemode\": \"area\", \"sizeref\": 0.4488888888888889}, \"mode\": \"markers\", \"name\": \"Chennai\", \"showlegend\": true, \"subplot\": \"mapbox\", \"type\": \"scattermapbox\"}, {\"hovertemplate\": \"color=Cape Town<br>size=%{marker.size}<br>lat=%{lat}<br>lon=%{lon}<extra></extra>\", \"lat\": [-33.928992, -33.928992, -33.928992, -33.928992, -33.928992, -33.928992, -33.928992], \"legendgroup\": \"Cape Town\", \"lon\": [18.417396, 18.417396, 18.417396, 18.417396, 18.417396, 18.417396, 18.417396], \"marker\": {\"color\": \"#00cc96\", \"size\": [7, 7, 7, 7, 7, 7, 7], \"sizemode\": \"area\", \"sizeref\": 0.4488888888888889}, \"mode\": \"markers\", \"name\": \"Cape Town\", \"showlegend\": true, \"subplot\": \"mapbox\", \"type\": \"scattermapbox\"}, {\"hovertemplate\": \"color=Port Elizabeth<br>size=%{marker.size}<br>lat=%{lat}<br>lon=%{lon}<extra></extra>\", \"lat\": [-33.9617051, -33.9617051, -33.9617051, -33.9617051, -33.9617051, -33.9617051, -33.9617051], \"legendgroup\": \"Port Elizabeth\", \"lon\": [25.6207519, 25.6207519, 25.6207519, 25.6207519, 25.6207519, 25.6207519, 25.6207519], \"marker\": {\"color\": \"#ab63fa\", \"size\": [7, 7, 7, 7, 7, 7, 7], \"sizemode\": \"area\", \"sizeref\": 0.4488888888888889}, \"mode\": \"markers\", \"name\": \"Port Elizabeth\", \"showlegend\": true, \"subplot\": \"mapbox\", \"type\": \"scattermapbox\"}, {\"hovertemplate\": \"color=Durban<br>size=%{marker.size}<br>lat=%{lat}<br>lon=%{lon}<extra></extra>\", \"lat\": [-29.861825, -29.861825, -29.861825, -29.861825, -29.861825, -29.861825, -29.861825, -29.861825, -29.861825, -29.861825, -29.861825, -29.861825, -29.861825, -29.861825, -29.861825], \"legendgroup\": \"Durban\", \"lon\": [31.009909, 31.009909, 31.009909, 31.009909, 31.009909, 31.009909, 31.009909, 31.009909, 31.009909, 31.009909, 31.009909, 31.009909, 31.009909, 31.009909, 31.009909], \"marker\": {\"color\": \"#FFA15A\", \"size\": [15, 15, 15, 15, 15, 15, 15, 15, 15, 15, 15, 15, 15, 15, 15], \"sizemode\": \"area\", \"sizeref\": 0.4488888888888889}, \"mode\": \"markers\", \"name\": \"Durban\", \"showlegend\": true, \"subplot\": \"mapbox\", \"type\": \"scattermapbox\"}, {\"hovertemplate\": \"color=Centurion<br>size=%{marker.size}<br>lat=%{lat}<br>lon=%{lon}<extra></extra>\", \"lat\": [-25.836389, -25.836389, -25.836389, -25.836389, -25.836389, -25.836389, -25.836389, -25.836389, -25.836389, -25.836389, -25.836389, -25.836389], \"legendgroup\": \"Centurion\", \"lon\": [28.180278, 28.180278, 28.180278, 28.180278, 28.180278, 28.180278, 28.180278, 28.180278, 28.180278, 28.180278, 28.180278, 28.180278], \"marker\": {\"color\": \"#19d3f3\", \"size\": [12, 12, 12, 12, 12, 12, 12, 12, 12, 12, 12, 12], \"sizemode\": \"area\", \"sizeref\": 0.4488888888888889}, \"mode\": \"markers\", \"name\": \"Centurion\", \"showlegend\": true, \"subplot\": \"mapbox\", \"type\": \"scattermapbox\"}, {\"hovertemplate\": \"color=East London<br>size=%{marker.size}<br>lat=%{lat}<br>lon=%{lon}<extra></extra>\", \"lat\": [-33.0191604, -33.0191604, -33.0191604], \"legendgroup\": \"East London\", \"lon\": [27.8998573, 27.8998573, 27.8998573], \"marker\": {\"color\": \"#FF6692\", \"size\": [3, 3, 3], \"sizemode\": \"area\", \"sizeref\": 0.4488888888888889}, \"mode\": \"markers\", \"name\": \"East London\", \"showlegend\": true, \"subplot\": \"mapbox\", \"type\": \"scattermapbox\"}, {\"hovertemplate\": \"color=Johannesburg<br>size=%{marker.size}<br>lat=%{lat}<br>lon=%{lon}<extra></extra>\", \"lat\": [-26.205, -26.205, -26.205, -26.205, -26.205, -26.205, -26.205, -26.205], \"legendgroup\": \"Johannesburg\", \"lon\": [28.049722, 28.049722, 28.049722, 28.049722, 28.049722, 28.049722, 28.049722, 28.049722], \"marker\": {\"color\": \"#B6E880\", \"size\": [8, 8, 8, 8, 8, 8, 8, 8], \"sizemode\": \"area\", \"sizeref\": 0.4488888888888889}, \"mode\": \"markers\", \"name\": \"Johannesburg\", \"showlegend\": true, \"subplot\": \"mapbox\", \"type\": \"scattermapbox\"}, {\"hovertemplate\": \"color=Kimberley<br>size=%{marker.size}<br>lat=%{lat}<br>lon=%{lon}<extra></extra>\", \"lat\": [-28.7383012, -28.7383012, -28.7383012], \"legendgroup\": \"Kimberley\", \"lon\": [24.7642251, 24.7642251, 24.7642251], \"marker\": {\"color\": \"#FF97FF\", \"size\": [3, 3, 3], \"sizemode\": \"area\", \"sizeref\": 0.4488888888888889}, \"mode\": \"markers\", \"name\": \"Kimberley\", \"showlegend\": true, \"subplot\": \"mapbox\", \"type\": \"scattermapbox\"}, {\"hovertemplate\": \"color=Bloemfontein<br>size=%{marker.size}<br>lat=%{lat}<br>lon=%{lon}<extra></extra>\", \"lat\": [-29.116395, -29.116395], \"legendgroup\": \"Bloemfontein\", \"lon\": [26.215496, 26.215496], \"marker\": {\"color\": \"#FECB52\", \"size\": [2, 2], \"sizemode\": \"area\", \"sizeref\": 0.4488888888888889}, \"mode\": \"markers\", \"name\": \"Bloemfontein\", \"showlegend\": true, \"subplot\": \"mapbox\", \"type\": \"scattermapbox\"}, {\"hovertemplate\": \"color=Ahmedabad<br>size=%{marker.size}<br>lat=%{lat}<br>lon=%{lon}<extra></extra>\", \"lat\": [23.0216238, 23.0216238, 23.0216238, 23.0216238, 23.0216238, 23.0216238, 23.0216238, 23.0216238, 23.0216238, 23.0216238, 23.0216238, 23.0216238], \"legendgroup\": \"Ahmedabad\", \"lon\": [72.5797068, 72.5797068, 72.5797068, 72.5797068, 72.5797068, 72.5797068, 72.5797068, 72.5797068, 72.5797068, 72.5797068, 72.5797068, 72.5797068], \"marker\": {\"color\": \"#636efa\", \"size\": [12, 12, 12, 12, 12, 12, 12, 12, 12, 12, 12, 12], \"sizemode\": \"area\", \"sizeref\": 0.4488888888888889}, \"mode\": \"markers\", \"name\": \"Ahmedabad\", \"showlegend\": true, \"subplot\": \"mapbox\", \"type\": \"scattermapbox\"}, {\"hovertemplate\": \"color=Cuttack<br>size=%{marker.size}<br>lat=%{lat}<br>lon=%{lon}<extra></extra>\", \"lat\": [20.4686, 20.4686, 20.4686, 20.4686, 20.4686, 20.4686, 20.4686], \"legendgroup\": \"Cuttack\", \"lon\": [85.8792, 85.8792, 85.8792, 85.8792, 85.8792, 85.8792, 85.8792], \"marker\": {\"color\": \"#EF553B\", \"size\": [7, 7, 7, 7, 7, 7, 7], \"sizemode\": \"area\", \"sizeref\": 0.4488888888888889}, \"mode\": \"markers\", \"name\": \"Cuttack\", \"showlegend\": true, \"subplot\": \"mapbox\", \"type\": \"scattermapbox\"}, {\"hovertemplate\": \"color=Nagpur<br>size=%{marker.size}<br>lat=%{lat}<br>lon=%{lon}<extra></extra>\", \"lat\": [21.1498134, 21.1498134, 21.1498134], \"legendgroup\": \"Nagpur\", \"lon\": [79.0820556, 79.0820556, 79.0820556], \"marker\": {\"color\": \"#00cc96\", \"size\": [3, 3, 3], \"sizemode\": \"area\", \"sizeref\": 0.4488888888888889}, \"mode\": \"markers\", \"name\": \"Nagpur\", \"showlegend\": true, \"subplot\": \"mapbox\", \"type\": \"scattermapbox\"}, {\"hovertemplate\": \"color=Dharamsala<br>size=%{marker.size}<br>lat=%{lat}<br>lon=%{lon}<extra></extra>\", \"lat\": [32.2143039, 32.2143039, 32.2143039, 32.2143039, 32.2143039, 32.2143039, 32.2143039, 32.2143039, 32.2143039], \"legendgroup\": \"Dharamsala\", \"lon\": [76.3196717, 76.3196717, 76.3196717, 76.3196717, 76.3196717, 76.3196717, 76.3196717, 76.3196717, 76.3196717], \"marker\": {\"color\": \"#ab63fa\", \"size\": [9, 9, 9, 9, 9, 9, 9, 9, 9], \"sizemode\": \"area\", \"sizeref\": 0.4488888888888889}, \"mode\": \"markers\", \"name\": \"Dharamsala\", \"showlegend\": true, \"subplot\": \"mapbox\", \"type\": \"scattermapbox\"}, {\"hovertemplate\": \"color=Kochi<br>size=%{marker.size}<br>lat=%{lat}<br>lon=%{lon}<extra></extra>\", \"lat\": [9.9313695, 9.9313695, 9.9313695, 9.9313695, 9.9313695], \"legendgroup\": \"Kochi\", \"lon\": [76.2673759, 76.2673759, 76.2673759, 76.2673759, 76.2673759], \"marker\": {\"color\": \"#FFA15A\", \"size\": [5, 5, 5, 5, 5], \"sizemode\": \"area\", \"sizeref\": 0.4488888888888889}, \"mode\": \"markers\", \"name\": \"Kochi\", \"showlegend\": true, \"subplot\": \"mapbox\", \"type\": \"scattermapbox\"}, {\"hovertemplate\": \"color=Visakhapatnam<br>size=%{marker.size}<br>lat=%{lat}<br>lon=%{lon}<extra></extra>\", \"lat\": [17.7231276, 17.7231276, 17.7231276, 17.7231276, 17.7231276, 17.7231276, 17.7231276, 17.7231276, 17.7231276, 17.7231276, 17.7231276, 17.7231276], \"legendgroup\": \"Visakhapatnam\", \"lon\": [83.3012842, 83.3012842, 83.3012842, 83.3012842, 83.3012842, 83.3012842, 83.3012842, 83.3012842, 83.3012842, 83.3012842, 83.3012842, 83.3012842], \"marker\": {\"color\": \"#19d3f3\", \"size\": [12, 12, 12, 12, 12, 12, 12, 12, 12, 12, 12, 12], \"sizemode\": \"area\", \"sizeref\": 0.4488888888888889}, \"mode\": \"markers\", \"name\": \"Visakhapatnam\", \"showlegend\": true, \"subplot\": \"mapbox\", \"type\": \"scattermapbox\"}, {\"hovertemplate\": \"color=Raipur<br>size=%{marker.size}<br>lat=%{lat}<br>lon=%{lon}<extra></extra>\", \"lat\": [21.2379469, 21.2379469, 21.2379469, 21.2379469, 21.2379469, 21.2379469], \"legendgroup\": \"Raipur\", \"lon\": [81.6336833, 81.6336833, 81.6336833, 81.6336833, 81.6336833, 81.6336833], \"marker\": {\"color\": \"#FF6692\", \"size\": [6, 6, 6, 6, 6, 6], \"sizemode\": \"area\", \"sizeref\": 0.4488888888888889}, \"mode\": \"markers\", \"name\": \"Raipur\", \"showlegend\": true, \"subplot\": \"mapbox\", \"type\": \"scattermapbox\"}, {\"hovertemplate\": \"color=Ranchi<br>size=%{marker.size}<br>lat=%{lat}<br>lon=%{lon}<extra></extra>\", \"lat\": [23.3700354, 23.3700354, 23.3700354, 23.3700354, 23.3700354, 23.3700354, 23.3700354], \"legendgroup\": \"Ranchi\", \"lon\": [85.3250132, 85.3250132, 85.3250132, 85.3250132, 85.3250132, 85.3250132, 85.3250132], \"marker\": {\"color\": \"#B6E880\", \"size\": [7, 7, 7, 7, 7, 7, 7], \"sizemode\": \"area\", \"sizeref\": 0.4488888888888889}, \"mode\": \"markers\", \"name\": \"Ranchi\", \"showlegend\": true, \"subplot\": \"mapbox\", \"type\": \"scattermapbox\"}, {\"hovertemplate\": \"color=Abu Dhabi<br>size=%{marker.size}<br>lat=%{lat}<br>lon=%{lon}<extra></extra>\", \"lat\": [24.4538352, 24.4538352, 24.4538352, 24.4538352, 24.4538352, 24.4538352, 24.4538352], \"legendgroup\": \"Abu Dhabi\", \"lon\": [54.3774014, 54.3774014, 54.3774014, 54.3774014, 54.3774014, 54.3774014, 54.3774014], \"marker\": {\"color\": \"#FF97FF\", \"size\": [7, 7, 7, 7, 7, 7, 7], \"sizemode\": \"area\", \"sizeref\": 0.4488888888888889}, \"mode\": \"markers\", \"name\": \"Abu Dhabi\", \"showlegend\": true, \"subplot\": \"mapbox\", \"type\": \"scattermapbox\"}, {\"hovertemplate\": \"color=Sharjah<br>size=%{marker.size}<br>lat=%{lat}<br>lon=%{lon}<extra></extra>\", \"lat\": [25.3461498, 25.3461498, 25.3461498, 25.3461498, 25.3461498, 25.3461498], \"legendgroup\": \"Sharjah\", \"lon\": [55.4210633, 55.4210633, 55.4210633, 55.4210633, 55.4210633, 55.4210633], \"marker\": {\"color\": \"#FECB52\", \"size\": [6, 6, 6, 6, 6, 6], \"sizemode\": \"area\", \"sizeref\": 0.4488888888888889}, \"mode\": \"markers\", \"name\": \"Sharjah\", \"showlegend\": true, \"subplot\": \"mapbox\", \"type\": \"scattermapbox\"}, {\"hovertemplate\": \"color=Mohali<br>size=%{marker.size}<br>lat=%{lat}<br>lon=%{lon}<extra></extra>\", \"lat\": [30.7047049, 30.7047049, 30.7047049, 30.7047049, 30.7047049, 30.7047049, 30.7047049, 30.7047049, 30.7047049, 30.7047049], \"legendgroup\": \"Mohali\", \"lon\": [76.7178146, 76.7178146, 76.7178146, 76.7178146, 76.7178146, 76.7178146, 76.7178146, 76.7178146, 76.7178146, 76.7178146], \"marker\": {\"color\": \"#636efa\", \"size\": [10, 10, 10, 10, 10, 10, 10, 10, 10, 10], \"sizemode\": \"area\", \"sizeref\": 0.4488888888888889}, \"mode\": \"markers\", \"name\": \"Mohali\", \"showlegend\": true, \"subplot\": \"mapbox\", \"type\": \"scattermapbox\"}, {\"hovertemplate\": \"color=Bengaluru<br>size=%{marker.size}<br>lat=%{lat}<br>lon=%{lon}<extra></extra>\", \"lat\": [12.9791198, 12.9791198, 12.9791198, 12.9791198, 12.9791198, 12.9791198, 12.9791198, 12.9791198, 12.9791198, 12.9791198, 12.9791198, 12.9791198, 12.9791198], \"legendgroup\": \"Bengaluru\", \"lon\": [77.5912997, 77.5912997, 77.5912997, 77.5912997, 77.5912997, 77.5912997, 77.5912997, 77.5912997, 77.5912997, 77.5912997, 77.5912997, 77.5912997, 77.5912997], \"marker\": {\"color\": \"#EF553B\", \"size\": [13, 13, 13, 13, 13, 13, 13, 13, 13, 13, 13, 13, 13], \"sizemode\": \"area\", \"sizeref\": 0.4488888888888889}, \"mode\": \"markers\", \"name\": \"Bengaluru\", \"showlegend\": true, \"subplot\": \"mapbox\", \"type\": \"scattermapbox\"}],                        {\"height\": 700, \"legend\": {\"itemsizing\": \"constant\", \"title\": {\"text\": \"color\"}, \"tracegroupgap\": 0}, \"mapbox\": {\"accesstoken\": \"pk.eyJ1Ijoic2lycmVham9obiIsImEiOiJja2k5eXUzZGEwa2toMzBsN3R3ejJpbGs0In0.yzP849qappupwB2MvG93ng\", \"center\": {\"lat\": 17.205095329205967, \"lon\": 73.7564025343206}, \"domain\": {\"x\": [0.0, 1.0], \"y\": [0.0, 1.0]}, \"zoom\": 10}, \"template\": {\"data\": {\"bar\": [{\"error_x\": {\"color\": \"#2a3f5f\"}, \"error_y\": {\"color\": \"#2a3f5f\"}, \"marker\": {\"line\": {\"color\": \"#E5ECF6\", \"width\": 0.5}}, \"type\": \"bar\"}], \"barpolar\": [{\"marker\": {\"line\": {\"color\": \"#E5ECF6\", \"width\": 0.5}}, \"type\": \"barpolar\"}], \"carpet\": [{\"aaxis\": {\"endlinecolor\": \"#2a3f5f\", \"gridcolor\": \"white\", \"linecolor\": \"white\", \"minorgridcolor\": \"white\", \"startlinecolor\": \"#2a3f5f\"}, \"baxis\": {\"endlinecolor\": \"#2a3f5f\", \"gridcolor\": \"white\", \"linecolor\": \"white\", \"minorgridcolor\": \"white\", \"startlinecolor\": \"#2a3f5f\"}, \"type\": \"carpet\"}], \"choropleth\": [{\"colorbar\": {\"outlinewidth\": 0, \"ticks\": \"\"}, \"type\": \"choropleth\"}], \"contour\": [{\"colorbar\": {\"outlinewidth\": 0, \"ticks\": \"\"}, \"colorscale\": [[0.0, \"#0d0887\"], [0.1111111111111111, \"#46039f\"], [0.2222222222222222, \"#7201a8\"], [0.3333333333333333, \"#9c179e\"], [0.4444444444444444, \"#bd3786\"], [0.5555555555555556, \"#d8576b\"], [0.6666666666666666, \"#ed7953\"], [0.7777777777777778, \"#fb9f3a\"], [0.8888888888888888, \"#fdca26\"], [1.0, \"#f0f921\"]], \"type\": \"contour\"}], \"contourcarpet\": [{\"colorbar\": {\"outlinewidth\": 0, \"ticks\": \"\"}, \"type\": \"contourcarpet\"}], \"heatmap\": [{\"colorbar\": {\"outlinewidth\": 0, \"ticks\": \"\"}, \"colorscale\": [[0.0, \"#0d0887\"], [0.1111111111111111, \"#46039f\"], [0.2222222222222222, \"#7201a8\"], [0.3333333333333333, \"#9c179e\"], [0.4444444444444444, \"#bd3786\"], [0.5555555555555556, \"#d8576b\"], [0.6666666666666666, \"#ed7953\"], [0.7777777777777778, \"#fb9f3a\"], [0.8888888888888888, \"#fdca26\"], [1.0, \"#f0f921\"]], \"type\": \"heatmap\"}], \"heatmapgl\": [{\"colorbar\": {\"outlinewidth\": 0, \"ticks\": \"\"}, \"colorscale\": [[0.0, \"#0d0887\"], [0.1111111111111111, \"#46039f\"], [0.2222222222222222, \"#7201a8\"], [0.3333333333333333, \"#9c179e\"], [0.4444444444444444, \"#bd3786\"], [0.5555555555555556, \"#d8576b\"], [0.6666666666666666, \"#ed7953\"], [0.7777777777777778, \"#fb9f3a\"], [0.8888888888888888, \"#fdca26\"], [1.0, \"#f0f921\"]], \"type\": \"heatmapgl\"}], \"histogram\": [{\"marker\": {\"colorbar\": {\"outlinewidth\": 0, \"ticks\": \"\"}}, \"type\": \"histogram\"}], \"histogram2d\": [{\"colorbar\": {\"outlinewidth\": 0, \"ticks\": \"\"}, \"colorscale\": [[0.0, \"#0d0887\"], [0.1111111111111111, \"#46039f\"], [0.2222222222222222, \"#7201a8\"], [0.3333333333333333, \"#9c179e\"], [0.4444444444444444, \"#bd3786\"], [0.5555555555555556, \"#d8576b\"], [0.6666666666666666, \"#ed7953\"], [0.7777777777777778, \"#fb9f3a\"], [0.8888888888888888, \"#fdca26\"], [1.0, \"#f0f921\"]], \"type\": \"histogram2d\"}], \"histogram2dcontour\": [{\"colorbar\": {\"outlinewidth\": 0, \"ticks\": \"\"}, \"colorscale\": [[0.0, \"#0d0887\"], [0.1111111111111111, \"#46039f\"], [0.2222222222222222, \"#7201a8\"], [0.3333333333333333, \"#9c179e\"], [0.4444444444444444, \"#bd3786\"], [0.5555555555555556, \"#d8576b\"], [0.6666666666666666, \"#ed7953\"], [0.7777777777777778, \"#fb9f3a\"], [0.8888888888888888, \"#fdca26\"], [1.0, \"#f0f921\"]], \"type\": \"histogram2dcontour\"}], \"mesh3d\": [{\"colorbar\": {\"outlinewidth\": 0, \"ticks\": \"\"}, \"type\": \"mesh3d\"}], \"parcoords\": [{\"line\": {\"colorbar\": {\"outlinewidth\": 0, \"ticks\": \"\"}}, \"type\": \"parcoords\"}], \"pie\": [{\"automargin\": true, \"type\": \"pie\"}], \"scatter\": [{\"marker\": {\"colorbar\": {\"outlinewidth\": 0, \"ticks\": \"\"}}, \"type\": \"scatter\"}], \"scatter3d\": [{\"line\": {\"colorbar\": {\"outlinewidth\": 0, \"ticks\": \"\"}}, \"marker\": {\"colorbar\": {\"outlinewidth\": 0, \"ticks\": \"\"}}, \"type\": \"scatter3d\"}], \"scattercarpet\": [{\"marker\": {\"colorbar\": {\"outlinewidth\": 0, \"ticks\": \"\"}}, \"type\": \"scattercarpet\"}], \"scattergeo\": [{\"marker\": {\"colorbar\": {\"outlinewidth\": 0, \"ticks\": \"\"}}, \"type\": \"scattergeo\"}], \"scattergl\": [{\"marker\": {\"colorbar\": {\"outlinewidth\": 0, \"ticks\": \"\"}}, \"type\": \"scattergl\"}], \"scattermapbox\": [{\"marker\": {\"colorbar\": {\"outlinewidth\": 0, \"ticks\": \"\"}}, \"type\": \"scattermapbox\"}], \"scatterpolar\": [{\"marker\": {\"colorbar\": {\"outlinewidth\": 0, \"ticks\": \"\"}}, \"type\": \"scatterpolar\"}], \"scatterpolargl\": [{\"marker\": {\"colorbar\": {\"outlinewidth\": 0, \"ticks\": \"\"}}, \"type\": \"scatterpolargl\"}], \"scatterternary\": [{\"marker\": {\"colorbar\": {\"outlinewidth\": 0, \"ticks\": \"\"}}, \"type\": \"scatterternary\"}], \"surface\": [{\"colorbar\": {\"outlinewidth\": 0, \"ticks\": \"\"}, \"colorscale\": [[0.0, \"#0d0887\"], [0.1111111111111111, \"#46039f\"], [0.2222222222222222, \"#7201a8\"], [0.3333333333333333, \"#9c179e\"], [0.4444444444444444, \"#bd3786\"], [0.5555555555555556, \"#d8576b\"], [0.6666666666666666, \"#ed7953\"], [0.7777777777777778, \"#fb9f3a\"], [0.8888888888888888, \"#fdca26\"], [1.0, \"#f0f921\"]], \"type\": \"surface\"}], \"table\": [{\"cells\": {\"fill\": {\"color\": \"#EBF0F8\"}, \"line\": {\"color\": \"white\"}}, \"header\": {\"fill\": {\"color\": \"#C8D4E3\"}, \"line\": {\"color\": \"white\"}}, \"type\": \"table\"}]}, \"layout\": {\"annotationdefaults\": {\"arrowcolor\": \"#2a3f5f\", \"arrowhead\": 0, \"arrowwidth\": 1}, \"autotypenumbers\": \"strict\", \"coloraxis\": {\"colorbar\": {\"outlinewidth\": 0, \"ticks\": \"\"}}, \"colorscale\": {\"diverging\": [[0, \"#8e0152\"], [0.1, \"#c51b7d\"], [0.2, \"#de77ae\"], [0.3, \"#f1b6da\"], [0.4, \"#fde0ef\"], [0.5, \"#f7f7f7\"], [0.6, \"#e6f5d0\"], [0.7, \"#b8e186\"], [0.8, \"#7fbc41\"], [0.9, \"#4d9221\"], [1, \"#276419\"]], \"sequential\": [[0.0, \"#0d0887\"], [0.1111111111111111, \"#46039f\"], [0.2222222222222222, \"#7201a8\"], [0.3333333333333333, \"#9c179e\"], [0.4444444444444444, \"#bd3786\"], [0.5555555555555556, \"#d8576b\"], [0.6666666666666666, \"#ed7953\"], [0.7777777777777778, \"#fb9f3a\"], [0.8888888888888888, \"#fdca26\"], [1.0, \"#f0f921\"]], \"sequentialminus\": [[0.0, \"#0d0887\"], [0.1111111111111111, \"#46039f\"], [0.2222222222222222, \"#7201a8\"], [0.3333333333333333, \"#9c179e\"], [0.4444444444444444, \"#bd3786\"], [0.5555555555555556, \"#d8576b\"], [0.6666666666666666, \"#ed7953\"], [0.7777777777777778, \"#fb9f3a\"], [0.8888888888888888, \"#fdca26\"], [1.0, \"#f0f921\"]]}, \"colorway\": [\"#636efa\", \"#EF553B\", \"#00cc96\", \"#ab63fa\", \"#FFA15A\", \"#19d3f3\", \"#FF6692\", \"#B6E880\", \"#FF97FF\", \"#FECB52\"], \"font\": {\"color\": \"#2a3f5f\"}, \"geo\": {\"bgcolor\": \"white\", \"lakecolor\": \"white\", \"landcolor\": \"#E5ECF6\", \"showlakes\": true, \"showland\": true, \"subunitcolor\": \"white\"}, \"hoverlabel\": {\"align\": \"left\"}, \"hovermode\": \"closest\", \"mapbox\": {\"style\": \"light\"}, \"paper_bgcolor\": \"white\", \"plot_bgcolor\": \"#E5ECF6\", \"polar\": {\"angularaxis\": {\"gridcolor\": \"white\", \"linecolor\": \"white\", \"ticks\": \"\"}, \"bgcolor\": \"#E5ECF6\", \"radialaxis\": {\"gridcolor\": \"white\", \"linecolor\": \"white\", \"ticks\": \"\"}}, \"scene\": {\"xaxis\": {\"backgroundcolor\": \"#E5ECF6\", \"gridcolor\": \"white\", \"gridwidth\": 2, \"linecolor\": \"white\", \"showbackground\": true, \"ticks\": \"\", \"zerolinecolor\": \"white\"}, \"yaxis\": {\"backgroundcolor\": \"#E5ECF6\", \"gridcolor\": \"white\", \"gridwidth\": 2, \"linecolor\": \"white\", \"showbackground\": true, \"ticks\": \"\", \"zerolinecolor\": \"white\"}, \"zaxis\": {\"backgroundcolor\": \"#E5ECF6\", \"gridcolor\": \"white\", \"gridwidth\": 2, \"linecolor\": \"white\", \"showbackground\": true, \"ticks\": \"\", \"zerolinecolor\": \"white\"}}, \"shapedefaults\": {\"line\": {\"color\": \"#2a3f5f\"}}, \"ternary\": {\"aaxis\": {\"gridcolor\": \"white\", \"linecolor\": \"white\", \"ticks\": \"\"}, \"baxis\": {\"gridcolor\": \"white\", \"linecolor\": \"white\", \"ticks\": \"\"}, \"bgcolor\": \"#E5ECF6\", \"caxis\": {\"gridcolor\": \"white\", \"linecolor\": \"white\", \"ticks\": \"\"}}, \"title\": {\"x\": 0.05}, \"xaxis\": {\"automargin\": true, \"gridcolor\": \"white\", \"linecolor\": \"white\", \"ticks\": \"\", \"title\": {\"standoff\": 15}, \"zerolinecolor\": \"white\", \"zerolinewidth\": 2}, \"yaxis\": {\"automargin\": true, \"gridcolor\": \"white\", \"linecolor\": \"white\", \"ticks\": \"\", \"title\": {\"standoff\": 15}, \"zerolinecolor\": \"white\", \"zerolinewidth\": 2}}}, \"title\": {\"text\": \"IPL venues (2007-2019)\"}},                        {\"responsive\": true}                    ).then(function(){\n",
       "                            \n",
       "var gd = document.getElementById('6c97f30d-e0d9-408b-a826-f2760d90629a');\n",
       "var x = new MutationObserver(function (mutations, observer) {{\n",
       "        var display = window.getComputedStyle(gd).display;\n",
       "        if (!display || display === 'none') {{\n",
       "            console.log([gd, 'removed!']);\n",
       "            Plotly.purge(gd);\n",
       "            observer.disconnect();\n",
       "        }}\n",
       "}});\n",
       "\n",
       "// Listen for the removal of the full notebook cells\n",
       "var notebookContainer = gd.closest('#notebook-container');\n",
       "if (notebookContainer) {{\n",
       "    x.observe(notebookContainer, {childList: true});\n",
       "}}\n",
       "\n",
       "// Listen for the clearing of the current output cell\n",
       "var outputEl = gd.closest('.output');\n",
       "if (outputEl) {{\n",
       "    x.observe(outputEl, {childList: true});\n",
       "}}\n",
       "\n",
       "                        })                };                });            </script>        </div>"
      ]
     },
     "metadata": {},
     "output_type": "display_data"
    }
   ],
   "source": [
    "fig = px.scatter_mapbox(lat=matches['lat'], lon=matches['lng'], color=matches['city'],size = matches['city_counts'],\n",
    "                  color_continuous_scale=px.colors.cyclical.IceFire,size_max=15, zoom=10,title = \"IPL venues (2007-2019)\",height = 700)\n",
    "fig.show()"
   ]
  },
  {
   "cell_type": "code",
   "execution_count": 14,
   "metadata": {
    "execution": {
     "iopub.execute_input": "2021-03-09T15:32:31.668591Z",
     "iopub.status.busy": "2021-03-09T15:32:31.667758Z",
     "iopub.status.idle": "2021-03-09T15:32:31.673436Z",
     "shell.execute_reply": "2021-03-09T15:32:31.673850Z"
    },
    "papermill": {
     "duration": 0.049079,
     "end_time": "2021-03-09T15:32:31.674007",
     "exception": false,
     "start_time": "2021-03-09T15:32:31.624928",
     "status": "completed"
    },
    "tags": []
   },
   "outputs": [],
   "source": [
    "def win_trends(matches):\n",
    "    team_list = pd.DataFrame(columns = ['year','team','wins'])\n",
    "    for year in sorted(matches['season'].value_counts().index.tolist()):\n",
    "        year_list = matches[matches['season'] == year]\n",
    "        for team in year_list['winner'].value_counts().index.tolist():\n",
    "            team_list = team_list.append({\"year\":year,\"team\":team,\"wins\":year_list['winner'].value_counts()[team]},ignore_index = True)\n",
    "    return team_list"
   ]
  },
  {
   "cell_type": "code",
   "execution_count": 15,
   "metadata": {
    "execution": {
     "iopub.execute_input": "2021-03-09T15:32:31.759396Z",
     "iopub.status.busy": "2021-03-09T15:32:31.758378Z",
     "iopub.status.idle": "2021-03-09T15:32:32.136562Z",
     "shell.execute_reply": "2021-03-09T15:32:32.135994Z"
    },
    "papermill": {
     "duration": 0.421819,
     "end_time": "2021-03-09T15:32:32.136712",
     "exception": false,
     "start_time": "2021-03-09T15:32:31.714893",
     "status": "completed"
    },
    "tags": []
   },
   "outputs": [],
   "source": [
    "win_trends = win_trends(matches)\n",
    "win_trends = win_trends.replace(to_replace = \"Rising Pune Supergiants\", value = \"Rising Pune Supergiant\")"
   ]
  },
  {
   "cell_type": "code",
   "execution_count": 16,
   "metadata": {
    "execution": {
     "iopub.execute_input": "2021-03-09T15:32:32.227137Z",
     "iopub.status.busy": "2021-03-09T15:32:32.226472Z",
     "iopub.status.idle": "2021-03-09T15:32:32.363722Z",
     "shell.execute_reply": "2021-03-09T15:32:32.364198Z"
    },
    "papermill": {
     "duration": 0.185832,
     "end_time": "2021-03-09T15:32:32.364381",
     "exception": false,
     "start_time": "2021-03-09T15:32:32.178549",
     "status": "completed"
    },
    "tags": []
   },
   "outputs": [
    {
     "data": {
      "text/html": [
       "<div>                            <div id=\"726f28f1-a9e3-489f-9b22-7067273edd98\" class=\"plotly-graph-div\" style=\"height:500px; width:1000px;\"></div>            <script type=\"text/javascript\">                require([\"plotly\"], function(Plotly) {                    window.PLOTLYENV=window.PLOTLYENV || {};                                    if (document.getElementById(\"726f28f1-a9e3-489f-9b22-7067273edd98\")) {                    Plotly.newPlot(                        \"726f28f1-a9e3-489f-9b22-7067273edd98\",                        [{\"hovertemplate\": \"<b>%{hovertext}</b><br><br>team=Rajasthan Royals<br>year=%{x}<br>wins=%{y}<extra></extra>\", \"hovertext\": [\"Rajasthan Royals\", \"Rajasthan Royals\", \"Rajasthan Royals\", \"Rajasthan Royals\", \"Rajasthan Royals\", \"Rajasthan Royals\", \"Rajasthan Royals\", \"Rajasthan Royals\", \"Rajasthan Royals\", \"Rajasthan Royals\"], \"legendgroup\": \"Rajasthan Royals\", \"line\": {\"color\": \"#636efa\", \"dash\": \"solid\"}, \"mode\": \"lines\", \"name\": \"Rajasthan Royals\", \"orientation\": \"v\", \"showlegend\": true, \"type\": \"scatter\", \"x\": [2008, 2009, 2010, 2011, 2012, 2013, 2014, 2015, 2018, 2019], \"xaxis\": \"x\", \"y\": [13, 6, 6, 6, 7, 11, 7, 7, 7, 5], \"yaxis\": \"y\"}, {\"hovertemplate\": \"<b>%{hovertext}</b><br><br>team=Kings XI Punjab<br>year=%{x}<br>wins=%{y}<extra></extra>\", \"hovertext\": [\"Kings XI Punjab\", \"Kings XI Punjab\", \"Kings XI Punjab\", \"Kings XI Punjab\", \"Kings XI Punjab\", \"Kings XI Punjab\", \"Kings XI Punjab\", \"Kings XI Punjab\", \"Kings XI Punjab\", \"Kings XI Punjab\", \"Kings XI Punjab\", \"Kings XI Punjab\"], \"legendgroup\": \"Kings XI Punjab\", \"line\": {\"color\": \"#EF553B\", \"dash\": \"solid\"}, \"mode\": \"lines\", \"name\": \"Kings XI Punjab\", \"orientation\": \"v\", \"showlegend\": true, \"type\": \"scatter\", \"x\": [2008, 2009, 2010, 2011, 2012, 2013, 2014, 2015, 2016, 2017, 2018, 2019], \"xaxis\": \"x\", \"y\": [10, 7, 4, 7, 8, 8, 11, 3, 4, 7, 6, 6], \"yaxis\": \"y\"}, {\"hovertemplate\": \"<b>%{hovertext}</b><br><br>team=Chennai Super Kings<br>year=%{x}<br>wins=%{y}<extra></extra>\", \"hovertext\": [\"Chennai Super Kings\", \"Chennai Super Kings\", \"Chennai Super Kings\", \"Chennai Super Kings\", \"Chennai Super Kings\", \"Chennai Super Kings\", \"Chennai Super Kings\", \"Chennai Super Kings\", \"Chennai Super Kings\", \"Chennai Super Kings\"], \"legendgroup\": \"Chennai Super Kings\", \"line\": {\"color\": \"#00cc96\", \"dash\": \"solid\"}, \"mode\": \"lines\", \"name\": \"Chennai Super Kings\", \"orientation\": \"v\", \"showlegend\": true, \"type\": \"scatter\", \"x\": [2008, 2009, 2010, 2011, 2012, 2013, 2014, 2015, 2018, 2019], \"xaxis\": \"x\", \"y\": [9, 8, 9, 11, 10, 12, 8, 10, 11, 10], \"yaxis\": \"y\"}, {\"hovertemplate\": \"<b>%{hovertext}</b><br><br>team=Mumbai Indians<br>year=%{x}<br>wins=%{y}<extra></extra>\", \"hovertext\": [\"Mumbai Indians\", \"Mumbai Indians\", \"Mumbai Indians\", \"Mumbai Indians\", \"Mumbai Indians\", \"Mumbai Indians\", \"Mumbai Indians\", \"Mumbai Indians\", \"Mumbai Indians\", \"Mumbai Indians\", \"Mumbai Indians\", \"Mumbai Indians\"], \"legendgroup\": \"Mumbai Indians\", \"line\": {\"color\": \"#ab63fa\", \"dash\": \"solid\"}, \"mode\": \"lines\", \"name\": \"Mumbai Indians\", \"orientation\": \"v\", \"showlegend\": true, \"type\": \"scatter\", \"x\": [2008, 2009, 2010, 2011, 2012, 2013, 2014, 2015, 2016, 2017, 2018, 2019], \"xaxis\": \"x\", \"y\": [7, 5, 11, 10, 10, 13, 7, 10, 7, 12, 6, 11], \"yaxis\": \"y\"}, {\"hovertemplate\": \"<b>%{hovertext}</b><br><br>team=Delhi Daredevils<br>year=%{x}<br>wins=%{y}<extra></extra>\", \"hovertext\": [\"Delhi Daredevils\", \"Delhi Daredevils\", \"Delhi Daredevils\", \"Delhi Daredevils\", \"Delhi Daredevils\", \"Delhi Daredevils\", \"Delhi Daredevils\", \"Delhi Daredevils\", \"Delhi Daredevils\", \"Delhi Daredevils\", \"Delhi Daredevils\"], \"legendgroup\": \"Delhi Daredevils\", \"line\": {\"color\": \"#FFA15A\", \"dash\": \"solid\"}, \"mode\": \"lines\", \"name\": \"Delhi Daredevils\", \"orientation\": \"v\", \"showlegend\": true, \"type\": \"scatter\", \"x\": [2008, 2009, 2010, 2011, 2012, 2013, 2014, 2015, 2016, 2017, 2018], \"xaxis\": \"x\", \"y\": [7, 10, 7, 4, 11, 3, 1, 5, 7, 6, 5], \"yaxis\": \"y\"}, {\"hovertemplate\": \"<b>%{hovertext}</b><br><br>team=Kolkata Knight Riders<br>year=%{x}<br>wins=%{y}<extra></extra>\", \"hovertext\": [\"Kolkata Knight Riders\", \"Kolkata Knight Riders\", \"Kolkata Knight Riders\", \"Kolkata Knight Riders\", \"Kolkata Knight Riders\", \"Kolkata Knight Riders\", \"Kolkata Knight Riders\", \"Kolkata Knight Riders\", \"Kolkata Knight Riders\", \"Kolkata Knight Riders\", \"Kolkata Knight Riders\", \"Kolkata Knight Riders\"], \"legendgroup\": \"Kolkata Knight Riders\", \"line\": {\"color\": \"#19d3f3\", \"dash\": \"solid\"}, \"mode\": \"lines\", \"name\": \"Kolkata Knight Riders\", \"orientation\": \"v\", \"showlegend\": true, \"type\": \"scatter\", \"x\": [2008, 2009, 2010, 2011, 2012, 2013, 2014, 2015, 2016, 2017, 2018, 2019], \"xaxis\": \"x\", \"y\": [6, 3, 7, 8, 12, 6, 11, 7, 8, 9, 9, 6], \"yaxis\": \"y\"}, {\"hovertemplate\": \"<b>%{hovertext}</b><br><br>team=Royal Challengers Bangalore<br>year=%{x}<br>wins=%{y}<extra></extra>\", \"hovertext\": [\"Royal Challengers Bangalore\", \"Royal Challengers Bangalore\", \"Royal Challengers Bangalore\", \"Royal Challengers Bangalore\", \"Royal Challengers Bangalore\", \"Royal Challengers Bangalore\", \"Royal Challengers Bangalore\", \"Royal Challengers Bangalore\", \"Royal Challengers Bangalore\", \"Royal Challengers Bangalore\", \"Royal Challengers Bangalore\", \"Royal Challengers Bangalore\"], \"legendgroup\": \"Royal Challengers Bangalore\", \"line\": {\"color\": \"#FF6692\", \"dash\": \"solid\"}, \"mode\": \"lines\", \"name\": \"Royal Challengers Bangalore\", \"orientation\": \"v\", \"showlegend\": true, \"type\": \"scatter\", \"x\": [2008, 2009, 2010, 2011, 2012, 2013, 2014, 2015, 2016, 2017, 2018, 2019], \"xaxis\": \"x\", \"y\": [4, 9, 8, 10, 8, 9, 4, 8, 9, 2, 6, 5], \"yaxis\": \"y\"}, {\"hovertemplate\": \"<b>%{hovertext}</b><br><br>team=Deccan Chargers<br>year=%{x}<br>wins=%{y}<extra></extra>\", \"hovertext\": [\"Deccan Chargers\", \"Deccan Chargers\", \"Deccan Chargers\", \"Deccan Chargers\", \"Deccan Chargers\"], \"legendgroup\": \"Deccan Chargers\", \"line\": {\"color\": \"#B6E880\", \"dash\": \"solid\"}, \"mode\": \"lines\", \"name\": \"Deccan Chargers\", \"orientation\": \"v\", \"showlegend\": true, \"type\": \"scatter\", \"x\": [2008, 2009, 2010, 2011, 2012], \"xaxis\": \"x\", \"y\": [2, 9, 8, 6, 4], \"yaxis\": \"y\"}, {\"hovertemplate\": \"<b>%{hovertext}</b><br><br>team=Kochi Tuskers Kerala<br>year=%{x}<br>wins=%{y}<extra></extra>\", \"hovertext\": [\"Kochi Tuskers Kerala\"], \"legendgroup\": \"Kochi Tuskers Kerala\", \"line\": {\"color\": \"#FF97FF\", \"dash\": \"solid\"}, \"mode\": \"lines\", \"name\": \"Kochi Tuskers Kerala\", \"orientation\": \"v\", \"showlegend\": true, \"type\": \"scatter\", \"x\": [2011], \"xaxis\": \"x\", \"y\": [6], \"yaxis\": \"y\"}, {\"hovertemplate\": \"<b>%{hovertext}</b><br><br>team=Pune Warriors<br>year=%{x}<br>wins=%{y}<extra></extra>\", \"hovertext\": [\"Pune Warriors\", \"Pune Warriors\", \"Pune Warriors\"], \"legendgroup\": \"Pune Warriors\", \"line\": {\"color\": \"#FECB52\", \"dash\": \"solid\"}, \"mode\": \"lines\", \"name\": \"Pune Warriors\", \"orientation\": \"v\", \"showlegend\": true, \"type\": \"scatter\", \"x\": [2011, 2012, 2013], \"xaxis\": \"x\", \"y\": [4, 4, 4], \"yaxis\": \"y\"}, {\"hovertemplate\": \"<b>%{hovertext}</b><br><br>team=Sunrisers Hyderabad<br>year=%{x}<br>wins=%{y}<extra></extra>\", \"hovertext\": [\"Sunrisers Hyderabad\", \"Sunrisers Hyderabad\", \"Sunrisers Hyderabad\", \"Sunrisers Hyderabad\", \"Sunrisers Hyderabad\", \"Sunrisers Hyderabad\", \"Sunrisers Hyderabad\"], \"legendgroup\": \"Sunrisers Hyderabad\", \"line\": {\"color\": \"#636efa\", \"dash\": \"solid\"}, \"mode\": \"lines\", \"name\": \"Sunrisers Hyderabad\", \"orientation\": \"v\", \"showlegend\": true, \"type\": \"scatter\", \"x\": [2013, 2014, 2015, 2016, 2017, 2018, 2019], \"xaxis\": \"x\", \"y\": [10, 4, 7, 11, 8, 10, 6], \"yaxis\": \"y\"}, {\"hovertemplate\": \"<b>%{hovertext}</b><br><br>team=Gujarat Lions<br>year=%{x}<br>wins=%{y}<extra></extra>\", \"hovertext\": [\"Gujarat Lions\", \"Gujarat Lions\"], \"legendgroup\": \"Gujarat Lions\", \"line\": {\"color\": \"#EF553B\", \"dash\": \"solid\"}, \"mode\": \"lines\", \"name\": \"Gujarat Lions\", \"orientation\": \"v\", \"showlegend\": true, \"type\": \"scatter\", \"x\": [2016, 2017], \"xaxis\": \"x\", \"y\": [9, 4], \"yaxis\": \"y\"}, {\"hovertemplate\": \"<b>%{hovertext}</b><br><br>team=Rising Pune Supergiant<br>year=%{x}<br>wins=%{y}<extra></extra>\", \"hovertext\": [\"Rising Pune Supergiant\", \"Rising Pune Supergiant\"], \"legendgroup\": \"Rising Pune Supergiant\", \"line\": {\"color\": \"#00cc96\", \"dash\": \"solid\"}, \"mode\": \"lines\", \"name\": \"Rising Pune Supergiant\", \"orientation\": \"v\", \"showlegend\": true, \"type\": \"scatter\", \"x\": [2016, 2017], \"xaxis\": \"x\", \"y\": [5, 10], \"yaxis\": \"y\"}, {\"hovertemplate\": \"<b>%{hovertext}</b><br><br>team=Delhi Capitals<br>year=%{x}<br>wins=%{y}<extra></extra>\", \"hovertext\": [\"Delhi Capitals\"], \"legendgroup\": \"Delhi Capitals\", \"line\": {\"color\": \"#ab63fa\", \"dash\": \"solid\"}, \"mode\": \"lines\", \"name\": \"Delhi Capitals\", \"orientation\": \"v\", \"showlegend\": true, \"type\": \"scatter\", \"x\": [2019], \"xaxis\": \"x\", \"y\": [9], \"yaxis\": \"y\"}],                        {\"height\": 500, \"legend\": {\"title\": {\"text\": \"team\"}, \"tracegroupgap\": 0}, \"template\": {\"data\": {\"bar\": [{\"error_x\": {\"color\": \"#2a3f5f\"}, \"error_y\": {\"color\": \"#2a3f5f\"}, \"marker\": {\"line\": {\"color\": \"#E5ECF6\", \"width\": 0.5}}, \"type\": \"bar\"}], \"barpolar\": [{\"marker\": {\"line\": {\"color\": \"#E5ECF6\", \"width\": 0.5}}, \"type\": \"barpolar\"}], \"carpet\": [{\"aaxis\": {\"endlinecolor\": \"#2a3f5f\", \"gridcolor\": \"white\", \"linecolor\": \"white\", \"minorgridcolor\": \"white\", \"startlinecolor\": \"#2a3f5f\"}, \"baxis\": {\"endlinecolor\": \"#2a3f5f\", \"gridcolor\": \"white\", \"linecolor\": \"white\", \"minorgridcolor\": \"white\", \"startlinecolor\": \"#2a3f5f\"}, \"type\": \"carpet\"}], \"choropleth\": [{\"colorbar\": {\"outlinewidth\": 0, \"ticks\": \"\"}, \"type\": \"choropleth\"}], \"contour\": [{\"colorbar\": {\"outlinewidth\": 0, \"ticks\": \"\"}, \"colorscale\": [[0.0, \"#0d0887\"], [0.1111111111111111, \"#46039f\"], [0.2222222222222222, \"#7201a8\"], [0.3333333333333333, \"#9c179e\"], [0.4444444444444444, \"#bd3786\"], [0.5555555555555556, \"#d8576b\"], [0.6666666666666666, \"#ed7953\"], [0.7777777777777778, \"#fb9f3a\"], [0.8888888888888888, \"#fdca26\"], [1.0, \"#f0f921\"]], \"type\": \"contour\"}], \"contourcarpet\": [{\"colorbar\": {\"outlinewidth\": 0, \"ticks\": \"\"}, \"type\": \"contourcarpet\"}], \"heatmap\": [{\"colorbar\": {\"outlinewidth\": 0, \"ticks\": \"\"}, \"colorscale\": [[0.0, \"#0d0887\"], [0.1111111111111111, \"#46039f\"], [0.2222222222222222, \"#7201a8\"], [0.3333333333333333, \"#9c179e\"], [0.4444444444444444, \"#bd3786\"], [0.5555555555555556, \"#d8576b\"], [0.6666666666666666, \"#ed7953\"], [0.7777777777777778, \"#fb9f3a\"], [0.8888888888888888, \"#fdca26\"], [1.0, \"#f0f921\"]], \"type\": \"heatmap\"}], \"heatmapgl\": [{\"colorbar\": {\"outlinewidth\": 0, \"ticks\": \"\"}, \"colorscale\": [[0.0, \"#0d0887\"], [0.1111111111111111, \"#46039f\"], [0.2222222222222222, \"#7201a8\"], [0.3333333333333333, \"#9c179e\"], [0.4444444444444444, \"#bd3786\"], [0.5555555555555556, \"#d8576b\"], [0.6666666666666666, \"#ed7953\"], [0.7777777777777778, \"#fb9f3a\"], [0.8888888888888888, \"#fdca26\"], [1.0, \"#f0f921\"]], \"type\": \"heatmapgl\"}], \"histogram\": [{\"marker\": {\"colorbar\": {\"outlinewidth\": 0, \"ticks\": \"\"}}, \"type\": \"histogram\"}], \"histogram2d\": [{\"colorbar\": {\"outlinewidth\": 0, \"ticks\": \"\"}, \"colorscale\": [[0.0, \"#0d0887\"], [0.1111111111111111, \"#46039f\"], [0.2222222222222222, \"#7201a8\"], [0.3333333333333333, \"#9c179e\"], [0.4444444444444444, \"#bd3786\"], [0.5555555555555556, \"#d8576b\"], [0.6666666666666666, \"#ed7953\"], [0.7777777777777778, \"#fb9f3a\"], [0.8888888888888888, \"#fdca26\"], [1.0, \"#f0f921\"]], \"type\": \"histogram2d\"}], \"histogram2dcontour\": [{\"colorbar\": {\"outlinewidth\": 0, \"ticks\": \"\"}, \"colorscale\": [[0.0, \"#0d0887\"], [0.1111111111111111, \"#46039f\"], [0.2222222222222222, \"#7201a8\"], [0.3333333333333333, \"#9c179e\"], [0.4444444444444444, \"#bd3786\"], [0.5555555555555556, \"#d8576b\"], [0.6666666666666666, \"#ed7953\"], [0.7777777777777778, \"#fb9f3a\"], [0.8888888888888888, \"#fdca26\"], [1.0, \"#f0f921\"]], \"type\": \"histogram2dcontour\"}], \"mesh3d\": [{\"colorbar\": {\"outlinewidth\": 0, \"ticks\": \"\"}, \"type\": \"mesh3d\"}], \"parcoords\": [{\"line\": {\"colorbar\": {\"outlinewidth\": 0, \"ticks\": \"\"}}, \"type\": \"parcoords\"}], \"pie\": [{\"automargin\": true, \"type\": \"pie\"}], \"scatter\": [{\"marker\": {\"colorbar\": {\"outlinewidth\": 0, \"ticks\": \"\"}}, \"type\": \"scatter\"}], \"scatter3d\": [{\"line\": {\"colorbar\": {\"outlinewidth\": 0, \"ticks\": \"\"}}, \"marker\": {\"colorbar\": {\"outlinewidth\": 0, \"ticks\": \"\"}}, \"type\": \"scatter3d\"}], \"scattercarpet\": [{\"marker\": {\"colorbar\": {\"outlinewidth\": 0, \"ticks\": \"\"}}, \"type\": \"scattercarpet\"}], \"scattergeo\": [{\"marker\": {\"colorbar\": {\"outlinewidth\": 0, \"ticks\": \"\"}}, \"type\": \"scattergeo\"}], \"scattergl\": [{\"marker\": {\"colorbar\": {\"outlinewidth\": 0, \"ticks\": \"\"}}, \"type\": \"scattergl\"}], \"scattermapbox\": [{\"marker\": {\"colorbar\": {\"outlinewidth\": 0, \"ticks\": \"\"}}, \"type\": \"scattermapbox\"}], \"scatterpolar\": [{\"marker\": {\"colorbar\": {\"outlinewidth\": 0, \"ticks\": \"\"}}, \"type\": \"scatterpolar\"}], \"scatterpolargl\": [{\"marker\": {\"colorbar\": {\"outlinewidth\": 0, \"ticks\": \"\"}}, \"type\": \"scatterpolargl\"}], \"scatterternary\": [{\"marker\": {\"colorbar\": {\"outlinewidth\": 0, \"ticks\": \"\"}}, \"type\": \"scatterternary\"}], \"surface\": [{\"colorbar\": {\"outlinewidth\": 0, \"ticks\": \"\"}, \"colorscale\": [[0.0, \"#0d0887\"], [0.1111111111111111, \"#46039f\"], [0.2222222222222222, \"#7201a8\"], [0.3333333333333333, \"#9c179e\"], [0.4444444444444444, \"#bd3786\"], [0.5555555555555556, \"#d8576b\"], [0.6666666666666666, \"#ed7953\"], [0.7777777777777778, \"#fb9f3a\"], [0.8888888888888888, \"#fdca26\"], [1.0, \"#f0f921\"]], \"type\": \"surface\"}], \"table\": [{\"cells\": {\"fill\": {\"color\": \"#EBF0F8\"}, \"line\": {\"color\": \"white\"}}, \"header\": {\"fill\": {\"color\": \"#C8D4E3\"}, \"line\": {\"color\": \"white\"}}, \"type\": \"table\"}]}, \"layout\": {\"annotationdefaults\": {\"arrowcolor\": \"#2a3f5f\", \"arrowhead\": 0, \"arrowwidth\": 1}, \"autotypenumbers\": \"strict\", \"coloraxis\": {\"colorbar\": {\"outlinewidth\": 0, \"ticks\": \"\"}}, \"colorscale\": {\"diverging\": [[0, \"#8e0152\"], [0.1, \"#c51b7d\"], [0.2, \"#de77ae\"], [0.3, \"#f1b6da\"], [0.4, \"#fde0ef\"], [0.5, \"#f7f7f7\"], [0.6, \"#e6f5d0\"], [0.7, \"#b8e186\"], [0.8, \"#7fbc41\"], [0.9, \"#4d9221\"], [1, \"#276419\"]], \"sequential\": [[0.0, \"#0d0887\"], [0.1111111111111111, \"#46039f\"], [0.2222222222222222, \"#7201a8\"], [0.3333333333333333, \"#9c179e\"], [0.4444444444444444, \"#bd3786\"], [0.5555555555555556, \"#d8576b\"], [0.6666666666666666, \"#ed7953\"], [0.7777777777777778, \"#fb9f3a\"], [0.8888888888888888, \"#fdca26\"], [1.0, \"#f0f921\"]], \"sequentialminus\": [[0.0, \"#0d0887\"], [0.1111111111111111, \"#46039f\"], [0.2222222222222222, \"#7201a8\"], [0.3333333333333333, \"#9c179e\"], [0.4444444444444444, \"#bd3786\"], [0.5555555555555556, \"#d8576b\"], [0.6666666666666666, \"#ed7953\"], [0.7777777777777778, \"#fb9f3a\"], [0.8888888888888888, \"#fdca26\"], [1.0, \"#f0f921\"]]}, \"colorway\": [\"#636efa\", \"#EF553B\", \"#00cc96\", \"#ab63fa\", \"#FFA15A\", \"#19d3f3\", \"#FF6692\", \"#B6E880\", \"#FF97FF\", \"#FECB52\"], \"font\": {\"color\": \"#2a3f5f\"}, \"geo\": {\"bgcolor\": \"white\", \"lakecolor\": \"white\", \"landcolor\": \"#E5ECF6\", \"showlakes\": true, \"showland\": true, \"subunitcolor\": \"white\"}, \"hoverlabel\": {\"align\": \"left\"}, \"hovermode\": \"closest\", \"mapbox\": {\"style\": \"light\"}, \"paper_bgcolor\": \"white\", \"plot_bgcolor\": \"#E5ECF6\", \"polar\": {\"angularaxis\": {\"gridcolor\": \"white\", \"linecolor\": \"white\", \"ticks\": \"\"}, \"bgcolor\": \"#E5ECF6\", \"radialaxis\": {\"gridcolor\": \"white\", \"linecolor\": \"white\", \"ticks\": \"\"}}, \"scene\": {\"xaxis\": {\"backgroundcolor\": \"#E5ECF6\", \"gridcolor\": \"white\", \"gridwidth\": 2, \"linecolor\": \"white\", \"showbackground\": true, \"ticks\": \"\", \"zerolinecolor\": \"white\"}, \"yaxis\": {\"backgroundcolor\": \"#E5ECF6\", \"gridcolor\": \"white\", \"gridwidth\": 2, \"linecolor\": \"white\", \"showbackground\": true, \"ticks\": \"\", \"zerolinecolor\": \"white\"}, \"zaxis\": {\"backgroundcolor\": \"#E5ECF6\", \"gridcolor\": \"white\", \"gridwidth\": 2, \"linecolor\": \"white\", \"showbackground\": true, \"ticks\": \"\", \"zerolinecolor\": \"white\"}}, \"shapedefaults\": {\"line\": {\"color\": \"#2a3f5f\"}}, \"ternary\": {\"aaxis\": {\"gridcolor\": \"white\", \"linecolor\": \"white\", \"ticks\": \"\"}, \"baxis\": {\"gridcolor\": \"white\", \"linecolor\": \"white\", \"ticks\": \"\"}, \"bgcolor\": \"#E5ECF6\", \"caxis\": {\"gridcolor\": \"white\", \"linecolor\": \"white\", \"ticks\": \"\"}}, \"title\": {\"x\": 0.05}, \"xaxis\": {\"automargin\": true, \"gridcolor\": \"white\", \"linecolor\": \"white\", \"ticks\": \"\", \"title\": {\"standoff\": 15}, \"zerolinecolor\": \"white\", \"zerolinewidth\": 2}, \"yaxis\": {\"automargin\": true, \"gridcolor\": \"white\", \"linecolor\": \"white\", \"ticks\": \"\", \"title\": {\"standoff\": 15}, \"zerolinecolor\": \"white\", \"zerolinewidth\": 2}}}, \"title\": {\"text\": \"win Trends of teams (2008 - 2019)\"}, \"width\": 1000, \"xaxis\": {\"anchor\": \"y\", \"domain\": [0.0, 1.0], \"range\": [2007, 2020], \"title\": {\"text\": \"year\"}}, \"yaxis\": {\"anchor\": \"x\", \"domain\": [0.0, 1.0], \"title\": {\"text\": \"wins\"}}},                        {\"responsive\": true}                    ).then(function(){\n",
       "                            \n",
       "var gd = document.getElementById('726f28f1-a9e3-489f-9b22-7067273edd98');\n",
       "var x = new MutationObserver(function (mutations, observer) {{\n",
       "        var display = window.getComputedStyle(gd).display;\n",
       "        if (!display || display === 'none') {{\n",
       "            console.log([gd, 'removed!']);\n",
       "            Plotly.purge(gd);\n",
       "            observer.disconnect();\n",
       "        }}\n",
       "}});\n",
       "\n",
       "// Listen for the removal of the full notebook cells\n",
       "var notebookContainer = gd.closest('#notebook-container');\n",
       "if (notebookContainer) {{\n",
       "    x.observe(notebookContainer, {childList: true});\n",
       "}}\n",
       "\n",
       "// Listen for the clearing of the current output cell\n",
       "var outputEl = gd.closest('.output');\n",
       "if (outputEl) {{\n",
       "    x.observe(outputEl, {childList: true});\n",
       "}}\n",
       "\n",
       "                        })                };                });            </script>        </div>"
      ]
     },
     "metadata": {},
     "output_type": "display_data"
    }
   ],
   "source": [
    "fig = px.line(win_trends,x = \"year\",y =\"wins\",color = \"team\",\n",
    "              hover_name = \"team\", height = 500,width =1000 ,range_x=[2007,2020], title =\"win Trends of teams (2008 - 2019)\")\n",
    "fig.show()"
   ]
  },
  {
   "cell_type": "markdown",
   "metadata": {
    "papermill": {
     "duration": 0.042663,
     "end_time": "2021-03-09T15:32:32.449848",
     "exception": false,
     "start_time": "2021-03-09T15:32:32.407185",
     "status": "completed"
    },
    "tags": []
   },
   "source": [
    "#### disable and enable each trend by clicking on it in legend"
   ]
  },
  {
   "cell_type": "code",
   "execution_count": 17,
   "metadata": {
    "execution": {
     "iopub.execute_input": "2021-03-09T15:32:32.537745Z",
     "iopub.status.busy": "2021-03-09T15:32:32.537034Z",
     "iopub.status.idle": "2021-03-09T15:32:32.653429Z",
     "shell.execute_reply": "2021-03-09T15:32:32.653913Z"
    },
    "papermill": {
     "duration": 0.161718,
     "end_time": "2021-03-09T15:32:32.654096",
     "exception": false,
     "start_time": "2021-03-09T15:32:32.492378",
     "status": "completed"
    },
    "scrolled": false,
    "tags": []
   },
   "outputs": [
    {
     "data": {
      "text/html": [
       "<div>                            <div id=\"a7ef73ff-e7fe-4946-9810-7b4c82fc7b72\" class=\"plotly-graph-div\" style=\"height:525px; width:100%;\"></div>            <script type=\"text/javascript\">                require([\"plotly\"], function(Plotly) {                    window.PLOTLYENV=window.PLOTLYENV || {};                                    if (document.getElementById(\"a7ef73ff-e7fe-4946-9810-7b4c82fc7b72\")) {                    Plotly.newPlot(                        \"a7ef73ff-e7fe-4946-9810-7b4c82fc7b72\",                        [{\"alignmentgroup\": \"True\", \"hovertemplate\": \"color=Mumbai Indians<br>x=%{x}<br>y=%{y}<extra></extra>\", \"legendgroup\": \"Mumbai Indians\", \"marker\": {\"color\": \"#636efa\"}, \"name\": \"Mumbai Indians\", \"offsetgroup\": \"Mumbai Indians\", \"orientation\": \"v\", \"showlegend\": true, \"textposition\": \"auto\", \"type\": \"bar\", \"x\": [\"Mumbai Indians\"], \"xaxis\": \"x\", \"y\": [109], \"yaxis\": \"y\"}, {\"alignmentgroup\": \"True\", \"hovertemplate\": \"color=Chennai Super Kings<br>x=%{x}<br>y=%{y}<extra></extra>\", \"legendgroup\": \"Chennai Super Kings\", \"marker\": {\"color\": \"#EF553B\"}, \"name\": \"Chennai Super Kings\", \"offsetgroup\": \"Chennai Super Kings\", \"orientation\": \"v\", \"showlegend\": true, \"textposition\": \"auto\", \"type\": \"bar\", \"x\": [\"Chennai Super Kings\"], \"xaxis\": \"x\", \"y\": [98], \"yaxis\": \"y\"}, {\"alignmentgroup\": \"True\", \"hovertemplate\": \"color=Kolkata Knight Riders<br>x=%{x}<br>y=%{y}<extra></extra>\", \"legendgroup\": \"Kolkata Knight Riders\", \"marker\": {\"color\": \"#00cc96\"}, \"name\": \"Kolkata Knight Riders\", \"offsetgroup\": \"Kolkata Knight Riders\", \"orientation\": \"v\", \"showlegend\": true, \"textposition\": \"auto\", \"type\": \"bar\", \"x\": [\"Kolkata Knight Riders\"], \"xaxis\": \"x\", \"y\": [92], \"yaxis\": \"y\"}, {\"alignmentgroup\": \"True\", \"hovertemplate\": \"color=Royal Challengers Bangalore<br>x=%{x}<br>y=%{y}<extra></extra>\", \"legendgroup\": \"Royal Challengers Bangalore\", \"marker\": {\"color\": \"#ab63fa\"}, \"name\": \"Royal Challengers Bangalore\", \"offsetgroup\": \"Royal Challengers Bangalore\", \"orientation\": \"v\", \"showlegend\": true, \"textposition\": \"auto\", \"type\": \"bar\", \"x\": [\"Royal Challengers Bangalore\"], \"xaxis\": \"x\", \"y\": [82], \"yaxis\": \"y\"}, {\"alignmentgroup\": \"True\", \"hovertemplate\": \"color=Kings XI Punjab<br>x=%{x}<br>y=%{y}<extra></extra>\", \"legendgroup\": \"Kings XI Punjab\", \"marker\": {\"color\": \"#FFA15A\"}, \"name\": \"Kings XI Punjab\", \"offsetgroup\": \"Kings XI Punjab\", \"orientation\": \"v\", \"showlegend\": true, \"textposition\": \"auto\", \"type\": \"bar\", \"x\": [\"Kings XI Punjab\"], \"xaxis\": \"x\", \"y\": [81], \"yaxis\": \"y\"}, {\"alignmentgroup\": \"True\", \"hovertemplate\": \"color=Rajasthan Royals<br>x=%{x}<br>y=%{y}<extra></extra>\", \"legendgroup\": \"Rajasthan Royals\", \"marker\": {\"color\": \"#19d3f3\"}, \"name\": \"Rajasthan Royals\", \"offsetgroup\": \"Rajasthan Royals\", \"orientation\": \"v\", \"showlegend\": true, \"textposition\": \"auto\", \"type\": \"bar\", \"x\": [\"Rajasthan Royals\"], \"xaxis\": \"x\", \"y\": [75], \"yaxis\": \"y\"}, {\"alignmentgroup\": \"True\", \"hovertemplate\": \"color=Delhi Daredevils<br>x=%{x}<br>y=%{y}<extra></extra>\", \"legendgroup\": \"Delhi Daredevils\", \"marker\": {\"color\": \"#FF6692\"}, \"name\": \"Delhi Daredevils\", \"offsetgroup\": \"Delhi Daredevils\", \"orientation\": \"v\", \"showlegend\": true, \"textposition\": \"auto\", \"type\": \"bar\", \"x\": [\"Delhi Daredevils\"], \"xaxis\": \"x\", \"y\": [66], \"yaxis\": \"y\"}, {\"alignmentgroup\": \"True\", \"hovertemplate\": \"color=Sunrisers Hyderabad<br>x=%{x}<br>y=%{y}<extra></extra>\", \"legendgroup\": \"Sunrisers Hyderabad\", \"marker\": {\"color\": \"#B6E880\"}, \"name\": \"Sunrisers Hyderabad\", \"offsetgroup\": \"Sunrisers Hyderabad\", \"orientation\": \"v\", \"showlegend\": true, \"textposition\": \"auto\", \"type\": \"bar\", \"x\": [\"Sunrisers Hyderabad\"], \"xaxis\": \"x\", \"y\": [56], \"yaxis\": \"y\"}, {\"alignmentgroup\": \"True\", \"hovertemplate\": \"color=Deccan Chargers<br>x=%{x}<br>y=%{y}<extra></extra>\", \"legendgroup\": \"Deccan Chargers\", \"marker\": {\"color\": \"#FF97FF\"}, \"name\": \"Deccan Chargers\", \"offsetgroup\": \"Deccan Chargers\", \"orientation\": \"v\", \"showlegend\": true, \"textposition\": \"auto\", \"type\": \"bar\", \"x\": [\"Deccan Chargers\"], \"xaxis\": \"x\", \"y\": [29], \"yaxis\": \"y\"}, {\"alignmentgroup\": \"True\", \"hovertemplate\": \"color=Gujarat Lions<br>x=%{x}<br>y=%{y}<extra></extra>\", \"legendgroup\": \"Gujarat Lions\", \"marker\": {\"color\": \"#FECB52\"}, \"name\": \"Gujarat Lions\", \"offsetgroup\": \"Gujarat Lions\", \"orientation\": \"v\", \"showlegend\": true, \"textposition\": \"auto\", \"type\": \"bar\", \"x\": [\"Gujarat Lions\"], \"xaxis\": \"x\", \"y\": [13], \"yaxis\": \"y\"}, {\"alignmentgroup\": \"True\", \"hovertemplate\": \"color=Pune Warriors<br>x=%{x}<br>y=%{y}<extra></extra>\", \"legendgroup\": \"Pune Warriors\", \"marker\": {\"color\": \"#636efa\"}, \"name\": \"Pune Warriors\", \"offsetgroup\": \"Pune Warriors\", \"orientation\": \"v\", \"showlegend\": true, \"textposition\": \"auto\", \"type\": \"bar\", \"x\": [\"Pune Warriors\"], \"xaxis\": \"x\", \"y\": [12], \"yaxis\": \"y\"}, {\"alignmentgroup\": \"True\", \"hovertemplate\": \"color=Rising Pune Supergiant<br>x=%{x}<br>y=%{y}<extra></extra>\", \"legendgroup\": \"Rising Pune Supergiant\", \"marker\": {\"color\": \"#EF553B\"}, \"name\": \"Rising Pune Supergiant\", \"offsetgroup\": \"Rising Pune Supergiant\", \"orientation\": \"v\", \"showlegend\": true, \"textposition\": \"auto\", \"type\": \"bar\", \"x\": [\"Rising Pune Supergiant\"], \"xaxis\": \"x\", \"y\": [10], \"yaxis\": \"y\"}, {\"alignmentgroup\": \"True\", \"hovertemplate\": \"color=Delhi Capitals<br>x=%{x}<br>y=%{y}<extra></extra>\", \"legendgroup\": \"Delhi Capitals\", \"marker\": {\"color\": \"#00cc96\"}, \"name\": \"Delhi Capitals\", \"offsetgroup\": \"Delhi Capitals\", \"orientation\": \"v\", \"showlegend\": true, \"textposition\": \"auto\", \"type\": \"bar\", \"x\": [\"Delhi Capitals\"], \"xaxis\": \"x\", \"y\": [9], \"yaxis\": \"y\"}, {\"alignmentgroup\": \"True\", \"hovertemplate\": \"color=Kochi Tuskers Kerala<br>x=%{x}<br>y=%{y}<extra></extra>\", \"legendgroup\": \"Kochi Tuskers Kerala\", \"marker\": {\"color\": \"#ab63fa\"}, \"name\": \"Kochi Tuskers Kerala\", \"offsetgroup\": \"Kochi Tuskers Kerala\", \"orientation\": \"v\", \"showlegend\": true, \"textposition\": \"auto\", \"type\": \"bar\", \"x\": [\"Kochi Tuskers Kerala\"], \"xaxis\": \"x\", \"y\": [6], \"yaxis\": \"y\"}, {\"alignmentgroup\": \"True\", \"hovertemplate\": \"color=Rising Pune Supergiants<br>x=%{x}<br>y=%{y}<extra></extra>\", \"legendgroup\": \"Rising Pune Supergiants\", \"marker\": {\"color\": \"#FFA15A\"}, \"name\": \"Rising Pune Supergiants\", \"offsetgroup\": \"Rising Pune Supergiants\", \"orientation\": \"v\", \"showlegend\": true, \"textposition\": \"auto\", \"type\": \"bar\", \"x\": [\"Rising Pune Supergiants\"], \"xaxis\": \"x\", \"y\": [5], \"yaxis\": \"y\"}],                        {\"barmode\": \"relative\", \"legend\": {\"title\": {\"text\": \"color\"}, \"tracegroupgap\": 0}, \"template\": {\"data\": {\"bar\": [{\"error_x\": {\"color\": \"#2a3f5f\"}, \"error_y\": {\"color\": \"#2a3f5f\"}, \"marker\": {\"line\": {\"color\": \"#E5ECF6\", \"width\": 0.5}}, \"type\": \"bar\"}], \"barpolar\": [{\"marker\": {\"line\": {\"color\": \"#E5ECF6\", \"width\": 0.5}}, \"type\": \"barpolar\"}], \"carpet\": [{\"aaxis\": {\"endlinecolor\": \"#2a3f5f\", \"gridcolor\": \"white\", \"linecolor\": \"white\", \"minorgridcolor\": \"white\", \"startlinecolor\": \"#2a3f5f\"}, \"baxis\": {\"endlinecolor\": \"#2a3f5f\", \"gridcolor\": \"white\", \"linecolor\": \"white\", \"minorgridcolor\": \"white\", \"startlinecolor\": \"#2a3f5f\"}, \"type\": \"carpet\"}], \"choropleth\": [{\"colorbar\": {\"outlinewidth\": 0, \"ticks\": \"\"}, \"type\": \"choropleth\"}], \"contour\": [{\"colorbar\": {\"outlinewidth\": 0, \"ticks\": \"\"}, \"colorscale\": [[0.0, \"#0d0887\"], [0.1111111111111111, \"#46039f\"], [0.2222222222222222, \"#7201a8\"], [0.3333333333333333, \"#9c179e\"], [0.4444444444444444, \"#bd3786\"], [0.5555555555555556, \"#d8576b\"], [0.6666666666666666, \"#ed7953\"], [0.7777777777777778, \"#fb9f3a\"], [0.8888888888888888, \"#fdca26\"], [1.0, \"#f0f921\"]], \"type\": \"contour\"}], \"contourcarpet\": [{\"colorbar\": {\"outlinewidth\": 0, \"ticks\": \"\"}, \"type\": \"contourcarpet\"}], \"heatmap\": [{\"colorbar\": {\"outlinewidth\": 0, \"ticks\": \"\"}, \"colorscale\": [[0.0, \"#0d0887\"], [0.1111111111111111, \"#46039f\"], [0.2222222222222222, \"#7201a8\"], [0.3333333333333333, \"#9c179e\"], [0.4444444444444444, \"#bd3786\"], [0.5555555555555556, \"#d8576b\"], [0.6666666666666666, \"#ed7953\"], [0.7777777777777778, \"#fb9f3a\"], [0.8888888888888888, \"#fdca26\"], [1.0, \"#f0f921\"]], \"type\": \"heatmap\"}], \"heatmapgl\": [{\"colorbar\": {\"outlinewidth\": 0, \"ticks\": \"\"}, \"colorscale\": [[0.0, \"#0d0887\"], [0.1111111111111111, \"#46039f\"], [0.2222222222222222, \"#7201a8\"], [0.3333333333333333, \"#9c179e\"], [0.4444444444444444, \"#bd3786\"], [0.5555555555555556, \"#d8576b\"], [0.6666666666666666, \"#ed7953\"], [0.7777777777777778, \"#fb9f3a\"], [0.8888888888888888, \"#fdca26\"], [1.0, \"#f0f921\"]], \"type\": \"heatmapgl\"}], \"histogram\": [{\"marker\": {\"colorbar\": {\"outlinewidth\": 0, \"ticks\": \"\"}}, \"type\": \"histogram\"}], \"histogram2d\": [{\"colorbar\": {\"outlinewidth\": 0, \"ticks\": \"\"}, \"colorscale\": [[0.0, \"#0d0887\"], [0.1111111111111111, \"#46039f\"], [0.2222222222222222, \"#7201a8\"], [0.3333333333333333, \"#9c179e\"], [0.4444444444444444, \"#bd3786\"], [0.5555555555555556, \"#d8576b\"], [0.6666666666666666, \"#ed7953\"], [0.7777777777777778, \"#fb9f3a\"], [0.8888888888888888, \"#fdca26\"], [1.0, \"#f0f921\"]], \"type\": \"histogram2d\"}], \"histogram2dcontour\": [{\"colorbar\": {\"outlinewidth\": 0, \"ticks\": \"\"}, \"colorscale\": [[0.0, \"#0d0887\"], [0.1111111111111111, \"#46039f\"], [0.2222222222222222, \"#7201a8\"], [0.3333333333333333, \"#9c179e\"], [0.4444444444444444, \"#bd3786\"], [0.5555555555555556, \"#d8576b\"], [0.6666666666666666, \"#ed7953\"], [0.7777777777777778, \"#fb9f3a\"], [0.8888888888888888, \"#fdca26\"], [1.0, \"#f0f921\"]], \"type\": \"histogram2dcontour\"}], \"mesh3d\": [{\"colorbar\": {\"outlinewidth\": 0, \"ticks\": \"\"}, \"type\": \"mesh3d\"}], \"parcoords\": [{\"line\": {\"colorbar\": {\"outlinewidth\": 0, \"ticks\": \"\"}}, \"type\": \"parcoords\"}], \"pie\": [{\"automargin\": true, \"type\": \"pie\"}], \"scatter\": [{\"marker\": {\"colorbar\": {\"outlinewidth\": 0, \"ticks\": \"\"}}, \"type\": \"scatter\"}], \"scatter3d\": [{\"line\": {\"colorbar\": {\"outlinewidth\": 0, \"ticks\": \"\"}}, \"marker\": {\"colorbar\": {\"outlinewidth\": 0, \"ticks\": \"\"}}, \"type\": \"scatter3d\"}], \"scattercarpet\": [{\"marker\": {\"colorbar\": {\"outlinewidth\": 0, \"ticks\": \"\"}}, \"type\": \"scattercarpet\"}], \"scattergeo\": [{\"marker\": {\"colorbar\": {\"outlinewidth\": 0, \"ticks\": \"\"}}, \"type\": \"scattergeo\"}], \"scattergl\": [{\"marker\": {\"colorbar\": {\"outlinewidth\": 0, \"ticks\": \"\"}}, \"type\": \"scattergl\"}], \"scattermapbox\": [{\"marker\": {\"colorbar\": {\"outlinewidth\": 0, \"ticks\": \"\"}}, \"type\": \"scattermapbox\"}], \"scatterpolar\": [{\"marker\": {\"colorbar\": {\"outlinewidth\": 0, \"ticks\": \"\"}}, \"type\": \"scatterpolar\"}], \"scatterpolargl\": [{\"marker\": {\"colorbar\": {\"outlinewidth\": 0, \"ticks\": \"\"}}, \"type\": \"scatterpolargl\"}], \"scatterternary\": [{\"marker\": {\"colorbar\": {\"outlinewidth\": 0, \"ticks\": \"\"}}, \"type\": \"scatterternary\"}], \"surface\": [{\"colorbar\": {\"outlinewidth\": 0, \"ticks\": \"\"}, \"colorscale\": [[0.0, \"#0d0887\"], [0.1111111111111111, \"#46039f\"], [0.2222222222222222, \"#7201a8\"], [0.3333333333333333, \"#9c179e\"], [0.4444444444444444, \"#bd3786\"], [0.5555555555555556, \"#d8576b\"], [0.6666666666666666, \"#ed7953\"], [0.7777777777777778, \"#fb9f3a\"], [0.8888888888888888, \"#fdca26\"], [1.0, \"#f0f921\"]], \"type\": \"surface\"}], \"table\": [{\"cells\": {\"fill\": {\"color\": \"#EBF0F8\"}, \"line\": {\"color\": \"white\"}}, \"header\": {\"fill\": {\"color\": \"#C8D4E3\"}, \"line\": {\"color\": \"white\"}}, \"type\": \"table\"}]}, \"layout\": {\"annotationdefaults\": {\"arrowcolor\": \"#2a3f5f\", \"arrowhead\": 0, \"arrowwidth\": 1}, \"autotypenumbers\": \"strict\", \"coloraxis\": {\"colorbar\": {\"outlinewidth\": 0, \"ticks\": \"\"}}, \"colorscale\": {\"diverging\": [[0, \"#8e0152\"], [0.1, \"#c51b7d\"], [0.2, \"#de77ae\"], [0.3, \"#f1b6da\"], [0.4, \"#fde0ef\"], [0.5, \"#f7f7f7\"], [0.6, \"#e6f5d0\"], [0.7, \"#b8e186\"], [0.8, \"#7fbc41\"], [0.9, \"#4d9221\"], [1, \"#276419\"]], \"sequential\": [[0.0, \"#0d0887\"], [0.1111111111111111, \"#46039f\"], [0.2222222222222222, \"#7201a8\"], [0.3333333333333333, \"#9c179e\"], [0.4444444444444444, \"#bd3786\"], [0.5555555555555556, \"#d8576b\"], [0.6666666666666666, \"#ed7953\"], [0.7777777777777778, \"#fb9f3a\"], [0.8888888888888888, \"#fdca26\"], [1.0, \"#f0f921\"]], \"sequentialminus\": [[0.0, \"#0d0887\"], [0.1111111111111111, \"#46039f\"], [0.2222222222222222, \"#7201a8\"], [0.3333333333333333, \"#9c179e\"], [0.4444444444444444, \"#bd3786\"], [0.5555555555555556, \"#d8576b\"], [0.6666666666666666, \"#ed7953\"], [0.7777777777777778, \"#fb9f3a\"], [0.8888888888888888, \"#fdca26\"], [1.0, \"#f0f921\"]]}, \"colorway\": [\"#636efa\", \"#EF553B\", \"#00cc96\", \"#ab63fa\", \"#FFA15A\", \"#19d3f3\", \"#FF6692\", \"#B6E880\", \"#FF97FF\", \"#FECB52\"], \"font\": {\"color\": \"#2a3f5f\"}, \"geo\": {\"bgcolor\": \"white\", \"lakecolor\": \"white\", \"landcolor\": \"#E5ECF6\", \"showlakes\": true, \"showland\": true, \"subunitcolor\": \"white\"}, \"hoverlabel\": {\"align\": \"left\"}, \"hovermode\": \"closest\", \"mapbox\": {\"style\": \"light\"}, \"paper_bgcolor\": \"white\", \"plot_bgcolor\": \"#E5ECF6\", \"polar\": {\"angularaxis\": {\"gridcolor\": \"white\", \"linecolor\": \"white\", \"ticks\": \"\"}, \"bgcolor\": \"#E5ECF6\", \"radialaxis\": {\"gridcolor\": \"white\", \"linecolor\": \"white\", \"ticks\": \"\"}}, \"scene\": {\"xaxis\": {\"backgroundcolor\": \"#E5ECF6\", \"gridcolor\": \"white\", \"gridwidth\": 2, \"linecolor\": \"white\", \"showbackground\": true, \"ticks\": \"\", \"zerolinecolor\": \"white\"}, \"yaxis\": {\"backgroundcolor\": \"#E5ECF6\", \"gridcolor\": \"white\", \"gridwidth\": 2, \"linecolor\": \"white\", \"showbackground\": true, \"ticks\": \"\", \"zerolinecolor\": \"white\"}, \"zaxis\": {\"backgroundcolor\": \"#E5ECF6\", \"gridcolor\": \"white\", \"gridwidth\": 2, \"linecolor\": \"white\", \"showbackground\": true, \"ticks\": \"\", \"zerolinecolor\": \"white\"}}, \"shapedefaults\": {\"line\": {\"color\": \"#2a3f5f\"}}, \"ternary\": {\"aaxis\": {\"gridcolor\": \"white\", \"linecolor\": \"white\", \"ticks\": \"\"}, \"baxis\": {\"gridcolor\": \"white\", \"linecolor\": \"white\", \"ticks\": \"\"}, \"bgcolor\": \"#E5ECF6\", \"caxis\": {\"gridcolor\": \"white\", \"linecolor\": \"white\", \"ticks\": \"\"}}, \"title\": {\"x\": 0.05}, \"xaxis\": {\"automargin\": true, \"gridcolor\": \"white\", \"linecolor\": \"white\", \"ticks\": \"\", \"title\": {\"standoff\": 15}, \"zerolinecolor\": \"white\", \"zerolinewidth\": 2}, \"yaxis\": {\"automargin\": true, \"gridcolor\": \"white\", \"linecolor\": \"white\", \"ticks\": \"\", \"title\": {\"standoff\": 15}, \"zerolinecolor\": \"white\", \"zerolinewidth\": 2}}}, \"title\": {\"text\": \"most IPL team wins (2008-2019)\"}, \"xaxis\": {\"anchor\": \"y\", \"domain\": [0.0, 1.0], \"title\": {\"text\": \"teams\"}}, \"yaxis\": {\"anchor\": \"x\", \"domain\": [0.0, 1.0], \"title\": {\"text\": \"NO.OF Wins\"}}},                        {\"responsive\": true}                    ).then(function(){\n",
       "                            \n",
       "var gd = document.getElementById('a7ef73ff-e7fe-4946-9810-7b4c82fc7b72');\n",
       "var x = new MutationObserver(function (mutations, observer) {{\n",
       "        var display = window.getComputedStyle(gd).display;\n",
       "        if (!display || display === 'none') {{\n",
       "            console.log([gd, 'removed!']);\n",
       "            Plotly.purge(gd);\n",
       "            observer.disconnect();\n",
       "        }}\n",
       "}});\n",
       "\n",
       "// Listen for the removal of the full notebook cells\n",
       "var notebookContainer = gd.closest('#notebook-container');\n",
       "if (notebookContainer) {{\n",
       "    x.observe(notebookContainer, {childList: true});\n",
       "}}\n",
       "\n",
       "// Listen for the clearing of the current output cell\n",
       "var outputEl = gd.closest('.output');\n",
       "if (outputEl) {{\n",
       "    x.observe(outputEl, {childList: true});\n",
       "}}\n",
       "\n",
       "                        })                };                });            </script>        </div>"
      ]
     },
     "metadata": {},
     "output_type": "display_data"
    }
   ],
   "source": [
    "fig = px.bar(x = matches['winner'].value_counts().index,\n",
    "             y = matches['winner'].value_counts().values, \n",
    "             title = \"most IPL team wins (2008-2019)\",color =matches['winner'].value_counts().index )\n",
    "fig.update_xaxes(title = \"teams\")\n",
    "fig.update_yaxes(title = \"NO.OF Wins\")\n",
    "fig.show()"
   ]
  },
  {
   "cell_type": "code",
   "execution_count": 18,
   "metadata": {
    "execution": {
     "iopub.execute_input": "2021-03-09T15:32:32.744912Z",
     "iopub.status.busy": "2021-03-09T15:32:32.744300Z",
     "iopub.status.idle": "2021-03-09T15:32:32.862584Z",
     "shell.execute_reply": "2021-03-09T15:32:32.861999Z"
    },
    "papermill": {
     "duration": 0.164548,
     "end_time": "2021-03-09T15:32:32.862726",
     "exception": false,
     "start_time": "2021-03-09T15:32:32.698178",
     "status": "completed"
    },
    "tags": []
   },
   "outputs": [
    {
     "data": {
      "text/html": [
       "<div>                            <div id=\"e57cfb67-d5cd-4958-be50-d2e5b6c875c2\" class=\"plotly-graph-div\" style=\"height:525px; width:100%;\"></div>            <script type=\"text/javascript\">                require([\"plotly\"], function(Plotly) {                    window.PLOTLYENV=window.PLOTLYENV || {};                                    if (document.getElementById(\"e57cfb67-d5cd-4958-be50-d2e5b6c875c2\")) {                    Plotly.newPlot(                        \"e57cfb67-d5cd-4958-be50-d2e5b6c875c2\",                        [{\"alignmentgroup\": \"True\", \"hovertemplate\": \"color=Chennai Super Kings<br>x=%{x}<br>y=%{y}<extra></extra>\", \"legendgroup\": \"Chennai Super Kings\", \"marker\": {\"color\": \"#636efa\"}, \"name\": \"Chennai Super Kings\", \"offsetgroup\": \"Chennai Super Kings\", \"orientation\": \"v\", \"showlegend\": true, \"textposition\": \"auto\", \"type\": \"bar\", \"x\": [\"Chennai Super Kings\"], \"xaxis\": \"x\", \"y\": [57], \"yaxis\": \"y\"}, {\"alignmentgroup\": \"True\", \"hovertemplate\": \"color=Mumbai Indians<br>x=%{x}<br>y=%{y}<extra></extra>\", \"legendgroup\": \"Mumbai Indians\", \"marker\": {\"color\": \"#EF553B\"}, \"name\": \"Mumbai Indians\", \"offsetgroup\": \"Mumbai Indians\", \"orientation\": \"v\", \"showlegend\": true, \"textposition\": \"auto\", \"type\": \"bar\", \"x\": [\"Mumbai Indians\"], \"xaxis\": \"x\", \"y\": [56], \"yaxis\": \"y\"}, {\"alignmentgroup\": \"True\", \"hovertemplate\": \"color=Kolkata Knight Riders<br>x=%{x}<br>y=%{y}<extra></extra>\", \"legendgroup\": \"Kolkata Knight Riders\", \"marker\": {\"color\": \"#00cc96\"}, \"name\": \"Kolkata Knight Riders\", \"offsetgroup\": \"Kolkata Knight Riders\", \"orientation\": \"v\", \"showlegend\": true, \"textposition\": \"auto\", \"type\": \"bar\", \"x\": [\"Kolkata Knight Riders\"], \"xaxis\": \"x\", \"y\": [53], \"yaxis\": \"y\"}, {\"alignmentgroup\": \"True\", \"hovertemplate\": \"color=Rajasthan Royals<br>x=%{x}<br>y=%{y}<extra></extra>\", \"legendgroup\": \"Rajasthan Royals\", \"marker\": {\"color\": \"#ab63fa\"}, \"name\": \"Rajasthan Royals\", \"offsetgroup\": \"Rajasthan Royals\", \"orientation\": \"v\", \"showlegend\": true, \"textposition\": \"auto\", \"type\": \"bar\", \"x\": [\"Rajasthan Royals\"], \"xaxis\": \"x\", \"y\": [42], \"yaxis\": \"y\"}, {\"alignmentgroup\": \"True\", \"hovertemplate\": \"color=Royal Challengers Bangalore<br>x=%{x}<br>y=%{y}<extra></extra>\", \"legendgroup\": \"Royal Challengers Bangalore\", \"marker\": {\"color\": \"#FFA15A\"}, \"name\": \"Royal Challengers Bangalore\", \"offsetgroup\": \"Royal Challengers Bangalore\", \"orientation\": \"v\", \"showlegend\": true, \"textposition\": \"auto\", \"type\": \"bar\", \"x\": [\"Royal Challengers Bangalore\"], \"xaxis\": \"x\", \"y\": [39], \"yaxis\": \"y\"}, {\"alignmentgroup\": \"True\", \"hovertemplate\": \"color=Delhi Daredevils<br>x=%{x}<br>y=%{y}<extra></extra>\", \"legendgroup\": \"Delhi Daredevils\", \"marker\": {\"color\": \"#19d3f3\"}, \"name\": \"Delhi Daredevils\", \"offsetgroup\": \"Delhi Daredevils\", \"orientation\": \"v\", \"showlegend\": true, \"textposition\": \"auto\", \"type\": \"bar\", \"x\": [\"Delhi Daredevils\"], \"xaxis\": \"x\", \"y\": [35], \"yaxis\": \"y\"}, {\"alignmentgroup\": \"True\", \"hovertemplate\": \"color=Kings XI Punjab<br>x=%{x}<br>y=%{y}<extra></extra>\", \"legendgroup\": \"Kings XI Punjab\", \"marker\": {\"color\": \"#FF6692\"}, \"name\": \"Kings XI Punjab\", \"offsetgroup\": \"Kings XI Punjab\", \"orientation\": \"v\", \"showlegend\": true, \"textposition\": \"auto\", \"type\": \"bar\", \"x\": [\"Kings XI Punjab\"], \"xaxis\": \"x\", \"y\": [34], \"yaxis\": \"y\"}, {\"alignmentgroup\": \"True\", \"hovertemplate\": \"color=Sunrisers Hyderabad<br>x=%{x}<br>y=%{y}<extra></extra>\", \"legendgroup\": \"Sunrisers Hyderabad\", \"marker\": {\"color\": \"#B6E880\"}, \"name\": \"Sunrisers Hyderabad\", \"offsetgroup\": \"Sunrisers Hyderabad\", \"orientation\": \"v\", \"showlegend\": true, \"textposition\": \"auto\", \"type\": \"bar\", \"x\": [\"Sunrisers Hyderabad\"], \"xaxis\": \"x\", \"y\": [22], \"yaxis\": \"y\"}, {\"alignmentgroup\": \"True\", \"hovertemplate\": \"color=Deccan Chargers<br>x=%{x}<br>y=%{y}<extra></extra>\", \"legendgroup\": \"Deccan Chargers\", \"marker\": {\"color\": \"#FF97FF\"}, \"name\": \"Deccan Chargers\", \"offsetgroup\": \"Deccan Chargers\", \"orientation\": \"v\", \"showlegend\": true, \"textposition\": \"auto\", \"type\": \"bar\", \"x\": [\"Deccan Chargers\"], \"xaxis\": \"x\", \"y\": [19], \"yaxis\": \"y\"}, {\"alignmentgroup\": \"True\", \"hovertemplate\": \"color=Gujarat Lions<br>x=%{x}<br>y=%{y}<extra></extra>\", \"legendgroup\": \"Gujarat Lions\", \"marker\": {\"color\": \"#FECB52\"}, \"name\": \"Gujarat Lions\", \"offsetgroup\": \"Gujarat Lions\", \"orientation\": \"v\", \"showlegend\": true, \"textposition\": \"auto\", \"type\": \"bar\", \"x\": [\"Gujarat Lions\"], \"xaxis\": \"x\", \"y\": [10], \"yaxis\": \"y\"}, {\"alignmentgroup\": \"True\", \"hovertemplate\": \"color=Delhi Capitals<br>x=%{x}<br>y=%{y}<extra></extra>\", \"legendgroup\": \"Delhi Capitals\", \"marker\": {\"color\": \"#636efa\"}, \"name\": \"Delhi Capitals\", \"offsetgroup\": \"Delhi Capitals\", \"orientation\": \"v\", \"showlegend\": true, \"textposition\": \"auto\", \"type\": \"bar\", \"x\": [\"Delhi Capitals\"], \"xaxis\": \"x\", \"y\": [6], \"yaxis\": \"y\"}, {\"alignmentgroup\": \"True\", \"hovertemplate\": \"color=Rising Pune Supergiant<br>x=%{x}<br>y=%{y}<extra></extra>\", \"legendgroup\": \"Rising Pune Supergiant\", \"marker\": {\"color\": \"#EF553B\"}, \"name\": \"Rising Pune Supergiant\", \"offsetgroup\": \"Rising Pune Supergiant\", \"orientation\": \"v\", \"showlegend\": true, \"textposition\": \"auto\", \"type\": \"bar\", \"x\": [\"Rising Pune Supergiant\"], \"xaxis\": \"x\", \"y\": [5], \"yaxis\": \"y\"}, {\"alignmentgroup\": \"True\", \"hovertemplate\": \"color=Kochi Tuskers Kerala<br>x=%{x}<br>y=%{y}<extra></extra>\", \"legendgroup\": \"Kochi Tuskers Kerala\", \"marker\": {\"color\": \"#00cc96\"}, \"name\": \"Kochi Tuskers Kerala\", \"offsetgroup\": \"Kochi Tuskers Kerala\", \"orientation\": \"v\", \"showlegend\": true, \"textposition\": \"auto\", \"type\": \"bar\", \"x\": [\"Kochi Tuskers Kerala\"], \"xaxis\": \"x\", \"y\": [4], \"yaxis\": \"y\"}, {\"alignmentgroup\": \"True\", \"hovertemplate\": \"color=Rising Pune Supergiants<br>x=%{x}<br>y=%{y}<extra></extra>\", \"legendgroup\": \"Rising Pune Supergiants\", \"marker\": {\"color\": \"#ab63fa\"}, \"name\": \"Rising Pune Supergiants\", \"offsetgroup\": \"Rising Pune Supergiants\", \"orientation\": \"v\", \"showlegend\": true, \"textposition\": \"auto\", \"type\": \"bar\", \"x\": [\"Rising Pune Supergiants\"], \"xaxis\": \"x\", \"y\": [3], \"yaxis\": \"y\"}, {\"alignmentgroup\": \"True\", \"hovertemplate\": \"color=Pune Warriors<br>x=%{x}<br>y=%{y}<extra></extra>\", \"legendgroup\": \"Pune Warriors\", \"marker\": {\"color\": \"#FFA15A\"}, \"name\": \"Pune Warriors\", \"offsetgroup\": \"Pune Warriors\", \"orientation\": \"v\", \"showlegend\": true, \"textposition\": \"auto\", \"type\": \"bar\", \"x\": [\"Pune Warriors\"], \"xaxis\": \"x\", \"y\": [3], \"yaxis\": \"y\"}],                        {\"barmode\": \"relative\", \"legend\": {\"title\": {\"text\": \"color\"}, \"tracegroupgap\": 0}, \"template\": {\"data\": {\"bar\": [{\"error_x\": {\"color\": \"#2a3f5f\"}, \"error_y\": {\"color\": \"#2a3f5f\"}, \"marker\": {\"line\": {\"color\": \"#E5ECF6\", \"width\": 0.5}}, \"type\": \"bar\"}], \"barpolar\": [{\"marker\": {\"line\": {\"color\": \"#E5ECF6\", \"width\": 0.5}}, \"type\": \"barpolar\"}], \"carpet\": [{\"aaxis\": {\"endlinecolor\": \"#2a3f5f\", \"gridcolor\": \"white\", \"linecolor\": \"white\", \"minorgridcolor\": \"white\", \"startlinecolor\": \"#2a3f5f\"}, \"baxis\": {\"endlinecolor\": \"#2a3f5f\", \"gridcolor\": \"white\", \"linecolor\": \"white\", \"minorgridcolor\": \"white\", \"startlinecolor\": \"#2a3f5f\"}, \"type\": \"carpet\"}], \"choropleth\": [{\"colorbar\": {\"outlinewidth\": 0, \"ticks\": \"\"}, \"type\": \"choropleth\"}], \"contour\": [{\"colorbar\": {\"outlinewidth\": 0, \"ticks\": \"\"}, \"colorscale\": [[0.0, \"#0d0887\"], [0.1111111111111111, \"#46039f\"], [0.2222222222222222, \"#7201a8\"], [0.3333333333333333, \"#9c179e\"], [0.4444444444444444, \"#bd3786\"], [0.5555555555555556, \"#d8576b\"], [0.6666666666666666, \"#ed7953\"], [0.7777777777777778, \"#fb9f3a\"], [0.8888888888888888, \"#fdca26\"], [1.0, \"#f0f921\"]], \"type\": \"contour\"}], \"contourcarpet\": [{\"colorbar\": {\"outlinewidth\": 0, \"ticks\": \"\"}, \"type\": \"contourcarpet\"}], \"heatmap\": [{\"colorbar\": {\"outlinewidth\": 0, \"ticks\": \"\"}, \"colorscale\": [[0.0, \"#0d0887\"], [0.1111111111111111, \"#46039f\"], [0.2222222222222222, \"#7201a8\"], [0.3333333333333333, \"#9c179e\"], [0.4444444444444444, \"#bd3786\"], [0.5555555555555556, \"#d8576b\"], [0.6666666666666666, \"#ed7953\"], [0.7777777777777778, \"#fb9f3a\"], [0.8888888888888888, \"#fdca26\"], [1.0, \"#f0f921\"]], \"type\": \"heatmap\"}], \"heatmapgl\": [{\"colorbar\": {\"outlinewidth\": 0, \"ticks\": \"\"}, \"colorscale\": [[0.0, \"#0d0887\"], [0.1111111111111111, \"#46039f\"], [0.2222222222222222, \"#7201a8\"], [0.3333333333333333, \"#9c179e\"], [0.4444444444444444, \"#bd3786\"], [0.5555555555555556, \"#d8576b\"], [0.6666666666666666, \"#ed7953\"], [0.7777777777777778, \"#fb9f3a\"], [0.8888888888888888, \"#fdca26\"], [1.0, \"#f0f921\"]], \"type\": \"heatmapgl\"}], \"histogram\": [{\"marker\": {\"colorbar\": {\"outlinewidth\": 0, \"ticks\": \"\"}}, \"type\": \"histogram\"}], \"histogram2d\": [{\"colorbar\": {\"outlinewidth\": 0, \"ticks\": \"\"}, \"colorscale\": [[0.0, \"#0d0887\"], [0.1111111111111111, \"#46039f\"], [0.2222222222222222, \"#7201a8\"], [0.3333333333333333, \"#9c179e\"], [0.4444444444444444, \"#bd3786\"], [0.5555555555555556, \"#d8576b\"], [0.6666666666666666, \"#ed7953\"], [0.7777777777777778, \"#fb9f3a\"], [0.8888888888888888, \"#fdca26\"], [1.0, \"#f0f921\"]], \"type\": \"histogram2d\"}], \"histogram2dcontour\": [{\"colorbar\": {\"outlinewidth\": 0, \"ticks\": \"\"}, \"colorscale\": [[0.0, \"#0d0887\"], [0.1111111111111111, \"#46039f\"], [0.2222222222222222, \"#7201a8\"], [0.3333333333333333, \"#9c179e\"], [0.4444444444444444, \"#bd3786\"], [0.5555555555555556, \"#d8576b\"], [0.6666666666666666, \"#ed7953\"], [0.7777777777777778, \"#fb9f3a\"], [0.8888888888888888, \"#fdca26\"], [1.0, \"#f0f921\"]], \"type\": \"histogram2dcontour\"}], \"mesh3d\": [{\"colorbar\": {\"outlinewidth\": 0, \"ticks\": \"\"}, \"type\": \"mesh3d\"}], \"parcoords\": [{\"line\": {\"colorbar\": {\"outlinewidth\": 0, \"ticks\": \"\"}}, \"type\": \"parcoords\"}], \"pie\": [{\"automargin\": true, \"type\": \"pie\"}], \"scatter\": [{\"marker\": {\"colorbar\": {\"outlinewidth\": 0, \"ticks\": \"\"}}, \"type\": \"scatter\"}], \"scatter3d\": [{\"line\": {\"colorbar\": {\"outlinewidth\": 0, \"ticks\": \"\"}}, \"marker\": {\"colorbar\": {\"outlinewidth\": 0, \"ticks\": \"\"}}, \"type\": \"scatter3d\"}], \"scattercarpet\": [{\"marker\": {\"colorbar\": {\"outlinewidth\": 0, \"ticks\": \"\"}}, \"type\": \"scattercarpet\"}], \"scattergeo\": [{\"marker\": {\"colorbar\": {\"outlinewidth\": 0, \"ticks\": \"\"}}, \"type\": \"scattergeo\"}], \"scattergl\": [{\"marker\": {\"colorbar\": {\"outlinewidth\": 0, \"ticks\": \"\"}}, \"type\": \"scattergl\"}], \"scattermapbox\": [{\"marker\": {\"colorbar\": {\"outlinewidth\": 0, \"ticks\": \"\"}}, \"type\": \"scattermapbox\"}], \"scatterpolar\": [{\"marker\": {\"colorbar\": {\"outlinewidth\": 0, \"ticks\": \"\"}}, \"type\": \"scatterpolar\"}], \"scatterpolargl\": [{\"marker\": {\"colorbar\": {\"outlinewidth\": 0, \"ticks\": \"\"}}, \"type\": \"scatterpolargl\"}], \"scatterternary\": [{\"marker\": {\"colorbar\": {\"outlinewidth\": 0, \"ticks\": \"\"}}, \"type\": \"scatterternary\"}], \"surface\": [{\"colorbar\": {\"outlinewidth\": 0, \"ticks\": \"\"}, \"colorscale\": [[0.0, \"#0d0887\"], [0.1111111111111111, \"#46039f\"], [0.2222222222222222, \"#7201a8\"], [0.3333333333333333, \"#9c179e\"], [0.4444444444444444, \"#bd3786\"], [0.5555555555555556, \"#d8576b\"], [0.6666666666666666, \"#ed7953\"], [0.7777777777777778, \"#fb9f3a\"], [0.8888888888888888, \"#fdca26\"], [1.0, \"#f0f921\"]], \"type\": \"surface\"}], \"table\": [{\"cells\": {\"fill\": {\"color\": \"#EBF0F8\"}, \"line\": {\"color\": \"white\"}}, \"header\": {\"fill\": {\"color\": \"#C8D4E3\"}, \"line\": {\"color\": \"white\"}}, \"type\": \"table\"}]}, \"layout\": {\"annotationdefaults\": {\"arrowcolor\": \"#2a3f5f\", \"arrowhead\": 0, \"arrowwidth\": 1}, \"autotypenumbers\": \"strict\", \"coloraxis\": {\"colorbar\": {\"outlinewidth\": 0, \"ticks\": \"\"}}, \"colorscale\": {\"diverging\": [[0, \"#8e0152\"], [0.1, \"#c51b7d\"], [0.2, \"#de77ae\"], [0.3, \"#f1b6da\"], [0.4, \"#fde0ef\"], [0.5, \"#f7f7f7\"], [0.6, \"#e6f5d0\"], [0.7, \"#b8e186\"], [0.8, \"#7fbc41\"], [0.9, \"#4d9221\"], [1, \"#276419\"]], \"sequential\": [[0.0, \"#0d0887\"], [0.1111111111111111, \"#46039f\"], [0.2222222222222222, \"#7201a8\"], [0.3333333333333333, \"#9c179e\"], [0.4444444444444444, \"#bd3786\"], [0.5555555555555556, \"#d8576b\"], [0.6666666666666666, \"#ed7953\"], [0.7777777777777778, \"#fb9f3a\"], [0.8888888888888888, \"#fdca26\"], [1.0, \"#f0f921\"]], \"sequentialminus\": [[0.0, \"#0d0887\"], [0.1111111111111111, \"#46039f\"], [0.2222222222222222, \"#7201a8\"], [0.3333333333333333, \"#9c179e\"], [0.4444444444444444, \"#bd3786\"], [0.5555555555555556, \"#d8576b\"], [0.6666666666666666, \"#ed7953\"], [0.7777777777777778, \"#fb9f3a\"], [0.8888888888888888, \"#fdca26\"], [1.0, \"#f0f921\"]]}, \"colorway\": [\"#636efa\", \"#EF553B\", \"#00cc96\", \"#ab63fa\", \"#FFA15A\", \"#19d3f3\", \"#FF6692\", \"#B6E880\", \"#FF97FF\", \"#FECB52\"], \"font\": {\"color\": \"#2a3f5f\"}, \"geo\": {\"bgcolor\": \"white\", \"lakecolor\": \"white\", \"landcolor\": \"#E5ECF6\", \"showlakes\": true, \"showland\": true, \"subunitcolor\": \"white\"}, \"hoverlabel\": {\"align\": \"left\"}, \"hovermode\": \"closest\", \"mapbox\": {\"style\": \"light\"}, \"paper_bgcolor\": \"white\", \"plot_bgcolor\": \"#E5ECF6\", \"polar\": {\"angularaxis\": {\"gridcolor\": \"white\", \"linecolor\": \"white\", \"ticks\": \"\"}, \"bgcolor\": \"#E5ECF6\", \"radialaxis\": {\"gridcolor\": \"white\", \"linecolor\": \"white\", \"ticks\": \"\"}}, \"scene\": {\"xaxis\": {\"backgroundcolor\": \"#E5ECF6\", \"gridcolor\": \"white\", \"gridwidth\": 2, \"linecolor\": \"white\", \"showbackground\": true, \"ticks\": \"\", \"zerolinecolor\": \"white\"}, \"yaxis\": {\"backgroundcolor\": \"#E5ECF6\", \"gridcolor\": \"white\", \"gridwidth\": 2, \"linecolor\": \"white\", \"showbackground\": true, \"ticks\": \"\", \"zerolinecolor\": \"white\"}, \"zaxis\": {\"backgroundcolor\": \"#E5ECF6\", \"gridcolor\": \"white\", \"gridwidth\": 2, \"linecolor\": \"white\", \"showbackground\": true, \"ticks\": \"\", \"zerolinecolor\": \"white\"}}, \"shapedefaults\": {\"line\": {\"color\": \"#2a3f5f\"}}, \"ternary\": {\"aaxis\": {\"gridcolor\": \"white\", \"linecolor\": \"white\", \"ticks\": \"\"}, \"baxis\": {\"gridcolor\": \"white\", \"linecolor\": \"white\", \"ticks\": \"\"}, \"bgcolor\": \"#E5ECF6\", \"caxis\": {\"gridcolor\": \"white\", \"linecolor\": \"white\", \"ticks\": \"\"}}, \"title\": {\"x\": 0.05}, \"xaxis\": {\"automargin\": true, \"gridcolor\": \"white\", \"linecolor\": \"white\", \"ticks\": \"\", \"title\": {\"standoff\": 15}, \"zerolinecolor\": \"white\", \"zerolinewidth\": 2}, \"yaxis\": {\"automargin\": true, \"gridcolor\": \"white\", \"linecolor\": \"white\", \"ticks\": \"\", \"title\": {\"standoff\": 15}, \"zerolinecolor\": \"white\", \"zerolinewidth\": 2}}}, \"title\": {\"text\": \"most IPL team wins given they won toss (2008-2019)\"}, \"xaxis\": {\"anchor\": \"y\", \"domain\": [0.0, 1.0], \"title\": {\"text\": \"teams\"}}, \"yaxis\": {\"anchor\": \"x\", \"domain\": [0.0, 1.0], \"title\": {\"text\": \"NO.OF Wins\"}}},                        {\"responsive\": true}                    ).then(function(){\n",
       "                            \n",
       "var gd = document.getElementById('e57cfb67-d5cd-4958-be50-d2e5b6c875c2');\n",
       "var x = new MutationObserver(function (mutations, observer) {{\n",
       "        var display = window.getComputedStyle(gd).display;\n",
       "        if (!display || display === 'none') {{\n",
       "            console.log([gd, 'removed!']);\n",
       "            Plotly.purge(gd);\n",
       "            observer.disconnect();\n",
       "        }}\n",
       "}});\n",
       "\n",
       "// Listen for the removal of the full notebook cells\n",
       "var notebookContainer = gd.closest('#notebook-container');\n",
       "if (notebookContainer) {{\n",
       "    x.observe(notebookContainer, {childList: true});\n",
       "}}\n",
       "\n",
       "// Listen for the clearing of the current output cell\n",
       "var outputEl = gd.closest('.output');\n",
       "if (outputEl) {{\n",
       "    x.observe(outputEl, {childList: true});\n",
       "}}\n",
       "\n",
       "                        })                };                });            </script>        </div>"
      ]
     },
     "metadata": {},
     "output_type": "display_data"
    }
   ],
   "source": [
    "fig = px.bar(x = matches[matches['toss_winner'] == matches['winner']]['winner'].value_counts().index,\n",
    "             y = matches[matches['toss_winner'] == matches['winner']]['winner'].value_counts().values, \n",
    "             title = \"most IPL team wins given they won toss (2008-2019)\",\n",
    "             color =matches[matches['toss_winner'] == matches['winner']]['winner'].value_counts().index )\n",
    "fig.update_xaxes(title = \"teams\")\n",
    "fig.update_yaxes(title = \"NO.OF Wins\")\n",
    "fig.show()"
   ]
  },
  {
   "cell_type": "code",
   "execution_count": 19,
   "metadata": {
    "execution": {
     "iopub.execute_input": "2021-03-09T15:32:32.957464Z",
     "iopub.status.busy": "2021-03-09T15:32:32.956826Z",
     "iopub.status.idle": "2021-03-09T15:32:32.958868Z",
     "shell.execute_reply": "2021-03-09T15:32:32.959411Z"
    },
    "papermill": {
     "duration": 0.05225,
     "end_time": "2021-03-09T15:32:32.959590",
     "exception": false,
     "start_time": "2021-03-09T15:32:32.907340",
     "status": "completed"
    },
    "tags": []
   },
   "outputs": [],
   "source": [
    "toss_win_match_lose = matches[matches['toss_winner'] != matches['winner']]"
   ]
  },
  {
   "cell_type": "code",
   "execution_count": 20,
   "metadata": {
    "execution": {
     "iopub.execute_input": "2021-03-09T15:32:33.053030Z",
     "iopub.status.busy": "2021-03-09T15:32:33.052367Z",
     "iopub.status.idle": "2021-03-09T15:32:33.169448Z",
     "shell.execute_reply": "2021-03-09T15:32:33.169907Z"
    },
    "papermill": {
     "duration": 0.165678,
     "end_time": "2021-03-09T15:32:33.170105",
     "exception": false,
     "start_time": "2021-03-09T15:32:33.004427",
     "status": "completed"
    },
    "scrolled": false,
    "tags": []
   },
   "outputs": [
    {
     "data": {
      "text/html": [
       "<div>                            <div id=\"452d51db-802d-42c5-ba77-e9ff55c4905a\" class=\"plotly-graph-div\" style=\"height:525px; width:100%;\"></div>            <script type=\"text/javascript\">                require([\"plotly\"], function(Plotly) {                    window.PLOTLYENV=window.PLOTLYENV || {};                                    if (document.getElementById(\"452d51db-802d-42c5-ba77-e9ff55c4905a\")) {                    Plotly.newPlot(                        \"452d51db-802d-42c5-ba77-e9ff55c4905a\",                        [{\"alignmentgroup\": \"True\", \"hovertemplate\": \"color=Kings XI Punjab<br>x=%{x}<br>y=%{y}<extra></extra>\", \"legendgroup\": \"Kings XI Punjab\", \"marker\": {\"color\": \"#636efa\"}, \"name\": \"Kings XI Punjab\", \"offsetgroup\": \"Kings XI Punjab\", \"orientation\": \"v\", \"showlegend\": true, \"textposition\": \"auto\", \"type\": \"bar\", \"x\": [\"Kings XI Punjab\"], \"xaxis\": \"x\", \"y\": [46], \"yaxis\": \"y\"}, {\"alignmentgroup\": \"True\", \"hovertemplate\": \"color=Delhi Daredevils<br>x=%{x}<br>y=%{y}<extra></extra>\", \"legendgroup\": \"Delhi Daredevils\", \"marker\": {\"color\": \"#EF553B\"}, \"name\": \"Delhi Daredevils\", \"offsetgroup\": \"Delhi Daredevils\", \"orientation\": \"v\", \"showlegend\": true, \"textposition\": \"auto\", \"type\": \"bar\", \"x\": [\"Delhi Daredevils\"], \"xaxis\": \"x\", \"y\": [44], \"yaxis\": \"y\"}, {\"alignmentgroup\": \"True\", \"hovertemplate\": \"color=Mumbai Indians<br>x=%{x}<br>y=%{y}<extra></extra>\", \"legendgroup\": \"Mumbai Indians\", \"marker\": {\"color\": \"#00cc96\"}, \"name\": \"Mumbai Indians\", \"offsetgroup\": \"Mumbai Indians\", \"orientation\": \"v\", \"showlegend\": true, \"textposition\": \"auto\", \"type\": \"bar\", \"x\": [\"Mumbai Indians\"], \"xaxis\": \"x\", \"y\": [40], \"yaxis\": \"y\"}, {\"alignmentgroup\": \"True\", \"hovertemplate\": \"color=Royal Challengers Bangalore<br>x=%{x}<br>y=%{y}<extra></extra>\", \"legendgroup\": \"Royal Challengers Bangalore\", \"marker\": {\"color\": \"#ab63fa\"}, \"name\": \"Royal Challengers Bangalore\", \"offsetgroup\": \"Royal Challengers Bangalore\", \"orientation\": \"v\", \"showlegend\": true, \"textposition\": \"auto\", \"type\": \"bar\", \"x\": [\"Royal Challengers Bangalore\"], \"xaxis\": \"x\", \"y\": [39], \"yaxis\": \"y\"}, {\"alignmentgroup\": \"True\", \"hovertemplate\": \"color=Kolkata Knight Riders<br>x=%{x}<br>y=%{y}<extra></extra>\", \"legendgroup\": \"Kolkata Knight Riders\", \"marker\": {\"color\": \"#FFA15A\"}, \"name\": \"Kolkata Knight Riders\", \"offsetgroup\": \"Kolkata Knight Riders\", \"orientation\": \"v\", \"showlegend\": true, \"textposition\": \"auto\", \"type\": \"bar\", \"x\": [\"Kolkata Knight Riders\"], \"xaxis\": \"x\", \"y\": [38], \"yaxis\": \"y\"}, {\"alignmentgroup\": \"True\", \"hovertemplate\": \"color=Rajasthan Royals<br>x=%{x}<br>y=%{y}<extra></extra>\", \"legendgroup\": \"Rajasthan Royals\", \"marker\": {\"color\": \"#19d3f3\"}, \"name\": \"Rajasthan Royals\", \"offsetgroup\": \"Rajasthan Royals\", \"orientation\": \"v\", \"showlegend\": true, \"textposition\": \"auto\", \"type\": \"bar\", \"x\": [\"Rajasthan Royals\"], \"xaxis\": \"x\", \"y\": [35], \"yaxis\": \"y\"}, {\"alignmentgroup\": \"True\", \"hovertemplate\": \"color=Chennai Super Kings<br>x=%{x}<br>y=%{y}<extra></extra>\", \"legendgroup\": \"Chennai Super Kings\", \"marker\": {\"color\": \"#FF6692\"}, \"name\": \"Chennai Super Kings\", \"offsetgroup\": \"Chennai Super Kings\", \"orientation\": \"v\", \"showlegend\": true, \"textposition\": \"auto\", \"type\": \"bar\", \"x\": [\"Chennai Super Kings\"], \"xaxis\": \"x\", \"y\": [32], \"yaxis\": \"y\"}, {\"alignmentgroup\": \"True\", \"hovertemplate\": \"color=Deccan Chargers<br>x=%{x}<br>y=%{y}<extra></extra>\", \"legendgroup\": \"Deccan Chargers\", \"marker\": {\"color\": \"#B6E880\"}, \"name\": \"Deccan Chargers\", \"offsetgroup\": \"Deccan Chargers\", \"orientation\": \"v\", \"showlegend\": true, \"textposition\": \"auto\", \"type\": \"bar\", \"x\": [\"Deccan Chargers\"], \"xaxis\": \"x\", \"y\": [24], \"yaxis\": \"y\"}, {\"alignmentgroup\": \"True\", \"hovertemplate\": \"color=Sunrisers Hyderabad<br>x=%{x}<br>y=%{y}<extra></extra>\", \"legendgroup\": \"Sunrisers Hyderabad\", \"marker\": {\"color\": \"#FF97FF\"}, \"name\": \"Sunrisers Hyderabad\", \"offsetgroup\": \"Sunrisers Hyderabad\", \"orientation\": \"v\", \"showlegend\": true, \"textposition\": \"auto\", \"type\": \"bar\", \"x\": [\"Sunrisers Hyderabad\"], \"xaxis\": \"x\", \"y\": [23], \"yaxis\": \"y\"}, {\"alignmentgroup\": \"True\", \"hovertemplate\": \"color=Pune Warriors<br>x=%{x}<br>y=%{y}<extra></extra>\", \"legendgroup\": \"Pune Warriors\", \"marker\": {\"color\": \"#FECB52\"}, \"name\": \"Pune Warriors\", \"offsetgroup\": \"Pune Warriors\", \"orientation\": \"v\", \"showlegend\": true, \"textposition\": \"auto\", \"type\": \"bar\", \"x\": [\"Pune Warriors\"], \"xaxis\": \"x\", \"y\": [17], \"yaxis\": \"y\"}, {\"alignmentgroup\": \"True\", \"hovertemplate\": \"color=Gujarat Lions<br>x=%{x}<br>y=%{y}<extra></extra>\", \"legendgroup\": \"Gujarat Lions\", \"marker\": {\"color\": \"#636efa\"}, \"name\": \"Gujarat Lions\", \"offsetgroup\": \"Gujarat Lions\", \"orientation\": \"v\", \"showlegend\": true, \"textposition\": \"auto\", \"type\": \"bar\", \"x\": [\"Gujarat Lions\"], \"xaxis\": \"x\", \"y\": [5], \"yaxis\": \"y\"}, {\"alignmentgroup\": \"True\", \"hovertemplate\": \"color=Rising Pune Supergiants<br>x=%{x}<br>y=%{y}<extra></extra>\", \"legendgroup\": \"Rising Pune Supergiants\", \"marker\": {\"color\": \"#EF553B\"}, \"name\": \"Rising Pune Supergiants\", \"offsetgroup\": \"Rising Pune Supergiants\", \"orientation\": \"v\", \"showlegend\": true, \"textposition\": \"auto\", \"type\": \"bar\", \"x\": [\"Rising Pune Supergiants\"], \"xaxis\": \"x\", \"y\": [4], \"yaxis\": \"y\"}, {\"alignmentgroup\": \"True\", \"hovertemplate\": \"color=Kochi Tuskers Kerala<br>x=%{x}<br>y=%{y}<extra></extra>\", \"legendgroup\": \"Kochi Tuskers Kerala\", \"marker\": {\"color\": \"#00cc96\"}, \"name\": \"Kochi Tuskers Kerala\", \"offsetgroup\": \"Kochi Tuskers Kerala\", \"orientation\": \"v\", \"showlegend\": true, \"textposition\": \"auto\", \"type\": \"bar\", \"x\": [\"Kochi Tuskers Kerala\"], \"xaxis\": \"x\", \"y\": [4], \"yaxis\": \"y\"}, {\"alignmentgroup\": \"True\", \"hovertemplate\": \"color=Delhi Capitals<br>x=%{x}<br>y=%{y}<extra></extra>\", \"legendgroup\": \"Delhi Capitals\", \"marker\": {\"color\": \"#ab63fa\"}, \"name\": \"Delhi Capitals\", \"offsetgroup\": \"Delhi Capitals\", \"orientation\": \"v\", \"showlegend\": true, \"textposition\": \"auto\", \"type\": \"bar\", \"x\": [\"Delhi Capitals\"], \"xaxis\": \"x\", \"y\": [3], \"yaxis\": \"y\"}, {\"alignmentgroup\": \"True\", \"hovertemplate\": \"color=Rising Pune Supergiant<br>x=%{x}<br>y=%{y}<extra></extra>\", \"legendgroup\": \"Rising Pune Supergiant\", \"marker\": {\"color\": \"#FFA15A\"}, \"name\": \"Rising Pune Supergiant\", \"offsetgroup\": \"Rising Pune Supergiant\", \"orientation\": \"v\", \"showlegend\": true, \"textposition\": \"auto\", \"type\": \"bar\", \"x\": [\"Rising Pune Supergiant\"], \"xaxis\": \"x\", \"y\": [1], \"yaxis\": \"y\"}],                        {\"barmode\": \"relative\", \"legend\": {\"title\": {\"text\": \"color\"}, \"tracegroupgap\": 0}, \"template\": {\"data\": {\"bar\": [{\"error_x\": {\"color\": \"#2a3f5f\"}, \"error_y\": {\"color\": \"#2a3f5f\"}, \"marker\": {\"line\": {\"color\": \"#E5ECF6\", \"width\": 0.5}}, \"type\": \"bar\"}], \"barpolar\": [{\"marker\": {\"line\": {\"color\": \"#E5ECF6\", \"width\": 0.5}}, \"type\": \"barpolar\"}], \"carpet\": [{\"aaxis\": {\"endlinecolor\": \"#2a3f5f\", \"gridcolor\": \"white\", \"linecolor\": \"white\", \"minorgridcolor\": \"white\", \"startlinecolor\": \"#2a3f5f\"}, \"baxis\": {\"endlinecolor\": \"#2a3f5f\", \"gridcolor\": \"white\", \"linecolor\": \"white\", \"minorgridcolor\": \"white\", \"startlinecolor\": \"#2a3f5f\"}, \"type\": \"carpet\"}], \"choropleth\": [{\"colorbar\": {\"outlinewidth\": 0, \"ticks\": \"\"}, \"type\": \"choropleth\"}], \"contour\": [{\"colorbar\": {\"outlinewidth\": 0, \"ticks\": \"\"}, \"colorscale\": [[0.0, \"#0d0887\"], [0.1111111111111111, \"#46039f\"], [0.2222222222222222, \"#7201a8\"], [0.3333333333333333, \"#9c179e\"], [0.4444444444444444, \"#bd3786\"], [0.5555555555555556, \"#d8576b\"], [0.6666666666666666, \"#ed7953\"], [0.7777777777777778, \"#fb9f3a\"], [0.8888888888888888, \"#fdca26\"], [1.0, \"#f0f921\"]], \"type\": \"contour\"}], \"contourcarpet\": [{\"colorbar\": {\"outlinewidth\": 0, \"ticks\": \"\"}, \"type\": \"contourcarpet\"}], \"heatmap\": [{\"colorbar\": {\"outlinewidth\": 0, \"ticks\": \"\"}, \"colorscale\": [[0.0, \"#0d0887\"], [0.1111111111111111, \"#46039f\"], [0.2222222222222222, \"#7201a8\"], [0.3333333333333333, \"#9c179e\"], [0.4444444444444444, \"#bd3786\"], [0.5555555555555556, \"#d8576b\"], [0.6666666666666666, \"#ed7953\"], [0.7777777777777778, \"#fb9f3a\"], [0.8888888888888888, \"#fdca26\"], [1.0, \"#f0f921\"]], \"type\": \"heatmap\"}], \"heatmapgl\": [{\"colorbar\": {\"outlinewidth\": 0, \"ticks\": \"\"}, \"colorscale\": [[0.0, \"#0d0887\"], [0.1111111111111111, \"#46039f\"], [0.2222222222222222, \"#7201a8\"], [0.3333333333333333, \"#9c179e\"], [0.4444444444444444, \"#bd3786\"], [0.5555555555555556, \"#d8576b\"], [0.6666666666666666, \"#ed7953\"], [0.7777777777777778, \"#fb9f3a\"], [0.8888888888888888, \"#fdca26\"], [1.0, \"#f0f921\"]], \"type\": \"heatmapgl\"}], \"histogram\": [{\"marker\": {\"colorbar\": {\"outlinewidth\": 0, \"ticks\": \"\"}}, \"type\": \"histogram\"}], \"histogram2d\": [{\"colorbar\": {\"outlinewidth\": 0, \"ticks\": \"\"}, \"colorscale\": [[0.0, \"#0d0887\"], [0.1111111111111111, \"#46039f\"], [0.2222222222222222, \"#7201a8\"], [0.3333333333333333, \"#9c179e\"], [0.4444444444444444, \"#bd3786\"], [0.5555555555555556, \"#d8576b\"], [0.6666666666666666, \"#ed7953\"], [0.7777777777777778, \"#fb9f3a\"], [0.8888888888888888, \"#fdca26\"], [1.0, \"#f0f921\"]], \"type\": \"histogram2d\"}], \"histogram2dcontour\": [{\"colorbar\": {\"outlinewidth\": 0, \"ticks\": \"\"}, \"colorscale\": [[0.0, \"#0d0887\"], [0.1111111111111111, \"#46039f\"], [0.2222222222222222, \"#7201a8\"], [0.3333333333333333, \"#9c179e\"], [0.4444444444444444, \"#bd3786\"], [0.5555555555555556, \"#d8576b\"], [0.6666666666666666, \"#ed7953\"], [0.7777777777777778, \"#fb9f3a\"], [0.8888888888888888, \"#fdca26\"], [1.0, \"#f0f921\"]], \"type\": \"histogram2dcontour\"}], \"mesh3d\": [{\"colorbar\": {\"outlinewidth\": 0, \"ticks\": \"\"}, \"type\": \"mesh3d\"}], \"parcoords\": [{\"line\": {\"colorbar\": {\"outlinewidth\": 0, \"ticks\": \"\"}}, \"type\": \"parcoords\"}], \"pie\": [{\"automargin\": true, \"type\": \"pie\"}], \"scatter\": [{\"marker\": {\"colorbar\": {\"outlinewidth\": 0, \"ticks\": \"\"}}, \"type\": \"scatter\"}], \"scatter3d\": [{\"line\": {\"colorbar\": {\"outlinewidth\": 0, \"ticks\": \"\"}}, \"marker\": {\"colorbar\": {\"outlinewidth\": 0, \"ticks\": \"\"}}, \"type\": \"scatter3d\"}], \"scattercarpet\": [{\"marker\": {\"colorbar\": {\"outlinewidth\": 0, \"ticks\": \"\"}}, \"type\": \"scattercarpet\"}], \"scattergeo\": [{\"marker\": {\"colorbar\": {\"outlinewidth\": 0, \"ticks\": \"\"}}, \"type\": \"scattergeo\"}], \"scattergl\": [{\"marker\": {\"colorbar\": {\"outlinewidth\": 0, \"ticks\": \"\"}}, \"type\": \"scattergl\"}], \"scattermapbox\": [{\"marker\": {\"colorbar\": {\"outlinewidth\": 0, \"ticks\": \"\"}}, \"type\": \"scattermapbox\"}], \"scatterpolar\": [{\"marker\": {\"colorbar\": {\"outlinewidth\": 0, \"ticks\": \"\"}}, \"type\": \"scatterpolar\"}], \"scatterpolargl\": [{\"marker\": {\"colorbar\": {\"outlinewidth\": 0, \"ticks\": \"\"}}, \"type\": \"scatterpolargl\"}], \"scatterternary\": [{\"marker\": {\"colorbar\": {\"outlinewidth\": 0, \"ticks\": \"\"}}, \"type\": \"scatterternary\"}], \"surface\": [{\"colorbar\": {\"outlinewidth\": 0, \"ticks\": \"\"}, \"colorscale\": [[0.0, \"#0d0887\"], [0.1111111111111111, \"#46039f\"], [0.2222222222222222, \"#7201a8\"], [0.3333333333333333, \"#9c179e\"], [0.4444444444444444, \"#bd3786\"], [0.5555555555555556, \"#d8576b\"], [0.6666666666666666, \"#ed7953\"], [0.7777777777777778, \"#fb9f3a\"], [0.8888888888888888, \"#fdca26\"], [1.0, \"#f0f921\"]], \"type\": \"surface\"}], \"table\": [{\"cells\": {\"fill\": {\"color\": \"#EBF0F8\"}, \"line\": {\"color\": \"white\"}}, \"header\": {\"fill\": {\"color\": \"#C8D4E3\"}, \"line\": {\"color\": \"white\"}}, \"type\": \"table\"}]}, \"layout\": {\"annotationdefaults\": {\"arrowcolor\": \"#2a3f5f\", \"arrowhead\": 0, \"arrowwidth\": 1}, \"autotypenumbers\": \"strict\", \"coloraxis\": {\"colorbar\": {\"outlinewidth\": 0, \"ticks\": \"\"}}, \"colorscale\": {\"diverging\": [[0, \"#8e0152\"], [0.1, \"#c51b7d\"], [0.2, \"#de77ae\"], [0.3, \"#f1b6da\"], [0.4, \"#fde0ef\"], [0.5, \"#f7f7f7\"], [0.6, \"#e6f5d0\"], [0.7, \"#b8e186\"], [0.8, \"#7fbc41\"], [0.9, \"#4d9221\"], [1, \"#276419\"]], \"sequential\": [[0.0, \"#0d0887\"], [0.1111111111111111, \"#46039f\"], [0.2222222222222222, \"#7201a8\"], [0.3333333333333333, \"#9c179e\"], [0.4444444444444444, \"#bd3786\"], [0.5555555555555556, \"#d8576b\"], [0.6666666666666666, \"#ed7953\"], [0.7777777777777778, \"#fb9f3a\"], [0.8888888888888888, \"#fdca26\"], [1.0, \"#f0f921\"]], \"sequentialminus\": [[0.0, \"#0d0887\"], [0.1111111111111111, \"#46039f\"], [0.2222222222222222, \"#7201a8\"], [0.3333333333333333, \"#9c179e\"], [0.4444444444444444, \"#bd3786\"], [0.5555555555555556, \"#d8576b\"], [0.6666666666666666, \"#ed7953\"], [0.7777777777777778, \"#fb9f3a\"], [0.8888888888888888, \"#fdca26\"], [1.0, \"#f0f921\"]]}, \"colorway\": [\"#636efa\", \"#EF553B\", \"#00cc96\", \"#ab63fa\", \"#FFA15A\", \"#19d3f3\", \"#FF6692\", \"#B6E880\", \"#FF97FF\", \"#FECB52\"], \"font\": {\"color\": \"#2a3f5f\"}, \"geo\": {\"bgcolor\": \"white\", \"lakecolor\": \"white\", \"landcolor\": \"#E5ECF6\", \"showlakes\": true, \"showland\": true, \"subunitcolor\": \"white\"}, \"hoverlabel\": {\"align\": \"left\"}, \"hovermode\": \"closest\", \"mapbox\": {\"style\": \"light\"}, \"paper_bgcolor\": \"white\", \"plot_bgcolor\": \"#E5ECF6\", \"polar\": {\"angularaxis\": {\"gridcolor\": \"white\", \"linecolor\": \"white\", \"ticks\": \"\"}, \"bgcolor\": \"#E5ECF6\", \"radialaxis\": {\"gridcolor\": \"white\", \"linecolor\": \"white\", \"ticks\": \"\"}}, \"scene\": {\"xaxis\": {\"backgroundcolor\": \"#E5ECF6\", \"gridcolor\": \"white\", \"gridwidth\": 2, \"linecolor\": \"white\", \"showbackground\": true, \"ticks\": \"\", \"zerolinecolor\": \"white\"}, \"yaxis\": {\"backgroundcolor\": \"#E5ECF6\", \"gridcolor\": \"white\", \"gridwidth\": 2, \"linecolor\": \"white\", \"showbackground\": true, \"ticks\": \"\", \"zerolinecolor\": \"white\"}, \"zaxis\": {\"backgroundcolor\": \"#E5ECF6\", \"gridcolor\": \"white\", \"gridwidth\": 2, \"linecolor\": \"white\", \"showbackground\": true, \"ticks\": \"\", \"zerolinecolor\": \"white\"}}, \"shapedefaults\": {\"line\": {\"color\": \"#2a3f5f\"}}, \"ternary\": {\"aaxis\": {\"gridcolor\": \"white\", \"linecolor\": \"white\", \"ticks\": \"\"}, \"baxis\": {\"gridcolor\": \"white\", \"linecolor\": \"white\", \"ticks\": \"\"}, \"bgcolor\": \"#E5ECF6\", \"caxis\": {\"gridcolor\": \"white\", \"linecolor\": \"white\", \"ticks\": \"\"}}, \"title\": {\"x\": 0.05}, \"xaxis\": {\"automargin\": true, \"gridcolor\": \"white\", \"linecolor\": \"white\", \"ticks\": \"\", \"title\": {\"standoff\": 15}, \"zerolinecolor\": \"white\", \"zerolinewidth\": 2}, \"yaxis\": {\"automargin\": true, \"gridcolor\": \"white\", \"linecolor\": \"white\", \"ticks\": \"\", \"title\": {\"standoff\": 15}, \"zerolinecolor\": \"white\", \"zerolinewidth\": 2}}}, \"title\": {\"text\": \"most IPL team loss given they won toss (2008-2019)\"}, \"xaxis\": {\"anchor\": \"y\", \"domain\": [0.0, 1.0], \"title\": {\"text\": \"teams\"}}, \"yaxis\": {\"anchor\": \"x\", \"domain\": [0.0, 1.0], \"title\": {\"text\": \"NO.OF Wins\"}}},                        {\"responsive\": true}                    ).then(function(){\n",
       "                            \n",
       "var gd = document.getElementById('452d51db-802d-42c5-ba77-e9ff55c4905a');\n",
       "var x = new MutationObserver(function (mutations, observer) {{\n",
       "        var display = window.getComputedStyle(gd).display;\n",
       "        if (!display || display === 'none') {{\n",
       "            console.log([gd, 'removed!']);\n",
       "            Plotly.purge(gd);\n",
       "            observer.disconnect();\n",
       "        }}\n",
       "}});\n",
       "\n",
       "// Listen for the removal of the full notebook cells\n",
       "var notebookContainer = gd.closest('#notebook-container');\n",
       "if (notebookContainer) {{\n",
       "    x.observe(notebookContainer, {childList: true});\n",
       "}}\n",
       "\n",
       "// Listen for the clearing of the current output cell\n",
       "var outputEl = gd.closest('.output');\n",
       "if (outputEl) {{\n",
       "    x.observe(outputEl, {childList: true});\n",
       "}}\n",
       "\n",
       "                        })                };                });            </script>        </div>"
      ]
     },
     "metadata": {},
     "output_type": "display_data"
    }
   ],
   "source": [
    "fig = px.bar(x = toss_win_match_lose['toss_winner'].value_counts().index,\n",
    "             y = toss_win_match_lose['toss_winner'].value_counts().values, \n",
    "             title = \"most IPL team loss given they won toss (2008-2019)\",\n",
    "             color =toss_win_match_lose['toss_winner'].value_counts().index )\n",
    "fig.update_xaxes(title = \"teams\")\n",
    "fig.update_yaxes(title = \"NO.OF Wins\")\n",
    "fig.show()"
   ]
  },
  {
   "cell_type": "code",
   "execution_count": 21,
   "metadata": {
    "execution": {
     "iopub.execute_input": "2021-03-09T15:32:33.268227Z",
     "iopub.status.busy": "2021-03-09T15:32:33.267531Z",
     "iopub.status.idle": "2021-03-09T15:32:33.270832Z",
     "shell.execute_reply": "2021-03-09T15:32:33.270313Z"
    },
    "papermill": {
     "duration": 0.055505,
     "end_time": "2021-03-09T15:32:33.270969",
     "exception": false,
     "start_time": "2021-03-09T15:32:33.215464",
     "status": "completed"
    },
    "tags": []
   },
   "outputs": [],
   "source": [
    "toss_n_match_winners = matches[matches['toss_winner'] == matches['winner']]"
   ]
  },
  {
   "cell_type": "markdown",
   "metadata": {
    "papermill": {
     "duration": 0.044683,
     "end_time": "2021-03-09T15:32:33.361673",
     "exception": false,
     "start_time": "2021-03-09T15:32:33.316990",
     "status": "completed"
    },
    "tags": []
   },
   "source": [
    "#### hover over plots for values"
   ]
  },
  {
   "cell_type": "code",
   "execution_count": 22,
   "metadata": {
    "execution": {
     "iopub.execute_input": "2021-03-09T15:32:33.501534Z",
     "iopub.status.busy": "2021-03-09T15:32:33.496390Z",
     "iopub.status.idle": "2021-03-09T15:32:33.553757Z",
     "shell.execute_reply": "2021-03-09T15:32:33.553134Z"
    },
    "papermill": {
     "duration": 0.145973,
     "end_time": "2021-03-09T15:32:33.553897",
     "exception": false,
     "start_time": "2021-03-09T15:32:33.407924",
     "status": "completed"
    },
    "tags": []
   },
   "outputs": [
    {
     "data": {
      "text/html": [
       "<div>                            <div id=\"2be95b39-ac11-4560-803a-cf515a9f8858\" class=\"plotly-graph-div\" style=\"height:525px; width:100%;\"></div>            <script type=\"text/javascript\">                require([\"plotly\"], function(Plotly) {                    window.PLOTLYENV=window.PLOTLYENV || {};                                    if (document.getElementById(\"2be95b39-ac11-4560-803a-cf515a9f8858\")) {                    Plotly.newPlot(                        \"2be95b39-ac11-4560-803a-cf515a9f8858\",                        [{\"name\": \"Wins if toss is won and choose to Bat first (2008-2019)\", \"type\": \"bar\", \"x\": [\"Chennai Super Kings\", \"Mumbai Indians\", \"Kolkata Knight Riders\", \"Rajasthan Royals\", \"Deccan Chargers\", \"Delhi Daredevils\", \"Royal Challengers Bangalore\", \"Sunrisers Hyderabad\", \"Kings XI Punjab\", \"Pune Warriors\", \"Delhi Capitals\"], \"xaxis\": \"x\", \"y\": [30, 25, 15, 15, 11, 11, 8, 7, 6, 3, 1], \"yaxis\": \"y\"}, {\"name\": \"Wins if toss is won and choose to field first (2008-2019)\", \"type\": \"bar\", \"x\": [\"Kolkata Knight Riders\", \"Mumbai Indians\", \"Royal Challengers Bangalore\", \"Kings XI Punjab\", \"Chennai Super Kings\", \"Rajasthan Royals\", \"Delhi Daredevils\", \"Sunrisers Hyderabad\", \"Gujarat Lions\", \"Deccan Chargers\", \"Delhi Capitals\", \"Rising Pune Supergiant\", \"Kochi Tuskers Kerala\", \"Rising Pune Supergiants\"], \"xaxis\": \"x2\", \"y\": [38, 31, 31, 28, 27, 27, 24, 15, 10, 8, 5, 5, 4, 3], \"yaxis\": \"y2\"}, {\"name\": \"loss if toss is won and choose to bat first (2008-2019)\", \"type\": \"bar\", \"x\": [\"Kings XI Punjab\", \"Chennai Super Kings\", \"Mumbai Indians\", \"Rajasthan Royals\", \"Delhi Daredevils\", \"Kolkata Knight Riders\", \"Deccan Chargers\", \"Sunrisers Hyderabad\", \"Royal Challengers Bangalore\", \"Pune Warriors\", \"Rising Pune Supergiants\", \"Kochi Tuskers Kerala\", \"Delhi Capitals\", \"Gujarat Lions\"], \"xaxis\": \"x3\", \"y\": [20, 18, 18, 17, 17, 14, 13, 12, 11, 8, 3, 3, 1, 1], \"yaxis\": \"y3\"}, {\"name\": \"loss if toss is won and choose to field first (2008-2019)\", \"type\": \"bar\", \"x\": [\"Royal Challengers Bangalore\", \"Delhi Daredevils\", \"Kings XI Punjab\", \"Kolkata Knight Riders\", \"Mumbai Indians\", \"Rajasthan Royals\", \"Chennai Super Kings\", \"Deccan Chargers\", \"Sunrisers Hyderabad\", \"Pune Warriors\", \"Gujarat Lions\", \"Delhi Capitals\", \"Rising Pune Supergiant\", \"Rising Pune Supergiants\", \"Kochi Tuskers Kerala\"], \"xaxis\": \"x4\", \"y\": [28, 27, 26, 24, 22, 18, 14, 11, 11, 9, 4, 2, 1, 1, 1], \"yaxis\": \"y4\"}],                        {\"template\": {\"data\": {\"bar\": [{\"error_x\": {\"color\": \"#2a3f5f\"}, \"error_y\": {\"color\": \"#2a3f5f\"}, \"marker\": {\"line\": {\"color\": \"#E5ECF6\", \"width\": 0.5}}, \"type\": \"bar\"}], \"barpolar\": [{\"marker\": {\"line\": {\"color\": \"#E5ECF6\", \"width\": 0.5}}, \"type\": \"barpolar\"}], \"carpet\": [{\"aaxis\": {\"endlinecolor\": \"#2a3f5f\", \"gridcolor\": \"white\", \"linecolor\": \"white\", \"minorgridcolor\": \"white\", \"startlinecolor\": \"#2a3f5f\"}, \"baxis\": {\"endlinecolor\": \"#2a3f5f\", \"gridcolor\": \"white\", \"linecolor\": \"white\", \"minorgridcolor\": \"white\", \"startlinecolor\": \"#2a3f5f\"}, \"type\": \"carpet\"}], \"choropleth\": [{\"colorbar\": {\"outlinewidth\": 0, \"ticks\": \"\"}, \"type\": \"choropleth\"}], \"contour\": [{\"colorbar\": {\"outlinewidth\": 0, \"ticks\": \"\"}, \"colorscale\": [[0.0, \"#0d0887\"], [0.1111111111111111, \"#46039f\"], [0.2222222222222222, \"#7201a8\"], [0.3333333333333333, \"#9c179e\"], [0.4444444444444444, \"#bd3786\"], [0.5555555555555556, \"#d8576b\"], [0.6666666666666666, \"#ed7953\"], [0.7777777777777778, \"#fb9f3a\"], [0.8888888888888888, \"#fdca26\"], [1.0, \"#f0f921\"]], \"type\": \"contour\"}], \"contourcarpet\": [{\"colorbar\": {\"outlinewidth\": 0, \"ticks\": \"\"}, \"type\": \"contourcarpet\"}], \"heatmap\": [{\"colorbar\": {\"outlinewidth\": 0, \"ticks\": \"\"}, \"colorscale\": [[0.0, \"#0d0887\"], [0.1111111111111111, \"#46039f\"], [0.2222222222222222, \"#7201a8\"], [0.3333333333333333, \"#9c179e\"], [0.4444444444444444, \"#bd3786\"], [0.5555555555555556, \"#d8576b\"], [0.6666666666666666, \"#ed7953\"], [0.7777777777777778, \"#fb9f3a\"], [0.8888888888888888, \"#fdca26\"], [1.0, \"#f0f921\"]], \"type\": \"heatmap\"}], \"heatmapgl\": [{\"colorbar\": {\"outlinewidth\": 0, \"ticks\": \"\"}, \"colorscale\": [[0.0, \"#0d0887\"], [0.1111111111111111, \"#46039f\"], [0.2222222222222222, \"#7201a8\"], [0.3333333333333333, \"#9c179e\"], [0.4444444444444444, \"#bd3786\"], [0.5555555555555556, \"#d8576b\"], [0.6666666666666666, \"#ed7953\"], [0.7777777777777778, \"#fb9f3a\"], [0.8888888888888888, \"#fdca26\"], [1.0, \"#f0f921\"]], \"type\": \"heatmapgl\"}], \"histogram\": [{\"marker\": {\"colorbar\": {\"outlinewidth\": 0, \"ticks\": \"\"}}, \"type\": \"histogram\"}], \"histogram2d\": [{\"colorbar\": {\"outlinewidth\": 0, \"ticks\": \"\"}, \"colorscale\": [[0.0, \"#0d0887\"], [0.1111111111111111, \"#46039f\"], [0.2222222222222222, \"#7201a8\"], [0.3333333333333333, \"#9c179e\"], [0.4444444444444444, \"#bd3786\"], [0.5555555555555556, \"#d8576b\"], [0.6666666666666666, \"#ed7953\"], [0.7777777777777778, \"#fb9f3a\"], [0.8888888888888888, \"#fdca26\"], [1.0, \"#f0f921\"]], \"type\": \"histogram2d\"}], \"histogram2dcontour\": [{\"colorbar\": {\"outlinewidth\": 0, \"ticks\": \"\"}, \"colorscale\": [[0.0, \"#0d0887\"], [0.1111111111111111, \"#46039f\"], [0.2222222222222222, \"#7201a8\"], [0.3333333333333333, \"#9c179e\"], [0.4444444444444444, \"#bd3786\"], [0.5555555555555556, \"#d8576b\"], [0.6666666666666666, \"#ed7953\"], [0.7777777777777778, \"#fb9f3a\"], [0.8888888888888888, \"#fdca26\"], [1.0, \"#f0f921\"]], \"type\": \"histogram2dcontour\"}], \"mesh3d\": [{\"colorbar\": {\"outlinewidth\": 0, \"ticks\": \"\"}, \"type\": \"mesh3d\"}], \"parcoords\": [{\"line\": {\"colorbar\": {\"outlinewidth\": 0, \"ticks\": \"\"}}, \"type\": \"parcoords\"}], \"pie\": [{\"automargin\": true, \"type\": \"pie\"}], \"scatter\": [{\"marker\": {\"colorbar\": {\"outlinewidth\": 0, \"ticks\": \"\"}}, \"type\": \"scatter\"}], \"scatter3d\": [{\"line\": {\"colorbar\": {\"outlinewidth\": 0, \"ticks\": \"\"}}, \"marker\": {\"colorbar\": {\"outlinewidth\": 0, \"ticks\": \"\"}}, \"type\": \"scatter3d\"}], \"scattercarpet\": [{\"marker\": {\"colorbar\": {\"outlinewidth\": 0, \"ticks\": \"\"}}, \"type\": \"scattercarpet\"}], \"scattergeo\": [{\"marker\": {\"colorbar\": {\"outlinewidth\": 0, \"ticks\": \"\"}}, \"type\": \"scattergeo\"}], \"scattergl\": [{\"marker\": {\"colorbar\": {\"outlinewidth\": 0, \"ticks\": \"\"}}, \"type\": \"scattergl\"}], \"scattermapbox\": [{\"marker\": {\"colorbar\": {\"outlinewidth\": 0, \"ticks\": \"\"}}, \"type\": \"scattermapbox\"}], \"scatterpolar\": [{\"marker\": {\"colorbar\": {\"outlinewidth\": 0, \"ticks\": \"\"}}, \"type\": \"scatterpolar\"}], \"scatterpolargl\": [{\"marker\": {\"colorbar\": {\"outlinewidth\": 0, \"ticks\": \"\"}}, \"type\": \"scatterpolargl\"}], \"scatterternary\": [{\"marker\": {\"colorbar\": {\"outlinewidth\": 0, \"ticks\": \"\"}}, \"type\": \"scatterternary\"}], \"surface\": [{\"colorbar\": {\"outlinewidth\": 0, \"ticks\": \"\"}, \"colorscale\": [[0.0, \"#0d0887\"], [0.1111111111111111, \"#46039f\"], [0.2222222222222222, \"#7201a8\"], [0.3333333333333333, \"#9c179e\"], [0.4444444444444444, \"#bd3786\"], [0.5555555555555556, \"#d8576b\"], [0.6666666666666666, \"#ed7953\"], [0.7777777777777778, \"#fb9f3a\"], [0.8888888888888888, \"#fdca26\"], [1.0, \"#f0f921\"]], \"type\": \"surface\"}], \"table\": [{\"cells\": {\"fill\": {\"color\": \"#EBF0F8\"}, \"line\": {\"color\": \"white\"}}, \"header\": {\"fill\": {\"color\": \"#C8D4E3\"}, \"line\": {\"color\": \"white\"}}, \"type\": \"table\"}]}, \"layout\": {\"annotationdefaults\": {\"arrowcolor\": \"#2a3f5f\", \"arrowhead\": 0, \"arrowwidth\": 1}, \"autotypenumbers\": \"strict\", \"coloraxis\": {\"colorbar\": {\"outlinewidth\": 0, \"ticks\": \"\"}}, \"colorscale\": {\"diverging\": [[0, \"#8e0152\"], [0.1, \"#c51b7d\"], [0.2, \"#de77ae\"], [0.3, \"#f1b6da\"], [0.4, \"#fde0ef\"], [0.5, \"#f7f7f7\"], [0.6, \"#e6f5d0\"], [0.7, \"#b8e186\"], [0.8, \"#7fbc41\"], [0.9, \"#4d9221\"], [1, \"#276419\"]], \"sequential\": [[0.0, \"#0d0887\"], [0.1111111111111111, \"#46039f\"], [0.2222222222222222, \"#7201a8\"], [0.3333333333333333, \"#9c179e\"], [0.4444444444444444, \"#bd3786\"], [0.5555555555555556, \"#d8576b\"], [0.6666666666666666, \"#ed7953\"], [0.7777777777777778, \"#fb9f3a\"], [0.8888888888888888, \"#fdca26\"], [1.0, \"#f0f921\"]], \"sequentialminus\": [[0.0, \"#0d0887\"], [0.1111111111111111, \"#46039f\"], [0.2222222222222222, \"#7201a8\"], [0.3333333333333333, \"#9c179e\"], [0.4444444444444444, \"#bd3786\"], [0.5555555555555556, \"#d8576b\"], [0.6666666666666666, \"#ed7953\"], [0.7777777777777778, \"#fb9f3a\"], [0.8888888888888888, \"#fdca26\"], [1.0, \"#f0f921\"]]}, \"colorway\": [\"#636efa\", \"#EF553B\", \"#00cc96\", \"#ab63fa\", \"#FFA15A\", \"#19d3f3\", \"#FF6692\", \"#B6E880\", \"#FF97FF\", \"#FECB52\"], \"font\": {\"color\": \"#2a3f5f\"}, \"geo\": {\"bgcolor\": \"white\", \"lakecolor\": \"white\", \"landcolor\": \"#E5ECF6\", \"showlakes\": true, \"showland\": true, \"subunitcolor\": \"white\"}, \"hoverlabel\": {\"align\": \"left\"}, \"hovermode\": \"closest\", \"mapbox\": {\"style\": \"light\"}, \"paper_bgcolor\": \"white\", \"plot_bgcolor\": \"#E5ECF6\", \"polar\": {\"angularaxis\": {\"gridcolor\": \"white\", \"linecolor\": \"white\", \"ticks\": \"\"}, \"bgcolor\": \"#E5ECF6\", \"radialaxis\": {\"gridcolor\": \"white\", \"linecolor\": \"white\", \"ticks\": \"\"}}, \"scene\": {\"xaxis\": {\"backgroundcolor\": \"#E5ECF6\", \"gridcolor\": \"white\", \"gridwidth\": 2, \"linecolor\": \"white\", \"showbackground\": true, \"ticks\": \"\", \"zerolinecolor\": \"white\"}, \"yaxis\": {\"backgroundcolor\": \"#E5ECF6\", \"gridcolor\": \"white\", \"gridwidth\": 2, \"linecolor\": \"white\", \"showbackground\": true, \"ticks\": \"\", \"zerolinecolor\": \"white\"}, \"zaxis\": {\"backgroundcolor\": \"#E5ECF6\", \"gridcolor\": \"white\", \"gridwidth\": 2, \"linecolor\": \"white\", \"showbackground\": true, \"ticks\": \"\", \"zerolinecolor\": \"white\"}}, \"shapedefaults\": {\"line\": {\"color\": \"#2a3f5f\"}}, \"ternary\": {\"aaxis\": {\"gridcolor\": \"white\", \"linecolor\": \"white\", \"ticks\": \"\"}, \"baxis\": {\"gridcolor\": \"white\", \"linecolor\": \"white\", \"ticks\": \"\"}, \"bgcolor\": \"#E5ECF6\", \"caxis\": {\"gridcolor\": \"white\", \"linecolor\": \"white\", \"ticks\": \"\"}}, \"title\": {\"x\": 0.05}, \"xaxis\": {\"automargin\": true, \"gridcolor\": \"white\", \"linecolor\": \"white\", \"ticks\": \"\", \"title\": {\"standoff\": 15}, \"zerolinecolor\": \"white\", \"zerolinewidth\": 2}, \"yaxis\": {\"automargin\": true, \"gridcolor\": \"white\", \"linecolor\": \"white\", \"ticks\": \"\", \"title\": {\"standoff\": 15}, \"zerolinecolor\": \"white\", \"zerolinewidth\": 2}}}, \"title\": {\"text\": \"no.of wins for each team based on conditions\"}, \"xaxis\": {\"anchor\": \"y\", \"domain\": [0.0, 1.0], \"showticklabels\": false, \"title\": {\"text\": \"teams\"}}, \"xaxis2\": {\"anchor\": \"y2\", \"domain\": [0.0, 1.0], \"showticklabels\": false, \"title\": {\"text\": \"teams\"}}, \"xaxis3\": {\"anchor\": \"y3\", \"domain\": [0.0, 1.0], \"showticklabels\": false, \"title\": {\"text\": \"teams\"}}, \"xaxis4\": {\"anchor\": \"y4\", \"domain\": [0.0, 1.0], \"showticklabels\": false, \"title\": {\"text\": \"teams\"}}, \"yaxis\": {\"anchor\": \"x\", \"domain\": [0.778125, 0.9999999999999999], \"showticklabels\": false, \"title\": {\"text\": \"wins\"}}, \"yaxis2\": {\"anchor\": \"x2\", \"domain\": [0.51875, 0.740625], \"showticklabels\": false, \"title\": {\"text\": \"wins\"}}, \"yaxis3\": {\"anchor\": \"x3\", \"domain\": [0.259375, 0.48125000000000007], \"showticklabels\": false, \"title\": {\"text\": \"wins\"}}, \"yaxis4\": {\"anchor\": \"x4\", \"domain\": [0.0, 0.22187500000000002], \"showticklabels\": false, \"title\": {\"text\": \"wins\"}}},                        {\"responsive\": true}                    ).then(function(){\n",
       "                            \n",
       "var gd = document.getElementById('2be95b39-ac11-4560-803a-cf515a9f8858');\n",
       "var x = new MutationObserver(function (mutations, observer) {{\n",
       "        var display = window.getComputedStyle(gd).display;\n",
       "        if (!display || display === 'none') {{\n",
       "            console.log([gd, 'removed!']);\n",
       "            Plotly.purge(gd);\n",
       "            observer.disconnect();\n",
       "        }}\n",
       "}});\n",
       "\n",
       "// Listen for the removal of the full notebook cells\n",
       "var notebookContainer = gd.closest('#notebook-container');\n",
       "if (notebookContainer) {{\n",
       "    x.observe(notebookContainer, {childList: true});\n",
       "}}\n",
       "\n",
       "// Listen for the clearing of the current output cell\n",
       "var outputEl = gd.closest('.output');\n",
       "if (outputEl) {{\n",
       "    x.observe(outputEl, {childList: true});\n",
       "}}\n",
       "\n",
       "                        })                };                });            </script>        </div>"
      ]
     },
     "metadata": {},
     "output_type": "display_data"
    }
   ],
   "source": [
    "import plotly.graph_objects as go\n",
    "from plotly.subplots import make_subplots\n",
    "fig = make_subplots(rows =8 ,cols = 1,\n",
    "                   specs = [[{\"type\":\"bar\",\"rowspan\":2}],\n",
    "                            [None],\n",
    "                            [{\"type\":\"bar\",\"rowspan\":2}],\n",
    "                            [None],\n",
    "                            [{\"type\":\"bar\",\"rowspan\":2}],\n",
    "                            [None],\n",
    "                            [{\"type\":\"bar\",\"rowspan\":2}],\n",
    "                            [None]])\n",
    "fig.add_trace(go.Bar(x = toss_n_match_winners[toss_n_match_winners['toss_decision'] == \"bat\"]['winner'].value_counts().index,\n",
    "                    y =toss_n_match_winners[toss_n_match_winners['toss_decision'] == \"bat\"]['winner'].value_counts().values,\n",
    "                     name = \"Wins if toss is won and choose to Bat first (2008-2019)\"),row =1 ,col =1 )\n",
    "fig.add_trace(go.Bar(x = toss_n_match_winners[toss_n_match_winners['toss_decision'] == \"field\"]['winner'].value_counts().index,\n",
    "                    y =toss_n_match_winners[toss_n_match_winners['toss_decision'] == \"field\"]['winner'].value_counts().values,\n",
    "                     name = \"Wins if toss is won and choose to field first (2008-2019)\"),row =3 ,col =1, )\n",
    "fig.add_trace(go.Bar(x = toss_win_match_lose[toss_win_match_lose['toss_decision'] == \"bat\"]['toss_winner'].value_counts().index,\n",
    "                    y =toss_win_match_lose[toss_win_match_lose['toss_decision'] == \"bat\"]['toss_winner'].value_counts().values,\n",
    "                     name = \"loss if toss is won and choose to bat first (2008-2019)\"),row =5 ,col =1 )\n",
    "fig.add_trace(go.Bar(x = toss_win_match_lose[toss_win_match_lose['toss_decision'] == \"field\"]['toss_winner'].value_counts().index,\n",
    "                    y =toss_win_match_lose[toss_win_match_lose['toss_decision'] == \"field\"]['toss_winner'].value_counts().values,\n",
    "                     name = \"loss if toss is won and choose to field first (2008-2019)\"),row =7 ,col =1 )\n",
    "fig.update_xaxes(showticklabels=False)\n",
    "fig.update_yaxes(showticklabels=False,title = \"wins\")\n",
    "fig.update_layout(title = \"no.of wins for each team based on conditions\")\n",
    "fig.update_xaxes(title = \"teams\")\n",
    "fig.show()"
   ]
  },
  {
   "cell_type": "code",
   "execution_count": 23,
   "metadata": {
    "execution": {
     "iopub.execute_input": "2021-03-09T15:32:33.654883Z",
     "iopub.status.busy": "2021-03-09T15:32:33.653915Z",
     "iopub.status.idle": "2021-03-09T15:32:33.721052Z",
     "shell.execute_reply": "2021-03-09T15:32:33.721727Z"
    },
    "papermill": {
     "duration": 0.121126,
     "end_time": "2021-03-09T15:32:33.721900",
     "exception": false,
     "start_time": "2021-03-09T15:32:33.600774",
     "status": "completed"
    },
    "tags": []
   },
   "outputs": [
    {
     "data": {
      "text/html": [
       "<div>                            <div id=\"8c7ed267-4dca-443e-8b9c-57b7e584017a\" class=\"plotly-graph-div\" style=\"height:525px; width:100%;\"></div>            <script type=\"text/javascript\">                require([\"plotly\"], function(Plotly) {                    window.PLOTLYENV=window.PLOTLYENV || {};                                    if (document.getElementById(\"8c7ed267-4dca-443e-8b9c-57b7e584017a\")) {                    Plotly.newPlot(                        \"8c7ed267-4dca-443e-8b9c-57b7e584017a\",                        [{\"domain\": {\"x\": [0.0, 1.0], \"y\": [0.0, 1.0]}, \"hovertemplate\": \"label=%{label}<br>value=%{value}<extra></extra>\", \"labels\": [0, 1], \"legendgroup\": \"\", \"name\": \"\", \"showlegend\": true, \"type\": \"pie\", \"values\": [724, 19]}],                        {\"legend\": {\"tracegroupgap\": 0}, \"template\": {\"data\": {\"bar\": [{\"error_x\": {\"color\": \"#2a3f5f\"}, \"error_y\": {\"color\": \"#2a3f5f\"}, \"marker\": {\"line\": {\"color\": \"#E5ECF6\", \"width\": 0.5}}, \"type\": \"bar\"}], \"barpolar\": [{\"marker\": {\"line\": {\"color\": \"#E5ECF6\", \"width\": 0.5}}, \"type\": \"barpolar\"}], \"carpet\": [{\"aaxis\": {\"endlinecolor\": \"#2a3f5f\", \"gridcolor\": \"white\", \"linecolor\": \"white\", \"minorgridcolor\": \"white\", \"startlinecolor\": \"#2a3f5f\"}, \"baxis\": {\"endlinecolor\": \"#2a3f5f\", \"gridcolor\": \"white\", \"linecolor\": \"white\", \"minorgridcolor\": \"white\", \"startlinecolor\": \"#2a3f5f\"}, \"type\": \"carpet\"}], \"choropleth\": [{\"colorbar\": {\"outlinewidth\": 0, \"ticks\": \"\"}, \"type\": \"choropleth\"}], \"contour\": [{\"colorbar\": {\"outlinewidth\": 0, \"ticks\": \"\"}, \"colorscale\": [[0.0, \"#0d0887\"], [0.1111111111111111, \"#46039f\"], [0.2222222222222222, \"#7201a8\"], [0.3333333333333333, \"#9c179e\"], [0.4444444444444444, \"#bd3786\"], [0.5555555555555556, \"#d8576b\"], [0.6666666666666666, \"#ed7953\"], [0.7777777777777778, \"#fb9f3a\"], [0.8888888888888888, \"#fdca26\"], [1.0, \"#f0f921\"]], \"type\": \"contour\"}], \"contourcarpet\": [{\"colorbar\": {\"outlinewidth\": 0, \"ticks\": \"\"}, \"type\": \"contourcarpet\"}], \"heatmap\": [{\"colorbar\": {\"outlinewidth\": 0, \"ticks\": \"\"}, \"colorscale\": [[0.0, \"#0d0887\"], [0.1111111111111111, \"#46039f\"], [0.2222222222222222, \"#7201a8\"], [0.3333333333333333, \"#9c179e\"], [0.4444444444444444, \"#bd3786\"], [0.5555555555555556, \"#d8576b\"], [0.6666666666666666, \"#ed7953\"], [0.7777777777777778, \"#fb9f3a\"], [0.8888888888888888, \"#fdca26\"], [1.0, \"#f0f921\"]], \"type\": \"heatmap\"}], \"heatmapgl\": [{\"colorbar\": {\"outlinewidth\": 0, \"ticks\": \"\"}, \"colorscale\": [[0.0, \"#0d0887\"], [0.1111111111111111, \"#46039f\"], [0.2222222222222222, \"#7201a8\"], [0.3333333333333333, \"#9c179e\"], [0.4444444444444444, \"#bd3786\"], [0.5555555555555556, \"#d8576b\"], [0.6666666666666666, \"#ed7953\"], [0.7777777777777778, \"#fb9f3a\"], [0.8888888888888888, \"#fdca26\"], [1.0, \"#f0f921\"]], \"type\": \"heatmapgl\"}], \"histogram\": [{\"marker\": {\"colorbar\": {\"outlinewidth\": 0, \"ticks\": \"\"}}, \"type\": \"histogram\"}], \"histogram2d\": [{\"colorbar\": {\"outlinewidth\": 0, \"ticks\": \"\"}, \"colorscale\": [[0.0, \"#0d0887\"], [0.1111111111111111, \"#46039f\"], [0.2222222222222222, \"#7201a8\"], [0.3333333333333333, \"#9c179e\"], [0.4444444444444444, \"#bd3786\"], [0.5555555555555556, \"#d8576b\"], [0.6666666666666666, \"#ed7953\"], [0.7777777777777778, \"#fb9f3a\"], [0.8888888888888888, \"#fdca26\"], [1.0, \"#f0f921\"]], \"type\": \"histogram2d\"}], \"histogram2dcontour\": [{\"colorbar\": {\"outlinewidth\": 0, \"ticks\": \"\"}, \"colorscale\": [[0.0, \"#0d0887\"], [0.1111111111111111, \"#46039f\"], [0.2222222222222222, \"#7201a8\"], [0.3333333333333333, \"#9c179e\"], [0.4444444444444444, \"#bd3786\"], [0.5555555555555556, \"#d8576b\"], [0.6666666666666666, \"#ed7953\"], [0.7777777777777778, \"#fb9f3a\"], [0.8888888888888888, \"#fdca26\"], [1.0, \"#f0f921\"]], \"type\": \"histogram2dcontour\"}], \"mesh3d\": [{\"colorbar\": {\"outlinewidth\": 0, \"ticks\": \"\"}, \"type\": \"mesh3d\"}], \"parcoords\": [{\"line\": {\"colorbar\": {\"outlinewidth\": 0, \"ticks\": \"\"}}, \"type\": \"parcoords\"}], \"pie\": [{\"automargin\": true, \"type\": \"pie\"}], \"scatter\": [{\"marker\": {\"colorbar\": {\"outlinewidth\": 0, \"ticks\": \"\"}}, \"type\": \"scatter\"}], \"scatter3d\": [{\"line\": {\"colorbar\": {\"outlinewidth\": 0, \"ticks\": \"\"}}, \"marker\": {\"colorbar\": {\"outlinewidth\": 0, \"ticks\": \"\"}}, \"type\": \"scatter3d\"}], \"scattercarpet\": [{\"marker\": {\"colorbar\": {\"outlinewidth\": 0, \"ticks\": \"\"}}, \"type\": \"scattercarpet\"}], \"scattergeo\": [{\"marker\": {\"colorbar\": {\"outlinewidth\": 0, \"ticks\": \"\"}}, \"type\": \"scattergeo\"}], \"scattergl\": [{\"marker\": {\"colorbar\": {\"outlinewidth\": 0, \"ticks\": \"\"}}, \"type\": \"scattergl\"}], \"scattermapbox\": [{\"marker\": {\"colorbar\": {\"outlinewidth\": 0, \"ticks\": \"\"}}, \"type\": \"scattermapbox\"}], \"scatterpolar\": [{\"marker\": {\"colorbar\": {\"outlinewidth\": 0, \"ticks\": \"\"}}, \"type\": \"scatterpolar\"}], \"scatterpolargl\": [{\"marker\": {\"colorbar\": {\"outlinewidth\": 0, \"ticks\": \"\"}}, \"type\": \"scatterpolargl\"}], \"scatterternary\": [{\"marker\": {\"colorbar\": {\"outlinewidth\": 0, \"ticks\": \"\"}}, \"type\": \"scatterternary\"}], \"surface\": [{\"colorbar\": {\"outlinewidth\": 0, \"ticks\": \"\"}, \"colorscale\": [[0.0, \"#0d0887\"], [0.1111111111111111, \"#46039f\"], [0.2222222222222222, \"#7201a8\"], [0.3333333333333333, \"#9c179e\"], [0.4444444444444444, \"#bd3786\"], [0.5555555555555556, \"#d8576b\"], [0.6666666666666666, \"#ed7953\"], [0.7777777777777778, \"#fb9f3a\"], [0.8888888888888888, \"#fdca26\"], [1.0, \"#f0f921\"]], \"type\": \"surface\"}], \"table\": [{\"cells\": {\"fill\": {\"color\": \"#EBF0F8\"}, \"line\": {\"color\": \"white\"}}, \"header\": {\"fill\": {\"color\": \"#C8D4E3\"}, \"line\": {\"color\": \"white\"}}, \"type\": \"table\"}]}, \"layout\": {\"annotationdefaults\": {\"arrowcolor\": \"#2a3f5f\", \"arrowhead\": 0, \"arrowwidth\": 1}, \"autotypenumbers\": \"strict\", \"coloraxis\": {\"colorbar\": {\"outlinewidth\": 0, \"ticks\": \"\"}}, \"colorscale\": {\"diverging\": [[0, \"#8e0152\"], [0.1, \"#c51b7d\"], [0.2, \"#de77ae\"], [0.3, \"#f1b6da\"], [0.4, \"#fde0ef\"], [0.5, \"#f7f7f7\"], [0.6, \"#e6f5d0\"], [0.7, \"#b8e186\"], [0.8, \"#7fbc41\"], [0.9, \"#4d9221\"], [1, \"#276419\"]], \"sequential\": [[0.0, \"#0d0887\"], [0.1111111111111111, \"#46039f\"], [0.2222222222222222, \"#7201a8\"], [0.3333333333333333, \"#9c179e\"], [0.4444444444444444, \"#bd3786\"], [0.5555555555555556, \"#d8576b\"], [0.6666666666666666, \"#ed7953\"], [0.7777777777777778, \"#fb9f3a\"], [0.8888888888888888, \"#fdca26\"], [1.0, \"#f0f921\"]], \"sequentialminus\": [[0.0, \"#0d0887\"], [0.1111111111111111, \"#46039f\"], [0.2222222222222222, \"#7201a8\"], [0.3333333333333333, \"#9c179e\"], [0.4444444444444444, \"#bd3786\"], [0.5555555555555556, \"#d8576b\"], [0.6666666666666666, \"#ed7953\"], [0.7777777777777778, \"#fb9f3a\"], [0.8888888888888888, \"#fdca26\"], [1.0, \"#f0f921\"]]}, \"colorway\": [\"#636efa\", \"#EF553B\", \"#00cc96\", \"#ab63fa\", \"#FFA15A\", \"#19d3f3\", \"#FF6692\", \"#B6E880\", \"#FF97FF\", \"#FECB52\"], \"font\": {\"color\": \"#2a3f5f\"}, \"geo\": {\"bgcolor\": \"white\", \"lakecolor\": \"white\", \"landcolor\": \"#E5ECF6\", \"showlakes\": true, \"showland\": true, \"subunitcolor\": \"white\"}, \"hoverlabel\": {\"align\": \"left\"}, \"hovermode\": \"closest\", \"mapbox\": {\"style\": \"light\"}, \"paper_bgcolor\": \"white\", \"plot_bgcolor\": \"#E5ECF6\", \"polar\": {\"angularaxis\": {\"gridcolor\": \"white\", \"linecolor\": \"white\", \"ticks\": \"\"}, \"bgcolor\": \"#E5ECF6\", \"radialaxis\": {\"gridcolor\": \"white\", \"linecolor\": \"white\", \"ticks\": \"\"}}, \"scene\": {\"xaxis\": {\"backgroundcolor\": \"#E5ECF6\", \"gridcolor\": \"white\", \"gridwidth\": 2, \"linecolor\": \"white\", \"showbackground\": true, \"ticks\": \"\", \"zerolinecolor\": \"white\"}, \"yaxis\": {\"backgroundcolor\": \"#E5ECF6\", \"gridcolor\": \"white\", \"gridwidth\": 2, \"linecolor\": \"white\", \"showbackground\": true, \"ticks\": \"\", \"zerolinecolor\": \"white\"}, \"zaxis\": {\"backgroundcolor\": \"#E5ECF6\", \"gridcolor\": \"white\", \"gridwidth\": 2, \"linecolor\": \"white\", \"showbackground\": true, \"ticks\": \"\", \"zerolinecolor\": \"white\"}}, \"shapedefaults\": {\"line\": {\"color\": \"#2a3f5f\"}}, \"ternary\": {\"aaxis\": {\"gridcolor\": \"white\", \"linecolor\": \"white\", \"ticks\": \"\"}, \"baxis\": {\"gridcolor\": \"white\", \"linecolor\": \"white\", \"ticks\": \"\"}, \"bgcolor\": \"#E5ECF6\", \"caxis\": {\"gridcolor\": \"white\", \"linecolor\": \"white\", \"ticks\": \"\"}}, \"title\": {\"x\": 0.05}, \"xaxis\": {\"automargin\": true, \"gridcolor\": \"white\", \"linecolor\": \"white\", \"ticks\": \"\", \"title\": {\"standoff\": 15}, \"zerolinecolor\": \"white\", \"zerolinewidth\": 2}, \"yaxis\": {\"automargin\": true, \"gridcolor\": \"white\", \"linecolor\": \"white\", \"ticks\": \"\", \"title\": {\"standoff\": 15}, \"zerolinecolor\": \"white\", \"zerolinewidth\": 2}}}, \"title\": {\"text\": \"percertage of matches, DL is applied for\"}},                        {\"responsive\": true}                    ).then(function(){\n",
       "                            \n",
       "var gd = document.getElementById('8c7ed267-4dca-443e-8b9c-57b7e584017a');\n",
       "var x = new MutationObserver(function (mutations, observer) {{\n",
       "        var display = window.getComputedStyle(gd).display;\n",
       "        if (!display || display === 'none') {{\n",
       "            console.log([gd, 'removed!']);\n",
       "            Plotly.purge(gd);\n",
       "            observer.disconnect();\n",
       "        }}\n",
       "}});\n",
       "\n",
       "// Listen for the removal of the full notebook cells\n",
       "var notebookContainer = gd.closest('#notebook-container');\n",
       "if (notebookContainer) {{\n",
       "    x.observe(notebookContainer, {childList: true});\n",
       "}}\n",
       "\n",
       "// Listen for the clearing of the current output cell\n",
       "var outputEl = gd.closest('.output');\n",
       "if (outputEl) {{\n",
       "    x.observe(outputEl, {childList: true});\n",
       "}}\n",
       "\n",
       "                        })                };                });            </script>        </div>"
      ]
     },
     "metadata": {},
     "output_type": "display_data"
    }
   ],
   "source": [
    "fig = px.pie(names = matches['dl_applied'].value_counts().index, values= matches['dl_applied'].value_counts().values,title = \"percertage of matches, DL is applied for\")\n",
    "fig.show()"
   ]
  },
  {
   "cell_type": "code",
   "execution_count": 24,
   "metadata": {
    "execution": {
     "iopub.execute_input": "2021-03-09T15:32:33.820899Z",
     "iopub.status.busy": "2021-03-09T15:32:33.819925Z",
     "iopub.status.idle": "2021-03-09T15:32:34.479255Z",
     "shell.execute_reply": "2021-03-09T15:32:34.478679Z"
    },
    "papermill": {
     "duration": 0.710043,
     "end_time": "2021-03-09T15:32:34.479426",
     "exception": false,
     "start_time": "2021-03-09T15:32:33.769383",
     "status": "completed"
    },
    "tags": []
   },
   "outputs": [],
   "source": [
    "deliveries = pd.read_csv(\"../input/api-tokens/deliveries_ipl.csv\")"
   ]
  },
  {
   "cell_type": "markdown",
   "metadata": {
    "papermill": {
     "duration": 0.053898,
     "end_time": "2021-03-09T15:32:34.591965",
     "exception": false,
     "start_time": "2021-03-09T15:32:34.538067",
     "status": "completed"
    },
    "tags": []
   },
   "source": [
    "## -------------------------------------------season wide analysis (2017) ---------------------------------------"
   ]
  },
  {
   "cell_type": "code",
   "execution_count": 25,
   "metadata": {
    "execution": {
     "iopub.execute_input": "2021-03-09T15:32:34.726794Z",
     "iopub.status.busy": "2021-03-09T15:32:34.726020Z",
     "iopub.status.idle": "2021-03-09T15:32:34.731204Z",
     "shell.execute_reply": "2021-03-09T15:32:34.730618Z"
    },
    "papermill": {
     "duration": 0.085978,
     "end_time": "2021-03-09T15:32:34.731346",
     "exception": false,
     "start_time": "2021-03-09T15:32:34.645368",
     "status": "completed"
    },
    "scrolled": false,
    "tags": []
   },
   "outputs": [
    {
     "data": {
      "text/html": [
       "<div>\n",
       "<style scoped>\n",
       "    .dataframe tbody tr th:only-of-type {\n",
       "        vertical-align: middle;\n",
       "    }\n",
       "\n",
       "    .dataframe tbody tr th {\n",
       "        vertical-align: top;\n",
       "    }\n",
       "\n",
       "    .dataframe thead th {\n",
       "        text-align: right;\n",
       "    }\n",
       "</style>\n",
       "<table border=\"1\" class=\"dataframe\">\n",
       "  <thead>\n",
       "    <tr style=\"text-align: right;\">\n",
       "      <th></th>\n",
       "      <th>index</th>\n",
       "      <th>id</th>\n",
       "      <th>season</th>\n",
       "      <th>city</th>\n",
       "      <th>date</th>\n",
       "      <th>team1</th>\n",
       "      <th>team2</th>\n",
       "      <th>toss_winner</th>\n",
       "      <th>toss_decision</th>\n",
       "      <th>result</th>\n",
       "      <th>...</th>\n",
       "      <th>winner</th>\n",
       "      <th>win_by_runs</th>\n",
       "      <th>win_by_wickets</th>\n",
       "      <th>player_of_match</th>\n",
       "      <th>venue</th>\n",
       "      <th>umpire1</th>\n",
       "      <th>umpire2</th>\n",
       "      <th>lat</th>\n",
       "      <th>lng</th>\n",
       "      <th>city_counts</th>\n",
       "    </tr>\n",
       "  </thead>\n",
       "  <tbody>\n",
       "    <tr>\n",
       "      <th>0</th>\n",
       "      <td>0</td>\n",
       "      <td>1</td>\n",
       "      <td>2017</td>\n",
       "      <td>Hyderabad</td>\n",
       "      <td>2017-04-05</td>\n",
       "      <td>Sunrisers Hyderabad</td>\n",
       "      <td>Royal Challengers Bangalore</td>\n",
       "      <td>Royal Challengers Bangalore</td>\n",
       "      <td>field</td>\n",
       "      <td>normal</td>\n",
       "      <td>...</td>\n",
       "      <td>Sunrisers Hyderabad</td>\n",
       "      <td>35</td>\n",
       "      <td>0</td>\n",
       "      <td>Yuvraj Singh</td>\n",
       "      <td>Rajiv Gandhi International Stadium, Uppal</td>\n",
       "      <td>AY Dandekar</td>\n",
       "      <td>NJ Llong</td>\n",
       "      <td>17.360589</td>\n",
       "      <td>78.474061</td>\n",
       "      <td>64</td>\n",
       "    </tr>\n",
       "    <tr>\n",
       "      <th>1</th>\n",
       "      <td>1</td>\n",
       "      <td>2</td>\n",
       "      <td>2017</td>\n",
       "      <td>Pune</td>\n",
       "      <td>2017-04-06</td>\n",
       "      <td>Mumbai Indians</td>\n",
       "      <td>Rising Pune Supergiant</td>\n",
       "      <td>Rising Pune Supergiant</td>\n",
       "      <td>field</td>\n",
       "      <td>normal</td>\n",
       "      <td>...</td>\n",
       "      <td>Rising Pune Supergiant</td>\n",
       "      <td>0</td>\n",
       "      <td>7</td>\n",
       "      <td>SPD Smith</td>\n",
       "      <td>Maharashtra Cricket Association Stadium</td>\n",
       "      <td>A Nand Kishore</td>\n",
       "      <td>S Ravi</td>\n",
       "      <td>18.521428</td>\n",
       "      <td>73.854454</td>\n",
       "      <td>38</td>\n",
       "    </tr>\n",
       "    <tr>\n",
       "      <th>2</th>\n",
       "      <td>2</td>\n",
       "      <td>3</td>\n",
       "      <td>2017</td>\n",
       "      <td>Rajkot</td>\n",
       "      <td>2017-04-07</td>\n",
       "      <td>Gujarat Lions</td>\n",
       "      <td>Kolkata Knight Riders</td>\n",
       "      <td>Kolkata Knight Riders</td>\n",
       "      <td>field</td>\n",
       "      <td>normal</td>\n",
       "      <td>...</td>\n",
       "      <td>Kolkata Knight Riders</td>\n",
       "      <td>0</td>\n",
       "      <td>10</td>\n",
       "      <td>CA Lynn</td>\n",
       "      <td>Saurashtra Cricket Association Stadium</td>\n",
       "      <td>Nitin Menon</td>\n",
       "      <td>CK Nandan</td>\n",
       "      <td>22.305199</td>\n",
       "      <td>70.802834</td>\n",
       "      <td>10</td>\n",
       "    </tr>\n",
       "    <tr>\n",
       "      <th>3</th>\n",
       "      <td>3</td>\n",
       "      <td>4</td>\n",
       "      <td>2017</td>\n",
       "      <td>Indore</td>\n",
       "      <td>2017-04-08</td>\n",
       "      <td>Rising Pune Supergiant</td>\n",
       "      <td>Kings XI Punjab</td>\n",
       "      <td>Kings XI Punjab</td>\n",
       "      <td>field</td>\n",
       "      <td>normal</td>\n",
       "      <td>...</td>\n",
       "      <td>Kings XI Punjab</td>\n",
       "      <td>0</td>\n",
       "      <td>6</td>\n",
       "      <td>GJ Maxwell</td>\n",
       "      <td>Holkar Cricket Stadium</td>\n",
       "      <td>AK Chaudhary</td>\n",
       "      <td>C Shamshuddin</td>\n",
       "      <td>22.720362</td>\n",
       "      <td>75.868200</td>\n",
       "      <td>9</td>\n",
       "    </tr>\n",
       "    <tr>\n",
       "      <th>4</th>\n",
       "      <td>5</td>\n",
       "      <td>6</td>\n",
       "      <td>2017</td>\n",
       "      <td>Hyderabad</td>\n",
       "      <td>2017-04-09</td>\n",
       "      <td>Gujarat Lions</td>\n",
       "      <td>Sunrisers Hyderabad</td>\n",
       "      <td>Sunrisers Hyderabad</td>\n",
       "      <td>field</td>\n",
       "      <td>normal</td>\n",
       "      <td>...</td>\n",
       "      <td>Sunrisers Hyderabad</td>\n",
       "      <td>0</td>\n",
       "      <td>9</td>\n",
       "      <td>Rashid Khan</td>\n",
       "      <td>Rajiv Gandhi International Stadium, Uppal</td>\n",
       "      <td>A Deshmukh</td>\n",
       "      <td>NJ Llong</td>\n",
       "      <td>17.360589</td>\n",
       "      <td>78.474061</td>\n",
       "      <td>64</td>\n",
       "    </tr>\n",
       "  </tbody>\n",
       "</table>\n",
       "<p>5 rows × 21 columns</p>\n",
       "</div>"
      ],
      "text/plain": [
       "   index  id  season       city        date                   team1  \\\n",
       "0      0   1    2017  Hyderabad  2017-04-05     Sunrisers Hyderabad   \n",
       "1      1   2    2017       Pune  2017-04-06          Mumbai Indians   \n",
       "2      2   3    2017     Rajkot  2017-04-07           Gujarat Lions   \n",
       "3      3   4    2017     Indore  2017-04-08  Rising Pune Supergiant   \n",
       "4      5   6    2017  Hyderabad  2017-04-09           Gujarat Lions   \n",
       "\n",
       "                         team2                  toss_winner toss_decision  \\\n",
       "0  Royal Challengers Bangalore  Royal Challengers Bangalore         field   \n",
       "1       Rising Pune Supergiant       Rising Pune Supergiant         field   \n",
       "2        Kolkata Knight Riders        Kolkata Knight Riders         field   \n",
       "3              Kings XI Punjab              Kings XI Punjab         field   \n",
       "4          Sunrisers Hyderabad          Sunrisers Hyderabad         field   \n",
       "\n",
       "   result  ...                  winner win_by_runs  win_by_wickets  \\\n",
       "0  normal  ...     Sunrisers Hyderabad          35               0   \n",
       "1  normal  ...  Rising Pune Supergiant           0               7   \n",
       "2  normal  ...   Kolkata Knight Riders           0              10   \n",
       "3  normal  ...         Kings XI Punjab           0               6   \n",
       "4  normal  ...     Sunrisers Hyderabad           0               9   \n",
       "\n",
       "   player_of_match                                      venue         umpire1  \\\n",
       "0     Yuvraj Singh  Rajiv Gandhi International Stadium, Uppal     AY Dandekar   \n",
       "1        SPD Smith    Maharashtra Cricket Association Stadium  A Nand Kishore   \n",
       "2          CA Lynn     Saurashtra Cricket Association Stadium     Nitin Menon   \n",
       "3       GJ Maxwell                     Holkar Cricket Stadium    AK Chaudhary   \n",
       "4      Rashid Khan  Rajiv Gandhi International Stadium, Uppal      A Deshmukh   \n",
       "\n",
       "         umpire2        lat        lng  city_counts  \n",
       "0       NJ Llong  17.360589  78.474061           64  \n",
       "1         S Ravi  18.521428  73.854454           38  \n",
       "2      CK Nandan  22.305199  70.802834           10  \n",
       "3  C Shamshuddin  22.720362  75.868200            9  \n",
       "4       NJ Llong  17.360589  78.474061           64  \n",
       "\n",
       "[5 rows x 21 columns]"
      ]
     },
     "execution_count": 25,
     "metadata": {},
     "output_type": "execute_result"
    }
   ],
   "source": [
    "matches_2017 = matches[matches['season'] == 2017]\n",
    "matches_2017.head()"
   ]
  },
  {
   "cell_type": "code",
   "execution_count": 26,
   "metadata": {
    "execution": {
     "iopub.execute_input": "2021-03-09T15:32:34.834464Z",
     "iopub.status.busy": "2021-03-09T15:32:34.833782Z",
     "iopub.status.idle": "2021-03-09T15:32:34.862216Z",
     "shell.execute_reply": "2021-03-09T15:32:34.861620Z"
    },
    "papermill": {
     "duration": 0.082784,
     "end_time": "2021-03-09T15:32:34.862362",
     "exception": false,
     "start_time": "2021-03-09T15:32:34.779578",
     "status": "completed"
    },
    "scrolled": false,
    "tags": []
   },
   "outputs": [
    {
     "data": {
      "text/html": [
       "<div>\n",
       "<style scoped>\n",
       "    .dataframe tbody tr th:only-of-type {\n",
       "        vertical-align: middle;\n",
       "    }\n",
       "\n",
       "    .dataframe tbody tr th {\n",
       "        vertical-align: top;\n",
       "    }\n",
       "\n",
       "    .dataframe thead th {\n",
       "        text-align: right;\n",
       "    }\n",
       "</style>\n",
       "<table border=\"1\" class=\"dataframe\">\n",
       "  <thead>\n",
       "    <tr style=\"text-align: right;\">\n",
       "      <th></th>\n",
       "      <th>match_id</th>\n",
       "      <th>inning</th>\n",
       "      <th>batting_team</th>\n",
       "      <th>bowling_team</th>\n",
       "      <th>over</th>\n",
       "      <th>ball</th>\n",
       "      <th>batsman</th>\n",
       "      <th>non_striker</th>\n",
       "      <th>bowler</th>\n",
       "      <th>is_super_over</th>\n",
       "      <th>...</th>\n",
       "      <th>bye_runs</th>\n",
       "      <th>legbye_runs</th>\n",
       "      <th>noball_runs</th>\n",
       "      <th>penalty_runs</th>\n",
       "      <th>batsman_runs</th>\n",
       "      <th>extra_runs</th>\n",
       "      <th>total_runs</th>\n",
       "      <th>player_dismissed</th>\n",
       "      <th>dismissal_kind</th>\n",
       "      <th>fielder</th>\n",
       "    </tr>\n",
       "  </thead>\n",
       "  <tbody>\n",
       "    <tr>\n",
       "      <th>0</th>\n",
       "      <td>1</td>\n",
       "      <td>1</td>\n",
       "      <td>Sunrisers Hyderabad</td>\n",
       "      <td>Royal Challengers Bangalore</td>\n",
       "      <td>1</td>\n",
       "      <td>1</td>\n",
       "      <td>DA Warner</td>\n",
       "      <td>S Dhawan</td>\n",
       "      <td>TS Mills</td>\n",
       "      <td>0</td>\n",
       "      <td>...</td>\n",
       "      <td>0</td>\n",
       "      <td>0</td>\n",
       "      <td>0</td>\n",
       "      <td>0</td>\n",
       "      <td>0</td>\n",
       "      <td>0</td>\n",
       "      <td>0</td>\n",
       "      <td>NaN</td>\n",
       "      <td>NaN</td>\n",
       "      <td>NaN</td>\n",
       "    </tr>\n",
       "    <tr>\n",
       "      <th>1</th>\n",
       "      <td>1</td>\n",
       "      <td>1</td>\n",
       "      <td>Sunrisers Hyderabad</td>\n",
       "      <td>Royal Challengers Bangalore</td>\n",
       "      <td>1</td>\n",
       "      <td>2</td>\n",
       "      <td>DA Warner</td>\n",
       "      <td>S Dhawan</td>\n",
       "      <td>TS Mills</td>\n",
       "      <td>0</td>\n",
       "      <td>...</td>\n",
       "      <td>0</td>\n",
       "      <td>0</td>\n",
       "      <td>0</td>\n",
       "      <td>0</td>\n",
       "      <td>0</td>\n",
       "      <td>0</td>\n",
       "      <td>0</td>\n",
       "      <td>NaN</td>\n",
       "      <td>NaN</td>\n",
       "      <td>NaN</td>\n",
       "    </tr>\n",
       "    <tr>\n",
       "      <th>2</th>\n",
       "      <td>1</td>\n",
       "      <td>1</td>\n",
       "      <td>Sunrisers Hyderabad</td>\n",
       "      <td>Royal Challengers Bangalore</td>\n",
       "      <td>1</td>\n",
       "      <td>3</td>\n",
       "      <td>DA Warner</td>\n",
       "      <td>S Dhawan</td>\n",
       "      <td>TS Mills</td>\n",
       "      <td>0</td>\n",
       "      <td>...</td>\n",
       "      <td>0</td>\n",
       "      <td>0</td>\n",
       "      <td>0</td>\n",
       "      <td>0</td>\n",
       "      <td>4</td>\n",
       "      <td>0</td>\n",
       "      <td>4</td>\n",
       "      <td>NaN</td>\n",
       "      <td>NaN</td>\n",
       "      <td>NaN</td>\n",
       "    </tr>\n",
       "    <tr>\n",
       "      <th>3</th>\n",
       "      <td>1</td>\n",
       "      <td>1</td>\n",
       "      <td>Sunrisers Hyderabad</td>\n",
       "      <td>Royal Challengers Bangalore</td>\n",
       "      <td>1</td>\n",
       "      <td>4</td>\n",
       "      <td>DA Warner</td>\n",
       "      <td>S Dhawan</td>\n",
       "      <td>TS Mills</td>\n",
       "      <td>0</td>\n",
       "      <td>...</td>\n",
       "      <td>0</td>\n",
       "      <td>0</td>\n",
       "      <td>0</td>\n",
       "      <td>0</td>\n",
       "      <td>0</td>\n",
       "      <td>0</td>\n",
       "      <td>0</td>\n",
       "      <td>NaN</td>\n",
       "      <td>NaN</td>\n",
       "      <td>NaN</td>\n",
       "    </tr>\n",
       "    <tr>\n",
       "      <th>4</th>\n",
       "      <td>1</td>\n",
       "      <td>1</td>\n",
       "      <td>Sunrisers Hyderabad</td>\n",
       "      <td>Royal Challengers Bangalore</td>\n",
       "      <td>1</td>\n",
       "      <td>5</td>\n",
       "      <td>DA Warner</td>\n",
       "      <td>S Dhawan</td>\n",
       "      <td>TS Mills</td>\n",
       "      <td>0</td>\n",
       "      <td>...</td>\n",
       "      <td>0</td>\n",
       "      <td>0</td>\n",
       "      <td>0</td>\n",
       "      <td>0</td>\n",
       "      <td>0</td>\n",
       "      <td>2</td>\n",
       "      <td>2</td>\n",
       "      <td>NaN</td>\n",
       "      <td>NaN</td>\n",
       "      <td>NaN</td>\n",
       "    </tr>\n",
       "  </tbody>\n",
       "</table>\n",
       "<p>5 rows × 21 columns</p>\n",
       "</div>"
      ],
      "text/plain": [
       "   match_id  inning         batting_team                 bowling_team  over  \\\n",
       "0         1       1  Sunrisers Hyderabad  Royal Challengers Bangalore     1   \n",
       "1         1       1  Sunrisers Hyderabad  Royal Challengers Bangalore     1   \n",
       "2         1       1  Sunrisers Hyderabad  Royal Challengers Bangalore     1   \n",
       "3         1       1  Sunrisers Hyderabad  Royal Challengers Bangalore     1   \n",
       "4         1       1  Sunrisers Hyderabad  Royal Challengers Bangalore     1   \n",
       "\n",
       "   ball    batsman non_striker    bowler  is_super_over  ...  bye_runs  \\\n",
       "0     1  DA Warner    S Dhawan  TS Mills              0  ...         0   \n",
       "1     2  DA Warner    S Dhawan  TS Mills              0  ...         0   \n",
       "2     3  DA Warner    S Dhawan  TS Mills              0  ...         0   \n",
       "3     4  DA Warner    S Dhawan  TS Mills              0  ...         0   \n",
       "4     5  DA Warner    S Dhawan  TS Mills              0  ...         0   \n",
       "\n",
       "   legbye_runs  noball_runs  penalty_runs  batsman_runs  extra_runs  \\\n",
       "0            0            0             0             0           0   \n",
       "1            0            0             0             0           0   \n",
       "2            0            0             0             4           0   \n",
       "3            0            0             0             0           0   \n",
       "4            0            0             0             0           2   \n",
       "\n",
       "   total_runs  player_dismissed dismissal_kind fielder  \n",
       "0           0               NaN            NaN     NaN  \n",
       "1           0               NaN            NaN     NaN  \n",
       "2           4               NaN            NaN     NaN  \n",
       "3           0               NaN            NaN     NaN  \n",
       "4           2               NaN            NaN     NaN  \n",
       "\n",
       "[5 rows x 21 columns]"
      ]
     },
     "execution_count": 26,
     "metadata": {},
     "output_type": "execute_result"
    }
   ],
   "source": [
    "deliveries_2017 = deliveries[deliveries['match_id'].isin([*range(1,60)])]\n",
    "deliveries_2017.head()"
   ]
  },
  {
   "cell_type": "code",
   "execution_count": 27,
   "metadata": {
    "execution": {
     "iopub.execute_input": "2021-03-09T15:32:34.998612Z",
     "iopub.status.busy": "2021-03-09T15:32:34.982873Z",
     "iopub.status.idle": "2021-03-09T15:32:35.017024Z",
     "shell.execute_reply": "2021-03-09T15:32:35.016375Z"
    },
    "papermill": {
     "duration": 0.104732,
     "end_time": "2021-03-09T15:32:35.017185",
     "exception": false,
     "start_time": "2021-03-09T15:32:34.912453",
     "status": "completed"
    },
    "tags": []
   },
   "outputs": [
    {
     "data": {
      "text/html": [
       "<div>                            <div id=\"736e7bee-cdc8-4682-a14e-05b937078305\" class=\"plotly-graph-div\" style=\"height:525px; width:100%;\"></div>            <script type=\"text/javascript\">                require([\"plotly\"], function(Plotly) {                    window.PLOTLYENV=window.PLOTLYENV || {};                                    if (document.getElementById(\"736e7bee-cdc8-4682-a14e-05b937078305\")) {                    Plotly.newPlot(                        \"736e7bee-cdc8-4682-a14e-05b937078305\",                        [{\"labels\": [\"caught\", \"bowled\", \"run out\", \"lbw\", \"stumped\", \"caught and bowled\", \"retired hurt\", \"hit wicket\", \"obstructing the field\"], \"pull\": [0, 0.2, 0, 0.2, 0, 0, 0.2], \"title\": {\"text\": \"top OUT! reasons 2017\"}, \"type\": \"pie\", \"values\": [5348, 1581, 852, 540, 278, 211, 12, 10, 2]}],                        {\"template\": {\"data\": {\"bar\": [{\"error_x\": {\"color\": \"#2a3f5f\"}, \"error_y\": {\"color\": \"#2a3f5f\"}, \"marker\": {\"line\": {\"color\": \"#E5ECF6\", \"width\": 0.5}}, \"type\": \"bar\"}], \"barpolar\": [{\"marker\": {\"line\": {\"color\": \"#E5ECF6\", \"width\": 0.5}}, \"type\": \"barpolar\"}], \"carpet\": [{\"aaxis\": {\"endlinecolor\": \"#2a3f5f\", \"gridcolor\": \"white\", \"linecolor\": \"white\", \"minorgridcolor\": \"white\", \"startlinecolor\": \"#2a3f5f\"}, \"baxis\": {\"endlinecolor\": \"#2a3f5f\", \"gridcolor\": \"white\", \"linecolor\": \"white\", \"minorgridcolor\": \"white\", \"startlinecolor\": \"#2a3f5f\"}, \"type\": \"carpet\"}], \"choropleth\": [{\"colorbar\": {\"outlinewidth\": 0, \"ticks\": \"\"}, \"type\": \"choropleth\"}], \"contour\": [{\"colorbar\": {\"outlinewidth\": 0, \"ticks\": \"\"}, \"colorscale\": [[0.0, \"#0d0887\"], [0.1111111111111111, \"#46039f\"], [0.2222222222222222, \"#7201a8\"], [0.3333333333333333, \"#9c179e\"], [0.4444444444444444, \"#bd3786\"], [0.5555555555555556, \"#d8576b\"], [0.6666666666666666, \"#ed7953\"], [0.7777777777777778, \"#fb9f3a\"], [0.8888888888888888, \"#fdca26\"], [1.0, \"#f0f921\"]], \"type\": \"contour\"}], \"contourcarpet\": [{\"colorbar\": {\"outlinewidth\": 0, \"ticks\": \"\"}, \"type\": \"contourcarpet\"}], \"heatmap\": [{\"colorbar\": {\"outlinewidth\": 0, \"ticks\": \"\"}, \"colorscale\": [[0.0, \"#0d0887\"], [0.1111111111111111, \"#46039f\"], [0.2222222222222222, \"#7201a8\"], [0.3333333333333333, \"#9c179e\"], [0.4444444444444444, \"#bd3786\"], [0.5555555555555556, \"#d8576b\"], [0.6666666666666666, \"#ed7953\"], [0.7777777777777778, \"#fb9f3a\"], [0.8888888888888888, \"#fdca26\"], [1.0, \"#f0f921\"]], \"type\": \"heatmap\"}], \"heatmapgl\": [{\"colorbar\": {\"outlinewidth\": 0, \"ticks\": \"\"}, \"colorscale\": [[0.0, \"#0d0887\"], [0.1111111111111111, \"#46039f\"], [0.2222222222222222, \"#7201a8\"], [0.3333333333333333, \"#9c179e\"], [0.4444444444444444, \"#bd3786\"], [0.5555555555555556, \"#d8576b\"], [0.6666666666666666, \"#ed7953\"], [0.7777777777777778, \"#fb9f3a\"], [0.8888888888888888, \"#fdca26\"], [1.0, \"#f0f921\"]], \"type\": \"heatmapgl\"}], \"histogram\": [{\"marker\": {\"colorbar\": {\"outlinewidth\": 0, \"ticks\": \"\"}}, \"type\": \"histogram\"}], \"histogram2d\": [{\"colorbar\": {\"outlinewidth\": 0, \"ticks\": \"\"}, \"colorscale\": [[0.0, \"#0d0887\"], [0.1111111111111111, \"#46039f\"], [0.2222222222222222, \"#7201a8\"], [0.3333333333333333, \"#9c179e\"], [0.4444444444444444, \"#bd3786\"], [0.5555555555555556, \"#d8576b\"], [0.6666666666666666, \"#ed7953\"], [0.7777777777777778, \"#fb9f3a\"], [0.8888888888888888, \"#fdca26\"], [1.0, \"#f0f921\"]], \"type\": \"histogram2d\"}], \"histogram2dcontour\": [{\"colorbar\": {\"outlinewidth\": 0, \"ticks\": \"\"}, \"colorscale\": [[0.0, \"#0d0887\"], [0.1111111111111111, \"#46039f\"], [0.2222222222222222, \"#7201a8\"], [0.3333333333333333, \"#9c179e\"], [0.4444444444444444, \"#bd3786\"], [0.5555555555555556, \"#d8576b\"], [0.6666666666666666, \"#ed7953\"], [0.7777777777777778, \"#fb9f3a\"], [0.8888888888888888, \"#fdca26\"], [1.0, \"#f0f921\"]], \"type\": \"histogram2dcontour\"}], \"mesh3d\": [{\"colorbar\": {\"outlinewidth\": 0, \"ticks\": \"\"}, \"type\": \"mesh3d\"}], \"parcoords\": [{\"line\": {\"colorbar\": {\"outlinewidth\": 0, \"ticks\": \"\"}}, \"type\": \"parcoords\"}], \"pie\": [{\"automargin\": true, \"type\": \"pie\"}], \"scatter\": [{\"marker\": {\"colorbar\": {\"outlinewidth\": 0, \"ticks\": \"\"}}, \"type\": \"scatter\"}], \"scatter3d\": [{\"line\": {\"colorbar\": {\"outlinewidth\": 0, \"ticks\": \"\"}}, \"marker\": {\"colorbar\": {\"outlinewidth\": 0, \"ticks\": \"\"}}, \"type\": \"scatter3d\"}], \"scattercarpet\": [{\"marker\": {\"colorbar\": {\"outlinewidth\": 0, \"ticks\": \"\"}}, \"type\": \"scattercarpet\"}], \"scattergeo\": [{\"marker\": {\"colorbar\": {\"outlinewidth\": 0, \"ticks\": \"\"}}, \"type\": \"scattergeo\"}], \"scattergl\": [{\"marker\": {\"colorbar\": {\"outlinewidth\": 0, \"ticks\": \"\"}}, \"type\": \"scattergl\"}], \"scattermapbox\": [{\"marker\": {\"colorbar\": {\"outlinewidth\": 0, \"ticks\": \"\"}}, \"type\": \"scattermapbox\"}], \"scatterpolar\": [{\"marker\": {\"colorbar\": {\"outlinewidth\": 0, \"ticks\": \"\"}}, \"type\": \"scatterpolar\"}], \"scatterpolargl\": [{\"marker\": {\"colorbar\": {\"outlinewidth\": 0, \"ticks\": \"\"}}, \"type\": \"scatterpolargl\"}], \"scatterternary\": [{\"marker\": {\"colorbar\": {\"outlinewidth\": 0, \"ticks\": \"\"}}, \"type\": \"scatterternary\"}], \"surface\": [{\"colorbar\": {\"outlinewidth\": 0, \"ticks\": \"\"}, \"colorscale\": [[0.0, \"#0d0887\"], [0.1111111111111111, \"#46039f\"], [0.2222222222222222, \"#7201a8\"], [0.3333333333333333, \"#9c179e\"], [0.4444444444444444, \"#bd3786\"], [0.5555555555555556, \"#d8576b\"], [0.6666666666666666, \"#ed7953\"], [0.7777777777777778, \"#fb9f3a\"], [0.8888888888888888, \"#fdca26\"], [1.0, \"#f0f921\"]], \"type\": \"surface\"}], \"table\": [{\"cells\": {\"fill\": {\"color\": \"#EBF0F8\"}, \"line\": {\"color\": \"white\"}}, \"header\": {\"fill\": {\"color\": \"#C8D4E3\"}, \"line\": {\"color\": \"white\"}}, \"type\": \"table\"}]}, \"layout\": {\"annotationdefaults\": {\"arrowcolor\": \"#2a3f5f\", \"arrowhead\": 0, \"arrowwidth\": 1}, \"autotypenumbers\": \"strict\", \"coloraxis\": {\"colorbar\": {\"outlinewidth\": 0, \"ticks\": \"\"}}, \"colorscale\": {\"diverging\": [[0, \"#8e0152\"], [0.1, \"#c51b7d\"], [0.2, \"#de77ae\"], [0.3, \"#f1b6da\"], [0.4, \"#fde0ef\"], [0.5, \"#f7f7f7\"], [0.6, \"#e6f5d0\"], [0.7, \"#b8e186\"], [0.8, \"#7fbc41\"], [0.9, \"#4d9221\"], [1, \"#276419\"]], \"sequential\": [[0.0, \"#0d0887\"], [0.1111111111111111, \"#46039f\"], [0.2222222222222222, \"#7201a8\"], [0.3333333333333333, \"#9c179e\"], [0.4444444444444444, \"#bd3786\"], [0.5555555555555556, \"#d8576b\"], [0.6666666666666666, \"#ed7953\"], [0.7777777777777778, \"#fb9f3a\"], [0.8888888888888888, \"#fdca26\"], [1.0, \"#f0f921\"]], \"sequentialminus\": [[0.0, \"#0d0887\"], [0.1111111111111111, \"#46039f\"], [0.2222222222222222, \"#7201a8\"], [0.3333333333333333, \"#9c179e\"], [0.4444444444444444, \"#bd3786\"], [0.5555555555555556, \"#d8576b\"], [0.6666666666666666, \"#ed7953\"], [0.7777777777777778, \"#fb9f3a\"], [0.8888888888888888, \"#fdca26\"], [1.0, \"#f0f921\"]]}, \"colorway\": [\"#636efa\", \"#EF553B\", \"#00cc96\", \"#ab63fa\", \"#FFA15A\", \"#19d3f3\", \"#FF6692\", \"#B6E880\", \"#FF97FF\", \"#FECB52\"], \"font\": {\"color\": \"#2a3f5f\"}, \"geo\": {\"bgcolor\": \"white\", \"lakecolor\": \"white\", \"landcolor\": \"#E5ECF6\", \"showlakes\": true, \"showland\": true, \"subunitcolor\": \"white\"}, \"hoverlabel\": {\"align\": \"left\"}, \"hovermode\": \"closest\", \"mapbox\": {\"style\": \"light\"}, \"paper_bgcolor\": \"white\", \"plot_bgcolor\": \"#E5ECF6\", \"polar\": {\"angularaxis\": {\"gridcolor\": \"white\", \"linecolor\": \"white\", \"ticks\": \"\"}, \"bgcolor\": \"#E5ECF6\", \"radialaxis\": {\"gridcolor\": \"white\", \"linecolor\": \"white\", \"ticks\": \"\"}}, \"scene\": {\"xaxis\": {\"backgroundcolor\": \"#E5ECF6\", \"gridcolor\": \"white\", \"gridwidth\": 2, \"linecolor\": \"white\", \"showbackground\": true, \"ticks\": \"\", \"zerolinecolor\": \"white\"}, \"yaxis\": {\"backgroundcolor\": \"#E5ECF6\", \"gridcolor\": \"white\", \"gridwidth\": 2, \"linecolor\": \"white\", \"showbackground\": true, \"ticks\": \"\", \"zerolinecolor\": \"white\"}, \"zaxis\": {\"backgroundcolor\": \"#E5ECF6\", \"gridcolor\": \"white\", \"gridwidth\": 2, \"linecolor\": \"white\", \"showbackground\": true, \"ticks\": \"\", \"zerolinecolor\": \"white\"}}, \"shapedefaults\": {\"line\": {\"color\": \"#2a3f5f\"}}, \"ternary\": {\"aaxis\": {\"gridcolor\": \"white\", \"linecolor\": \"white\", \"ticks\": \"\"}, \"baxis\": {\"gridcolor\": \"white\", \"linecolor\": \"white\", \"ticks\": \"\"}, \"bgcolor\": \"#E5ECF6\", \"caxis\": {\"gridcolor\": \"white\", \"linecolor\": \"white\", \"ticks\": \"\"}}, \"title\": {\"x\": 0.05}, \"xaxis\": {\"automargin\": true, \"gridcolor\": \"white\", \"linecolor\": \"white\", \"ticks\": \"\", \"title\": {\"standoff\": 15}, \"zerolinecolor\": \"white\", \"zerolinewidth\": 2}, \"yaxis\": {\"automargin\": true, \"gridcolor\": \"white\", \"linecolor\": \"white\", \"ticks\": \"\", \"title\": {\"standoff\": 15}, \"zerolinecolor\": \"white\", \"zerolinewidth\": 2}}}},                        {\"responsive\": true}                    ).then(function(){\n",
       "                            \n",
       "var gd = document.getElementById('736e7bee-cdc8-4682-a14e-05b937078305');\n",
       "var x = new MutationObserver(function (mutations, observer) {{\n",
       "        var display = window.getComputedStyle(gd).display;\n",
       "        if (!display || display === 'none') {{\n",
       "            console.log([gd, 'removed!']);\n",
       "            Plotly.purge(gd);\n",
       "            observer.disconnect();\n",
       "        }}\n",
       "}});\n",
       "\n",
       "// Listen for the removal of the full notebook cells\n",
       "var notebookContainer = gd.closest('#notebook-container');\n",
       "if (notebookContainer) {{\n",
       "    x.observe(notebookContainer, {childList: true});\n",
       "}}\n",
       "\n",
       "// Listen for the clearing of the current output cell\n",
       "var outputEl = gd.closest('.output');\n",
       "if (outputEl) {{\n",
       "    x.observe(outputEl, {childList: true});\n",
       "}}\n",
       "\n",
       "                        })                };                });            </script>        </div>"
      ]
     },
     "metadata": {},
     "output_type": "display_data"
    }
   ],
   "source": [
    "fig = go.Figure(go.Pie(labels = deliveries['dismissal_kind'].value_counts().index, values =deliveries['dismissal_kind'].value_counts().values,\n",
    "             title= \"top OUT! reasons 2017\",pull = [0,0.2,0,0.2,0,0,0.2]))\n",
    "fig.show()"
   ]
  },
  {
   "cell_type": "code",
   "execution_count": 28,
   "metadata": {
    "execution": {
     "iopub.execute_input": "2021-03-09T15:32:35.134985Z",
     "iopub.status.busy": "2021-03-09T15:32:35.131837Z",
     "iopub.status.idle": "2021-03-09T15:32:35.214085Z",
     "shell.execute_reply": "2021-03-09T15:32:35.213484Z"
    },
    "papermill": {
     "duration": 0.146037,
     "end_time": "2021-03-09T15:32:35.214242",
     "exception": false,
     "start_time": "2021-03-09T15:32:35.068205",
     "status": "completed"
    },
    "tags": []
   },
   "outputs": [
    {
     "data": {
      "text/html": [
       "<div>                            <div id=\"f217aad1-1aa1-47cd-b7b6-217350399ba3\" class=\"plotly-graph-div\" style=\"height:525px; width:100%;\"></div>            <script type=\"text/javascript\">                require([\"plotly\"], function(Plotly) {                    window.PLOTLYENV=window.PLOTLYENV || {};                                    if (document.getElementById(\"f217aad1-1aa1-47cd-b7b6-217350399ba3\")) {                    Plotly.newPlot(                        \"f217aad1-1aa1-47cd-b7b6-217350399ba3\",                        [{\"alignmentgroup\": \"True\", \"hovertemplate\": \"color=Mumbai Indians<br>x=%{x}<br>y=%{y}<extra></extra>\", \"legendgroup\": \"Mumbai Indians\", \"marker\": {\"color\": \"#636efa\"}, \"name\": \"Mumbai Indians\", \"offsetgroup\": \"Mumbai Indians\", \"orientation\": \"v\", \"showlegend\": true, \"textposition\": \"auto\", \"type\": \"bar\", \"x\": [\"Mumbai Indians\"], \"xaxis\": \"x\", \"y\": [12], \"yaxis\": \"y\"}, {\"alignmentgroup\": \"True\", \"hovertemplate\": \"color=Rising Pune Supergiant<br>x=%{x}<br>y=%{y}<extra></extra>\", \"legendgroup\": \"Rising Pune Supergiant\", \"marker\": {\"color\": \"#EF553B\"}, \"name\": \"Rising Pune Supergiant\", \"offsetgroup\": \"Rising Pune Supergiant\", \"orientation\": \"v\", \"showlegend\": true, \"textposition\": \"auto\", \"type\": \"bar\", \"x\": [\"Rising Pune Supergiant\"], \"xaxis\": \"x\", \"y\": [10], \"yaxis\": \"y\"}, {\"alignmentgroup\": \"True\", \"hovertemplate\": \"color=Kolkata Knight Riders<br>x=%{x}<br>y=%{y}<extra></extra>\", \"legendgroup\": \"Kolkata Knight Riders\", \"marker\": {\"color\": \"#00cc96\"}, \"name\": \"Kolkata Knight Riders\", \"offsetgroup\": \"Kolkata Knight Riders\", \"orientation\": \"v\", \"showlegend\": true, \"textposition\": \"auto\", \"type\": \"bar\", \"x\": [\"Kolkata Knight Riders\"], \"xaxis\": \"x\", \"y\": [9], \"yaxis\": \"y\"}, {\"alignmentgroup\": \"True\", \"hovertemplate\": \"color=Sunrisers Hyderabad<br>x=%{x}<br>y=%{y}<extra></extra>\", \"legendgroup\": \"Sunrisers Hyderabad\", \"marker\": {\"color\": \"#ab63fa\"}, \"name\": \"Sunrisers Hyderabad\", \"offsetgroup\": \"Sunrisers Hyderabad\", \"orientation\": \"v\", \"showlegend\": true, \"textposition\": \"auto\", \"type\": \"bar\", \"x\": [\"Sunrisers Hyderabad\"], \"xaxis\": \"x\", \"y\": [8], \"yaxis\": \"y\"}, {\"alignmentgroup\": \"True\", \"hovertemplate\": \"color=Kings XI Punjab<br>x=%{x}<br>y=%{y}<extra></extra>\", \"legendgroup\": \"Kings XI Punjab\", \"marker\": {\"color\": \"#FFA15A\"}, \"name\": \"Kings XI Punjab\", \"offsetgroup\": \"Kings XI Punjab\", \"orientation\": \"v\", \"showlegend\": true, \"textposition\": \"auto\", \"type\": \"bar\", \"x\": [\"Kings XI Punjab\"], \"xaxis\": \"x\", \"y\": [7], \"yaxis\": \"y\"}, {\"alignmentgroup\": \"True\", \"hovertemplate\": \"color=Delhi Daredevils<br>x=%{x}<br>y=%{y}<extra></extra>\", \"legendgroup\": \"Delhi Daredevils\", \"marker\": {\"color\": \"#19d3f3\"}, \"name\": \"Delhi Daredevils\", \"offsetgroup\": \"Delhi Daredevils\", \"orientation\": \"v\", \"showlegend\": true, \"textposition\": \"auto\", \"type\": \"bar\", \"x\": [\"Delhi Daredevils\"], \"xaxis\": \"x\", \"y\": [6], \"yaxis\": \"y\"}, {\"alignmentgroup\": \"True\", \"hovertemplate\": \"color=Gujarat Lions<br>x=%{x}<br>y=%{y}<extra></extra>\", \"legendgroup\": \"Gujarat Lions\", \"marker\": {\"color\": \"#FF6692\"}, \"name\": \"Gujarat Lions\", \"offsetgroup\": \"Gujarat Lions\", \"orientation\": \"v\", \"showlegend\": true, \"textposition\": \"auto\", \"type\": \"bar\", \"x\": [\"Gujarat Lions\"], \"xaxis\": \"x\", \"y\": [4], \"yaxis\": \"y\"}, {\"alignmentgroup\": \"True\", \"hovertemplate\": \"color=Royal Challengers Bangalore<br>x=%{x}<br>y=%{y}<extra></extra>\", \"legendgroup\": \"Royal Challengers Bangalore\", \"marker\": {\"color\": \"#B6E880\"}, \"name\": \"Royal Challengers Bangalore\", \"offsetgroup\": \"Royal Challengers Bangalore\", \"orientation\": \"v\", \"showlegend\": true, \"textposition\": \"auto\", \"type\": \"bar\", \"x\": [\"Royal Challengers Bangalore\"], \"xaxis\": \"x\", \"y\": [2], \"yaxis\": \"y\"}],                        {\"barmode\": \"relative\", \"legend\": {\"title\": {\"text\": \"color\"}, \"tracegroupgap\": 0}, \"template\": {\"data\": {\"bar\": [{\"error_x\": {\"color\": \"#2a3f5f\"}, \"error_y\": {\"color\": \"#2a3f5f\"}, \"marker\": {\"line\": {\"color\": \"#E5ECF6\", \"width\": 0.5}}, \"type\": \"bar\"}], \"barpolar\": [{\"marker\": {\"line\": {\"color\": \"#E5ECF6\", \"width\": 0.5}}, \"type\": \"barpolar\"}], \"carpet\": [{\"aaxis\": {\"endlinecolor\": \"#2a3f5f\", \"gridcolor\": \"white\", \"linecolor\": \"white\", \"minorgridcolor\": \"white\", \"startlinecolor\": \"#2a3f5f\"}, \"baxis\": {\"endlinecolor\": \"#2a3f5f\", \"gridcolor\": \"white\", \"linecolor\": \"white\", \"minorgridcolor\": \"white\", \"startlinecolor\": \"#2a3f5f\"}, \"type\": \"carpet\"}], \"choropleth\": [{\"colorbar\": {\"outlinewidth\": 0, \"ticks\": \"\"}, \"type\": \"choropleth\"}], \"contour\": [{\"colorbar\": {\"outlinewidth\": 0, \"ticks\": \"\"}, \"colorscale\": [[0.0, \"#0d0887\"], [0.1111111111111111, \"#46039f\"], [0.2222222222222222, \"#7201a8\"], [0.3333333333333333, \"#9c179e\"], [0.4444444444444444, \"#bd3786\"], [0.5555555555555556, \"#d8576b\"], [0.6666666666666666, \"#ed7953\"], [0.7777777777777778, \"#fb9f3a\"], [0.8888888888888888, \"#fdca26\"], [1.0, \"#f0f921\"]], \"type\": \"contour\"}], \"contourcarpet\": [{\"colorbar\": {\"outlinewidth\": 0, \"ticks\": \"\"}, \"type\": \"contourcarpet\"}], \"heatmap\": [{\"colorbar\": {\"outlinewidth\": 0, \"ticks\": \"\"}, \"colorscale\": [[0.0, \"#0d0887\"], [0.1111111111111111, \"#46039f\"], [0.2222222222222222, \"#7201a8\"], [0.3333333333333333, \"#9c179e\"], [0.4444444444444444, \"#bd3786\"], [0.5555555555555556, \"#d8576b\"], [0.6666666666666666, \"#ed7953\"], [0.7777777777777778, \"#fb9f3a\"], [0.8888888888888888, \"#fdca26\"], [1.0, \"#f0f921\"]], \"type\": \"heatmap\"}], \"heatmapgl\": [{\"colorbar\": {\"outlinewidth\": 0, \"ticks\": \"\"}, \"colorscale\": [[0.0, \"#0d0887\"], [0.1111111111111111, \"#46039f\"], [0.2222222222222222, \"#7201a8\"], [0.3333333333333333, \"#9c179e\"], [0.4444444444444444, \"#bd3786\"], [0.5555555555555556, \"#d8576b\"], [0.6666666666666666, \"#ed7953\"], [0.7777777777777778, \"#fb9f3a\"], [0.8888888888888888, \"#fdca26\"], [1.0, \"#f0f921\"]], \"type\": \"heatmapgl\"}], \"histogram\": [{\"marker\": {\"colorbar\": {\"outlinewidth\": 0, \"ticks\": \"\"}}, \"type\": \"histogram\"}], \"histogram2d\": [{\"colorbar\": {\"outlinewidth\": 0, \"ticks\": \"\"}, \"colorscale\": [[0.0, \"#0d0887\"], [0.1111111111111111, \"#46039f\"], [0.2222222222222222, \"#7201a8\"], [0.3333333333333333, \"#9c179e\"], [0.4444444444444444, \"#bd3786\"], [0.5555555555555556, \"#d8576b\"], [0.6666666666666666, \"#ed7953\"], [0.7777777777777778, \"#fb9f3a\"], [0.8888888888888888, \"#fdca26\"], [1.0, \"#f0f921\"]], \"type\": \"histogram2d\"}], \"histogram2dcontour\": [{\"colorbar\": {\"outlinewidth\": 0, \"ticks\": \"\"}, \"colorscale\": [[0.0, \"#0d0887\"], [0.1111111111111111, \"#46039f\"], [0.2222222222222222, \"#7201a8\"], [0.3333333333333333, \"#9c179e\"], [0.4444444444444444, \"#bd3786\"], [0.5555555555555556, \"#d8576b\"], [0.6666666666666666, \"#ed7953\"], [0.7777777777777778, \"#fb9f3a\"], [0.8888888888888888, \"#fdca26\"], [1.0, \"#f0f921\"]], \"type\": \"histogram2dcontour\"}], \"mesh3d\": [{\"colorbar\": {\"outlinewidth\": 0, \"ticks\": \"\"}, \"type\": \"mesh3d\"}], \"parcoords\": [{\"line\": {\"colorbar\": {\"outlinewidth\": 0, \"ticks\": \"\"}}, \"type\": \"parcoords\"}], \"pie\": [{\"automargin\": true, \"type\": \"pie\"}], \"scatter\": [{\"marker\": {\"colorbar\": {\"outlinewidth\": 0, \"ticks\": \"\"}}, \"type\": \"scatter\"}], \"scatter3d\": [{\"line\": {\"colorbar\": {\"outlinewidth\": 0, \"ticks\": \"\"}}, \"marker\": {\"colorbar\": {\"outlinewidth\": 0, \"ticks\": \"\"}}, \"type\": \"scatter3d\"}], \"scattercarpet\": [{\"marker\": {\"colorbar\": {\"outlinewidth\": 0, \"ticks\": \"\"}}, \"type\": \"scattercarpet\"}], \"scattergeo\": [{\"marker\": {\"colorbar\": {\"outlinewidth\": 0, \"ticks\": \"\"}}, \"type\": \"scattergeo\"}], \"scattergl\": [{\"marker\": {\"colorbar\": {\"outlinewidth\": 0, \"ticks\": \"\"}}, \"type\": \"scattergl\"}], \"scattermapbox\": [{\"marker\": {\"colorbar\": {\"outlinewidth\": 0, \"ticks\": \"\"}}, \"type\": \"scattermapbox\"}], \"scatterpolar\": [{\"marker\": {\"colorbar\": {\"outlinewidth\": 0, \"ticks\": \"\"}}, \"type\": \"scatterpolar\"}], \"scatterpolargl\": [{\"marker\": {\"colorbar\": {\"outlinewidth\": 0, \"ticks\": \"\"}}, \"type\": \"scatterpolargl\"}], \"scatterternary\": [{\"marker\": {\"colorbar\": {\"outlinewidth\": 0, \"ticks\": \"\"}}, \"type\": \"scatterternary\"}], \"surface\": [{\"colorbar\": {\"outlinewidth\": 0, \"ticks\": \"\"}, \"colorscale\": [[0.0, \"#0d0887\"], [0.1111111111111111, \"#46039f\"], [0.2222222222222222, \"#7201a8\"], [0.3333333333333333, \"#9c179e\"], [0.4444444444444444, \"#bd3786\"], [0.5555555555555556, \"#d8576b\"], [0.6666666666666666, \"#ed7953\"], [0.7777777777777778, \"#fb9f3a\"], [0.8888888888888888, \"#fdca26\"], [1.0, \"#f0f921\"]], \"type\": \"surface\"}], \"table\": [{\"cells\": {\"fill\": {\"color\": \"#EBF0F8\"}, \"line\": {\"color\": \"white\"}}, \"header\": {\"fill\": {\"color\": \"#C8D4E3\"}, \"line\": {\"color\": \"white\"}}, \"type\": \"table\"}]}, \"layout\": {\"annotationdefaults\": {\"arrowcolor\": \"#2a3f5f\", \"arrowhead\": 0, \"arrowwidth\": 1}, \"autotypenumbers\": \"strict\", \"coloraxis\": {\"colorbar\": {\"outlinewidth\": 0, \"ticks\": \"\"}}, \"colorscale\": {\"diverging\": [[0, \"#8e0152\"], [0.1, \"#c51b7d\"], [0.2, \"#de77ae\"], [0.3, \"#f1b6da\"], [0.4, \"#fde0ef\"], [0.5, \"#f7f7f7\"], [0.6, \"#e6f5d0\"], [0.7, \"#b8e186\"], [0.8, \"#7fbc41\"], [0.9, \"#4d9221\"], [1, \"#276419\"]], \"sequential\": [[0.0, \"#0d0887\"], [0.1111111111111111, \"#46039f\"], [0.2222222222222222, \"#7201a8\"], [0.3333333333333333, \"#9c179e\"], [0.4444444444444444, \"#bd3786\"], [0.5555555555555556, \"#d8576b\"], [0.6666666666666666, \"#ed7953\"], [0.7777777777777778, \"#fb9f3a\"], [0.8888888888888888, \"#fdca26\"], [1.0, \"#f0f921\"]], \"sequentialminus\": [[0.0, \"#0d0887\"], [0.1111111111111111, \"#46039f\"], [0.2222222222222222, \"#7201a8\"], [0.3333333333333333, \"#9c179e\"], [0.4444444444444444, \"#bd3786\"], [0.5555555555555556, \"#d8576b\"], [0.6666666666666666, \"#ed7953\"], [0.7777777777777778, \"#fb9f3a\"], [0.8888888888888888, \"#fdca26\"], [1.0, \"#f0f921\"]]}, \"colorway\": [\"#636efa\", \"#EF553B\", \"#00cc96\", \"#ab63fa\", \"#FFA15A\", \"#19d3f3\", \"#FF6692\", \"#B6E880\", \"#FF97FF\", \"#FECB52\"], \"font\": {\"color\": \"#2a3f5f\"}, \"geo\": {\"bgcolor\": \"white\", \"lakecolor\": \"white\", \"landcolor\": \"#E5ECF6\", \"showlakes\": true, \"showland\": true, \"subunitcolor\": \"white\"}, \"hoverlabel\": {\"align\": \"left\"}, \"hovermode\": \"closest\", \"mapbox\": {\"style\": \"light\"}, \"paper_bgcolor\": \"white\", \"plot_bgcolor\": \"#E5ECF6\", \"polar\": {\"angularaxis\": {\"gridcolor\": \"white\", \"linecolor\": \"white\", \"ticks\": \"\"}, \"bgcolor\": \"#E5ECF6\", \"radialaxis\": {\"gridcolor\": \"white\", \"linecolor\": \"white\", \"ticks\": \"\"}}, \"scene\": {\"xaxis\": {\"backgroundcolor\": \"#E5ECF6\", \"gridcolor\": \"white\", \"gridwidth\": 2, \"linecolor\": \"white\", \"showbackground\": true, \"ticks\": \"\", \"zerolinecolor\": \"white\"}, \"yaxis\": {\"backgroundcolor\": \"#E5ECF6\", \"gridcolor\": \"white\", \"gridwidth\": 2, \"linecolor\": \"white\", \"showbackground\": true, \"ticks\": \"\", \"zerolinecolor\": \"white\"}, \"zaxis\": {\"backgroundcolor\": \"#E5ECF6\", \"gridcolor\": \"white\", \"gridwidth\": 2, \"linecolor\": \"white\", \"showbackground\": true, \"ticks\": \"\", \"zerolinecolor\": \"white\"}}, \"shapedefaults\": {\"line\": {\"color\": \"#2a3f5f\"}}, \"ternary\": {\"aaxis\": {\"gridcolor\": \"white\", \"linecolor\": \"white\", \"ticks\": \"\"}, \"baxis\": {\"gridcolor\": \"white\", \"linecolor\": \"white\", \"ticks\": \"\"}, \"bgcolor\": \"#E5ECF6\", \"caxis\": {\"gridcolor\": \"white\", \"linecolor\": \"white\", \"ticks\": \"\"}}, \"title\": {\"x\": 0.05}, \"xaxis\": {\"automargin\": true, \"gridcolor\": \"white\", \"linecolor\": \"white\", \"ticks\": \"\", \"title\": {\"standoff\": 15}, \"zerolinecolor\": \"white\", \"zerolinewidth\": 2}, \"yaxis\": {\"automargin\": true, \"gridcolor\": \"white\", \"linecolor\": \"white\", \"ticks\": \"\", \"title\": {\"standoff\": 15}, \"zerolinecolor\": \"white\", \"zerolinewidth\": 2}}}, \"title\": {\"text\": \"top IPL team wins in 2017\"}, \"xaxis\": {\"anchor\": \"y\", \"domain\": [0.0, 1.0], \"title\": {\"text\": \"x\"}}, \"yaxis\": {\"anchor\": \"x\", \"domain\": [0.0, 1.0], \"title\": {\"text\": \"y\"}}},                        {\"responsive\": true}                    ).then(function(){\n",
       "                            \n",
       "var gd = document.getElementById('f217aad1-1aa1-47cd-b7b6-217350399ba3');\n",
       "var x = new MutationObserver(function (mutations, observer) {{\n",
       "        var display = window.getComputedStyle(gd).display;\n",
       "        if (!display || display === 'none') {{\n",
       "            console.log([gd, 'removed!']);\n",
       "            Plotly.purge(gd);\n",
       "            observer.disconnect();\n",
       "        }}\n",
       "}});\n",
       "\n",
       "// Listen for the removal of the full notebook cells\n",
       "var notebookContainer = gd.closest('#notebook-container');\n",
       "if (notebookContainer) {{\n",
       "    x.observe(notebookContainer, {childList: true});\n",
       "}}\n",
       "\n",
       "// Listen for the clearing of the current output cell\n",
       "var outputEl = gd.closest('.output');\n",
       "if (outputEl) {{\n",
       "    x.observe(outputEl, {childList: true});\n",
       "}}\n",
       "\n",
       "                        })                };                });            </script>        </div>"
      ]
     },
     "metadata": {},
     "output_type": "display_data"
    }
   ],
   "source": [
    "fig = px.bar(x = matches_2017['winner'].value_counts().index, y =  matches_2017['winner'].value_counts().values,color =  matches_2017['winner'].value_counts().index,\n",
    "            title = \"top IPL team wins in 2017\")\n",
    "fig.show()"
   ]
  },
  {
   "cell_type": "code",
   "execution_count": 29,
   "metadata": {
    "execution": {
     "iopub.execute_input": "2021-03-09T15:32:35.326381Z",
     "iopub.status.busy": "2021-03-09T15:32:35.325699Z",
     "iopub.status.idle": "2021-03-09T15:32:35.329162Z",
     "shell.execute_reply": "2021-03-09T15:32:35.328623Z"
    },
    "papermill": {
     "duration": 0.063663,
     "end_time": "2021-03-09T15:32:35.329300",
     "exception": false,
     "start_time": "2021-03-09T15:32:35.265637",
     "status": "completed"
    },
    "tags": []
   },
   "outputs": [],
   "source": [
    "from collections import defaultdict \n",
    "def synergy_gen(data_frame):\n",
    "    current_field = [data_frame['batsman'][0],data_frame['non_striker'][0]]\n",
    "    countered_by = {}\n",
    "    synergy_dict = defaultdict(int)\n",
    "    for bat,non,runs,bowler in zip(data_frame['batsman'],data_frame['non_striker'],data_frame['total_runs'],data_frame['bowler']):\n",
    "        if bat and non in current_field:\n",
    "            synergy_dict[\"-\".join(current_field)] = synergy_dict[\"-\".join(current_field)] + runs\n",
    "        else:\n",
    "            current_field = [bat,non]\n",
    "            synergy_dict[\"-\".join(current_field)] = synergy_dict[\"-\".join(current_field)] + runs\n",
    "            countered_by[\"-\".join(current_field)] = bowler\n",
    "    return pd.DataFrame(sorted(synergy_dict.items(), key = lambda x : x[1],reverse = True))"
   ]
  },
  {
   "cell_type": "code",
   "execution_count": 30,
   "metadata": {
    "execution": {
     "iopub.execute_input": "2021-03-09T15:32:35.437701Z",
     "iopub.status.busy": "2021-03-09T15:32:35.436998Z",
     "iopub.status.idle": "2021-03-09T15:32:35.461465Z",
     "shell.execute_reply": "2021-03-09T15:32:35.460246Z"
    },
    "papermill": {
     "duration": 0.080622,
     "end_time": "2021-03-09T15:32:35.461626",
     "exception": false,
     "start_time": "2021-03-09T15:32:35.381004",
     "status": "completed"
    },
    "tags": []
   },
   "outputs": [],
   "source": [
    "synergy_2017 = synergy_gen(deliveries_2017) "
   ]
  },
  {
   "cell_type": "code",
   "execution_count": 31,
   "metadata": {
    "execution": {
     "iopub.execute_input": "2021-03-09T15:32:35.580324Z",
     "iopub.status.busy": "2021-03-09T15:32:35.578295Z",
     "iopub.status.idle": "2021-03-09T15:32:35.766529Z",
     "shell.execute_reply": "2021-03-09T15:32:35.767003Z"
    },
    "papermill": {
     "duration": 0.253719,
     "end_time": "2021-03-09T15:32:35.767204",
     "exception": false,
     "start_time": "2021-03-09T15:32:35.513485",
     "status": "completed"
    },
    "tags": []
   },
   "outputs": [
    {
     "data": {
      "text/html": [
       "<div>                            <div id=\"f32a9d79-e903-465b-a2d6-064d0a471dbd\" class=\"plotly-graph-div\" style=\"height:525px; width:100%;\"></div>            <script type=\"text/javascript\">                require([\"plotly\"], function(Plotly) {                    window.PLOTLYENV=window.PLOTLYENV || {};                                    if (document.getElementById(\"f32a9d79-e903-465b-a2d6-064d0a471dbd\")) {                    Plotly.newPlot(                        \"f32a9d79-e903-465b-a2d6-064d0a471dbd\",                        [{\"alignmentgroup\": \"True\", \"hovertemplate\": \"color=DA Warner-S Dhawan<br>x=%{x}<br>y=%{y}<extra></extra>\", \"legendgroup\": \"DA Warner-S Dhawan\", \"marker\": {\"color\": \"#636efa\"}, \"name\": \"DA Warner-S Dhawan\", \"offsetgroup\": \"DA Warner-S Dhawan\", \"orientation\": \"h\", \"showlegend\": true, \"textposition\": \"auto\", \"type\": \"bar\", \"x\": [595], \"xaxis\": \"x\", \"y\": [\"DA Warner-S Dhawan\"], \"yaxis\": \"y\"}, {\"alignmentgroup\": \"True\", \"hovertemplate\": \"color=G Gambhir-RV Uthappa<br>x=%{x}<br>y=%{y}<extra></extra>\", \"legendgroup\": \"G Gambhir-RV Uthappa\", \"marker\": {\"color\": \"#EF553B\"}, \"name\": \"G Gambhir-RV Uthappa\", \"offsetgroup\": \"G Gambhir-RV Uthappa\", \"orientation\": \"h\", \"showlegend\": true, \"textposition\": \"auto\", \"type\": \"bar\", \"x\": [403], \"xaxis\": \"x\", \"y\": [\"G Gambhir-RV Uthappa\"], \"yaxis\": \"y\"}, {\"alignmentgroup\": \"True\", \"hovertemplate\": \"color=PA Patel-JC Buttler<br>x=%{x}<br>y=%{y}<extra></extra>\", \"legendgroup\": \"PA Patel-JC Buttler\", \"marker\": {\"color\": \"#00cc96\"}, \"name\": \"PA Patel-JC Buttler\", \"offsetgroup\": \"PA Patel-JC Buttler\", \"orientation\": \"h\", \"showlegend\": true, \"textposition\": \"auto\", \"type\": \"bar\", \"x\": [365], \"xaxis\": \"x\", \"y\": [\"PA Patel-JC Buttler\"], \"yaxis\": \"y\"}, {\"alignmentgroup\": \"True\", \"hovertemplate\": \"color=AM Rahane-RA Tripathi<br>x=%{x}<br>y=%{y}<extra></extra>\", \"legendgroup\": \"AM Rahane-RA Tripathi\", \"marker\": {\"color\": \"#ab63fa\"}, \"name\": \"AM Rahane-RA Tripathi\", \"offsetgroup\": \"AM Rahane-RA Tripathi\", \"orientation\": \"h\", \"showlegend\": true, \"textposition\": \"auto\", \"type\": \"bar\", \"x\": [347], \"xaxis\": \"x\", \"y\": [\"AM Rahane-RA Tripathi\"], \"yaxis\": \"y\"}, {\"alignmentgroup\": \"True\", \"hovertemplate\": \"color=SK Raina-KD Karthik<br>x=%{x}<br>y=%{y}<extra></extra>\", \"legendgroup\": \"SK Raina-KD Karthik\", \"marker\": {\"color\": \"#FFA15A\"}, \"name\": \"SK Raina-KD Karthik\", \"offsetgroup\": \"SK Raina-KD Karthik\", \"orientation\": \"h\", \"showlegend\": true, \"textposition\": \"auto\", \"type\": \"bar\", \"x\": [319], \"xaxis\": \"x\", \"y\": [\"SK Raina-KD Karthik\"], \"yaxis\": \"y\"}, {\"alignmentgroup\": \"True\", \"hovertemplate\": \"color=HM Amla-GJ Maxwell<br>x=%{x}<br>y=%{y}<extra></extra>\", \"legendgroup\": \"HM Amla-GJ Maxwell\", \"marker\": {\"color\": \"#19d3f3\"}, \"name\": \"HM Amla-GJ Maxwell\", \"offsetgroup\": \"HM Amla-GJ Maxwell\", \"orientation\": \"h\", \"showlegend\": true, \"textposition\": \"auto\", \"type\": \"bar\", \"x\": [293], \"xaxis\": \"x\", \"y\": [\"HM Amla-GJ Maxwell\"], \"yaxis\": \"y\"}, {\"alignmentgroup\": \"True\", \"hovertemplate\": \"color=CH Gayle-V Kohli<br>x=%{x}<br>y=%{y}<extra></extra>\", \"legendgroup\": \"CH Gayle-V Kohli\", \"marker\": {\"color\": \"#FF6692\"}, \"name\": \"CH Gayle-V Kohli\", \"offsetgroup\": \"CH Gayle-V Kohli\", \"orientation\": \"h\", \"showlegend\": true, \"textposition\": \"auto\", \"type\": \"bar\", \"x\": [282], \"xaxis\": \"x\", \"y\": [\"CH Gayle-V Kohli\"], \"yaxis\": \"y\"}, {\"alignmentgroup\": \"True\", \"hovertemplate\": \"color=RA Tripathi-SPD Smith<br>x=%{x}<br>y=%{y}<extra></extra>\", \"legendgroup\": \"RA Tripathi-SPD Smith\", \"marker\": {\"color\": \"#B6E880\"}, \"name\": \"RA Tripathi-SPD Smith\", \"offsetgroup\": \"RA Tripathi-SPD Smith\", \"orientation\": \"h\", \"showlegend\": true, \"textposition\": \"auto\", \"type\": \"bar\", \"x\": [270], \"xaxis\": \"x\", \"y\": [\"RA Tripathi-SPD Smith\"], \"yaxis\": \"y\"}, {\"alignmentgroup\": \"True\", \"hovertemplate\": \"color=AM Rahane-SPD Smith<br>x=%{x}<br>y=%{y}<extra></extra>\", \"legendgroup\": \"AM Rahane-SPD Smith\", \"marker\": {\"color\": \"#FF97FF\"}, \"name\": \"AM Rahane-SPD Smith\", \"offsetgroup\": \"AM Rahane-SPD Smith\", \"orientation\": \"h\", \"showlegend\": true, \"textposition\": \"auto\", \"type\": \"bar\", \"x\": [265], \"xaxis\": \"x\", \"y\": [\"AM Rahane-SPD Smith\"], \"yaxis\": \"y\"}, {\"alignmentgroup\": \"True\", \"hovertemplate\": \"color=SP Narine-G Gambhir<br>x=%{x}<br>y=%{y}<extra></extra>\", \"legendgroup\": \"SP Narine-G Gambhir\", \"marker\": {\"color\": \"#FECB52\"}, \"name\": \"SP Narine-G Gambhir\", \"offsetgroup\": \"SP Narine-G Gambhir\", \"orientation\": \"h\", \"showlegend\": true, \"textposition\": \"auto\", \"type\": \"bar\", \"x\": [261], \"xaxis\": \"x\", \"y\": [\"SP Narine-G Gambhir\"], \"yaxis\": \"y\"}],                        {\"barmode\": \"relative\", \"legend\": {\"title\": {\"text\": \"color\"}, \"tracegroupgap\": 0}, \"template\": {\"data\": {\"bar\": [{\"error_x\": {\"color\": \"#2a3f5f\"}, \"error_y\": {\"color\": \"#2a3f5f\"}, \"marker\": {\"line\": {\"color\": \"#E5ECF6\", \"width\": 0.5}}, \"type\": \"bar\"}], \"barpolar\": [{\"marker\": {\"line\": {\"color\": \"#E5ECF6\", \"width\": 0.5}}, \"type\": \"barpolar\"}], \"carpet\": [{\"aaxis\": {\"endlinecolor\": \"#2a3f5f\", \"gridcolor\": \"white\", \"linecolor\": \"white\", \"minorgridcolor\": \"white\", \"startlinecolor\": \"#2a3f5f\"}, \"baxis\": {\"endlinecolor\": \"#2a3f5f\", \"gridcolor\": \"white\", \"linecolor\": \"white\", \"minorgridcolor\": \"white\", \"startlinecolor\": \"#2a3f5f\"}, \"type\": \"carpet\"}], \"choropleth\": [{\"colorbar\": {\"outlinewidth\": 0, \"ticks\": \"\"}, \"type\": \"choropleth\"}], \"contour\": [{\"colorbar\": {\"outlinewidth\": 0, \"ticks\": \"\"}, \"colorscale\": [[0.0, \"#0d0887\"], [0.1111111111111111, \"#46039f\"], [0.2222222222222222, \"#7201a8\"], [0.3333333333333333, \"#9c179e\"], [0.4444444444444444, \"#bd3786\"], [0.5555555555555556, \"#d8576b\"], [0.6666666666666666, \"#ed7953\"], [0.7777777777777778, \"#fb9f3a\"], [0.8888888888888888, \"#fdca26\"], [1.0, \"#f0f921\"]], \"type\": \"contour\"}], \"contourcarpet\": [{\"colorbar\": {\"outlinewidth\": 0, \"ticks\": \"\"}, \"type\": \"contourcarpet\"}], \"heatmap\": [{\"colorbar\": {\"outlinewidth\": 0, \"ticks\": \"\"}, \"colorscale\": [[0.0, \"#0d0887\"], [0.1111111111111111, \"#46039f\"], [0.2222222222222222, \"#7201a8\"], [0.3333333333333333, \"#9c179e\"], [0.4444444444444444, \"#bd3786\"], [0.5555555555555556, \"#d8576b\"], [0.6666666666666666, \"#ed7953\"], [0.7777777777777778, \"#fb9f3a\"], [0.8888888888888888, \"#fdca26\"], [1.0, \"#f0f921\"]], \"type\": \"heatmap\"}], \"heatmapgl\": [{\"colorbar\": {\"outlinewidth\": 0, \"ticks\": \"\"}, \"colorscale\": [[0.0, \"#0d0887\"], [0.1111111111111111, \"#46039f\"], [0.2222222222222222, \"#7201a8\"], [0.3333333333333333, \"#9c179e\"], [0.4444444444444444, \"#bd3786\"], [0.5555555555555556, \"#d8576b\"], [0.6666666666666666, \"#ed7953\"], [0.7777777777777778, \"#fb9f3a\"], [0.8888888888888888, \"#fdca26\"], [1.0, \"#f0f921\"]], \"type\": \"heatmapgl\"}], \"histogram\": [{\"marker\": {\"colorbar\": {\"outlinewidth\": 0, \"ticks\": \"\"}}, \"type\": \"histogram\"}], \"histogram2d\": [{\"colorbar\": {\"outlinewidth\": 0, \"ticks\": \"\"}, \"colorscale\": [[0.0, \"#0d0887\"], [0.1111111111111111, \"#46039f\"], [0.2222222222222222, \"#7201a8\"], [0.3333333333333333, \"#9c179e\"], [0.4444444444444444, \"#bd3786\"], [0.5555555555555556, \"#d8576b\"], [0.6666666666666666, \"#ed7953\"], [0.7777777777777778, \"#fb9f3a\"], [0.8888888888888888, \"#fdca26\"], [1.0, \"#f0f921\"]], \"type\": \"histogram2d\"}], \"histogram2dcontour\": [{\"colorbar\": {\"outlinewidth\": 0, \"ticks\": \"\"}, \"colorscale\": [[0.0, \"#0d0887\"], [0.1111111111111111, \"#46039f\"], [0.2222222222222222, \"#7201a8\"], [0.3333333333333333, \"#9c179e\"], [0.4444444444444444, \"#bd3786\"], [0.5555555555555556, \"#d8576b\"], [0.6666666666666666, \"#ed7953\"], [0.7777777777777778, \"#fb9f3a\"], [0.8888888888888888, \"#fdca26\"], [1.0, \"#f0f921\"]], \"type\": \"histogram2dcontour\"}], \"mesh3d\": [{\"colorbar\": {\"outlinewidth\": 0, \"ticks\": \"\"}, \"type\": \"mesh3d\"}], \"parcoords\": [{\"line\": {\"colorbar\": {\"outlinewidth\": 0, \"ticks\": \"\"}}, \"type\": \"parcoords\"}], \"pie\": [{\"automargin\": true, \"type\": \"pie\"}], \"scatter\": [{\"marker\": {\"colorbar\": {\"outlinewidth\": 0, \"ticks\": \"\"}}, \"type\": \"scatter\"}], \"scatter3d\": [{\"line\": {\"colorbar\": {\"outlinewidth\": 0, \"ticks\": \"\"}}, \"marker\": {\"colorbar\": {\"outlinewidth\": 0, \"ticks\": \"\"}}, \"type\": \"scatter3d\"}], \"scattercarpet\": [{\"marker\": {\"colorbar\": {\"outlinewidth\": 0, \"ticks\": \"\"}}, \"type\": \"scattercarpet\"}], \"scattergeo\": [{\"marker\": {\"colorbar\": {\"outlinewidth\": 0, \"ticks\": \"\"}}, \"type\": \"scattergeo\"}], \"scattergl\": [{\"marker\": {\"colorbar\": {\"outlinewidth\": 0, \"ticks\": \"\"}}, \"type\": \"scattergl\"}], \"scattermapbox\": [{\"marker\": {\"colorbar\": {\"outlinewidth\": 0, \"ticks\": \"\"}}, \"type\": \"scattermapbox\"}], \"scatterpolar\": [{\"marker\": {\"colorbar\": {\"outlinewidth\": 0, \"ticks\": \"\"}}, \"type\": \"scatterpolar\"}], \"scatterpolargl\": [{\"marker\": {\"colorbar\": {\"outlinewidth\": 0, \"ticks\": \"\"}}, \"type\": \"scatterpolargl\"}], \"scatterternary\": [{\"marker\": {\"colorbar\": {\"outlinewidth\": 0, \"ticks\": \"\"}}, \"type\": \"scatterternary\"}], \"surface\": [{\"colorbar\": {\"outlinewidth\": 0, \"ticks\": \"\"}, \"colorscale\": [[0.0, \"#0d0887\"], [0.1111111111111111, \"#46039f\"], [0.2222222222222222, \"#7201a8\"], [0.3333333333333333, \"#9c179e\"], [0.4444444444444444, \"#bd3786\"], [0.5555555555555556, \"#d8576b\"], [0.6666666666666666, \"#ed7953\"], [0.7777777777777778, \"#fb9f3a\"], [0.8888888888888888, \"#fdca26\"], [1.0, \"#f0f921\"]], \"type\": \"surface\"}], \"table\": [{\"cells\": {\"fill\": {\"color\": \"#EBF0F8\"}, \"line\": {\"color\": \"white\"}}, \"header\": {\"fill\": {\"color\": \"#C8D4E3\"}, \"line\": {\"color\": \"white\"}}, \"type\": \"table\"}]}, \"layout\": {\"annotationdefaults\": {\"arrowcolor\": \"#2a3f5f\", \"arrowhead\": 0, \"arrowwidth\": 1}, \"autotypenumbers\": \"strict\", \"coloraxis\": {\"colorbar\": {\"outlinewidth\": 0, \"ticks\": \"\"}}, \"colorscale\": {\"diverging\": [[0, \"#8e0152\"], [0.1, \"#c51b7d\"], [0.2, \"#de77ae\"], [0.3, \"#f1b6da\"], [0.4, \"#fde0ef\"], [0.5, \"#f7f7f7\"], [0.6, \"#e6f5d0\"], [0.7, \"#b8e186\"], [0.8, \"#7fbc41\"], [0.9, \"#4d9221\"], [1, \"#276419\"]], \"sequential\": [[0.0, \"#0d0887\"], [0.1111111111111111, \"#46039f\"], [0.2222222222222222, \"#7201a8\"], [0.3333333333333333, \"#9c179e\"], [0.4444444444444444, \"#bd3786\"], [0.5555555555555556, \"#d8576b\"], [0.6666666666666666, \"#ed7953\"], [0.7777777777777778, \"#fb9f3a\"], [0.8888888888888888, \"#fdca26\"], [1.0, \"#f0f921\"]], \"sequentialminus\": [[0.0, \"#0d0887\"], [0.1111111111111111, \"#46039f\"], [0.2222222222222222, \"#7201a8\"], [0.3333333333333333, \"#9c179e\"], [0.4444444444444444, \"#bd3786\"], [0.5555555555555556, \"#d8576b\"], [0.6666666666666666, \"#ed7953\"], [0.7777777777777778, \"#fb9f3a\"], [0.8888888888888888, \"#fdca26\"], [1.0, \"#f0f921\"]]}, \"colorway\": [\"#636efa\", \"#EF553B\", \"#00cc96\", \"#ab63fa\", \"#FFA15A\", \"#19d3f3\", \"#FF6692\", \"#B6E880\", \"#FF97FF\", \"#FECB52\"], \"font\": {\"color\": \"#2a3f5f\"}, \"geo\": {\"bgcolor\": \"white\", \"lakecolor\": \"white\", \"landcolor\": \"#E5ECF6\", \"showlakes\": true, \"showland\": true, \"subunitcolor\": \"white\"}, \"hoverlabel\": {\"align\": \"left\"}, \"hovermode\": \"closest\", \"mapbox\": {\"style\": \"light\"}, \"paper_bgcolor\": \"white\", \"plot_bgcolor\": \"#E5ECF6\", \"polar\": {\"angularaxis\": {\"gridcolor\": \"white\", \"linecolor\": \"white\", \"ticks\": \"\"}, \"bgcolor\": \"#E5ECF6\", \"radialaxis\": {\"gridcolor\": \"white\", \"linecolor\": \"white\", \"ticks\": \"\"}}, \"scene\": {\"xaxis\": {\"backgroundcolor\": \"#E5ECF6\", \"gridcolor\": \"white\", \"gridwidth\": 2, \"linecolor\": \"white\", \"showbackground\": true, \"ticks\": \"\", \"zerolinecolor\": \"white\"}, \"yaxis\": {\"backgroundcolor\": \"#E5ECF6\", \"gridcolor\": \"white\", \"gridwidth\": 2, \"linecolor\": \"white\", \"showbackground\": true, \"ticks\": \"\", \"zerolinecolor\": \"white\"}, \"zaxis\": {\"backgroundcolor\": \"#E5ECF6\", \"gridcolor\": \"white\", \"gridwidth\": 2, \"linecolor\": \"white\", \"showbackground\": true, \"ticks\": \"\", \"zerolinecolor\": \"white\"}}, \"shapedefaults\": {\"line\": {\"color\": \"#2a3f5f\"}}, \"ternary\": {\"aaxis\": {\"gridcolor\": \"white\", \"linecolor\": \"white\", \"ticks\": \"\"}, \"baxis\": {\"gridcolor\": \"white\", \"linecolor\": \"white\", \"ticks\": \"\"}, \"bgcolor\": \"#E5ECF6\", \"caxis\": {\"gridcolor\": \"white\", \"linecolor\": \"white\", \"ticks\": \"\"}}, \"title\": {\"x\": 0.05}, \"xaxis\": {\"automargin\": true, \"gridcolor\": \"white\", \"linecolor\": \"white\", \"ticks\": \"\", \"title\": {\"standoff\": 15}, \"zerolinecolor\": \"white\", \"zerolinewidth\": 2}, \"yaxis\": {\"automargin\": true, \"gridcolor\": \"white\", \"linecolor\": \"white\", \"ticks\": \"\", \"title\": {\"standoff\": 15}, \"zerolinecolor\": \"white\", \"zerolinewidth\": 2}}}, \"title\": {\"text\": \"top 10 synergies of 2017 IPL season\"}, \"xaxis\": {\"anchor\": \"y\", \"domain\": [0.0, 1.0], \"title\": {\"text\": \"runs\"}}, \"yaxis\": {\"anchor\": \"x\", \"domain\": [0.0, 1.0], \"title\": {\"text\": \"synergies\"}}},                        {\"responsive\": true}                    ).then(function(){\n",
       "                            \n",
       "var gd = document.getElementById('f32a9d79-e903-465b-a2d6-064d0a471dbd');\n",
       "var x = new MutationObserver(function (mutations, observer) {{\n",
       "        var display = window.getComputedStyle(gd).display;\n",
       "        if (!display || display === 'none') {{\n",
       "            console.log([gd, 'removed!']);\n",
       "            Plotly.purge(gd);\n",
       "            observer.disconnect();\n",
       "        }}\n",
       "}});\n",
       "\n",
       "// Listen for the removal of the full notebook cells\n",
       "var notebookContainer = gd.closest('#notebook-container');\n",
       "if (notebookContainer) {{\n",
       "    x.observe(notebookContainer, {childList: true});\n",
       "}}\n",
       "\n",
       "// Listen for the clearing of the current output cell\n",
       "var outputEl = gd.closest('.output');\n",
       "if (outputEl) {{\n",
       "    x.observe(outputEl, {childList: true});\n",
       "}}\n",
       "\n",
       "                        })                };                });            </script>        </div>"
      ]
     },
     "metadata": {},
     "output_type": "display_data"
    }
   ],
   "source": [
    "fig = px.bar(y = synergy_2017[0].tolist()[:10],x = synergy_2017[1].tolist()[:10],\n",
    "                       title =\"top 10 synergies of 2017 IPL season\", orientation = \"h\",color = synergy_2017[0].tolist()[:10])\n",
    "fig.update_yaxes(title = \"synergies\")\n",
    "fig.update_xaxes(title = \"runs\")\n",
    "fig.show()"
   ]
  },
  {
   "cell_type": "code",
   "execution_count": 32,
   "metadata": {
    "execution": {
     "iopub.execute_input": "2021-03-09T15:32:35.878558Z",
     "iopub.status.busy": "2021-03-09T15:32:35.877914Z",
     "iopub.status.idle": "2021-03-09T15:32:35.881655Z",
     "shell.execute_reply": "2021-03-09T15:32:35.881020Z"
    },
    "papermill": {
     "duration": 0.062604,
     "end_time": "2021-03-09T15:32:35.881788",
     "exception": false,
     "start_time": "2021-03-09T15:32:35.819184",
     "status": "completed"
    },
    "tags": []
   },
   "outputs": [],
   "source": [
    "matches_2017_top = deliveries_2017[deliveries_2017[\"batting_team\"].isin(matches_2017['winner'].value_counts().index.tolist()[:1])]"
   ]
  },
  {
   "cell_type": "code",
   "execution_count": 33,
   "metadata": {
    "execution": {
     "iopub.execute_input": "2021-03-09T15:32:35.991725Z",
     "iopub.status.busy": "2021-03-09T15:32:35.991012Z",
     "iopub.status.idle": "2021-03-09T15:32:35.999804Z",
     "shell.execute_reply": "2021-03-09T15:32:35.999235Z"
    },
    "papermill": {
     "duration": 0.065972,
     "end_time": "2021-03-09T15:32:35.999954",
     "exception": false,
     "start_time": "2021-03-09T15:32:35.933982",
     "status": "completed"
    },
    "tags": []
   },
   "outputs": [],
   "source": [
    "matches_2017_top_synergy = synergy_gen(matches_2017_top.reset_index())"
   ]
  },
  {
   "cell_type": "markdown",
   "metadata": {
    "papermill": {
     "duration": 0.053174,
     "end_time": "2021-03-09T15:32:36.105799",
     "exception": false,
     "start_time": "2021-03-09T15:32:36.052625",
     "status": "completed"
    },
    "tags": []
   },
   "source": [
    "### synergy of best team of 2017"
   ]
  },
  {
   "cell_type": "code",
   "execution_count": 34,
   "metadata": {
    "execution": {
     "iopub.execute_input": "2021-03-09T15:32:36.226795Z",
     "iopub.status.busy": "2021-03-09T15:32:36.226114Z",
     "iopub.status.idle": "2021-03-09T15:32:36.312401Z",
     "shell.execute_reply": "2021-03-09T15:32:36.311812Z"
    },
    "papermill": {
     "duration": 0.15418,
     "end_time": "2021-03-09T15:32:36.312525",
     "exception": false,
     "start_time": "2021-03-09T15:32:36.158345",
     "status": "completed"
    },
    "scrolled": false,
    "tags": []
   },
   "outputs": [
    {
     "data": {
      "text/html": [
       "<div>                            <div id=\"fd0a6c0c-348c-46f3-b7e3-631ca4a70455\" class=\"plotly-graph-div\" style=\"height:525px; width:100%;\"></div>            <script type=\"text/javascript\">                require([\"plotly\"], function(Plotly) {                    window.PLOTLYENV=window.PLOTLYENV || {};                                    if (document.getElementById(\"fd0a6c0c-348c-46f3-b7e3-631ca4a70455\")) {                    Plotly.newPlot(                        \"fd0a6c0c-348c-46f3-b7e3-631ca4a70455\",                        [{\"alignmentgroup\": \"True\", \"hovertemplate\": \"color=PA Patel-JC Buttler<br>x=%{x}<br>y=%{y}<extra></extra>\", \"legendgroup\": \"PA Patel-JC Buttler\", \"marker\": {\"color\": \"#636efa\"}, \"name\": \"PA Patel-JC Buttler\", \"offsetgroup\": \"PA Patel-JC Buttler\", \"orientation\": \"h\", \"showlegend\": true, \"textposition\": \"auto\", \"type\": \"bar\", \"x\": [364], \"xaxis\": \"x\", \"y\": [\"PA Patel-JC Buttler\"], \"yaxis\": \"y\"}, {\"alignmentgroup\": \"True\", \"hovertemplate\": \"color=LMP Simmons-PA Patel<br>x=%{x}<br>y=%{y}<extra></extra>\", \"legendgroup\": \"LMP Simmons-PA Patel\", \"marker\": {\"color\": \"#EF553B\"}, \"name\": \"LMP Simmons-PA Patel\", \"offsetgroup\": \"LMP Simmons-PA Patel\", \"orientation\": \"h\", \"showlegend\": true, \"textposition\": \"auto\", \"type\": \"bar\", \"x\": [238], \"xaxis\": \"x\", \"y\": [\"LMP Simmons-PA Patel\"], \"yaxis\": \"y\"}, {\"alignmentgroup\": \"True\", \"hovertemplate\": \"color=JC Buttler-N Rana<br>x=%{x}<br>y=%{y}<extra></extra>\", \"legendgroup\": \"JC Buttler-N Rana\", \"marker\": {\"color\": \"#00cc96\"}, \"name\": \"JC Buttler-N Rana\", \"offsetgroup\": \"JC Buttler-N Rana\", \"orientation\": \"h\", \"showlegend\": true, \"textposition\": \"auto\", \"type\": \"bar\", \"x\": [234], \"xaxis\": \"x\", \"y\": [\"JC Buttler-N Rana\"], \"yaxis\": \"y\"}, {\"alignmentgroup\": \"True\", \"hovertemplate\": \"color=KA Pollard-HH Pandya<br>x=%{x}<br>y=%{y}<extra></extra>\", \"legendgroup\": \"KA Pollard-HH Pandya\", \"marker\": {\"color\": \"#ab63fa\"}, \"name\": \"KA Pollard-HH Pandya\", \"offsetgroup\": \"KA Pollard-HH Pandya\", \"orientation\": \"h\", \"showlegend\": true, \"textposition\": \"auto\", \"type\": \"bar\", \"x\": [174], \"xaxis\": \"x\", \"y\": [\"KA Pollard-HH Pandya\"], \"yaxis\": \"y\"}, {\"alignmentgroup\": \"True\", \"hovertemplate\": \"color=RG Sharma-KA Pollard<br>x=%{x}<br>y=%{y}<extra></extra>\", \"legendgroup\": \"RG Sharma-KA Pollard\", \"marker\": {\"color\": \"#FFA15A\"}, \"name\": \"RG Sharma-KA Pollard\", \"offsetgroup\": \"RG Sharma-KA Pollard\", \"orientation\": \"h\", \"showlegend\": true, \"textposition\": \"auto\", \"type\": \"bar\", \"x\": [169], \"xaxis\": \"x\", \"y\": [\"RG Sharma-KA Pollard\"], \"yaxis\": \"y\"}, {\"alignmentgroup\": \"True\", \"hovertemplate\": \"color=KA Pollard-KH Pandya<br>x=%{x}<br>y=%{y}<extra></extra>\", \"legendgroup\": \"KA Pollard-KH Pandya\", \"marker\": {\"color\": \"#19d3f3\"}, \"name\": \"KA Pollard-KH Pandya\", \"offsetgroup\": \"KA Pollard-KH Pandya\", \"orientation\": \"h\", \"showlegend\": true, \"textposition\": \"auto\", \"type\": \"bar\", \"x\": [135], \"xaxis\": \"x\", \"y\": [\"KA Pollard-KH Pandya\"], \"yaxis\": \"y\"}, {\"alignmentgroup\": \"True\", \"hovertemplate\": \"color=RG Sharma-HH Pandya<br>x=%{x}<br>y=%{y}<extra></extra>\", \"legendgroup\": \"RG Sharma-HH Pandya\", \"marker\": {\"color\": \"#FF6692\"}, \"name\": \"RG Sharma-HH Pandya\", \"offsetgroup\": \"RG Sharma-HH Pandya\", \"orientation\": \"h\", \"showlegend\": true, \"textposition\": \"auto\", \"type\": \"bar\", \"x\": [129], \"xaxis\": \"x\", \"y\": [\"RG Sharma-HH Pandya\"], \"yaxis\": \"y\"}, {\"alignmentgroup\": \"True\", \"hovertemplate\": \"color=PA Patel-N Rana<br>x=%{x}<br>y=%{y}<extra></extra>\", \"legendgroup\": \"PA Patel-N Rana\", \"marker\": {\"color\": \"#B6E880\"}, \"name\": \"PA Patel-N Rana\", \"offsetgroup\": \"PA Patel-N Rana\", \"orientation\": \"h\", \"showlegend\": true, \"textposition\": \"auto\", \"type\": \"bar\", \"x\": [103], \"xaxis\": \"x\", \"y\": [\"PA Patel-N Rana\"], \"yaxis\": \"y\"}, {\"alignmentgroup\": \"True\", \"hovertemplate\": \"color=N Rana-KA Pollard<br>x=%{x}<br>y=%{y}<extra></extra>\", \"legendgroup\": \"N Rana-KA Pollard\", \"marker\": {\"color\": \"#FF97FF\"}, \"name\": \"N Rana-KA Pollard\", \"offsetgroup\": \"N Rana-KA Pollard\", \"orientation\": \"h\", \"showlegend\": true, \"textposition\": \"auto\", \"type\": \"bar\", \"x\": [101], \"xaxis\": \"x\", \"y\": [\"N Rana-KA Pollard\"], \"yaxis\": \"y\"}, {\"alignmentgroup\": \"True\", \"hovertemplate\": \"color=N Rana-HH Pandya<br>x=%{x}<br>y=%{y}<extra></extra>\", \"legendgroup\": \"N Rana-HH Pandya\", \"marker\": {\"color\": \"#FECB52\"}, \"name\": \"N Rana-HH Pandya\", \"offsetgroup\": \"N Rana-HH Pandya\", \"orientation\": \"h\", \"showlegend\": true, \"textposition\": \"auto\", \"type\": \"bar\", \"x\": [81], \"xaxis\": \"x\", \"y\": [\"N Rana-HH Pandya\"], \"yaxis\": \"y\"}],                        {\"barmode\": \"relative\", \"legend\": {\"title\": {\"text\": \"color\"}, \"tracegroupgap\": 0}, \"template\": {\"data\": {\"bar\": [{\"error_x\": {\"color\": \"#2a3f5f\"}, \"error_y\": {\"color\": \"#2a3f5f\"}, \"marker\": {\"line\": {\"color\": \"#E5ECF6\", \"width\": 0.5}}, \"type\": \"bar\"}], \"barpolar\": [{\"marker\": {\"line\": {\"color\": \"#E5ECF6\", \"width\": 0.5}}, \"type\": \"barpolar\"}], \"carpet\": [{\"aaxis\": {\"endlinecolor\": \"#2a3f5f\", \"gridcolor\": \"white\", \"linecolor\": \"white\", \"minorgridcolor\": \"white\", \"startlinecolor\": \"#2a3f5f\"}, \"baxis\": {\"endlinecolor\": \"#2a3f5f\", \"gridcolor\": \"white\", \"linecolor\": \"white\", \"minorgridcolor\": \"white\", \"startlinecolor\": \"#2a3f5f\"}, \"type\": \"carpet\"}], \"choropleth\": [{\"colorbar\": {\"outlinewidth\": 0, \"ticks\": \"\"}, \"type\": \"choropleth\"}], \"contour\": [{\"colorbar\": {\"outlinewidth\": 0, \"ticks\": \"\"}, \"colorscale\": [[0.0, \"#0d0887\"], [0.1111111111111111, \"#46039f\"], [0.2222222222222222, \"#7201a8\"], [0.3333333333333333, \"#9c179e\"], [0.4444444444444444, \"#bd3786\"], [0.5555555555555556, \"#d8576b\"], [0.6666666666666666, \"#ed7953\"], [0.7777777777777778, \"#fb9f3a\"], [0.8888888888888888, \"#fdca26\"], [1.0, \"#f0f921\"]], \"type\": \"contour\"}], \"contourcarpet\": [{\"colorbar\": {\"outlinewidth\": 0, \"ticks\": \"\"}, \"type\": \"contourcarpet\"}], \"heatmap\": [{\"colorbar\": {\"outlinewidth\": 0, \"ticks\": \"\"}, \"colorscale\": [[0.0, \"#0d0887\"], [0.1111111111111111, \"#46039f\"], [0.2222222222222222, \"#7201a8\"], [0.3333333333333333, \"#9c179e\"], [0.4444444444444444, \"#bd3786\"], [0.5555555555555556, \"#d8576b\"], [0.6666666666666666, \"#ed7953\"], [0.7777777777777778, \"#fb9f3a\"], [0.8888888888888888, \"#fdca26\"], [1.0, \"#f0f921\"]], \"type\": \"heatmap\"}], \"heatmapgl\": [{\"colorbar\": {\"outlinewidth\": 0, \"ticks\": \"\"}, \"colorscale\": [[0.0, \"#0d0887\"], [0.1111111111111111, \"#46039f\"], [0.2222222222222222, \"#7201a8\"], [0.3333333333333333, \"#9c179e\"], [0.4444444444444444, \"#bd3786\"], [0.5555555555555556, \"#d8576b\"], [0.6666666666666666, \"#ed7953\"], [0.7777777777777778, \"#fb9f3a\"], [0.8888888888888888, \"#fdca26\"], [1.0, \"#f0f921\"]], \"type\": \"heatmapgl\"}], \"histogram\": [{\"marker\": {\"colorbar\": {\"outlinewidth\": 0, \"ticks\": \"\"}}, \"type\": \"histogram\"}], \"histogram2d\": [{\"colorbar\": {\"outlinewidth\": 0, \"ticks\": \"\"}, \"colorscale\": [[0.0, \"#0d0887\"], [0.1111111111111111, \"#46039f\"], [0.2222222222222222, \"#7201a8\"], [0.3333333333333333, \"#9c179e\"], [0.4444444444444444, \"#bd3786\"], [0.5555555555555556, \"#d8576b\"], [0.6666666666666666, \"#ed7953\"], [0.7777777777777778, \"#fb9f3a\"], [0.8888888888888888, \"#fdca26\"], [1.0, \"#f0f921\"]], \"type\": \"histogram2d\"}], \"histogram2dcontour\": [{\"colorbar\": {\"outlinewidth\": 0, \"ticks\": \"\"}, \"colorscale\": [[0.0, \"#0d0887\"], [0.1111111111111111, \"#46039f\"], [0.2222222222222222, \"#7201a8\"], [0.3333333333333333, \"#9c179e\"], [0.4444444444444444, \"#bd3786\"], [0.5555555555555556, \"#d8576b\"], [0.6666666666666666, \"#ed7953\"], [0.7777777777777778, \"#fb9f3a\"], [0.8888888888888888, \"#fdca26\"], [1.0, \"#f0f921\"]], \"type\": \"histogram2dcontour\"}], \"mesh3d\": [{\"colorbar\": {\"outlinewidth\": 0, \"ticks\": \"\"}, \"type\": \"mesh3d\"}], \"parcoords\": [{\"line\": {\"colorbar\": {\"outlinewidth\": 0, \"ticks\": \"\"}}, \"type\": \"parcoords\"}], \"pie\": [{\"automargin\": true, \"type\": \"pie\"}], \"scatter\": [{\"marker\": {\"colorbar\": {\"outlinewidth\": 0, \"ticks\": \"\"}}, \"type\": \"scatter\"}], \"scatter3d\": [{\"line\": {\"colorbar\": {\"outlinewidth\": 0, \"ticks\": \"\"}}, \"marker\": {\"colorbar\": {\"outlinewidth\": 0, \"ticks\": \"\"}}, \"type\": \"scatter3d\"}], \"scattercarpet\": [{\"marker\": {\"colorbar\": {\"outlinewidth\": 0, \"ticks\": \"\"}}, \"type\": \"scattercarpet\"}], \"scattergeo\": [{\"marker\": {\"colorbar\": {\"outlinewidth\": 0, \"ticks\": \"\"}}, \"type\": \"scattergeo\"}], \"scattergl\": [{\"marker\": {\"colorbar\": {\"outlinewidth\": 0, \"ticks\": \"\"}}, \"type\": \"scattergl\"}], \"scattermapbox\": [{\"marker\": {\"colorbar\": {\"outlinewidth\": 0, \"ticks\": \"\"}}, \"type\": \"scattermapbox\"}], \"scatterpolar\": [{\"marker\": {\"colorbar\": {\"outlinewidth\": 0, \"ticks\": \"\"}}, \"type\": \"scatterpolar\"}], \"scatterpolargl\": [{\"marker\": {\"colorbar\": {\"outlinewidth\": 0, \"ticks\": \"\"}}, \"type\": \"scatterpolargl\"}], \"scatterternary\": [{\"marker\": {\"colorbar\": {\"outlinewidth\": 0, \"ticks\": \"\"}}, \"type\": \"scatterternary\"}], \"surface\": [{\"colorbar\": {\"outlinewidth\": 0, \"ticks\": \"\"}, \"colorscale\": [[0.0, \"#0d0887\"], [0.1111111111111111, \"#46039f\"], [0.2222222222222222, \"#7201a8\"], [0.3333333333333333, \"#9c179e\"], [0.4444444444444444, \"#bd3786\"], [0.5555555555555556, \"#d8576b\"], [0.6666666666666666, \"#ed7953\"], [0.7777777777777778, \"#fb9f3a\"], [0.8888888888888888, \"#fdca26\"], [1.0, \"#f0f921\"]], \"type\": \"surface\"}], \"table\": [{\"cells\": {\"fill\": {\"color\": \"#EBF0F8\"}, \"line\": {\"color\": \"white\"}}, \"header\": {\"fill\": {\"color\": \"#C8D4E3\"}, \"line\": {\"color\": \"white\"}}, \"type\": \"table\"}]}, \"layout\": {\"annotationdefaults\": {\"arrowcolor\": \"#2a3f5f\", \"arrowhead\": 0, \"arrowwidth\": 1}, \"autotypenumbers\": \"strict\", \"coloraxis\": {\"colorbar\": {\"outlinewidth\": 0, \"ticks\": \"\"}}, \"colorscale\": {\"diverging\": [[0, \"#8e0152\"], [0.1, \"#c51b7d\"], [0.2, \"#de77ae\"], [0.3, \"#f1b6da\"], [0.4, \"#fde0ef\"], [0.5, \"#f7f7f7\"], [0.6, \"#e6f5d0\"], [0.7, \"#b8e186\"], [0.8, \"#7fbc41\"], [0.9, \"#4d9221\"], [1, \"#276419\"]], \"sequential\": [[0.0, \"#0d0887\"], [0.1111111111111111, \"#46039f\"], [0.2222222222222222, \"#7201a8\"], [0.3333333333333333, \"#9c179e\"], [0.4444444444444444, \"#bd3786\"], [0.5555555555555556, \"#d8576b\"], [0.6666666666666666, \"#ed7953\"], [0.7777777777777778, \"#fb9f3a\"], [0.8888888888888888, \"#fdca26\"], [1.0, \"#f0f921\"]], \"sequentialminus\": [[0.0, \"#0d0887\"], [0.1111111111111111, \"#46039f\"], [0.2222222222222222, \"#7201a8\"], [0.3333333333333333, \"#9c179e\"], [0.4444444444444444, \"#bd3786\"], [0.5555555555555556, \"#d8576b\"], [0.6666666666666666, \"#ed7953\"], [0.7777777777777778, \"#fb9f3a\"], [0.8888888888888888, \"#fdca26\"], [1.0, \"#f0f921\"]]}, \"colorway\": [\"#636efa\", \"#EF553B\", \"#00cc96\", \"#ab63fa\", \"#FFA15A\", \"#19d3f3\", \"#FF6692\", \"#B6E880\", \"#FF97FF\", \"#FECB52\"], \"font\": {\"color\": \"#2a3f5f\"}, \"geo\": {\"bgcolor\": \"white\", \"lakecolor\": \"white\", \"landcolor\": \"#E5ECF6\", \"showlakes\": true, \"showland\": true, \"subunitcolor\": \"white\"}, \"hoverlabel\": {\"align\": \"left\"}, \"hovermode\": \"closest\", \"mapbox\": {\"style\": \"light\"}, \"paper_bgcolor\": \"white\", \"plot_bgcolor\": \"#E5ECF6\", \"polar\": {\"angularaxis\": {\"gridcolor\": \"white\", \"linecolor\": \"white\", \"ticks\": \"\"}, \"bgcolor\": \"#E5ECF6\", \"radialaxis\": {\"gridcolor\": \"white\", \"linecolor\": \"white\", \"ticks\": \"\"}}, \"scene\": {\"xaxis\": {\"backgroundcolor\": \"#E5ECF6\", \"gridcolor\": \"white\", \"gridwidth\": 2, \"linecolor\": \"white\", \"showbackground\": true, \"ticks\": \"\", \"zerolinecolor\": \"white\"}, \"yaxis\": {\"backgroundcolor\": \"#E5ECF6\", \"gridcolor\": \"white\", \"gridwidth\": 2, \"linecolor\": \"white\", \"showbackground\": true, \"ticks\": \"\", \"zerolinecolor\": \"white\"}, \"zaxis\": {\"backgroundcolor\": \"#E5ECF6\", \"gridcolor\": \"white\", \"gridwidth\": 2, \"linecolor\": \"white\", \"showbackground\": true, \"ticks\": \"\", \"zerolinecolor\": \"white\"}}, \"shapedefaults\": {\"line\": {\"color\": \"#2a3f5f\"}}, \"ternary\": {\"aaxis\": {\"gridcolor\": \"white\", \"linecolor\": \"white\", \"ticks\": \"\"}, \"baxis\": {\"gridcolor\": \"white\", \"linecolor\": \"white\", \"ticks\": \"\"}, \"bgcolor\": \"#E5ECF6\", \"caxis\": {\"gridcolor\": \"white\", \"linecolor\": \"white\", \"ticks\": \"\"}}, \"title\": {\"x\": 0.05}, \"xaxis\": {\"automargin\": true, \"gridcolor\": \"white\", \"linecolor\": \"white\", \"ticks\": \"\", \"title\": {\"standoff\": 15}, \"zerolinecolor\": \"white\", \"zerolinewidth\": 2}, \"yaxis\": {\"automargin\": true, \"gridcolor\": \"white\", \"linecolor\": \"white\", \"ticks\": \"\", \"title\": {\"standoff\": 15}, \"zerolinecolor\": \"white\", \"zerolinewidth\": 2}}}, \"title\": {\"text\": \"top 10 synergies of ['Mumbai Indians'] - 2017 \"}, \"xaxis\": {\"anchor\": \"y\", \"domain\": [0.0, 1.0], \"title\": {\"text\": \"runs\"}}, \"yaxis\": {\"anchor\": \"x\", \"domain\": [0.0, 1.0], \"title\": {\"text\": \"synergies\"}}},                        {\"responsive\": true}                    ).then(function(){\n",
       "                            \n",
       "var gd = document.getElementById('fd0a6c0c-348c-46f3-b7e3-631ca4a70455');\n",
       "var x = new MutationObserver(function (mutations, observer) {{\n",
       "        var display = window.getComputedStyle(gd).display;\n",
       "        if (!display || display === 'none') {{\n",
       "            console.log([gd, 'removed!']);\n",
       "            Plotly.purge(gd);\n",
       "            observer.disconnect();\n",
       "        }}\n",
       "}});\n",
       "\n",
       "// Listen for the removal of the full notebook cells\n",
       "var notebookContainer = gd.closest('#notebook-container');\n",
       "if (notebookContainer) {{\n",
       "    x.observe(notebookContainer, {childList: true});\n",
       "}}\n",
       "\n",
       "// Listen for the clearing of the current output cell\n",
       "var outputEl = gd.closest('.output');\n",
       "if (outputEl) {{\n",
       "    x.observe(outputEl, {childList: true});\n",
       "}}\n",
       "\n",
       "                        })                };                });            </script>        </div>"
      ]
     },
     "metadata": {},
     "output_type": "display_data"
    }
   ],
   "source": [
    "fig = px.bar(y = matches_2017_top_synergy[0].tolist()[:10],x = matches_2017_top_synergy[1].tolist()[:10],\n",
    "                       title =f\"top 10 synergies of {matches_2017['winner'].value_counts().index.tolist()[:1]} - 2017 \", orientation = \"h\",color = matches_2017_top_synergy[0].tolist()[:10])\n",
    "fig.update_yaxes(title = \"synergies\")\n",
    "fig.update_xaxes(title = \"runs\")\n",
    "fig.show()"
   ]
  },
  {
   "cell_type": "markdown",
   "metadata": {
    "papermill": {
     "duration": 0.053156,
     "end_time": "2021-03-09T15:32:36.418380",
     "exception": false,
     "start_time": "2021-03-09T15:32:36.365224",
     "status": "completed"
    },
    "tags": []
   },
   "source": [
    "## ---------------------------- season wide batch analytics split -1 (2008 - 2013) ---------------------------"
   ]
  },
  {
   "cell_type": "code",
   "execution_count": 35,
   "metadata": {
    "execution": {
     "iopub.execute_input": "2021-03-09T15:32:36.531035Z",
     "iopub.status.busy": "2021-03-09T15:32:36.530419Z",
     "iopub.status.idle": "2021-03-09T15:32:36.533756Z",
     "shell.execute_reply": "2021-03-09T15:32:36.533276Z"
    },
    "papermill": {
     "duration": 0.062241,
     "end_time": "2021-03-09T15:32:36.533892",
     "exception": false,
     "start_time": "2021-03-09T15:32:36.471651",
     "status": "completed"
    },
    "tags": []
   },
   "outputs": [],
   "source": [
    "yearlist = sorted(matches['season'].value_counts().index.tolist())"
   ]
  },
  {
   "cell_type": "code",
   "execution_count": 36,
   "metadata": {
    "execution": {
     "iopub.execute_input": "2021-03-09T15:32:36.648037Z",
     "iopub.status.busy": "2021-03-09T15:32:36.647387Z",
     "iopub.status.idle": "2021-03-09T15:32:36.650191Z",
     "shell.execute_reply": "2021-03-09T15:32:36.649565Z"
    },
    "papermill": {
     "duration": 0.061973,
     "end_time": "2021-03-09T15:32:36.650350",
     "exception": false,
     "start_time": "2021-03-09T15:32:36.588377",
     "status": "completed"
    },
    "tags": []
   },
   "outputs": [],
   "source": [
    "matches_first_split = matches[matches['season'].isin(yearlist[:6])]"
   ]
  },
  {
   "cell_type": "code",
   "execution_count": 37,
   "metadata": {
    "execution": {
     "iopub.execute_input": "2021-03-09T15:32:36.760674Z",
     "iopub.status.busy": "2021-03-09T15:32:36.760004Z",
     "iopub.status.idle": "2021-03-09T15:32:36.785832Z",
     "shell.execute_reply": "2021-03-09T15:32:36.786378Z"
    },
    "papermill": {
     "duration": 0.082531,
     "end_time": "2021-03-09T15:32:36.786558",
     "exception": false,
     "start_time": "2021-03-09T15:32:36.704027",
     "status": "completed"
    },
    "tags": []
   },
   "outputs": [
    {
     "data": {
      "text/html": [
       "<div>\n",
       "<style scoped>\n",
       "    .dataframe tbody tr th:only-of-type {\n",
       "        vertical-align: middle;\n",
       "    }\n",
       "\n",
       "    .dataframe tbody tr th {\n",
       "        vertical-align: top;\n",
       "    }\n",
       "\n",
       "    .dataframe thead th {\n",
       "        text-align: right;\n",
       "    }\n",
       "</style>\n",
       "<table border=\"1\" class=\"dataframe\">\n",
       "  <thead>\n",
       "    <tr style=\"text-align: right;\">\n",
       "      <th></th>\n",
       "      <th>index</th>\n",
       "      <th>id</th>\n",
       "      <th>season</th>\n",
       "      <th>city</th>\n",
       "      <th>date</th>\n",
       "      <th>team1</th>\n",
       "      <th>team2</th>\n",
       "      <th>toss_winner</th>\n",
       "      <th>toss_decision</th>\n",
       "      <th>result</th>\n",
       "      <th>...</th>\n",
       "      <th>winner</th>\n",
       "      <th>win_by_runs</th>\n",
       "      <th>win_by_wickets</th>\n",
       "      <th>player_of_match</th>\n",
       "      <th>venue</th>\n",
       "      <th>umpire1</th>\n",
       "      <th>umpire2</th>\n",
       "      <th>lat</th>\n",
       "      <th>lng</th>\n",
       "      <th>city_counts</th>\n",
       "    </tr>\n",
       "  </thead>\n",
       "  <tbody>\n",
       "    <tr>\n",
       "      <th>58</th>\n",
       "      <td>59</td>\n",
       "      <td>60</td>\n",
       "      <td>2008</td>\n",
       "      <td>Bangalore</td>\n",
       "      <td>2008-04-18</td>\n",
       "      <td>Kolkata Knight Riders</td>\n",
       "      <td>Royal Challengers Bangalore</td>\n",
       "      <td>Royal Challengers Bangalore</td>\n",
       "      <td>field</td>\n",
       "      <td>normal</td>\n",
       "      <td>...</td>\n",
       "      <td>Kolkata Knight Riders</td>\n",
       "      <td>140</td>\n",
       "      <td>0</td>\n",
       "      <td>BB McCullum</td>\n",
       "      <td>M Chinnaswamy Stadium</td>\n",
       "      <td>Asad Rauf</td>\n",
       "      <td>RE Koertzen</td>\n",
       "      <td>12.979120</td>\n",
       "      <td>77.591300</td>\n",
       "      <td>63</td>\n",
       "    </tr>\n",
       "    <tr>\n",
       "      <th>59</th>\n",
       "      <td>60</td>\n",
       "      <td>61</td>\n",
       "      <td>2008</td>\n",
       "      <td>Chandigarh</td>\n",
       "      <td>2008-04-19</td>\n",
       "      <td>Chennai Super Kings</td>\n",
       "      <td>Kings XI Punjab</td>\n",
       "      <td>Chennai Super Kings</td>\n",
       "      <td>bat</td>\n",
       "      <td>normal</td>\n",
       "      <td>...</td>\n",
       "      <td>Chennai Super Kings</td>\n",
       "      <td>33</td>\n",
       "      <td>0</td>\n",
       "      <td>MEK Hussey</td>\n",
       "      <td>Punjab Cricket Association Stadium, Mohali</td>\n",
       "      <td>MR Benson</td>\n",
       "      <td>SL Shastri</td>\n",
       "      <td>30.733442</td>\n",
       "      <td>76.779714</td>\n",
       "      <td>46</td>\n",
       "    </tr>\n",
       "    <tr>\n",
       "      <th>60</th>\n",
       "      <td>61</td>\n",
       "      <td>62</td>\n",
       "      <td>2008</td>\n",
       "      <td>Delhi</td>\n",
       "      <td>2008-04-19</td>\n",
       "      <td>Rajasthan Royals</td>\n",
       "      <td>Delhi Daredevils</td>\n",
       "      <td>Rajasthan Royals</td>\n",
       "      <td>bat</td>\n",
       "      <td>normal</td>\n",
       "      <td>...</td>\n",
       "      <td>Delhi Daredevils</td>\n",
       "      <td>0</td>\n",
       "      <td>9</td>\n",
       "      <td>MF Maharoof</td>\n",
       "      <td>Feroz Shah Kotla</td>\n",
       "      <td>Aleem Dar</td>\n",
       "      <td>GA Pratapkumar</td>\n",
       "      <td>28.651718</td>\n",
       "      <td>77.221939</td>\n",
       "      <td>73</td>\n",
       "    </tr>\n",
       "    <tr>\n",
       "      <th>61</th>\n",
       "      <td>62</td>\n",
       "      <td>63</td>\n",
       "      <td>2008</td>\n",
       "      <td>Mumbai</td>\n",
       "      <td>2008-04-20</td>\n",
       "      <td>Mumbai Indians</td>\n",
       "      <td>Royal Challengers Bangalore</td>\n",
       "      <td>Mumbai Indians</td>\n",
       "      <td>bat</td>\n",
       "      <td>normal</td>\n",
       "      <td>...</td>\n",
       "      <td>Royal Challengers Bangalore</td>\n",
       "      <td>0</td>\n",
       "      <td>5</td>\n",
       "      <td>MV Boucher</td>\n",
       "      <td>Wankhede Stadium</td>\n",
       "      <td>SJ Davis</td>\n",
       "      <td>DJ Harper</td>\n",
       "      <td>19.075990</td>\n",
       "      <td>72.877393</td>\n",
       "      <td>101</td>\n",
       "    </tr>\n",
       "    <tr>\n",
       "      <th>62</th>\n",
       "      <td>63</td>\n",
       "      <td>64</td>\n",
       "      <td>2008</td>\n",
       "      <td>Kolkata</td>\n",
       "      <td>2008-04-20</td>\n",
       "      <td>Deccan Chargers</td>\n",
       "      <td>Kolkata Knight Riders</td>\n",
       "      <td>Deccan Chargers</td>\n",
       "      <td>bat</td>\n",
       "      <td>normal</td>\n",
       "      <td>...</td>\n",
       "      <td>Kolkata Knight Riders</td>\n",
       "      <td>0</td>\n",
       "      <td>5</td>\n",
       "      <td>DJ Hussey</td>\n",
       "      <td>Eden Gardens</td>\n",
       "      <td>BF Bowden</td>\n",
       "      <td>K Hariharan</td>\n",
       "      <td>22.541418</td>\n",
       "      <td>88.357691</td>\n",
       "      <td>77</td>\n",
       "    </tr>\n",
       "  </tbody>\n",
       "</table>\n",
       "<p>5 rows × 21 columns</p>\n",
       "</div>"
      ],
      "text/plain": [
       "    index  id  season        city        date                  team1  \\\n",
       "58     59  60    2008   Bangalore  2008-04-18  Kolkata Knight Riders   \n",
       "59     60  61    2008  Chandigarh  2008-04-19    Chennai Super Kings   \n",
       "60     61  62    2008       Delhi  2008-04-19       Rajasthan Royals   \n",
       "61     62  63    2008      Mumbai  2008-04-20         Mumbai Indians   \n",
       "62     63  64    2008     Kolkata  2008-04-20        Deccan Chargers   \n",
       "\n",
       "                          team2                  toss_winner toss_decision  \\\n",
       "58  Royal Challengers Bangalore  Royal Challengers Bangalore         field   \n",
       "59              Kings XI Punjab          Chennai Super Kings           bat   \n",
       "60             Delhi Daredevils             Rajasthan Royals           bat   \n",
       "61  Royal Challengers Bangalore               Mumbai Indians           bat   \n",
       "62        Kolkata Knight Riders              Deccan Chargers           bat   \n",
       "\n",
       "    result  ...                       winner win_by_runs  win_by_wickets  \\\n",
       "58  normal  ...        Kolkata Knight Riders         140               0   \n",
       "59  normal  ...          Chennai Super Kings          33               0   \n",
       "60  normal  ...             Delhi Daredevils           0               9   \n",
       "61  normal  ...  Royal Challengers Bangalore           0               5   \n",
       "62  normal  ...        Kolkata Knight Riders           0               5   \n",
       "\n",
       "    player_of_match                                       venue    umpire1  \\\n",
       "58      BB McCullum                       M Chinnaswamy Stadium  Asad Rauf   \n",
       "59       MEK Hussey  Punjab Cricket Association Stadium, Mohali  MR Benson   \n",
       "60      MF Maharoof                            Feroz Shah Kotla  Aleem Dar   \n",
       "61       MV Boucher                            Wankhede Stadium   SJ Davis   \n",
       "62        DJ Hussey                                Eden Gardens  BF Bowden   \n",
       "\n",
       "           umpire2        lat        lng  city_counts  \n",
       "58     RE Koertzen  12.979120  77.591300           63  \n",
       "59      SL Shastri  30.733442  76.779714           46  \n",
       "60  GA Pratapkumar  28.651718  77.221939           73  \n",
       "61       DJ Harper  19.075990  72.877393          101  \n",
       "62     K Hariharan  22.541418  88.357691           77  \n",
       "\n",
       "[5 rows x 21 columns]"
      ]
     },
     "execution_count": 37,
     "metadata": {},
     "output_type": "execute_result"
    }
   ],
   "source": [
    "matches_first_split.head()"
   ]
  },
  {
   "cell_type": "code",
   "execution_count": 38,
   "metadata": {
    "execution": {
     "iopub.execute_input": "2021-03-09T15:32:36.901011Z",
     "iopub.status.busy": "2021-03-09T15:32:36.900375Z",
     "iopub.status.idle": "2021-03-09T15:32:36.960683Z",
     "shell.execute_reply": "2021-03-09T15:32:36.961242Z"
    },
    "papermill": {
     "duration": 0.120545,
     "end_time": "2021-03-09T15:32:36.961420",
     "exception": false,
     "start_time": "2021-03-09T15:32:36.840875",
     "status": "completed"
    },
    "tags": []
   },
   "outputs": [],
   "source": [
    "deliveries_2008 = deliveries[deliveries['match_id'].isin(sorted(matches_first_split[matches_first_split['season'] == 2008]['id'].value_counts().index.tolist()))].reset_index()\n",
    "deliveries_2009 = deliveries[deliveries['match_id'].isin(sorted(matches_first_split[matches_first_split['season'] == 2009]['id'].value_counts().index.tolist()))].reset_index()\n",
    "deliveries_2010 = deliveries[deliveries['match_id'].isin(sorted(matches_first_split[matches_first_split['season'] == 2010]['id'].value_counts().index.tolist()))].reset_index()\n",
    "deliveries_2011 = deliveries[deliveries['match_id'].isin(sorted(matches_first_split[matches_first_split['season'] == 2011]['id'].value_counts().index.tolist()))].reset_index()\n",
    "deliveries_2012 = deliveries[deliveries['match_id'].isin(sorted(matches_first_split[matches_first_split['season'] == 2012]['id'].value_counts().index.tolist()))].reset_index()\n",
    "deliveries_2013 = deliveries[deliveries['match_id'].isin(sorted(matches_first_split[matches_first_split['season'] == 2013]['id'].value_counts().index.tolist()))].reset_index()"
   ]
  },
  {
   "cell_type": "code",
   "execution_count": 39,
   "metadata": {
    "execution": {
     "iopub.execute_input": "2021-03-09T15:32:37.075489Z",
     "iopub.status.busy": "2021-03-09T15:32:37.074748Z",
     "iopub.status.idle": "2021-03-09T15:32:37.134588Z",
     "shell.execute_reply": "2021-03-09T15:32:37.134032Z"
    },
    "papermill": {
     "duration": 0.117864,
     "end_time": "2021-03-09T15:32:37.134741",
     "exception": false,
     "start_time": "2021-03-09T15:32:37.016877",
     "status": "completed"
    },
    "tags": []
   },
   "outputs": [
    {
     "data": {
      "text/html": [
       "<div>                            <div id=\"4746cfcd-4f1a-4675-92e1-617a31b21a7b\" class=\"plotly-graph-div\" style=\"height:525px; width:100%;\"></div>            <script type=\"text/javascript\">                require([\"plotly\"], function(Plotly) {                    window.PLOTLYENV=window.PLOTLYENV || {};                                    if (document.getElementById(\"4746cfcd-4f1a-4675-92e1-617a31b21a7b\")) {                    Plotly.newPlot(                        \"4746cfcd-4f1a-4675-92e1-617a31b21a7b\",                        [{\"domain\": {\"x\": [0.0, 0.2888888888888889], \"y\": [0.575, 1.0]}, \"labels\": [\"caught\", \"bowled\", \"run out\", \"lbw\", \"caught and bowled\", \"stumped\", \"hit wicket\", \"retired hurt\"], \"pull\": [0, 0.2, 0, 0.2, 0, 0, 0.2], \"title\": {\"text\": \"top OUT! reasons 2008\"}, \"type\": \"pie\", \"values\": [400, 131, 85, 37, 21, 13, 2, 1]}, {\"domain\": {\"x\": [0.35555555555555557, 0.6444444444444445], \"y\": [0.575, 1.0]}, \"labels\": [\"caught\", \"bowled\", \"run out\", \"lbw\", \"stumped\", \"caught and bowled\", \"hit wicket\"], \"pull\": [0, 0.2, 0, 0.2, 0, 0, 0.2], \"title\": {\"text\": \"top OUT! reasons 2009\"}, \"type\": \"pie\", \"values\": [415, 112, 76, 47, 29, 18, 1]}, {\"domain\": {\"x\": [0.7111111111111111, 1.0], \"y\": [0.575, 1.0]}, \"labels\": [\"caught\", \"bowled\", \"run out\", \"lbw\", \"stumped\", \"caught and bowled\", \"retired hurt\"], \"pull\": [0, 0.2, 0, 0.2, 0, 0, 0.2], \"title\": {\"text\": \"top OUT! reasons 2010\"}, \"type\": \"pie\", \"values\": [395, 141, 93, 41, 36, 17, 2]}, {\"domain\": {\"x\": [0.0, 0.2888888888888889], \"y\": [0.0, 0.425]}, \"labels\": [\"caught\", \"bowled\", \"run out\", \"lbw\", \"caught and bowled\", \"stumped\"], \"pull\": [0, 0.2, 0, 0.2, 0, 0, 0.2], \"title\": {\"text\": \"top OUT! reasons 2011\"}, \"type\": \"pie\", \"values\": [471, 154, 74, 54, 29, 28]}, {\"domain\": {\"x\": [0.35555555555555557, 0.6444444444444445], \"y\": [0.0, 0.425]}, \"labels\": [\"caught\", \"bowled\", \"run out\", \"lbw\", \"stumped\", \"caught and bowled\", \"hit wicket\", \"retired hurt\"], \"pull\": [0, 0.2, 0, 0.2, 0, 0, 0.2], \"title\": {\"text\": \"top OUT! reasons 2012\"}, \"type\": \"pie\", \"values\": [508, 166, 85, 42, 29, 25, 2, 1]}, {\"domain\": {\"x\": [0.7111111111111111, 1.0], \"y\": [0.0, 0.425]}, \"labels\": [\"caught\", \"bowled\", \"run out\", \"lbw\", \"caught and bowled\", \"stumped\", \"retired hurt\", \"obstructing the field\"], \"pull\": [0, 0.2, 0, 0.2, 0, 0, 0.2], \"title\": {\"text\": \"top OUT! reasons 2013\"}, \"type\": \"pie\", \"values\": [539, 170, 79, 70, 34, 18, 1, 1]}],                        {\"template\": {\"data\": {\"bar\": [{\"error_x\": {\"color\": \"#2a3f5f\"}, \"error_y\": {\"color\": \"#2a3f5f\"}, \"marker\": {\"line\": {\"color\": \"#E5ECF6\", \"width\": 0.5}}, \"type\": \"bar\"}], \"barpolar\": [{\"marker\": {\"line\": {\"color\": \"#E5ECF6\", \"width\": 0.5}}, \"type\": \"barpolar\"}], \"carpet\": [{\"aaxis\": {\"endlinecolor\": \"#2a3f5f\", \"gridcolor\": \"white\", \"linecolor\": \"white\", \"minorgridcolor\": \"white\", \"startlinecolor\": \"#2a3f5f\"}, \"baxis\": {\"endlinecolor\": \"#2a3f5f\", \"gridcolor\": \"white\", \"linecolor\": \"white\", \"minorgridcolor\": \"white\", \"startlinecolor\": \"#2a3f5f\"}, \"type\": \"carpet\"}], \"choropleth\": [{\"colorbar\": {\"outlinewidth\": 0, \"ticks\": \"\"}, \"type\": \"choropleth\"}], \"contour\": [{\"colorbar\": {\"outlinewidth\": 0, \"ticks\": \"\"}, \"colorscale\": [[0.0, \"#0d0887\"], [0.1111111111111111, \"#46039f\"], [0.2222222222222222, \"#7201a8\"], [0.3333333333333333, \"#9c179e\"], [0.4444444444444444, \"#bd3786\"], [0.5555555555555556, \"#d8576b\"], [0.6666666666666666, \"#ed7953\"], [0.7777777777777778, \"#fb9f3a\"], [0.8888888888888888, \"#fdca26\"], [1.0, \"#f0f921\"]], \"type\": \"contour\"}], \"contourcarpet\": [{\"colorbar\": {\"outlinewidth\": 0, \"ticks\": \"\"}, \"type\": \"contourcarpet\"}], \"heatmap\": [{\"colorbar\": {\"outlinewidth\": 0, \"ticks\": \"\"}, \"colorscale\": [[0.0, \"#0d0887\"], [0.1111111111111111, \"#46039f\"], [0.2222222222222222, \"#7201a8\"], [0.3333333333333333, \"#9c179e\"], [0.4444444444444444, \"#bd3786\"], [0.5555555555555556, \"#d8576b\"], [0.6666666666666666, \"#ed7953\"], [0.7777777777777778, \"#fb9f3a\"], [0.8888888888888888, \"#fdca26\"], [1.0, \"#f0f921\"]], \"type\": \"heatmap\"}], \"heatmapgl\": [{\"colorbar\": {\"outlinewidth\": 0, \"ticks\": \"\"}, \"colorscale\": [[0.0, \"#0d0887\"], [0.1111111111111111, \"#46039f\"], [0.2222222222222222, \"#7201a8\"], [0.3333333333333333, \"#9c179e\"], [0.4444444444444444, \"#bd3786\"], [0.5555555555555556, \"#d8576b\"], [0.6666666666666666, \"#ed7953\"], [0.7777777777777778, \"#fb9f3a\"], [0.8888888888888888, \"#fdca26\"], [1.0, \"#f0f921\"]], \"type\": \"heatmapgl\"}], \"histogram\": [{\"marker\": {\"colorbar\": {\"outlinewidth\": 0, \"ticks\": \"\"}}, \"type\": \"histogram\"}], \"histogram2d\": [{\"colorbar\": {\"outlinewidth\": 0, \"ticks\": \"\"}, \"colorscale\": [[0.0, \"#0d0887\"], [0.1111111111111111, \"#46039f\"], [0.2222222222222222, \"#7201a8\"], [0.3333333333333333, \"#9c179e\"], [0.4444444444444444, \"#bd3786\"], [0.5555555555555556, \"#d8576b\"], [0.6666666666666666, \"#ed7953\"], [0.7777777777777778, \"#fb9f3a\"], [0.8888888888888888, \"#fdca26\"], [1.0, \"#f0f921\"]], \"type\": \"histogram2d\"}], \"histogram2dcontour\": [{\"colorbar\": {\"outlinewidth\": 0, \"ticks\": \"\"}, \"colorscale\": [[0.0, \"#0d0887\"], [0.1111111111111111, \"#46039f\"], [0.2222222222222222, \"#7201a8\"], [0.3333333333333333, \"#9c179e\"], [0.4444444444444444, \"#bd3786\"], [0.5555555555555556, \"#d8576b\"], [0.6666666666666666, \"#ed7953\"], [0.7777777777777778, \"#fb9f3a\"], [0.8888888888888888, \"#fdca26\"], [1.0, \"#f0f921\"]], \"type\": \"histogram2dcontour\"}], \"mesh3d\": [{\"colorbar\": {\"outlinewidth\": 0, \"ticks\": \"\"}, \"type\": \"mesh3d\"}], \"parcoords\": [{\"line\": {\"colorbar\": {\"outlinewidth\": 0, \"ticks\": \"\"}}, \"type\": \"parcoords\"}], \"pie\": [{\"automargin\": true, \"type\": \"pie\"}], \"scatter\": [{\"marker\": {\"colorbar\": {\"outlinewidth\": 0, \"ticks\": \"\"}}, \"type\": \"scatter\"}], \"scatter3d\": [{\"line\": {\"colorbar\": {\"outlinewidth\": 0, \"ticks\": \"\"}}, \"marker\": {\"colorbar\": {\"outlinewidth\": 0, \"ticks\": \"\"}}, \"type\": \"scatter3d\"}], \"scattercarpet\": [{\"marker\": {\"colorbar\": {\"outlinewidth\": 0, \"ticks\": \"\"}}, \"type\": \"scattercarpet\"}], \"scattergeo\": [{\"marker\": {\"colorbar\": {\"outlinewidth\": 0, \"ticks\": \"\"}}, \"type\": \"scattergeo\"}], \"scattergl\": [{\"marker\": {\"colorbar\": {\"outlinewidth\": 0, \"ticks\": \"\"}}, \"type\": \"scattergl\"}], \"scattermapbox\": [{\"marker\": {\"colorbar\": {\"outlinewidth\": 0, \"ticks\": \"\"}}, \"type\": \"scattermapbox\"}], \"scatterpolar\": [{\"marker\": {\"colorbar\": {\"outlinewidth\": 0, \"ticks\": \"\"}}, \"type\": \"scatterpolar\"}], \"scatterpolargl\": [{\"marker\": {\"colorbar\": {\"outlinewidth\": 0, \"ticks\": \"\"}}, \"type\": \"scatterpolargl\"}], \"scatterternary\": [{\"marker\": {\"colorbar\": {\"outlinewidth\": 0, \"ticks\": \"\"}}, \"type\": \"scatterternary\"}], \"surface\": [{\"colorbar\": {\"outlinewidth\": 0, \"ticks\": \"\"}, \"colorscale\": [[0.0, \"#0d0887\"], [0.1111111111111111, \"#46039f\"], [0.2222222222222222, \"#7201a8\"], [0.3333333333333333, \"#9c179e\"], [0.4444444444444444, \"#bd3786\"], [0.5555555555555556, \"#d8576b\"], [0.6666666666666666, \"#ed7953\"], [0.7777777777777778, \"#fb9f3a\"], [0.8888888888888888, \"#fdca26\"], [1.0, \"#f0f921\"]], \"type\": \"surface\"}], \"table\": [{\"cells\": {\"fill\": {\"color\": \"#EBF0F8\"}, \"line\": {\"color\": \"white\"}}, \"header\": {\"fill\": {\"color\": \"#C8D4E3\"}, \"line\": {\"color\": \"white\"}}, \"type\": \"table\"}]}, \"layout\": {\"annotationdefaults\": {\"arrowcolor\": \"#2a3f5f\", \"arrowhead\": 0, \"arrowwidth\": 1}, \"autotypenumbers\": \"strict\", \"coloraxis\": {\"colorbar\": {\"outlinewidth\": 0, \"ticks\": \"\"}}, \"colorscale\": {\"diverging\": [[0, \"#8e0152\"], [0.1, \"#c51b7d\"], [0.2, \"#de77ae\"], [0.3, \"#f1b6da\"], [0.4, \"#fde0ef\"], [0.5, \"#f7f7f7\"], [0.6, \"#e6f5d0\"], [0.7, \"#b8e186\"], [0.8, \"#7fbc41\"], [0.9, \"#4d9221\"], [1, \"#276419\"]], \"sequential\": [[0.0, \"#0d0887\"], [0.1111111111111111, \"#46039f\"], [0.2222222222222222, \"#7201a8\"], [0.3333333333333333, \"#9c179e\"], [0.4444444444444444, \"#bd3786\"], [0.5555555555555556, \"#d8576b\"], [0.6666666666666666, \"#ed7953\"], [0.7777777777777778, \"#fb9f3a\"], [0.8888888888888888, \"#fdca26\"], [1.0, \"#f0f921\"]], \"sequentialminus\": [[0.0, \"#0d0887\"], [0.1111111111111111, \"#46039f\"], [0.2222222222222222, \"#7201a8\"], [0.3333333333333333, \"#9c179e\"], [0.4444444444444444, \"#bd3786\"], [0.5555555555555556, \"#d8576b\"], [0.6666666666666666, \"#ed7953\"], [0.7777777777777778, \"#fb9f3a\"], [0.8888888888888888, \"#fdca26\"], [1.0, \"#f0f921\"]]}, \"colorway\": [\"#636efa\", \"#EF553B\", \"#00cc96\", \"#ab63fa\", \"#FFA15A\", \"#19d3f3\", \"#FF6692\", \"#B6E880\", \"#FF97FF\", \"#FECB52\"], \"font\": {\"color\": \"#2a3f5f\"}, \"geo\": {\"bgcolor\": \"white\", \"lakecolor\": \"white\", \"landcolor\": \"#E5ECF6\", \"showlakes\": true, \"showland\": true, \"subunitcolor\": \"white\"}, \"hoverlabel\": {\"align\": \"left\"}, \"hovermode\": \"closest\", \"mapbox\": {\"style\": \"light\"}, \"paper_bgcolor\": \"white\", \"plot_bgcolor\": \"#E5ECF6\", \"polar\": {\"angularaxis\": {\"gridcolor\": \"white\", \"linecolor\": \"white\", \"ticks\": \"\"}, \"bgcolor\": \"#E5ECF6\", \"radialaxis\": {\"gridcolor\": \"white\", \"linecolor\": \"white\", \"ticks\": \"\"}}, \"scene\": {\"xaxis\": {\"backgroundcolor\": \"#E5ECF6\", \"gridcolor\": \"white\", \"gridwidth\": 2, \"linecolor\": \"white\", \"showbackground\": true, \"ticks\": \"\", \"zerolinecolor\": \"white\"}, \"yaxis\": {\"backgroundcolor\": \"#E5ECF6\", \"gridcolor\": \"white\", \"gridwidth\": 2, \"linecolor\": \"white\", \"showbackground\": true, \"ticks\": \"\", \"zerolinecolor\": \"white\"}, \"zaxis\": {\"backgroundcolor\": \"#E5ECF6\", \"gridcolor\": \"white\", \"gridwidth\": 2, \"linecolor\": \"white\", \"showbackground\": true, \"ticks\": \"\", \"zerolinecolor\": \"white\"}}, \"shapedefaults\": {\"line\": {\"color\": \"#2a3f5f\"}}, \"ternary\": {\"aaxis\": {\"gridcolor\": \"white\", \"linecolor\": \"white\", \"ticks\": \"\"}, \"baxis\": {\"gridcolor\": \"white\", \"linecolor\": \"white\", \"ticks\": \"\"}, \"bgcolor\": \"#E5ECF6\", \"caxis\": {\"gridcolor\": \"white\", \"linecolor\": \"white\", \"ticks\": \"\"}}, \"title\": {\"x\": 0.05}, \"xaxis\": {\"automargin\": true, \"gridcolor\": \"white\", \"linecolor\": \"white\", \"ticks\": \"\", \"title\": {\"standoff\": 15}, \"zerolinecolor\": \"white\", \"zerolinewidth\": 2}, \"yaxis\": {\"automargin\": true, \"gridcolor\": \"white\", \"linecolor\": \"white\", \"ticks\": \"\", \"title\": {\"standoff\": 15}, \"zerolinecolor\": \"white\", \"zerolinewidth\": 2}}}},                        {\"responsive\": true}                    ).then(function(){\n",
       "                            \n",
       "var gd = document.getElementById('4746cfcd-4f1a-4675-92e1-617a31b21a7b');\n",
       "var x = new MutationObserver(function (mutations, observer) {{\n",
       "        var display = window.getComputedStyle(gd).display;\n",
       "        if (!display || display === 'none') {{\n",
       "            console.log([gd, 'removed!']);\n",
       "            Plotly.purge(gd);\n",
       "            observer.disconnect();\n",
       "        }}\n",
       "}});\n",
       "\n",
       "// Listen for the removal of the full notebook cells\n",
       "var notebookContainer = gd.closest('#notebook-container');\n",
       "if (notebookContainer) {{\n",
       "    x.observe(notebookContainer, {childList: true});\n",
       "}}\n",
       "\n",
       "// Listen for the clearing of the current output cell\n",
       "var outputEl = gd.closest('.output');\n",
       "if (outputEl) {{\n",
       "    x.observe(outputEl, {childList: true});\n",
       "}}\n",
       "\n",
       "                        })                };                });            </script>        </div>"
      ]
     },
     "metadata": {},
     "output_type": "display_data"
    }
   ],
   "source": [
    "fig = make_subplots(rows =2 ,cols = 3,\n",
    "                   specs = [[{\"type\":\"pie\"},{\"type\":\"pie\"},{\"type\":\"pie\"}],\n",
    "                            [{\"type\":\"pie\"},{\"type\":\"pie\"},{\"type\":\"pie\"}]])\n",
    "fig.add_trace(go.Pie(labels = deliveries_2008['dismissal_kind'].value_counts().index, values =deliveries_2008['dismissal_kind'].value_counts().values,\n",
    "             title= \"top OUT! reasons 2008\",pull = [0,0.2,0,0.2,0,0,0.2]),1,1)\n",
    "fig.add_trace(go.Pie(labels = deliveries_2009['dismissal_kind'].value_counts().index, values =deliveries_2009['dismissal_kind'].value_counts().values,\n",
    "             title= \"top OUT! reasons 2009\",pull = [0,0.2,0,0.2,0,0,0.2]),1,2)\n",
    "fig.add_trace(go.Pie(labels = deliveries_2010['dismissal_kind'].value_counts().index, values =deliveries_2010['dismissal_kind'].value_counts().values,\n",
    "             title= \"top OUT! reasons 2010\",pull = [0,0.2,0,0.2,0,0,0.2]),1,3)\n",
    "fig.add_trace(go.Pie(labels = deliveries_2011['dismissal_kind'].value_counts().index, values =deliveries_2011['dismissal_kind'].value_counts().values,\n",
    "             title= \"top OUT! reasons 2011\",pull = [0,0.2,0,0.2,0,0,0.2]),2,1)\n",
    "fig.add_trace(go.Pie(labels = deliveries_2012['dismissal_kind'].value_counts().index, values =deliveries_2012['dismissal_kind'].value_counts().values,\n",
    "             title= \"top OUT! reasons 2012\",pull = [0,0.2,0,0.2,0,0,0.2]),2,2)\n",
    "fig.add_trace(go.Pie(labels = deliveries_2013['dismissal_kind'].value_counts().index, values =deliveries_2013['dismissal_kind'].value_counts().values,\n",
    "             title= \"top OUT! reasons 2013\",pull = [0,0.2,0,0.2,0,0,0.2]),2,3)\n",
    "fig.show()"
   ]
  },
  {
   "cell_type": "code",
   "execution_count": 40,
   "metadata": {
    "execution": {
     "iopub.execute_input": "2021-03-09T15:32:37.283651Z",
     "iopub.status.busy": "2021-03-09T15:32:37.278466Z",
     "iopub.status.idle": "2021-03-09T15:32:37.368871Z",
     "shell.execute_reply": "2021-03-09T15:32:37.368358Z"
    },
    "papermill": {
     "duration": 0.179574,
     "end_time": "2021-03-09T15:32:37.369031",
     "exception": false,
     "start_time": "2021-03-09T15:32:37.189457",
     "status": "completed"
    },
    "scrolled": false,
    "tags": []
   },
   "outputs": [
    {
     "data": {
      "text/html": [
       "<div>                            <div id=\"2226d2d6-c89b-49cf-bff8-8ff6b41e611f\" class=\"plotly-graph-div\" style=\"height:1200px; width:100%;\"></div>            <script type=\"text/javascript\">                require([\"plotly\"], function(Plotly) {                    window.PLOTLYENV=window.PLOTLYENV || {};                                    if (document.getElementById(\"2226d2d6-c89b-49cf-bff8-8ff6b41e611f\")) {                    Plotly.newPlot(                        \"2226d2d6-c89b-49cf-bff8-8ff6b41e611f\",                        [{\"name\": \"2008\", \"orientation\": \"h\", \"type\": \"bar\", \"x\": [13, 10, 9, 7, 7, 6, 4, 2], \"xaxis\": \"x\", \"y\": [\"Rajasthan Royals\", \"Kings XI Punjab\", \"Chennai Super Kings\", \"Mumbai Indians\", \"Delhi Daredevils\", \"Kolkata Knight Riders\", \"Royal Challengers Bangalore\", \"Deccan Chargers\"], \"yaxis\": \"y\"}, {\"name\": \"2009\", \"orientation\": \"h\", \"type\": \"bar\", \"x\": [10, 9, 9, 8, 7, 6, 5, 3], \"xaxis\": \"x2\", \"y\": [\"Delhi Daredevils\", \"Deccan Chargers\", \"Royal Challengers Bangalore\", \"Chennai Super Kings\", \"Kings XI Punjab\", \"Rajasthan Royals\", \"Mumbai Indians\", \"Kolkata Knight Riders\"], \"yaxis\": \"y2\"}, {\"name\": \"2010\", \"orientation\": \"h\", \"type\": \"bar\", \"x\": [11, 9, 8, 8, 7, 7, 6, 4], \"xaxis\": \"x3\", \"y\": [\"Mumbai Indians\", \"Chennai Super Kings\", \"Deccan Chargers\", \"Royal Challengers Bangalore\", \"Kolkata Knight Riders\", \"Delhi Daredevils\", \"Rajasthan Royals\", \"Kings XI Punjab\"], \"yaxis\": \"y3\"}, {\"name\": \"2011\", \"orientation\": \"h\", \"type\": \"bar\", \"x\": [11, 10, 10, 8, 7, 6, 6, 6, 4, 4], \"xaxis\": \"x4\", \"y\": [\"Chennai Super Kings\", \"Mumbai Indians\", \"Royal Challengers Bangalore\", \"Kolkata Knight Riders\", \"Kings XI Punjab\", \"Deccan Chargers\", \"Rajasthan Royals\", \"Kochi Tuskers Kerala\", \"Delhi Daredevils\", \"Pune Warriors\"], \"yaxis\": \"y4\"}, {\"name\": \"2012\", \"orientation\": \"h\", \"type\": \"bar\", \"x\": [12, 11, 10, 10, 8, 8, 7, 4, 4], \"xaxis\": \"x5\", \"y\": [\"Kolkata Knight Riders\", \"Delhi Daredevils\", \"Mumbai Indians\", \"Chennai Super Kings\", \"Kings XI Punjab\", \"Royal Challengers Bangalore\", \"Rajasthan Royals\", \"Deccan Chargers\", \"Pune Warriors\"], \"yaxis\": \"y5\"}, {\"name\": \"2013\", \"orientation\": \"h\", \"type\": \"bar\", \"x\": [13, 12, 11, 10, 9, 8, 6, 4, 3], \"xaxis\": \"x6\", \"y\": [\"Mumbai Indians\", \"Chennai Super Kings\", \"Rajasthan Royals\", \"Sunrisers Hyderabad\", \"Royal Challengers Bangalore\", \"Kings XI Punjab\", \"Kolkata Knight Riders\", \"Pune Warriors\", \"Delhi Daredevils\"], \"yaxis\": \"y6\"}],                        {\"height\": 1200, \"template\": {\"data\": {\"bar\": [{\"error_x\": {\"color\": \"#2a3f5f\"}, \"error_y\": {\"color\": \"#2a3f5f\"}, \"marker\": {\"line\": {\"color\": \"#E5ECF6\", \"width\": 0.5}}, \"type\": \"bar\"}], \"barpolar\": [{\"marker\": {\"line\": {\"color\": \"#E5ECF6\", \"width\": 0.5}}, \"type\": \"barpolar\"}], \"carpet\": [{\"aaxis\": {\"endlinecolor\": \"#2a3f5f\", \"gridcolor\": \"white\", \"linecolor\": \"white\", \"minorgridcolor\": \"white\", \"startlinecolor\": \"#2a3f5f\"}, \"baxis\": {\"endlinecolor\": \"#2a3f5f\", \"gridcolor\": \"white\", \"linecolor\": \"white\", \"minorgridcolor\": \"white\", \"startlinecolor\": \"#2a3f5f\"}, \"type\": \"carpet\"}], \"choropleth\": [{\"colorbar\": {\"outlinewidth\": 0, \"ticks\": \"\"}, \"type\": \"choropleth\"}], \"contour\": [{\"colorbar\": {\"outlinewidth\": 0, \"ticks\": \"\"}, \"colorscale\": [[0.0, \"#0d0887\"], [0.1111111111111111, \"#46039f\"], [0.2222222222222222, \"#7201a8\"], [0.3333333333333333, \"#9c179e\"], [0.4444444444444444, \"#bd3786\"], [0.5555555555555556, \"#d8576b\"], [0.6666666666666666, \"#ed7953\"], [0.7777777777777778, \"#fb9f3a\"], [0.8888888888888888, \"#fdca26\"], [1.0, \"#f0f921\"]], \"type\": \"contour\"}], \"contourcarpet\": [{\"colorbar\": {\"outlinewidth\": 0, \"ticks\": \"\"}, \"type\": \"contourcarpet\"}], \"heatmap\": [{\"colorbar\": {\"outlinewidth\": 0, \"ticks\": \"\"}, \"colorscale\": [[0.0, \"#0d0887\"], [0.1111111111111111, \"#46039f\"], [0.2222222222222222, \"#7201a8\"], [0.3333333333333333, \"#9c179e\"], [0.4444444444444444, \"#bd3786\"], [0.5555555555555556, \"#d8576b\"], [0.6666666666666666, \"#ed7953\"], [0.7777777777777778, \"#fb9f3a\"], [0.8888888888888888, \"#fdca26\"], [1.0, \"#f0f921\"]], \"type\": \"heatmap\"}], \"heatmapgl\": [{\"colorbar\": {\"outlinewidth\": 0, \"ticks\": \"\"}, \"colorscale\": [[0.0, \"#0d0887\"], [0.1111111111111111, \"#46039f\"], [0.2222222222222222, \"#7201a8\"], [0.3333333333333333, \"#9c179e\"], [0.4444444444444444, \"#bd3786\"], [0.5555555555555556, \"#d8576b\"], [0.6666666666666666, \"#ed7953\"], [0.7777777777777778, \"#fb9f3a\"], [0.8888888888888888, \"#fdca26\"], [1.0, \"#f0f921\"]], \"type\": \"heatmapgl\"}], \"histogram\": [{\"marker\": {\"colorbar\": {\"outlinewidth\": 0, \"ticks\": \"\"}}, \"type\": \"histogram\"}], \"histogram2d\": [{\"colorbar\": {\"outlinewidth\": 0, \"ticks\": \"\"}, \"colorscale\": [[0.0, \"#0d0887\"], [0.1111111111111111, \"#46039f\"], [0.2222222222222222, \"#7201a8\"], [0.3333333333333333, \"#9c179e\"], [0.4444444444444444, \"#bd3786\"], [0.5555555555555556, \"#d8576b\"], [0.6666666666666666, \"#ed7953\"], [0.7777777777777778, \"#fb9f3a\"], [0.8888888888888888, \"#fdca26\"], [1.0, \"#f0f921\"]], \"type\": \"histogram2d\"}], \"histogram2dcontour\": [{\"colorbar\": {\"outlinewidth\": 0, \"ticks\": \"\"}, \"colorscale\": [[0.0, \"#0d0887\"], [0.1111111111111111, \"#46039f\"], [0.2222222222222222, \"#7201a8\"], [0.3333333333333333, \"#9c179e\"], [0.4444444444444444, \"#bd3786\"], [0.5555555555555556, \"#d8576b\"], [0.6666666666666666, \"#ed7953\"], [0.7777777777777778, \"#fb9f3a\"], [0.8888888888888888, \"#fdca26\"], [1.0, \"#f0f921\"]], \"type\": \"histogram2dcontour\"}], \"mesh3d\": [{\"colorbar\": {\"outlinewidth\": 0, \"ticks\": \"\"}, \"type\": \"mesh3d\"}], \"parcoords\": [{\"line\": {\"colorbar\": {\"outlinewidth\": 0, \"ticks\": \"\"}}, \"type\": \"parcoords\"}], \"pie\": [{\"automargin\": true, \"type\": \"pie\"}], \"scatter\": [{\"marker\": {\"colorbar\": {\"outlinewidth\": 0, \"ticks\": \"\"}}, \"type\": \"scatter\"}], \"scatter3d\": [{\"line\": {\"colorbar\": {\"outlinewidth\": 0, \"ticks\": \"\"}}, \"marker\": {\"colorbar\": {\"outlinewidth\": 0, \"ticks\": \"\"}}, \"type\": \"scatter3d\"}], \"scattercarpet\": [{\"marker\": {\"colorbar\": {\"outlinewidth\": 0, \"ticks\": \"\"}}, \"type\": \"scattercarpet\"}], \"scattergeo\": [{\"marker\": {\"colorbar\": {\"outlinewidth\": 0, \"ticks\": \"\"}}, \"type\": \"scattergeo\"}], \"scattergl\": [{\"marker\": {\"colorbar\": {\"outlinewidth\": 0, \"ticks\": \"\"}}, \"type\": \"scattergl\"}], \"scattermapbox\": [{\"marker\": {\"colorbar\": {\"outlinewidth\": 0, \"ticks\": \"\"}}, \"type\": \"scattermapbox\"}], \"scatterpolar\": [{\"marker\": {\"colorbar\": {\"outlinewidth\": 0, \"ticks\": \"\"}}, \"type\": \"scatterpolar\"}], \"scatterpolargl\": [{\"marker\": {\"colorbar\": {\"outlinewidth\": 0, \"ticks\": \"\"}}, \"type\": \"scatterpolargl\"}], \"scatterternary\": [{\"marker\": {\"colorbar\": {\"outlinewidth\": 0, \"ticks\": \"\"}}, \"type\": \"scatterternary\"}], \"surface\": [{\"colorbar\": {\"outlinewidth\": 0, \"ticks\": \"\"}, \"colorscale\": [[0.0, \"#0d0887\"], [0.1111111111111111, \"#46039f\"], [0.2222222222222222, \"#7201a8\"], [0.3333333333333333, \"#9c179e\"], [0.4444444444444444, \"#bd3786\"], [0.5555555555555556, \"#d8576b\"], [0.6666666666666666, \"#ed7953\"], [0.7777777777777778, \"#fb9f3a\"], [0.8888888888888888, \"#fdca26\"], [1.0, \"#f0f921\"]], \"type\": \"surface\"}], \"table\": [{\"cells\": {\"fill\": {\"color\": \"#EBF0F8\"}, \"line\": {\"color\": \"white\"}}, \"header\": {\"fill\": {\"color\": \"#C8D4E3\"}, \"line\": {\"color\": \"white\"}}, \"type\": \"table\"}]}, \"layout\": {\"annotationdefaults\": {\"arrowcolor\": \"#2a3f5f\", \"arrowhead\": 0, \"arrowwidth\": 1}, \"autotypenumbers\": \"strict\", \"coloraxis\": {\"colorbar\": {\"outlinewidth\": 0, \"ticks\": \"\"}}, \"colorscale\": {\"diverging\": [[0, \"#8e0152\"], [0.1, \"#c51b7d\"], [0.2, \"#de77ae\"], [0.3, \"#f1b6da\"], [0.4, \"#fde0ef\"], [0.5, \"#f7f7f7\"], [0.6, \"#e6f5d0\"], [0.7, \"#b8e186\"], [0.8, \"#7fbc41\"], [0.9, \"#4d9221\"], [1, \"#276419\"]], \"sequential\": [[0.0, \"#0d0887\"], [0.1111111111111111, \"#46039f\"], [0.2222222222222222, \"#7201a8\"], [0.3333333333333333, \"#9c179e\"], [0.4444444444444444, \"#bd3786\"], [0.5555555555555556, \"#d8576b\"], [0.6666666666666666, \"#ed7953\"], [0.7777777777777778, \"#fb9f3a\"], [0.8888888888888888, \"#fdca26\"], [1.0, \"#f0f921\"]], \"sequentialminus\": [[0.0, \"#0d0887\"], [0.1111111111111111, \"#46039f\"], [0.2222222222222222, \"#7201a8\"], [0.3333333333333333, \"#9c179e\"], [0.4444444444444444, \"#bd3786\"], [0.5555555555555556, \"#d8576b\"], [0.6666666666666666, \"#ed7953\"], [0.7777777777777778, \"#fb9f3a\"], [0.8888888888888888, \"#fdca26\"], [1.0, \"#f0f921\"]]}, \"colorway\": [\"#636efa\", \"#EF553B\", \"#00cc96\", \"#ab63fa\", \"#FFA15A\", \"#19d3f3\", \"#FF6692\", \"#B6E880\", \"#FF97FF\", \"#FECB52\"], \"font\": {\"color\": \"#2a3f5f\"}, \"geo\": {\"bgcolor\": \"white\", \"lakecolor\": \"white\", \"landcolor\": \"#E5ECF6\", \"showlakes\": true, \"showland\": true, \"subunitcolor\": \"white\"}, \"hoverlabel\": {\"align\": \"left\"}, \"hovermode\": \"closest\", \"mapbox\": {\"style\": \"light\"}, \"paper_bgcolor\": \"white\", \"plot_bgcolor\": \"#E5ECF6\", \"polar\": {\"angularaxis\": {\"gridcolor\": \"white\", \"linecolor\": \"white\", \"ticks\": \"\"}, \"bgcolor\": \"#E5ECF6\", \"radialaxis\": {\"gridcolor\": \"white\", \"linecolor\": \"white\", \"ticks\": \"\"}}, \"scene\": {\"xaxis\": {\"backgroundcolor\": \"#E5ECF6\", \"gridcolor\": \"white\", \"gridwidth\": 2, \"linecolor\": \"white\", \"showbackground\": true, \"ticks\": \"\", \"zerolinecolor\": \"white\"}, \"yaxis\": {\"backgroundcolor\": \"#E5ECF6\", \"gridcolor\": \"white\", \"gridwidth\": 2, \"linecolor\": \"white\", \"showbackground\": true, \"ticks\": \"\", \"zerolinecolor\": \"white\"}, \"zaxis\": {\"backgroundcolor\": \"#E5ECF6\", \"gridcolor\": \"white\", \"gridwidth\": 2, \"linecolor\": \"white\", \"showbackground\": true, \"ticks\": \"\", \"zerolinecolor\": \"white\"}}, \"shapedefaults\": {\"line\": {\"color\": \"#2a3f5f\"}}, \"ternary\": {\"aaxis\": {\"gridcolor\": \"white\", \"linecolor\": \"white\", \"ticks\": \"\"}, \"baxis\": {\"gridcolor\": \"white\", \"linecolor\": \"white\", \"ticks\": \"\"}, \"bgcolor\": \"#E5ECF6\", \"caxis\": {\"gridcolor\": \"white\", \"linecolor\": \"white\", \"ticks\": \"\"}}, \"title\": {\"x\": 0.05}, \"xaxis\": {\"automargin\": true, \"gridcolor\": \"white\", \"linecolor\": \"white\", \"ticks\": \"\", \"title\": {\"standoff\": 15}, \"zerolinecolor\": \"white\", \"zerolinewidth\": 2}, \"yaxis\": {\"automargin\": true, \"gridcolor\": \"white\", \"linecolor\": \"white\", \"ticks\": \"\", \"title\": {\"standoff\": 15}, \"zerolinecolor\": \"white\", \"zerolinewidth\": 2}}}, \"title\": {\"text\": \"Most Team Wins\"}, \"xaxis\": {\"anchor\": \"y\", \"domain\": [0.0, 1.0], \"showticklabels\": false, \"title\": {\"text\": \"wins\"}}, \"xaxis2\": {\"anchor\": \"y2\", \"domain\": [0.0, 1.0], \"showticklabels\": false, \"title\": {\"text\": \"wins\"}}, \"xaxis3\": {\"anchor\": \"y3\", \"domain\": [0.0, 1.0], \"showticklabels\": false, \"title\": {\"text\": \"wins\"}}, \"xaxis4\": {\"anchor\": \"y4\", \"domain\": [0.0, 1.0], \"showticklabels\": false, \"title\": {\"text\": \"wins\"}}, \"xaxis5\": {\"anchor\": \"y5\", \"domain\": [0.0, 1.0], \"showticklabels\": false, \"title\": {\"text\": \"wins\"}}, \"xaxis6\": {\"anchor\": \"y6\", \"domain\": [0.0, 1.0], \"showticklabels\": false, \"title\": {\"text\": \"wins\"}}, \"yaxis\": {\"anchor\": \"x\", \"domain\": [0.8541666666666667, 1.0], \"showticklabels\": true, \"title\": {\"text\": \"teams\"}}, \"yaxis2\": {\"anchor\": \"x2\", \"domain\": [0.6833333333333333, 0.8291666666666667], \"showticklabels\": true, \"title\": {\"text\": \"teams\"}}, \"yaxis3\": {\"anchor\": \"x3\", \"domain\": [0.5125000000000001, 0.6583333333333333], \"showticklabels\": true, \"title\": {\"text\": \"teams\"}}, \"yaxis4\": {\"anchor\": \"x4\", \"domain\": [0.3416666666666667, 0.48750000000000004], \"showticklabels\": true, \"title\": {\"text\": \"teams\"}}, \"yaxis5\": {\"anchor\": \"x5\", \"domain\": [0.17083333333333334, 0.3166666666666667], \"showticklabels\": true, \"title\": {\"text\": \"teams\"}}, \"yaxis6\": {\"anchor\": \"x6\", \"domain\": [0.0, 0.14583333333333334], \"showticklabels\": true, \"title\": {\"text\": \"teams\"}}},                        {\"responsive\": true}                    ).then(function(){\n",
       "                            \n",
       "var gd = document.getElementById('2226d2d6-c89b-49cf-bff8-8ff6b41e611f');\n",
       "var x = new MutationObserver(function (mutations, observer) {{\n",
       "        var display = window.getComputedStyle(gd).display;\n",
       "        if (!display || display === 'none') {{\n",
       "            console.log([gd, 'removed!']);\n",
       "            Plotly.purge(gd);\n",
       "            observer.disconnect();\n",
       "        }}\n",
       "}});\n",
       "\n",
       "// Listen for the removal of the full notebook cells\n",
       "var notebookContainer = gd.closest('#notebook-container');\n",
       "if (notebookContainer) {{\n",
       "    x.observe(notebookContainer, {childList: true});\n",
       "}}\n",
       "\n",
       "// Listen for the clearing of the current output cell\n",
       "var outputEl = gd.closest('.output');\n",
       "if (outputEl) {{\n",
       "    x.observe(outputEl, {childList: true});\n",
       "}}\n",
       "\n",
       "                        })                };                });            </script>        </div>"
      ]
     },
     "metadata": {},
     "output_type": "display_data"
    }
   ],
   "source": [
    "fig = make_subplots(rows = 12,cols = 1, specs = [[{'type':\"bar\",'rowspan':2}],\n",
    "                                              [None],\n",
    "                                              [{'type':\"bar\",'rowspan':2}],\n",
    "                                              [None],\n",
    "                                              [{'type':\"bar\",'rowspan':2}],\n",
    "                                              [None],\n",
    "                                              [{'type':\"bar\",'rowspan':2}],\n",
    "                                              [None],\n",
    "                                              [{'type':\"bar\",'rowspan':2}],\n",
    "                                              [None],\n",
    "                                              [{'type':\"bar\",'rowspan':2}],\n",
    "                                              [None],])\n",
    "\n",
    "fig.add_trace(go.Bar(y = matches_first_split[matches_first_split['season'] == 2008]['winner'].value_counts().index, x = matches_first_split[matches_first_split['season'] == 2008]['winner'].value_counts().values,\n",
    "                     name = \"2008\",orientation = \"h\"),1,1)\n",
    "fig.add_trace(go.Bar(y = matches_first_split[matches_first_split['season'] == 2009]['winner'].value_counts().index, x = matches_first_split[matches_first_split['season'] == 2009]['winner'].value_counts().values,\n",
    "                     name = \"2009\",orientation = \"h\"),3,1)\n",
    "fig.add_trace(go.Bar(y = matches_first_split[matches_first_split['season'] == 2010]['winner'].value_counts().index, x = matches_first_split[matches_first_split['season'] == 2010]['winner'].value_counts().values,\n",
    "                     name = \"2010\",orientation = \"h\"),5,1)\n",
    "fig.add_trace(go.Bar(y = matches_first_split[matches_first_split['season'] == 2011]['winner'].value_counts().index, x = matches_first_split[matches_first_split['season'] == 2011]['winner'].value_counts().values,\n",
    "                     name = \"2011\",orientation = \"h\"),7,1)\n",
    "fig.add_trace(go.Bar(y = matches_first_split[matches_first_split['season'] == 2012]['winner'].value_counts().index, x = matches_first_split[matches_first_split['season'] == 2012]['winner'].value_counts().values,\n",
    "                     name = \"2012\",orientation = \"h\"),9,1)\n",
    "fig.add_trace(go.Bar(y = matches_first_split[matches_first_split['season'] == 2013]['winner'].value_counts().index, x = matches_first_split[matches_first_split['season'] == 2013]['winner'].value_counts().values,\n",
    "                     name = \"2013\",orientation = \"h\"),11,1)\n",
    "fig.update_xaxes(showticklabels=False,title = \"wins\")\n",
    "fig.update_yaxes(showticklabels=True,title = \"teams\")\n",
    "fig.update_layout(title = \"Most Team Wins\",height = 1200)\n",
    "fig.show()"
   ]
  },
  {
   "cell_type": "code",
   "execution_count": 41,
   "metadata": {
    "execution": {
     "iopub.execute_input": "2021-03-09T15:32:37.515929Z",
     "iopub.status.busy": "2021-03-09T15:32:37.510851Z",
     "iopub.status.idle": "2021-03-09T15:32:37.831274Z",
     "shell.execute_reply": "2021-03-09T15:32:37.831743Z"
    },
    "papermill": {
     "duration": 0.405997,
     "end_time": "2021-03-09T15:32:37.831932",
     "exception": false,
     "start_time": "2021-03-09T15:32:37.425935",
     "status": "completed"
    },
    "tags": []
   },
   "outputs": [
    {
     "data": {
      "text/html": [
       "<div>                            <div id=\"ce70ee3b-d86f-4b65-b07c-5b4d18ef0dd5\" class=\"plotly-graph-div\" style=\"height:1300px; width:100%;\"></div>            <script type=\"text/javascript\">                require([\"plotly\"], function(Plotly) {                    window.PLOTLYENV=window.PLOTLYENV || {};                                    if (document.getElementById(\"ce70ee3b-d86f-4b65-b07c-5b4d18ef0dd5\")) {                    Plotly.newPlot(                        \"ce70ee3b-d86f-4b65-b07c-5b4d18ef0dd5\",                        [{\"name\": \"2008\", \"orientation\": \"h\", \"type\": \"bar\", \"x\": [544, 511, 428, 403, 311, 298, 292, 276, 252, 240], \"xaxis\": \"x\", \"y\": [\"G Gambhir-V Sehwag\", \"G Gambhir-S Dhawan\", \"GC Smith-SA Asnodkar\", \"ST Jayasuriya-SR Tendulkar\", \"SC Ganguly-DJ Hussey\", \"AC Gilchrist-HH Gibbs\", \"GC Smith-SR Watson\", \"SE Marsh-JR Hopes\", \"SE Marsh-LA Pomersbach\", \"AC Gilchrist-VVS Laxman\"], \"yaxis\": \"y\"}, {\"name\": \"2009\", \"orientation\": \"h\", \"type\": \"bar\", \"x\": [455, 282, 273, 261, 243, 237, 222, 213, 197, 184], \"xaxis\": \"x2\", \"y\": [\"AC Gilchrist-HH Gibbs\", \"ML Hayden-MS Dhoni\", \"ST Jayasuriya-SR Tendulkar\", \"ML Hayden-SK Raina\", \"PA Patel-ML Hayden\", \"G Gambhir-V Sehwag\", \"G Gambhir-DA Warner\", \"AB de Villiers-KD Karthik\", \"G Gambhir-TM Dilshan\", \"JH Kallis-RV Uthappa\"], \"yaxis\": \"y2\"}, {\"name\": \"2010\", \"orientation\": \"h\", \"type\": \"bar\", \"x\": [464, 367, 352, 344, 343, 311, 284, 266, 247, 238], \"xaxis\": \"x3\", \"y\": [\"MK Pandey-JH Kallis\", \"MJ Lumb-NV Ojha\", \"M Vijay-ML Hayden\", \"M Vijay-SK Raina\", \"S Dhawan-SR Tendulkar\", \"SS Tiwary-AT Rayudu\", \"DA Warner-V Sehwag\", \"SK Raina-S Badrinath\", \"JH Kallis-V Kohli\", \"SC Ganguly-CH Gayle\"], \"yaxis\": \"y3\"}, {\"name\": \"2011\", \"orientation\": \"h\", \"type\": \"bar\", \"x\": [532, 440, 427, 414, 380, 362, 345, 340, 317, 302], \"xaxis\": \"x4\", \"y\": [\"SR Tendulkar-AT Rayudu\", \"SR Watson-R Dravid\", \"CH Gayle-V Kohli\", \"MEK Hussey-M Vijay\", \"AC Gilchrist-SE Marsh\", \"BB McCullum-DPMD Jayawardene\", \"JH Kallis-G Gambhir\", \"DA Warner-V Sehwag\", \"AC Gilchrist-PC Valthaty\", \"PC Valthaty-SE Marsh\"], \"yaxis\": \"y4\"}, {\"name\": \"2012\", \"orientation\": \"h\", \"type\": \"bar\", \"x\": [596, 595, 413, 327, 304, 261, 250, 250, 241, 235], \"xaxis\": \"x5\", \"y\": [\"R Dravid-AM Rahane\", \"CH Gayle-V Kohli\", \"S Dhawan-CL White\", \"V Sehwag-KP Pietersen\", \"BB McCullum-G Gambhir\", \"MEK Hussey-M Vijay\", \"AM Rahane-OA Shah\", \"F du Plessis-SK Raina\", \"AT Rayudu-KA Pollard\", \"G Gambhir-BB McCullum\"], \"yaxis\": \"y5\"}, {\"name\": \"2013\", \"orientation\": \"h\", \"type\": \"bar\", \"x\": [614, 582, 407, 394, 371, 356, 351, 337, 335, 286], \"xaxis\": \"x6\", \"y\": [\"RV Uthappa-AJ Finch\", \"MEK Hussey-SK Raina\", \"MEK Hussey-M Vijay\", \"RG Sharma-KA Pollard\", \"V Kohli-AB de Villiers\", \"R Dravid-AM Rahane\", \"KD Karthik-RG Sharma\", \"CH Gayle-V Kohli\", \"DPMD Jayawardene-V Sehwag\", \"DR Smith-SR Tendulkar\"], \"yaxis\": \"y6\"}],                        {\"height\": 1300, \"template\": {\"data\": {\"bar\": [{\"error_x\": {\"color\": \"#2a3f5f\"}, \"error_y\": {\"color\": \"#2a3f5f\"}, \"marker\": {\"line\": {\"color\": \"#E5ECF6\", \"width\": 0.5}}, \"type\": \"bar\"}], \"barpolar\": [{\"marker\": {\"line\": {\"color\": \"#E5ECF6\", \"width\": 0.5}}, \"type\": \"barpolar\"}], \"carpet\": [{\"aaxis\": {\"endlinecolor\": \"#2a3f5f\", \"gridcolor\": \"white\", \"linecolor\": \"white\", \"minorgridcolor\": \"white\", \"startlinecolor\": \"#2a3f5f\"}, \"baxis\": {\"endlinecolor\": \"#2a3f5f\", \"gridcolor\": \"white\", \"linecolor\": \"white\", \"minorgridcolor\": \"white\", \"startlinecolor\": \"#2a3f5f\"}, \"type\": \"carpet\"}], \"choropleth\": [{\"colorbar\": {\"outlinewidth\": 0, \"ticks\": \"\"}, \"type\": \"choropleth\"}], \"contour\": [{\"colorbar\": {\"outlinewidth\": 0, \"ticks\": \"\"}, \"colorscale\": [[0.0, \"#0d0887\"], [0.1111111111111111, \"#46039f\"], [0.2222222222222222, \"#7201a8\"], [0.3333333333333333, \"#9c179e\"], [0.4444444444444444, \"#bd3786\"], [0.5555555555555556, \"#d8576b\"], [0.6666666666666666, \"#ed7953\"], [0.7777777777777778, \"#fb9f3a\"], [0.8888888888888888, \"#fdca26\"], [1.0, \"#f0f921\"]], \"type\": \"contour\"}], \"contourcarpet\": [{\"colorbar\": {\"outlinewidth\": 0, \"ticks\": \"\"}, \"type\": \"contourcarpet\"}], \"heatmap\": [{\"colorbar\": {\"outlinewidth\": 0, \"ticks\": \"\"}, \"colorscale\": [[0.0, \"#0d0887\"], [0.1111111111111111, \"#46039f\"], [0.2222222222222222, \"#7201a8\"], [0.3333333333333333, \"#9c179e\"], [0.4444444444444444, \"#bd3786\"], [0.5555555555555556, \"#d8576b\"], [0.6666666666666666, \"#ed7953\"], [0.7777777777777778, \"#fb9f3a\"], [0.8888888888888888, \"#fdca26\"], [1.0, \"#f0f921\"]], \"type\": \"heatmap\"}], \"heatmapgl\": [{\"colorbar\": {\"outlinewidth\": 0, \"ticks\": \"\"}, \"colorscale\": [[0.0, \"#0d0887\"], [0.1111111111111111, \"#46039f\"], [0.2222222222222222, \"#7201a8\"], [0.3333333333333333, \"#9c179e\"], [0.4444444444444444, \"#bd3786\"], [0.5555555555555556, \"#d8576b\"], [0.6666666666666666, \"#ed7953\"], [0.7777777777777778, \"#fb9f3a\"], [0.8888888888888888, \"#fdca26\"], [1.0, \"#f0f921\"]], \"type\": \"heatmapgl\"}], \"histogram\": [{\"marker\": {\"colorbar\": {\"outlinewidth\": 0, \"ticks\": \"\"}}, \"type\": \"histogram\"}], \"histogram2d\": [{\"colorbar\": {\"outlinewidth\": 0, \"ticks\": \"\"}, \"colorscale\": [[0.0, \"#0d0887\"], [0.1111111111111111, \"#46039f\"], [0.2222222222222222, \"#7201a8\"], [0.3333333333333333, \"#9c179e\"], [0.4444444444444444, \"#bd3786\"], [0.5555555555555556, \"#d8576b\"], [0.6666666666666666, \"#ed7953\"], [0.7777777777777778, \"#fb9f3a\"], [0.8888888888888888, \"#fdca26\"], [1.0, \"#f0f921\"]], \"type\": \"histogram2d\"}], \"histogram2dcontour\": [{\"colorbar\": {\"outlinewidth\": 0, \"ticks\": \"\"}, \"colorscale\": [[0.0, \"#0d0887\"], [0.1111111111111111, \"#46039f\"], [0.2222222222222222, \"#7201a8\"], [0.3333333333333333, \"#9c179e\"], [0.4444444444444444, \"#bd3786\"], [0.5555555555555556, \"#d8576b\"], [0.6666666666666666, \"#ed7953\"], [0.7777777777777778, \"#fb9f3a\"], [0.8888888888888888, \"#fdca26\"], [1.0, \"#f0f921\"]], \"type\": \"histogram2dcontour\"}], \"mesh3d\": [{\"colorbar\": {\"outlinewidth\": 0, \"ticks\": \"\"}, \"type\": \"mesh3d\"}], \"parcoords\": [{\"line\": {\"colorbar\": {\"outlinewidth\": 0, \"ticks\": \"\"}}, \"type\": \"parcoords\"}], \"pie\": [{\"automargin\": true, \"type\": \"pie\"}], \"scatter\": [{\"marker\": {\"colorbar\": {\"outlinewidth\": 0, \"ticks\": \"\"}}, \"type\": \"scatter\"}], \"scatter3d\": [{\"line\": {\"colorbar\": {\"outlinewidth\": 0, \"ticks\": \"\"}}, \"marker\": {\"colorbar\": {\"outlinewidth\": 0, \"ticks\": \"\"}}, \"type\": \"scatter3d\"}], \"scattercarpet\": [{\"marker\": {\"colorbar\": {\"outlinewidth\": 0, \"ticks\": \"\"}}, \"type\": \"scattercarpet\"}], \"scattergeo\": [{\"marker\": {\"colorbar\": {\"outlinewidth\": 0, \"ticks\": \"\"}}, \"type\": \"scattergeo\"}], \"scattergl\": [{\"marker\": {\"colorbar\": {\"outlinewidth\": 0, \"ticks\": \"\"}}, \"type\": \"scattergl\"}], \"scattermapbox\": [{\"marker\": {\"colorbar\": {\"outlinewidth\": 0, \"ticks\": \"\"}}, \"type\": \"scattermapbox\"}], \"scatterpolar\": [{\"marker\": {\"colorbar\": {\"outlinewidth\": 0, \"ticks\": \"\"}}, \"type\": \"scatterpolar\"}], \"scatterpolargl\": [{\"marker\": {\"colorbar\": {\"outlinewidth\": 0, \"ticks\": \"\"}}, \"type\": \"scatterpolargl\"}], \"scatterternary\": [{\"marker\": {\"colorbar\": {\"outlinewidth\": 0, \"ticks\": \"\"}}, \"type\": \"scatterternary\"}], \"surface\": [{\"colorbar\": {\"outlinewidth\": 0, \"ticks\": \"\"}, \"colorscale\": [[0.0, \"#0d0887\"], [0.1111111111111111, \"#46039f\"], [0.2222222222222222, \"#7201a8\"], [0.3333333333333333, \"#9c179e\"], [0.4444444444444444, \"#bd3786\"], [0.5555555555555556, \"#d8576b\"], [0.6666666666666666, \"#ed7953\"], [0.7777777777777778, \"#fb9f3a\"], [0.8888888888888888, \"#fdca26\"], [1.0, \"#f0f921\"]], \"type\": \"surface\"}], \"table\": [{\"cells\": {\"fill\": {\"color\": \"#EBF0F8\"}, \"line\": {\"color\": \"white\"}}, \"header\": {\"fill\": {\"color\": \"#C8D4E3\"}, \"line\": {\"color\": \"white\"}}, \"type\": \"table\"}]}, \"layout\": {\"annotationdefaults\": {\"arrowcolor\": \"#2a3f5f\", \"arrowhead\": 0, \"arrowwidth\": 1}, \"autotypenumbers\": \"strict\", \"coloraxis\": {\"colorbar\": {\"outlinewidth\": 0, \"ticks\": \"\"}}, \"colorscale\": {\"diverging\": [[0, \"#8e0152\"], [0.1, \"#c51b7d\"], [0.2, \"#de77ae\"], [0.3, \"#f1b6da\"], [0.4, \"#fde0ef\"], [0.5, \"#f7f7f7\"], [0.6, \"#e6f5d0\"], [0.7, \"#b8e186\"], [0.8, \"#7fbc41\"], [0.9, \"#4d9221\"], [1, \"#276419\"]], \"sequential\": [[0.0, \"#0d0887\"], [0.1111111111111111, \"#46039f\"], [0.2222222222222222, \"#7201a8\"], [0.3333333333333333, \"#9c179e\"], [0.4444444444444444, \"#bd3786\"], [0.5555555555555556, \"#d8576b\"], [0.6666666666666666, \"#ed7953\"], [0.7777777777777778, \"#fb9f3a\"], [0.8888888888888888, \"#fdca26\"], [1.0, \"#f0f921\"]], \"sequentialminus\": [[0.0, \"#0d0887\"], [0.1111111111111111, \"#46039f\"], [0.2222222222222222, \"#7201a8\"], [0.3333333333333333, \"#9c179e\"], [0.4444444444444444, \"#bd3786\"], [0.5555555555555556, \"#d8576b\"], [0.6666666666666666, \"#ed7953\"], [0.7777777777777778, \"#fb9f3a\"], [0.8888888888888888, \"#fdca26\"], [1.0, \"#f0f921\"]]}, \"colorway\": [\"#636efa\", \"#EF553B\", \"#00cc96\", \"#ab63fa\", \"#FFA15A\", \"#19d3f3\", \"#FF6692\", \"#B6E880\", \"#FF97FF\", \"#FECB52\"], \"font\": {\"color\": \"#2a3f5f\"}, \"geo\": {\"bgcolor\": \"white\", \"lakecolor\": \"white\", \"landcolor\": \"#E5ECF6\", \"showlakes\": true, \"showland\": true, \"subunitcolor\": \"white\"}, \"hoverlabel\": {\"align\": \"left\"}, \"hovermode\": \"closest\", \"mapbox\": {\"style\": \"light\"}, \"paper_bgcolor\": \"white\", \"plot_bgcolor\": \"#E5ECF6\", \"polar\": {\"angularaxis\": {\"gridcolor\": \"white\", \"linecolor\": \"white\", \"ticks\": \"\"}, \"bgcolor\": \"#E5ECF6\", \"radialaxis\": {\"gridcolor\": \"white\", \"linecolor\": \"white\", \"ticks\": \"\"}}, \"scene\": {\"xaxis\": {\"backgroundcolor\": \"#E5ECF6\", \"gridcolor\": \"white\", \"gridwidth\": 2, \"linecolor\": \"white\", \"showbackground\": true, \"ticks\": \"\", \"zerolinecolor\": \"white\"}, \"yaxis\": {\"backgroundcolor\": \"#E5ECF6\", \"gridcolor\": \"white\", \"gridwidth\": 2, \"linecolor\": \"white\", \"showbackground\": true, \"ticks\": \"\", \"zerolinecolor\": \"white\"}, \"zaxis\": {\"backgroundcolor\": \"#E5ECF6\", \"gridcolor\": \"white\", \"gridwidth\": 2, \"linecolor\": \"white\", \"showbackground\": true, \"ticks\": \"\", \"zerolinecolor\": \"white\"}}, \"shapedefaults\": {\"line\": {\"color\": \"#2a3f5f\"}}, \"ternary\": {\"aaxis\": {\"gridcolor\": \"white\", \"linecolor\": \"white\", \"ticks\": \"\"}, \"baxis\": {\"gridcolor\": \"white\", \"linecolor\": \"white\", \"ticks\": \"\"}, \"bgcolor\": \"#E5ECF6\", \"caxis\": {\"gridcolor\": \"white\", \"linecolor\": \"white\", \"ticks\": \"\"}}, \"title\": {\"x\": 0.05}, \"xaxis\": {\"automargin\": true, \"gridcolor\": \"white\", \"linecolor\": \"white\", \"ticks\": \"\", \"title\": {\"standoff\": 15}, \"zerolinecolor\": \"white\", \"zerolinewidth\": 2}, \"yaxis\": {\"automargin\": true, \"gridcolor\": \"white\", \"linecolor\": \"white\", \"ticks\": \"\", \"title\": {\"standoff\": 15}, \"zerolinecolor\": \"white\", \"zerolinewidth\": 2}}}, \"title\": {\"text\": \"Top 10 Synergies (w.r.t Season)\"}, \"xaxis\": {\"anchor\": \"y\", \"domain\": [0.0, 1.0], \"showticklabels\": true}, \"xaxis2\": {\"anchor\": \"y2\", \"domain\": [0.0, 1.0], \"showticklabels\": true}, \"xaxis3\": {\"anchor\": \"y3\", \"domain\": [0.0, 1.0], \"showticklabels\": true}, \"xaxis4\": {\"anchor\": \"y4\", \"domain\": [0.0, 1.0], \"showticklabels\": true}, \"xaxis5\": {\"anchor\": \"y5\", \"domain\": [0.0, 1.0], \"showticklabels\": true}, \"xaxis6\": {\"anchor\": \"y6\", \"domain\": [0.0, 1.0], \"showticklabels\": true}, \"yaxis\": {\"anchor\": \"x\", \"domain\": [0.8541666666666667, 1.0], \"showticklabels\": true, \"title\": {\"text\": \"players\"}}, \"yaxis2\": {\"anchor\": \"x2\", \"domain\": [0.6833333333333333, 0.8291666666666667], \"showticklabels\": true, \"title\": {\"text\": \"players\"}}, \"yaxis3\": {\"anchor\": \"x3\", \"domain\": [0.5125000000000001, 0.6583333333333333], \"showticklabels\": true, \"title\": {\"text\": \"players\"}}, \"yaxis4\": {\"anchor\": \"x4\", \"domain\": [0.3416666666666667, 0.48750000000000004], \"showticklabels\": true, \"title\": {\"text\": \"players\"}}, \"yaxis5\": {\"anchor\": \"x5\", \"domain\": [0.17083333333333334, 0.3166666666666667], \"showticklabels\": true, \"title\": {\"text\": \"players\"}}, \"yaxis6\": {\"anchor\": \"x6\", \"domain\": [0.0, 0.14583333333333334], \"showticklabels\": true, \"title\": {\"text\": \"players\"}}},                        {\"responsive\": true}                    ).then(function(){\n",
       "                            \n",
       "var gd = document.getElementById('ce70ee3b-d86f-4b65-b07c-5b4d18ef0dd5');\n",
       "var x = new MutationObserver(function (mutations, observer) {{\n",
       "        var display = window.getComputedStyle(gd).display;\n",
       "        if (!display || display === 'none') {{\n",
       "            console.log([gd, 'removed!']);\n",
       "            Plotly.purge(gd);\n",
       "            observer.disconnect();\n",
       "        }}\n",
       "}});\n",
       "\n",
       "// Listen for the removal of the full notebook cells\n",
       "var notebookContainer = gd.closest('#notebook-container');\n",
       "if (notebookContainer) {{\n",
       "    x.observe(notebookContainer, {childList: true});\n",
       "}}\n",
       "\n",
       "// Listen for the clearing of the current output cell\n",
       "var outputEl = gd.closest('.output');\n",
       "if (outputEl) {{\n",
       "    x.observe(outputEl, {childList: true});\n",
       "}}\n",
       "\n",
       "                        })                };                });            </script>        </div>"
      ]
     },
     "metadata": {},
     "output_type": "display_data"
    }
   ],
   "source": [
    "fig = make_subplots(rows = 12,cols = 1, specs = [[{'type':\"bar\",'rowspan':2}],\n",
    "                                              [None],\n",
    "                                              [{'type':\"bar\",'rowspan':2}],\n",
    "                                              [None],\n",
    "                                              [{'type':\"bar\",'rowspan':2}],\n",
    "                                              [None],\n",
    "                                              [{'type':\"bar\",'rowspan':2}],\n",
    "                                              [None],\n",
    "                                              [{'type':\"bar\",'rowspan':2}],\n",
    "                                              [None],\n",
    "                                              [{'type':\"bar\",'rowspan':2}],\n",
    "                                              [None],])\n",
    "\n",
    "fig.add_trace(go.Bar(y = synergy_gen(deliveries_2008)[0].tolist()[:10], x = synergy_gen(deliveries_2008)[1].tolist()[:10],\n",
    "                     name = \"2008\",orientation = \"h\"),1,1)\n",
    "fig.add_trace(go.Bar(y = synergy_gen(deliveries_2009)[0].tolist()[:10], x = synergy_gen(deliveries_2009)[1].tolist()[:10],\n",
    "                     name = \"2009\",orientation = \"h\"),3,1)\n",
    "fig.add_trace(go.Bar(y = synergy_gen(deliveries_2010)[0].tolist()[:10], x = synergy_gen(deliveries_2010)[1].tolist()[:10],\n",
    "                     name = \"2010\",orientation = \"h\"),5,1)\n",
    "fig.add_trace(go.Bar(y = synergy_gen(deliveries_2011)[0].tolist()[:10], x = synergy_gen(deliveries_2011)[1].tolist()[:10],\n",
    "                     name = \"2011\",orientation = \"h\"),7,1)\n",
    "fig.add_trace(go.Bar(y = synergy_gen(deliveries_2012)[0].tolist()[:10], x = synergy_gen(deliveries_2012)[1].tolist()[:10],\n",
    "                     name = \"2012\",orientation = \"h\"),9,1)\n",
    "fig.add_trace(go.Bar(y = synergy_gen(deliveries_2013)[0].tolist()[:10], x = synergy_gen(deliveries_2013)[1].tolist()[:10],\n",
    "                     name = \"2013\",orientation = \"h\"),11,1)\n",
    "fig.update_xaxes(showticklabels=True)\n",
    "fig.update_yaxes(showticklabels=True,title = \"players\")\n",
    "fig.update_layout(title = \"Top 10 Synergies (w.r.t Season)\",height = 1300)\n",
    "fig.show()"
   ]
  },
  {
   "cell_type": "markdown",
   "metadata": {
    "papermill": {
     "duration": 0.055954,
     "end_time": "2021-03-09T15:32:37.945382",
     "exception": false,
     "start_time": "2021-03-09T15:32:37.889428",
     "status": "completed"
    },
    "tags": []
   },
   "source": [
    "## ---------------------------- season wide batch analytics split -2 (2014 - 2019)  ---------------------------"
   ]
  },
  {
   "cell_type": "markdown",
   "metadata": {
    "papermill": {
     "duration": 0.056588,
     "end_time": "2021-03-09T15:32:38.057619",
     "exception": false,
     "start_time": "2021-03-09T15:32:38.001031",
     "status": "completed"
    },
    "tags": []
   },
   "source": [
    "### excluding 2017 ^_^ (it received special test treatment)"
   ]
  },
  {
   "cell_type": "code",
   "execution_count": 42,
   "metadata": {
    "execution": {
     "iopub.execute_input": "2021-03-09T15:32:38.178248Z",
     "iopub.status.busy": "2021-03-09T15:32:38.177572Z",
     "iopub.status.idle": "2021-03-09T15:32:38.180352Z",
     "shell.execute_reply": "2021-03-09T15:32:38.180810Z"
    },
    "papermill": {
     "duration": 0.066828,
     "end_time": "2021-03-09T15:32:38.180982",
     "exception": false,
     "start_time": "2021-03-09T15:32:38.114154",
     "status": "completed"
    },
    "tags": []
   },
   "outputs": [],
   "source": [
    "matches_second_split = matches[matches['season'].isin(yearlist[6:])]"
   ]
  },
  {
   "cell_type": "code",
   "execution_count": 43,
   "metadata": {
    "execution": {
     "iopub.execute_input": "2021-03-09T15:32:38.304170Z",
     "iopub.status.busy": "2021-03-09T15:32:38.303481Z",
     "iopub.status.idle": "2021-03-09T15:32:38.305909Z",
     "shell.execute_reply": "2021-03-09T15:32:38.306420Z"
    },
    "papermill": {
     "duration": 0.068366,
     "end_time": "2021-03-09T15:32:38.306597",
     "exception": false,
     "start_time": "2021-03-09T15:32:38.238231",
     "status": "completed"
    },
    "tags": []
   },
   "outputs": [],
   "source": [
    "matches_second_split = matches_second_split[matches_second_split['season'] != 2017].drop(columns = ['index']).reset_index()"
   ]
  },
  {
   "cell_type": "code",
   "execution_count": 44,
   "metadata": {
    "execution": {
     "iopub.execute_input": "2021-03-09T15:32:38.425200Z",
     "iopub.status.busy": "2021-03-09T15:32:38.424504Z",
     "iopub.status.idle": "2021-03-09T15:32:38.429534Z",
     "shell.execute_reply": "2021-03-09T15:32:38.430113Z"
    },
    "papermill": {
     "duration": 0.06568,
     "end_time": "2021-03-09T15:32:38.430284",
     "exception": false,
     "start_time": "2021-03-09T15:32:38.364604",
     "status": "completed"
    },
    "tags": []
   },
   "outputs": [],
   "source": [
    "matches_second_split = matches_second_split.drop(columns = ['index'])"
   ]
  },
  {
   "cell_type": "code",
   "execution_count": 45,
   "metadata": {
    "execution": {
     "iopub.execute_input": "2021-03-09T15:32:38.548657Z",
     "iopub.status.busy": "2021-03-09T15:32:38.547964Z",
     "iopub.status.idle": "2021-03-09T15:32:38.590833Z",
     "shell.execute_reply": "2021-03-09T15:32:38.591318Z"
    },
    "papermill": {
     "duration": 0.103363,
     "end_time": "2021-03-09T15:32:38.591498",
     "exception": false,
     "start_time": "2021-03-09T15:32:38.488135",
     "status": "completed"
    },
    "tags": []
   },
   "outputs": [],
   "source": [
    "deliveries_2014 = deliveries[deliveries['match_id'].isin(sorted(matches_second_split[matches_second_split['season'] == 2014]['id'].value_counts().index.tolist()))].reset_index()\n",
    "deliveries_2015 = deliveries[deliveries['match_id'].isin(sorted(matches_second_split[matches_second_split['season'] == 2015]['id'].value_counts().index.tolist()))].reset_index()\n",
    "deliveries_2016 = deliveries[deliveries['match_id'].isin(sorted(matches_second_split[matches_second_split['season'] == 2016]['id'].value_counts().index.tolist()))].reset_index()\n",
    "deliveries_2018 = deliveries[deliveries['match_id'].isin(sorted(matches_second_split[matches_second_split['season'] == 2018]['id'].value_counts().index.tolist()))].reset_index()\n",
    "deliveries_2019 = deliveries[deliveries['match_id'].isin(sorted(matches_second_split[matches_second_split['season'] == 2019]['id'].value_counts().index.tolist()))].reset_index()"
   ]
  },
  {
   "cell_type": "code",
   "execution_count": 46,
   "metadata": {
    "execution": {
     "iopub.execute_input": "2021-03-09T15:32:38.710082Z",
     "iopub.status.busy": "2021-03-09T15:32:38.709366Z",
     "iopub.status.idle": "2021-03-09T15:32:38.758810Z",
     "shell.execute_reply": "2021-03-09T15:32:38.759415Z"
    },
    "papermill": {
     "duration": 0.110872,
     "end_time": "2021-03-09T15:32:38.759598",
     "exception": false,
     "start_time": "2021-03-09T15:32:38.648726",
     "status": "completed"
    },
    "tags": []
   },
   "outputs": [
    {
     "data": {
      "text/html": [
       "<div>                            <div id=\"51a89309-9cf3-4398-84ef-4751d20bc4bd\" class=\"plotly-graph-div\" style=\"height:525px; width:100%;\"></div>            <script type=\"text/javascript\">                require([\"plotly\"], function(Plotly) {                    window.PLOTLYENV=window.PLOTLYENV || {};                                    if (document.getElementById(\"51a89309-9cf3-4398-84ef-4751d20bc4bd\")) {                    Plotly.newPlot(                        \"51a89309-9cf3-4398-84ef-4751d20bc4bd\",                        [{\"domain\": {\"x\": [0.0, 0.2888888888888889], \"y\": [0.575, 1.0]}, \"labels\": [\"caught\", \"bowled\", \"run out\", \"lbw\", \"stumped\", \"caught and bowled\", \"retired hurt\"], \"pull\": [0, 0.2, 0, 0.2, 0, 0, 0.2], \"title\": {\"text\": \"top OUT! reasons 2014\"}, \"type\": \"pie\", \"values\": [338, 128, 61, 33, 23, 11, 1]}, {\"domain\": {\"x\": [0.35555555555555557, 0.6444444444444445], \"y\": [0.575, 1.0]}, \"labels\": [\"caught\", \"bowled\", \"run out\", \"lbw\", \"stumped\", \"caught and bowled\", \"retired hurt\"], \"pull\": [0, 0.2, 0, 0.2, 0, 0, 0.2], \"title\": {\"text\": \"top OUT! reasons 2015\"}, \"type\": \"pie\", \"values\": [427, 122, 60, 30, 22, 17, 1]}, {\"domain\": {\"x\": [0.7111111111111111, 1.0], \"y\": [0.575, 1.0]}, \"labels\": [\"caught\", \"bowled\", \"run out\", \"lbw\", \"stumped\", \"caught and bowled\", \"hit wicket\", \"retired hurt\"], \"pull\": [0, 0.2, 0, 0.2, 0, 0, 0.2], \"title\": {\"text\": \"top OUT! reasons 2016\"}, \"type\": \"pie\", \"values\": [400, 111, 74, 41, 22, 14, 3, 1]}, {\"domain\": {\"x\": [0.0, 0.2888888888888889], \"y\": [0.0, 0.425]}, \"labels\": [\"caught\", \"bowled\", \"run out\", \"lbw\", \"stumped\", \"retired hurt\"], \"pull\": [0, 0.2, 0, 0.2, 0, 0, 0.2], \"title\": {\"text\": \"top OUT! reasons 2018\"}, \"type\": \"pie\", \"values\": [488, 113, 58, 39, 19, 2]}, {\"domain\": {\"x\": [0.7111111111111111, 1.0], \"y\": [0.0, 0.425]}, \"labels\": [\"caught\", \"bowled\", \"lbw\", \"run out\", \"stumped\", \"retired hurt\", \"hit wicket\"], \"pull\": [0, 0.2, 0, 0.2, 0, 0, 0.2], \"title\": {\"text\": \"top OUT! reasons 2019\"}, \"type\": \"pie\", \"values\": [468, 85, 45, 39, 16, 1, 1]}],                        {\"template\": {\"data\": {\"bar\": [{\"error_x\": {\"color\": \"#2a3f5f\"}, \"error_y\": {\"color\": \"#2a3f5f\"}, \"marker\": {\"line\": {\"color\": \"#E5ECF6\", \"width\": 0.5}}, \"type\": \"bar\"}], \"barpolar\": [{\"marker\": {\"line\": {\"color\": \"#E5ECF6\", \"width\": 0.5}}, \"type\": \"barpolar\"}], \"carpet\": [{\"aaxis\": {\"endlinecolor\": \"#2a3f5f\", \"gridcolor\": \"white\", \"linecolor\": \"white\", \"minorgridcolor\": \"white\", \"startlinecolor\": \"#2a3f5f\"}, \"baxis\": {\"endlinecolor\": \"#2a3f5f\", \"gridcolor\": \"white\", \"linecolor\": \"white\", \"minorgridcolor\": \"white\", \"startlinecolor\": \"#2a3f5f\"}, \"type\": \"carpet\"}], \"choropleth\": [{\"colorbar\": {\"outlinewidth\": 0, \"ticks\": \"\"}, \"type\": \"choropleth\"}], \"contour\": [{\"colorbar\": {\"outlinewidth\": 0, \"ticks\": \"\"}, \"colorscale\": [[0.0, \"#0d0887\"], [0.1111111111111111, \"#46039f\"], [0.2222222222222222, \"#7201a8\"], [0.3333333333333333, \"#9c179e\"], [0.4444444444444444, \"#bd3786\"], [0.5555555555555556, \"#d8576b\"], [0.6666666666666666, \"#ed7953\"], [0.7777777777777778, \"#fb9f3a\"], [0.8888888888888888, \"#fdca26\"], [1.0, \"#f0f921\"]], \"type\": \"contour\"}], \"contourcarpet\": [{\"colorbar\": {\"outlinewidth\": 0, \"ticks\": \"\"}, \"type\": \"contourcarpet\"}], \"heatmap\": [{\"colorbar\": {\"outlinewidth\": 0, \"ticks\": \"\"}, \"colorscale\": [[0.0, \"#0d0887\"], [0.1111111111111111, \"#46039f\"], [0.2222222222222222, \"#7201a8\"], [0.3333333333333333, \"#9c179e\"], [0.4444444444444444, \"#bd3786\"], [0.5555555555555556, \"#d8576b\"], [0.6666666666666666, \"#ed7953\"], [0.7777777777777778, \"#fb9f3a\"], [0.8888888888888888, \"#fdca26\"], [1.0, \"#f0f921\"]], \"type\": \"heatmap\"}], \"heatmapgl\": [{\"colorbar\": {\"outlinewidth\": 0, \"ticks\": \"\"}, \"colorscale\": [[0.0, \"#0d0887\"], [0.1111111111111111, \"#46039f\"], [0.2222222222222222, \"#7201a8\"], [0.3333333333333333, \"#9c179e\"], [0.4444444444444444, \"#bd3786\"], [0.5555555555555556, \"#d8576b\"], [0.6666666666666666, \"#ed7953\"], [0.7777777777777778, \"#fb9f3a\"], [0.8888888888888888, \"#fdca26\"], [1.0, \"#f0f921\"]], \"type\": \"heatmapgl\"}], \"histogram\": [{\"marker\": {\"colorbar\": {\"outlinewidth\": 0, \"ticks\": \"\"}}, \"type\": \"histogram\"}], \"histogram2d\": [{\"colorbar\": {\"outlinewidth\": 0, \"ticks\": \"\"}, \"colorscale\": [[0.0, \"#0d0887\"], [0.1111111111111111, \"#46039f\"], [0.2222222222222222, \"#7201a8\"], [0.3333333333333333, \"#9c179e\"], [0.4444444444444444, \"#bd3786\"], [0.5555555555555556, \"#d8576b\"], [0.6666666666666666, \"#ed7953\"], [0.7777777777777778, \"#fb9f3a\"], [0.8888888888888888, \"#fdca26\"], [1.0, \"#f0f921\"]], \"type\": \"histogram2d\"}], \"histogram2dcontour\": [{\"colorbar\": {\"outlinewidth\": 0, \"ticks\": \"\"}, \"colorscale\": [[0.0, \"#0d0887\"], [0.1111111111111111, \"#46039f\"], [0.2222222222222222, \"#7201a8\"], [0.3333333333333333, \"#9c179e\"], [0.4444444444444444, \"#bd3786\"], [0.5555555555555556, \"#d8576b\"], [0.6666666666666666, \"#ed7953\"], [0.7777777777777778, \"#fb9f3a\"], [0.8888888888888888, \"#fdca26\"], [1.0, \"#f0f921\"]], \"type\": \"histogram2dcontour\"}], \"mesh3d\": [{\"colorbar\": {\"outlinewidth\": 0, \"ticks\": \"\"}, \"type\": \"mesh3d\"}], \"parcoords\": [{\"line\": {\"colorbar\": {\"outlinewidth\": 0, \"ticks\": \"\"}}, \"type\": \"parcoords\"}], \"pie\": [{\"automargin\": true, \"type\": \"pie\"}], \"scatter\": [{\"marker\": {\"colorbar\": {\"outlinewidth\": 0, \"ticks\": \"\"}}, \"type\": \"scatter\"}], \"scatter3d\": [{\"line\": {\"colorbar\": {\"outlinewidth\": 0, \"ticks\": \"\"}}, \"marker\": {\"colorbar\": {\"outlinewidth\": 0, \"ticks\": \"\"}}, \"type\": \"scatter3d\"}], \"scattercarpet\": [{\"marker\": {\"colorbar\": {\"outlinewidth\": 0, \"ticks\": \"\"}}, \"type\": \"scattercarpet\"}], \"scattergeo\": [{\"marker\": {\"colorbar\": {\"outlinewidth\": 0, \"ticks\": \"\"}}, \"type\": \"scattergeo\"}], \"scattergl\": [{\"marker\": {\"colorbar\": {\"outlinewidth\": 0, \"ticks\": \"\"}}, \"type\": \"scattergl\"}], \"scattermapbox\": [{\"marker\": {\"colorbar\": {\"outlinewidth\": 0, \"ticks\": \"\"}}, \"type\": \"scattermapbox\"}], \"scatterpolar\": [{\"marker\": {\"colorbar\": {\"outlinewidth\": 0, \"ticks\": \"\"}}, \"type\": \"scatterpolar\"}], \"scatterpolargl\": [{\"marker\": {\"colorbar\": {\"outlinewidth\": 0, \"ticks\": \"\"}}, \"type\": \"scatterpolargl\"}], \"scatterternary\": [{\"marker\": {\"colorbar\": {\"outlinewidth\": 0, \"ticks\": \"\"}}, \"type\": \"scatterternary\"}], \"surface\": [{\"colorbar\": {\"outlinewidth\": 0, \"ticks\": \"\"}, \"colorscale\": [[0.0, \"#0d0887\"], [0.1111111111111111, \"#46039f\"], [0.2222222222222222, \"#7201a8\"], [0.3333333333333333, \"#9c179e\"], [0.4444444444444444, \"#bd3786\"], [0.5555555555555556, \"#d8576b\"], [0.6666666666666666, \"#ed7953\"], [0.7777777777777778, \"#fb9f3a\"], [0.8888888888888888, \"#fdca26\"], [1.0, \"#f0f921\"]], \"type\": \"surface\"}], \"table\": [{\"cells\": {\"fill\": {\"color\": \"#EBF0F8\"}, \"line\": {\"color\": \"white\"}}, \"header\": {\"fill\": {\"color\": \"#C8D4E3\"}, \"line\": {\"color\": \"white\"}}, \"type\": \"table\"}]}, \"layout\": {\"annotationdefaults\": {\"arrowcolor\": \"#2a3f5f\", \"arrowhead\": 0, \"arrowwidth\": 1}, \"autotypenumbers\": \"strict\", \"coloraxis\": {\"colorbar\": {\"outlinewidth\": 0, \"ticks\": \"\"}}, \"colorscale\": {\"diverging\": [[0, \"#8e0152\"], [0.1, \"#c51b7d\"], [0.2, \"#de77ae\"], [0.3, \"#f1b6da\"], [0.4, \"#fde0ef\"], [0.5, \"#f7f7f7\"], [0.6, \"#e6f5d0\"], [0.7, \"#b8e186\"], [0.8, \"#7fbc41\"], [0.9, \"#4d9221\"], [1, \"#276419\"]], \"sequential\": [[0.0, \"#0d0887\"], [0.1111111111111111, \"#46039f\"], [0.2222222222222222, \"#7201a8\"], [0.3333333333333333, \"#9c179e\"], [0.4444444444444444, \"#bd3786\"], [0.5555555555555556, \"#d8576b\"], [0.6666666666666666, \"#ed7953\"], [0.7777777777777778, \"#fb9f3a\"], [0.8888888888888888, \"#fdca26\"], [1.0, \"#f0f921\"]], \"sequentialminus\": [[0.0, \"#0d0887\"], [0.1111111111111111, \"#46039f\"], [0.2222222222222222, \"#7201a8\"], [0.3333333333333333, \"#9c179e\"], [0.4444444444444444, \"#bd3786\"], [0.5555555555555556, \"#d8576b\"], [0.6666666666666666, \"#ed7953\"], [0.7777777777777778, \"#fb9f3a\"], [0.8888888888888888, \"#fdca26\"], [1.0, \"#f0f921\"]]}, \"colorway\": [\"#636efa\", \"#EF553B\", \"#00cc96\", \"#ab63fa\", \"#FFA15A\", \"#19d3f3\", \"#FF6692\", \"#B6E880\", \"#FF97FF\", \"#FECB52\"], \"font\": {\"color\": \"#2a3f5f\"}, \"geo\": {\"bgcolor\": \"white\", \"lakecolor\": \"white\", \"landcolor\": \"#E5ECF6\", \"showlakes\": true, \"showland\": true, \"subunitcolor\": \"white\"}, \"hoverlabel\": {\"align\": \"left\"}, \"hovermode\": \"closest\", \"mapbox\": {\"style\": \"light\"}, \"paper_bgcolor\": \"white\", \"plot_bgcolor\": \"#E5ECF6\", \"polar\": {\"angularaxis\": {\"gridcolor\": \"white\", \"linecolor\": \"white\", \"ticks\": \"\"}, \"bgcolor\": \"#E5ECF6\", \"radialaxis\": {\"gridcolor\": \"white\", \"linecolor\": \"white\", \"ticks\": \"\"}}, \"scene\": {\"xaxis\": {\"backgroundcolor\": \"#E5ECF6\", \"gridcolor\": \"white\", \"gridwidth\": 2, \"linecolor\": \"white\", \"showbackground\": true, \"ticks\": \"\", \"zerolinecolor\": \"white\"}, \"yaxis\": {\"backgroundcolor\": \"#E5ECF6\", \"gridcolor\": \"white\", \"gridwidth\": 2, \"linecolor\": \"white\", \"showbackground\": true, \"ticks\": \"\", \"zerolinecolor\": \"white\"}, \"zaxis\": {\"backgroundcolor\": \"#E5ECF6\", \"gridcolor\": \"white\", \"gridwidth\": 2, \"linecolor\": \"white\", \"showbackground\": true, \"ticks\": \"\", \"zerolinecolor\": \"white\"}}, \"shapedefaults\": {\"line\": {\"color\": \"#2a3f5f\"}}, \"ternary\": {\"aaxis\": {\"gridcolor\": \"white\", \"linecolor\": \"white\", \"ticks\": \"\"}, \"baxis\": {\"gridcolor\": \"white\", \"linecolor\": \"white\", \"ticks\": \"\"}, \"bgcolor\": \"#E5ECF6\", \"caxis\": {\"gridcolor\": \"white\", \"linecolor\": \"white\", \"ticks\": \"\"}}, \"title\": {\"x\": 0.05}, \"xaxis\": {\"automargin\": true, \"gridcolor\": \"white\", \"linecolor\": \"white\", \"ticks\": \"\", \"title\": {\"standoff\": 15}, \"zerolinecolor\": \"white\", \"zerolinewidth\": 2}, \"yaxis\": {\"automargin\": true, \"gridcolor\": \"white\", \"linecolor\": \"white\", \"ticks\": \"\", \"title\": {\"standoff\": 15}, \"zerolinecolor\": \"white\", \"zerolinewidth\": 2}}}},                        {\"responsive\": true}                    ).then(function(){\n",
       "                            \n",
       "var gd = document.getElementById('51a89309-9cf3-4398-84ef-4751d20bc4bd');\n",
       "var x = new MutationObserver(function (mutations, observer) {{\n",
       "        var display = window.getComputedStyle(gd).display;\n",
       "        if (!display || display === 'none') {{\n",
       "            console.log([gd, 'removed!']);\n",
       "            Plotly.purge(gd);\n",
       "            observer.disconnect();\n",
       "        }}\n",
       "}});\n",
       "\n",
       "// Listen for the removal of the full notebook cells\n",
       "var notebookContainer = gd.closest('#notebook-container');\n",
       "if (notebookContainer) {{\n",
       "    x.observe(notebookContainer, {childList: true});\n",
       "}}\n",
       "\n",
       "// Listen for the clearing of the current output cell\n",
       "var outputEl = gd.closest('.output');\n",
       "if (outputEl) {{\n",
       "    x.observe(outputEl, {childList: true});\n",
       "}}\n",
       "\n",
       "                        })                };                });            </script>        </div>"
      ]
     },
     "metadata": {},
     "output_type": "display_data"
    }
   ],
   "source": [
    "fig = make_subplots(rows =2 ,cols = 3,\n",
    "                   specs = [[{\"type\":\"pie\"},{\"type\":\"pie\"},{\"type\":\"pie\"}],\n",
    "                            [{\"type\":\"pie\"},None,{\"type\":\"pie\"}]])\n",
    "fig.add_trace(go.Pie(labels = deliveries_2014['dismissal_kind'].value_counts().index, values =deliveries_2014['dismissal_kind'].value_counts().values,\n",
    "             title= \"top OUT! reasons 2014\",pull = [0,0.2,0,0.2,0,0,0.2]),1,1)\n",
    "fig.add_trace(go.Pie(labels = deliveries_2015['dismissal_kind'].value_counts().index, values =deliveries_2015['dismissal_kind'].value_counts().values,\n",
    "             title= \"top OUT! reasons 2015\",pull = [0,0.2,0,0.2,0,0,0.2]),1,2)\n",
    "fig.add_trace(go.Pie(labels = deliveries_2016['dismissal_kind'].value_counts().index, values =deliveries_2016['dismissal_kind'].value_counts().values,\n",
    "             title= \"top OUT! reasons 2016\",pull = [0,0.2,0,0.2,0,0,0.2]),1,3)\n",
    "fig.add_trace(go.Pie(labels = deliveries_2018['dismissal_kind'].value_counts().index, values =deliveries_2018['dismissal_kind'].value_counts().values,\n",
    "             title= \"top OUT! reasons 2018\",pull = [0,0.2,0,0.2,0,0,0.2]),2,1)\n",
    "fig.add_trace(go.Pie(labels = deliveries_2019['dismissal_kind'].value_counts().index, values =deliveries_2019['dismissal_kind'].value_counts().values,\n",
    "             title= \"top OUT! reasons 2019\",pull = [0,0.2,0,0.2,0,0,0.2]),2,3)\n",
    "fig.show()"
   ]
  },
  {
   "cell_type": "code",
   "execution_count": 47,
   "metadata": {
    "execution": {
     "iopub.execute_input": "2021-03-09T15:32:38.880430Z",
     "iopub.status.busy": "2021-03-09T15:32:38.879728Z",
     "iopub.status.idle": "2021-03-09T15:32:38.984067Z",
     "shell.execute_reply": "2021-03-09T15:32:38.984556Z"
    },
    "papermill": {
     "duration": 0.166565,
     "end_time": "2021-03-09T15:32:38.984723",
     "exception": false,
     "start_time": "2021-03-09T15:32:38.818158",
     "status": "completed"
    },
    "tags": []
   },
   "outputs": [
    {
     "data": {
      "text/html": [
       "<div>                            <div id=\"d59ed57b-a84b-4fb0-87ee-fabeac111c3c\" class=\"plotly-graph-div\" style=\"height:1200px; width:100%;\"></div>            <script type=\"text/javascript\">                require([\"plotly\"], function(Plotly) {                    window.PLOTLYENV=window.PLOTLYENV || {};                                    if (document.getElementById(\"d59ed57b-a84b-4fb0-87ee-fabeac111c3c\")) {                    Plotly.newPlot(                        \"d59ed57b-a84b-4fb0-87ee-fabeac111c3c\",                        [{\"name\": \"2014\", \"orientation\": \"h\", \"type\": \"bar\", \"x\": [11, 11, 8, 7, 7, 4, 4, 1], \"xaxis\": \"x\", \"y\": [\"Kings XI Punjab\", \"Kolkata Knight Riders\", \"Chennai Super Kings\", \"Mumbai Indians\", \"Rajasthan Royals\", \"Sunrisers Hyderabad\", \"Royal Challengers Bangalore\", \"Delhi Daredevils\"], \"yaxis\": \"y\"}, {\"name\": \"2015\", \"orientation\": \"h\", \"type\": \"bar\", \"x\": [10, 10, 8, 7, 7, 7, 5, 3], \"xaxis\": \"x2\", \"y\": [\"Mumbai Indians\", \"Chennai Super Kings\", \"Royal Challengers Bangalore\", \"Kolkata Knight Riders\", \"Rajasthan Royals\", \"Sunrisers Hyderabad\", \"Delhi Daredevils\", \"Kings XI Punjab\"], \"yaxis\": \"y2\"}, {\"name\": \"2016\", \"orientation\": \"h\", \"type\": \"bar\", \"x\": [11, 9, 9, 8, 7, 7, 5, 4], \"xaxis\": \"x3\", \"y\": [\"Sunrisers Hyderabad\", \"Gujarat Lions\", \"Royal Challengers Bangalore\", \"Kolkata Knight Riders\", \"Mumbai Indians\", \"Delhi Daredevils\", \"Rising Pune Supergiants\", \"Kings XI Punjab\"], \"yaxis\": \"y3\"}, {\"name\": \"2018\", \"orientation\": \"h\", \"type\": \"bar\", \"x\": [11, 10, 9, 7, 6, 6, 6, 5], \"xaxis\": \"x4\", \"y\": [\"Chennai Super Kings\", \"Sunrisers Hyderabad\", \"Kolkata Knight Riders\", \"Rajasthan Royals\", \"Mumbai Indians\", \"Kings XI Punjab\", \"Royal Challengers Bangalore\", \"Delhi Daredevils\"], \"yaxis\": \"y4\"}, {\"name\": \"2019\", \"orientation\": \"h\", \"type\": \"bar\", \"x\": [11, 10, 9, 6, 6, 6, 5, 5], \"xaxis\": \"x5\", \"y\": [\"Mumbai Indians\", \"Chennai Super Kings\", \"Delhi Capitals\", \"Kolkata Knight Riders\", \"Kings XI Punjab\", \"Sunrisers Hyderabad\", \"Rajasthan Royals\", \"Royal Challengers Bangalore\"], \"yaxis\": \"y5\"}],                        {\"height\": 1200, \"template\": {\"data\": {\"bar\": [{\"error_x\": {\"color\": \"#2a3f5f\"}, \"error_y\": {\"color\": \"#2a3f5f\"}, \"marker\": {\"line\": {\"color\": \"#E5ECF6\", \"width\": 0.5}}, \"type\": \"bar\"}], \"barpolar\": [{\"marker\": {\"line\": {\"color\": \"#E5ECF6\", \"width\": 0.5}}, \"type\": \"barpolar\"}], \"carpet\": [{\"aaxis\": {\"endlinecolor\": \"#2a3f5f\", \"gridcolor\": \"white\", \"linecolor\": \"white\", \"minorgridcolor\": \"white\", \"startlinecolor\": \"#2a3f5f\"}, \"baxis\": {\"endlinecolor\": \"#2a3f5f\", \"gridcolor\": \"white\", \"linecolor\": \"white\", \"minorgridcolor\": \"white\", \"startlinecolor\": \"#2a3f5f\"}, \"type\": \"carpet\"}], \"choropleth\": [{\"colorbar\": {\"outlinewidth\": 0, \"ticks\": \"\"}, \"type\": \"choropleth\"}], \"contour\": [{\"colorbar\": {\"outlinewidth\": 0, \"ticks\": \"\"}, \"colorscale\": [[0.0, \"#0d0887\"], [0.1111111111111111, \"#46039f\"], [0.2222222222222222, \"#7201a8\"], [0.3333333333333333, \"#9c179e\"], [0.4444444444444444, \"#bd3786\"], [0.5555555555555556, \"#d8576b\"], [0.6666666666666666, \"#ed7953\"], [0.7777777777777778, \"#fb9f3a\"], [0.8888888888888888, \"#fdca26\"], [1.0, \"#f0f921\"]], \"type\": \"contour\"}], \"contourcarpet\": [{\"colorbar\": {\"outlinewidth\": 0, \"ticks\": \"\"}, \"type\": \"contourcarpet\"}], \"heatmap\": [{\"colorbar\": {\"outlinewidth\": 0, \"ticks\": \"\"}, \"colorscale\": [[0.0, \"#0d0887\"], [0.1111111111111111, \"#46039f\"], [0.2222222222222222, \"#7201a8\"], [0.3333333333333333, \"#9c179e\"], [0.4444444444444444, \"#bd3786\"], [0.5555555555555556, \"#d8576b\"], [0.6666666666666666, \"#ed7953\"], [0.7777777777777778, \"#fb9f3a\"], [0.8888888888888888, \"#fdca26\"], [1.0, \"#f0f921\"]], \"type\": \"heatmap\"}], \"heatmapgl\": [{\"colorbar\": {\"outlinewidth\": 0, \"ticks\": \"\"}, \"colorscale\": [[0.0, \"#0d0887\"], [0.1111111111111111, \"#46039f\"], [0.2222222222222222, \"#7201a8\"], [0.3333333333333333, \"#9c179e\"], [0.4444444444444444, \"#bd3786\"], [0.5555555555555556, \"#d8576b\"], [0.6666666666666666, \"#ed7953\"], [0.7777777777777778, \"#fb9f3a\"], [0.8888888888888888, \"#fdca26\"], [1.0, \"#f0f921\"]], \"type\": \"heatmapgl\"}], \"histogram\": [{\"marker\": {\"colorbar\": {\"outlinewidth\": 0, \"ticks\": \"\"}}, \"type\": \"histogram\"}], \"histogram2d\": [{\"colorbar\": {\"outlinewidth\": 0, \"ticks\": \"\"}, \"colorscale\": [[0.0, \"#0d0887\"], [0.1111111111111111, \"#46039f\"], [0.2222222222222222, \"#7201a8\"], [0.3333333333333333, \"#9c179e\"], [0.4444444444444444, \"#bd3786\"], [0.5555555555555556, \"#d8576b\"], [0.6666666666666666, \"#ed7953\"], [0.7777777777777778, \"#fb9f3a\"], [0.8888888888888888, \"#fdca26\"], [1.0, \"#f0f921\"]], \"type\": \"histogram2d\"}], \"histogram2dcontour\": [{\"colorbar\": {\"outlinewidth\": 0, \"ticks\": \"\"}, \"colorscale\": [[0.0, \"#0d0887\"], [0.1111111111111111, \"#46039f\"], [0.2222222222222222, \"#7201a8\"], [0.3333333333333333, \"#9c179e\"], [0.4444444444444444, \"#bd3786\"], [0.5555555555555556, \"#d8576b\"], [0.6666666666666666, \"#ed7953\"], [0.7777777777777778, \"#fb9f3a\"], [0.8888888888888888, \"#fdca26\"], [1.0, \"#f0f921\"]], \"type\": \"histogram2dcontour\"}], \"mesh3d\": [{\"colorbar\": {\"outlinewidth\": 0, \"ticks\": \"\"}, \"type\": \"mesh3d\"}], \"parcoords\": [{\"line\": {\"colorbar\": {\"outlinewidth\": 0, \"ticks\": \"\"}}, \"type\": \"parcoords\"}], \"pie\": [{\"automargin\": true, \"type\": \"pie\"}], \"scatter\": [{\"marker\": {\"colorbar\": {\"outlinewidth\": 0, \"ticks\": \"\"}}, \"type\": \"scatter\"}], \"scatter3d\": [{\"line\": {\"colorbar\": {\"outlinewidth\": 0, \"ticks\": \"\"}}, \"marker\": {\"colorbar\": {\"outlinewidth\": 0, \"ticks\": \"\"}}, \"type\": \"scatter3d\"}], \"scattercarpet\": [{\"marker\": {\"colorbar\": {\"outlinewidth\": 0, \"ticks\": \"\"}}, \"type\": \"scattercarpet\"}], \"scattergeo\": [{\"marker\": {\"colorbar\": {\"outlinewidth\": 0, \"ticks\": \"\"}}, \"type\": \"scattergeo\"}], \"scattergl\": [{\"marker\": {\"colorbar\": {\"outlinewidth\": 0, \"ticks\": \"\"}}, \"type\": \"scattergl\"}], \"scattermapbox\": [{\"marker\": {\"colorbar\": {\"outlinewidth\": 0, \"ticks\": \"\"}}, \"type\": \"scattermapbox\"}], \"scatterpolar\": [{\"marker\": {\"colorbar\": {\"outlinewidth\": 0, \"ticks\": \"\"}}, \"type\": \"scatterpolar\"}], \"scatterpolargl\": [{\"marker\": {\"colorbar\": {\"outlinewidth\": 0, \"ticks\": \"\"}}, \"type\": \"scatterpolargl\"}], \"scatterternary\": [{\"marker\": {\"colorbar\": {\"outlinewidth\": 0, \"ticks\": \"\"}}, \"type\": \"scatterternary\"}], \"surface\": [{\"colorbar\": {\"outlinewidth\": 0, \"ticks\": \"\"}, \"colorscale\": [[0.0, \"#0d0887\"], [0.1111111111111111, \"#46039f\"], [0.2222222222222222, \"#7201a8\"], [0.3333333333333333, \"#9c179e\"], [0.4444444444444444, \"#bd3786\"], [0.5555555555555556, \"#d8576b\"], [0.6666666666666666, \"#ed7953\"], [0.7777777777777778, \"#fb9f3a\"], [0.8888888888888888, \"#fdca26\"], [1.0, \"#f0f921\"]], \"type\": \"surface\"}], \"table\": [{\"cells\": {\"fill\": {\"color\": \"#EBF0F8\"}, \"line\": {\"color\": \"white\"}}, \"header\": {\"fill\": {\"color\": \"#C8D4E3\"}, \"line\": {\"color\": \"white\"}}, \"type\": \"table\"}]}, \"layout\": {\"annotationdefaults\": {\"arrowcolor\": \"#2a3f5f\", \"arrowhead\": 0, \"arrowwidth\": 1}, \"autotypenumbers\": \"strict\", \"coloraxis\": {\"colorbar\": {\"outlinewidth\": 0, \"ticks\": \"\"}}, \"colorscale\": {\"diverging\": [[0, \"#8e0152\"], [0.1, \"#c51b7d\"], [0.2, \"#de77ae\"], [0.3, \"#f1b6da\"], [0.4, \"#fde0ef\"], [0.5, \"#f7f7f7\"], [0.6, \"#e6f5d0\"], [0.7, \"#b8e186\"], [0.8, \"#7fbc41\"], [0.9, \"#4d9221\"], [1, \"#276419\"]], \"sequential\": [[0.0, \"#0d0887\"], [0.1111111111111111, \"#46039f\"], [0.2222222222222222, \"#7201a8\"], [0.3333333333333333, \"#9c179e\"], [0.4444444444444444, \"#bd3786\"], [0.5555555555555556, \"#d8576b\"], [0.6666666666666666, \"#ed7953\"], [0.7777777777777778, \"#fb9f3a\"], [0.8888888888888888, \"#fdca26\"], [1.0, \"#f0f921\"]], \"sequentialminus\": [[0.0, \"#0d0887\"], [0.1111111111111111, \"#46039f\"], [0.2222222222222222, \"#7201a8\"], [0.3333333333333333, \"#9c179e\"], [0.4444444444444444, \"#bd3786\"], [0.5555555555555556, \"#d8576b\"], [0.6666666666666666, \"#ed7953\"], [0.7777777777777778, \"#fb9f3a\"], [0.8888888888888888, \"#fdca26\"], [1.0, \"#f0f921\"]]}, \"colorway\": [\"#636efa\", \"#EF553B\", \"#00cc96\", \"#ab63fa\", \"#FFA15A\", \"#19d3f3\", \"#FF6692\", \"#B6E880\", \"#FF97FF\", \"#FECB52\"], \"font\": {\"color\": \"#2a3f5f\"}, \"geo\": {\"bgcolor\": \"white\", \"lakecolor\": \"white\", \"landcolor\": \"#E5ECF6\", \"showlakes\": true, \"showland\": true, \"subunitcolor\": \"white\"}, \"hoverlabel\": {\"align\": \"left\"}, \"hovermode\": \"closest\", \"mapbox\": {\"style\": \"light\"}, \"paper_bgcolor\": \"white\", \"plot_bgcolor\": \"#E5ECF6\", \"polar\": {\"angularaxis\": {\"gridcolor\": \"white\", \"linecolor\": \"white\", \"ticks\": \"\"}, \"bgcolor\": \"#E5ECF6\", \"radialaxis\": {\"gridcolor\": \"white\", \"linecolor\": \"white\", \"ticks\": \"\"}}, \"scene\": {\"xaxis\": {\"backgroundcolor\": \"#E5ECF6\", \"gridcolor\": \"white\", \"gridwidth\": 2, \"linecolor\": \"white\", \"showbackground\": true, \"ticks\": \"\", \"zerolinecolor\": \"white\"}, \"yaxis\": {\"backgroundcolor\": \"#E5ECF6\", \"gridcolor\": \"white\", \"gridwidth\": 2, \"linecolor\": \"white\", \"showbackground\": true, \"ticks\": \"\", \"zerolinecolor\": \"white\"}, \"zaxis\": {\"backgroundcolor\": \"#E5ECF6\", \"gridcolor\": \"white\", \"gridwidth\": 2, \"linecolor\": \"white\", \"showbackground\": true, \"ticks\": \"\", \"zerolinecolor\": \"white\"}}, \"shapedefaults\": {\"line\": {\"color\": \"#2a3f5f\"}}, \"ternary\": {\"aaxis\": {\"gridcolor\": \"white\", \"linecolor\": \"white\", \"ticks\": \"\"}, \"baxis\": {\"gridcolor\": \"white\", \"linecolor\": \"white\", \"ticks\": \"\"}, \"bgcolor\": \"#E5ECF6\", \"caxis\": {\"gridcolor\": \"white\", \"linecolor\": \"white\", \"ticks\": \"\"}}, \"title\": {\"x\": 0.05}, \"xaxis\": {\"automargin\": true, \"gridcolor\": \"white\", \"linecolor\": \"white\", \"ticks\": \"\", \"title\": {\"standoff\": 15}, \"zerolinecolor\": \"white\", \"zerolinewidth\": 2}, \"yaxis\": {\"automargin\": true, \"gridcolor\": \"white\", \"linecolor\": \"white\", \"ticks\": \"\", \"title\": {\"standoff\": 15}, \"zerolinecolor\": \"white\", \"zerolinewidth\": 2}}}, \"title\": {\"text\": \"Most Team Wins\"}, \"xaxis\": {\"anchor\": \"y\", \"domain\": [0.0, 1.0], \"showticklabels\": false, \"title\": {\"text\": \"wins\"}}, \"xaxis2\": {\"anchor\": \"y2\", \"domain\": [0.0, 1.0], \"showticklabels\": false, \"title\": {\"text\": \"wins\"}}, \"xaxis3\": {\"anchor\": \"y3\", \"domain\": [0.0, 1.0], \"showticklabels\": false, \"title\": {\"text\": \"wins\"}}, \"xaxis4\": {\"anchor\": \"y4\", \"domain\": [0.0, 1.0], \"showticklabels\": false, \"title\": {\"text\": \"wins\"}}, \"xaxis5\": {\"anchor\": \"y5\", \"domain\": [0.0, 1.0], \"showticklabels\": false, \"title\": {\"text\": \"wins\"}}, \"yaxis\": {\"anchor\": \"x\", \"domain\": [0.824, 0.9999999999999999], \"showticklabels\": true, \"title\": {\"text\": \"teams\"}}, \"yaxis2\": {\"anchor\": \"x2\", \"domain\": [0.618, 0.7939999999999999], \"showticklabels\": true, \"title\": {\"text\": \"teams\"}}, \"yaxis3\": {\"anchor\": \"x3\", \"domain\": [0.412, 0.588], \"showticklabels\": true, \"title\": {\"text\": \"teams\"}}, \"yaxis4\": {\"anchor\": \"x4\", \"domain\": [0.206, 0.38199999999999995], \"showticklabels\": true, \"title\": {\"text\": \"teams\"}}, \"yaxis5\": {\"anchor\": \"x5\", \"domain\": [0.0, 0.176], \"showticklabels\": true, \"title\": {\"text\": \"teams\"}}},                        {\"responsive\": true}                    ).then(function(){\n",
       "                            \n",
       "var gd = document.getElementById('d59ed57b-a84b-4fb0-87ee-fabeac111c3c');\n",
       "var x = new MutationObserver(function (mutations, observer) {{\n",
       "        var display = window.getComputedStyle(gd).display;\n",
       "        if (!display || display === 'none') {{\n",
       "            console.log([gd, 'removed!']);\n",
       "            Plotly.purge(gd);\n",
       "            observer.disconnect();\n",
       "        }}\n",
       "}});\n",
       "\n",
       "// Listen for the removal of the full notebook cells\n",
       "var notebookContainer = gd.closest('#notebook-container');\n",
       "if (notebookContainer) {{\n",
       "    x.observe(notebookContainer, {childList: true});\n",
       "}}\n",
       "\n",
       "// Listen for the clearing of the current output cell\n",
       "var outputEl = gd.closest('.output');\n",
       "if (outputEl) {{\n",
       "    x.observe(outputEl, {childList: true});\n",
       "}}\n",
       "\n",
       "                        })                };                });            </script>        </div>"
      ]
     },
     "metadata": {},
     "output_type": "display_data"
    }
   ],
   "source": [
    "fig = make_subplots(rows = 10,cols = 1, specs = [[{'type':\"bar\",'rowspan':2}],\n",
    "                                              [None],\n",
    "                                              [{'type':\"bar\",'rowspan':2}],\n",
    "                                              [None],\n",
    "                                              [{'type':\"bar\",'rowspan':2}],\n",
    "                                              [None],\n",
    "                                              [{'type':\"bar\",'rowspan':2}],\n",
    "                                              [None],\n",
    "                                              [{'type':\"bar\",'rowspan':2}],\n",
    "                                              [None]])\n",
    "\n",
    "fig.add_trace(go.Bar(y = matches_second_split[matches_second_split['season'] == 2014]['winner'].value_counts().index, x = matches_second_split[matches_second_split['season'] == 2014]['winner'].value_counts().values,\n",
    "                     name = \"2014\",orientation = \"h\"),1,1)\n",
    "fig.add_trace(go.Bar(y = matches_second_split[matches_second_split['season'] == 2015]['winner'].value_counts().index, x = matches_second_split[matches_second_split['season'] == 2015]['winner'].value_counts().values,\n",
    "                     name = \"2015\",orientation = \"h\"),3,1)\n",
    "fig.add_trace(go.Bar(y = matches_second_split[matches_second_split['season'] == 2016]['winner'].value_counts().index, x = matches_second_split[matches_second_split['season'] == 2016]['winner'].value_counts().values,\n",
    "                     name = \"2016\",orientation = \"h\"),5,1)\n",
    "fig.add_trace(go.Bar(y = matches_second_split[matches_second_split['season'] == 2018]['winner'].value_counts().index, x = matches_second_split[matches_second_split['season'] == 2018]['winner'].value_counts().values,\n",
    "                     name = \"2018\",orientation = \"h\"),7,1)\n",
    "fig.add_trace(go.Bar(y = matches_second_split[matches_second_split['season'] == 2019]['winner'].value_counts().index, x = matches_second_split[matches_second_split['season'] == 2019]['winner'].value_counts().values,\n",
    "                     name = \"2019\",orientation = \"h\"),9,1)\n",
    "fig.update_xaxes(showticklabels=False,title = \"wins\")\n",
    "fig.update_yaxes(showticklabels=True,title = \"teams\")\n",
    "fig.update_layout(title = \"Most Team Wins\",height = 1200)\n",
    "fig.show()"
   ]
  },
  {
   "cell_type": "code",
   "execution_count": 48,
   "metadata": {
    "execution": {
     "iopub.execute_input": "2021-03-09T15:32:39.116583Z",
     "iopub.status.busy": "2021-03-09T15:32:39.111311Z",
     "iopub.status.idle": "2021-03-09T15:32:39.374430Z",
     "shell.execute_reply": "2021-03-09T15:32:39.373755Z"
    },
    "papermill": {
     "duration": 0.3307,
     "end_time": "2021-03-09T15:32:39.374582",
     "exception": false,
     "start_time": "2021-03-09T15:32:39.043882",
     "status": "completed"
    },
    "tags": []
   },
   "outputs": [
    {
     "data": {
      "text/html": [
       "<div>                            <div id=\"a6e13f83-8eb9-4256-89c2-80aac600c908\" class=\"plotly-graph-div\" style=\"height:1300px; width:100%;\"></div>            <script type=\"text/javascript\">                require([\"plotly\"], function(Plotly) {                    window.PLOTLYENV=window.PLOTLYENV || {};                                    if (document.getElementById(\"a6e13f83-8eb9-4256-89c2-80aac600c908\")) {                    Plotly.newPlot(                        \"a6e13f83-8eb9-4256-89c2-80aac600c908\",                        [{\"name\": \"2014\", \"orientation\": \"h\", \"type\": \"bar\", \"x\": [501, 440, 384, 339, 286, 270, 259, 257, 248, 244], \"xaxis\": \"x\", \"y\": [\"RV Uthappa-G Gambhir\", \"DR Smith-BB McCullum\", \"GJ Maxwell-DA Miller\", \"DR Smith-SK Raina\", \"V Sehwag-M Vohra\", \"M Vohra-WP Saha\", \"LMP Simmons-AT Rayudu\", \"LMP Simmons-MEK Hussey\", \"DR Smith-F du Plessis\", \"AM Rahane-KK Nair\"], \"yaxis\": \"y\"}, {\"name\": \"2015\", \"orientation\": \"h\", \"type\": \"bar\", \"x\": [577, 541, 507, 438, 434, 396, 370, 365, 288, 272], \"xaxis\": \"x2\", \"y\": [\"CH Gayle-V Kohli\", \"LMP Simmons-PA Patel\", \"AM Rahane-SR Watson\", \"RV Uthappa-G Gambhir\", \"DR Smith-BB McCullum\", \"DA Warner-S Dhawan\", \"SS Iyer-JP Duminy\", \"V Kohli-AB de Villiers\", \"LMP Simmons-RG Sharma\", \"DR Smith-SK Raina\"], \"yaxis\": \"y2\"}, {\"name\": \"2016\", \"orientation\": \"h\", \"type\": \"bar\", \"x\": [949, 722, 581, 488, 396, 347, 313, 294, 291, 280], \"xaxis\": \"x3\", \"y\": [\"V Kohli-AB de Villiers\", \"DA Warner-S Dhawan\", \"RV Uthappa-G Gambhir\", \"V Kohli-KL Rahul\", \"CH Gayle-V Kohli\", \"DR Smith-BB McCullum\", \"G Gambhir-MK Pandey\", \"RG Sharma-AT Rayudu\", \"BB McCullum-SK Raina\", \"DA Warner-MC Henriques\"], \"yaxis\": \"y3\"}, {\"name\": \"2018\", \"orientation\": \"h\", \"type\": \"bar\", \"x\": [616, 565, 526, 500, 425, 352, 343, 310, 309, 309], \"xaxis\": \"x4\", \"y\": [\"S Dhawan-KS Williamson\", \"KL Rahul-CH Gayle\", \"AS Yadav-E Lewis\", \"SR Watson-AT Rayudu\", \"SS Iyer-RR Pant\", \"CA Lynn-RV Uthappa\", \"KS Williamson-MK Pandey\", \"AT Rayudu-MS Dhoni\", \"V Kohli-AB de Villiers\", \"CA Lynn-SP Narine\"], \"yaxis\": \"y4\"}, {\"name\": \"2019\", \"orientation\": \"h\", \"type\": \"bar\", \"x\": [661, 526, 414, 400, 367, 330, 330, 309, 306, 289], \"xaxis\": \"x5\", \"y\": [\"DA Warner-J Bairstow\", \"KL Rahul-CH Gayle\", \"P Shaw-S Dhawan\", \"S Dhawan-SS Iyer\", \"RG Sharma-Q de Kock\", \"KL Rahul-MA Agarwal\", \"DA Warner-MK Pandey\", \"PA Patel-V Kohli\", \"V Kohli-AB de Villiers\", \"F du Plessis-SK Raina\"], \"yaxis\": \"y5\"}],                        {\"height\": 1300, \"template\": {\"data\": {\"bar\": [{\"error_x\": {\"color\": \"#2a3f5f\"}, \"error_y\": {\"color\": \"#2a3f5f\"}, \"marker\": {\"line\": {\"color\": \"#E5ECF6\", \"width\": 0.5}}, \"type\": \"bar\"}], \"barpolar\": [{\"marker\": {\"line\": {\"color\": \"#E5ECF6\", \"width\": 0.5}}, \"type\": \"barpolar\"}], \"carpet\": [{\"aaxis\": {\"endlinecolor\": \"#2a3f5f\", \"gridcolor\": \"white\", \"linecolor\": \"white\", \"minorgridcolor\": \"white\", \"startlinecolor\": \"#2a3f5f\"}, \"baxis\": {\"endlinecolor\": \"#2a3f5f\", \"gridcolor\": \"white\", \"linecolor\": \"white\", \"minorgridcolor\": \"white\", \"startlinecolor\": \"#2a3f5f\"}, \"type\": \"carpet\"}], \"choropleth\": [{\"colorbar\": {\"outlinewidth\": 0, \"ticks\": \"\"}, \"type\": \"choropleth\"}], \"contour\": [{\"colorbar\": {\"outlinewidth\": 0, \"ticks\": \"\"}, \"colorscale\": [[0.0, \"#0d0887\"], [0.1111111111111111, \"#46039f\"], [0.2222222222222222, \"#7201a8\"], [0.3333333333333333, \"#9c179e\"], [0.4444444444444444, \"#bd3786\"], [0.5555555555555556, \"#d8576b\"], [0.6666666666666666, \"#ed7953\"], [0.7777777777777778, \"#fb9f3a\"], [0.8888888888888888, \"#fdca26\"], [1.0, \"#f0f921\"]], \"type\": \"contour\"}], \"contourcarpet\": [{\"colorbar\": {\"outlinewidth\": 0, \"ticks\": \"\"}, \"type\": \"contourcarpet\"}], \"heatmap\": [{\"colorbar\": {\"outlinewidth\": 0, \"ticks\": \"\"}, \"colorscale\": [[0.0, \"#0d0887\"], [0.1111111111111111, \"#46039f\"], [0.2222222222222222, \"#7201a8\"], [0.3333333333333333, \"#9c179e\"], [0.4444444444444444, \"#bd3786\"], [0.5555555555555556, \"#d8576b\"], [0.6666666666666666, \"#ed7953\"], [0.7777777777777778, \"#fb9f3a\"], [0.8888888888888888, \"#fdca26\"], [1.0, \"#f0f921\"]], \"type\": \"heatmap\"}], \"heatmapgl\": [{\"colorbar\": {\"outlinewidth\": 0, \"ticks\": \"\"}, \"colorscale\": [[0.0, \"#0d0887\"], [0.1111111111111111, \"#46039f\"], [0.2222222222222222, \"#7201a8\"], [0.3333333333333333, \"#9c179e\"], [0.4444444444444444, \"#bd3786\"], [0.5555555555555556, \"#d8576b\"], [0.6666666666666666, \"#ed7953\"], [0.7777777777777778, \"#fb9f3a\"], [0.8888888888888888, \"#fdca26\"], [1.0, \"#f0f921\"]], \"type\": \"heatmapgl\"}], \"histogram\": [{\"marker\": {\"colorbar\": {\"outlinewidth\": 0, \"ticks\": \"\"}}, \"type\": \"histogram\"}], \"histogram2d\": [{\"colorbar\": {\"outlinewidth\": 0, \"ticks\": \"\"}, \"colorscale\": [[0.0, \"#0d0887\"], [0.1111111111111111, \"#46039f\"], [0.2222222222222222, \"#7201a8\"], [0.3333333333333333, \"#9c179e\"], [0.4444444444444444, \"#bd3786\"], [0.5555555555555556, \"#d8576b\"], [0.6666666666666666, \"#ed7953\"], [0.7777777777777778, \"#fb9f3a\"], [0.8888888888888888, \"#fdca26\"], [1.0, \"#f0f921\"]], \"type\": \"histogram2d\"}], \"histogram2dcontour\": [{\"colorbar\": {\"outlinewidth\": 0, \"ticks\": \"\"}, \"colorscale\": [[0.0, \"#0d0887\"], [0.1111111111111111, \"#46039f\"], [0.2222222222222222, \"#7201a8\"], [0.3333333333333333, \"#9c179e\"], [0.4444444444444444, \"#bd3786\"], [0.5555555555555556, \"#d8576b\"], [0.6666666666666666, \"#ed7953\"], [0.7777777777777778, \"#fb9f3a\"], [0.8888888888888888, \"#fdca26\"], [1.0, \"#f0f921\"]], \"type\": \"histogram2dcontour\"}], \"mesh3d\": [{\"colorbar\": {\"outlinewidth\": 0, \"ticks\": \"\"}, \"type\": \"mesh3d\"}], \"parcoords\": [{\"line\": {\"colorbar\": {\"outlinewidth\": 0, \"ticks\": \"\"}}, \"type\": \"parcoords\"}], \"pie\": [{\"automargin\": true, \"type\": \"pie\"}], \"scatter\": [{\"marker\": {\"colorbar\": {\"outlinewidth\": 0, \"ticks\": \"\"}}, \"type\": \"scatter\"}], \"scatter3d\": [{\"line\": {\"colorbar\": {\"outlinewidth\": 0, \"ticks\": \"\"}}, \"marker\": {\"colorbar\": {\"outlinewidth\": 0, \"ticks\": \"\"}}, \"type\": \"scatter3d\"}], \"scattercarpet\": [{\"marker\": {\"colorbar\": {\"outlinewidth\": 0, \"ticks\": \"\"}}, \"type\": \"scattercarpet\"}], \"scattergeo\": [{\"marker\": {\"colorbar\": {\"outlinewidth\": 0, \"ticks\": \"\"}}, \"type\": \"scattergeo\"}], \"scattergl\": [{\"marker\": {\"colorbar\": {\"outlinewidth\": 0, \"ticks\": \"\"}}, \"type\": \"scattergl\"}], \"scattermapbox\": [{\"marker\": {\"colorbar\": {\"outlinewidth\": 0, \"ticks\": \"\"}}, \"type\": \"scattermapbox\"}], \"scatterpolar\": [{\"marker\": {\"colorbar\": {\"outlinewidth\": 0, \"ticks\": \"\"}}, \"type\": \"scatterpolar\"}], \"scatterpolargl\": [{\"marker\": {\"colorbar\": {\"outlinewidth\": 0, \"ticks\": \"\"}}, \"type\": \"scatterpolargl\"}], \"scatterternary\": [{\"marker\": {\"colorbar\": {\"outlinewidth\": 0, \"ticks\": \"\"}}, \"type\": \"scatterternary\"}], \"surface\": [{\"colorbar\": {\"outlinewidth\": 0, \"ticks\": \"\"}, \"colorscale\": [[0.0, \"#0d0887\"], [0.1111111111111111, \"#46039f\"], [0.2222222222222222, \"#7201a8\"], [0.3333333333333333, \"#9c179e\"], [0.4444444444444444, \"#bd3786\"], [0.5555555555555556, \"#d8576b\"], [0.6666666666666666, \"#ed7953\"], [0.7777777777777778, \"#fb9f3a\"], [0.8888888888888888, \"#fdca26\"], [1.0, \"#f0f921\"]], \"type\": \"surface\"}], \"table\": [{\"cells\": {\"fill\": {\"color\": \"#EBF0F8\"}, \"line\": {\"color\": \"white\"}}, \"header\": {\"fill\": {\"color\": \"#C8D4E3\"}, \"line\": {\"color\": \"white\"}}, \"type\": \"table\"}]}, \"layout\": {\"annotationdefaults\": {\"arrowcolor\": \"#2a3f5f\", \"arrowhead\": 0, \"arrowwidth\": 1}, \"autotypenumbers\": \"strict\", \"coloraxis\": {\"colorbar\": {\"outlinewidth\": 0, \"ticks\": \"\"}}, \"colorscale\": {\"diverging\": [[0, \"#8e0152\"], [0.1, \"#c51b7d\"], [0.2, \"#de77ae\"], [0.3, \"#f1b6da\"], [0.4, \"#fde0ef\"], [0.5, \"#f7f7f7\"], [0.6, \"#e6f5d0\"], [0.7, \"#b8e186\"], [0.8, \"#7fbc41\"], [0.9, \"#4d9221\"], [1, \"#276419\"]], \"sequential\": [[0.0, \"#0d0887\"], [0.1111111111111111, \"#46039f\"], [0.2222222222222222, \"#7201a8\"], [0.3333333333333333, \"#9c179e\"], [0.4444444444444444, \"#bd3786\"], [0.5555555555555556, \"#d8576b\"], [0.6666666666666666, \"#ed7953\"], [0.7777777777777778, \"#fb9f3a\"], [0.8888888888888888, \"#fdca26\"], [1.0, \"#f0f921\"]], \"sequentialminus\": [[0.0, \"#0d0887\"], [0.1111111111111111, \"#46039f\"], [0.2222222222222222, \"#7201a8\"], [0.3333333333333333, \"#9c179e\"], [0.4444444444444444, \"#bd3786\"], [0.5555555555555556, \"#d8576b\"], [0.6666666666666666, \"#ed7953\"], [0.7777777777777778, \"#fb9f3a\"], [0.8888888888888888, \"#fdca26\"], [1.0, \"#f0f921\"]]}, \"colorway\": [\"#636efa\", \"#EF553B\", \"#00cc96\", \"#ab63fa\", \"#FFA15A\", \"#19d3f3\", \"#FF6692\", \"#B6E880\", \"#FF97FF\", \"#FECB52\"], \"font\": {\"color\": \"#2a3f5f\"}, \"geo\": {\"bgcolor\": \"white\", \"lakecolor\": \"white\", \"landcolor\": \"#E5ECF6\", \"showlakes\": true, \"showland\": true, \"subunitcolor\": \"white\"}, \"hoverlabel\": {\"align\": \"left\"}, \"hovermode\": \"closest\", \"mapbox\": {\"style\": \"light\"}, \"paper_bgcolor\": \"white\", \"plot_bgcolor\": \"#E5ECF6\", \"polar\": {\"angularaxis\": {\"gridcolor\": \"white\", \"linecolor\": \"white\", \"ticks\": \"\"}, \"bgcolor\": \"#E5ECF6\", \"radialaxis\": {\"gridcolor\": \"white\", \"linecolor\": \"white\", \"ticks\": \"\"}}, \"scene\": {\"xaxis\": {\"backgroundcolor\": \"#E5ECF6\", \"gridcolor\": \"white\", \"gridwidth\": 2, \"linecolor\": \"white\", \"showbackground\": true, \"ticks\": \"\", \"zerolinecolor\": \"white\"}, \"yaxis\": {\"backgroundcolor\": \"#E5ECF6\", \"gridcolor\": \"white\", \"gridwidth\": 2, \"linecolor\": \"white\", \"showbackground\": true, \"ticks\": \"\", \"zerolinecolor\": \"white\"}, \"zaxis\": {\"backgroundcolor\": \"#E5ECF6\", \"gridcolor\": \"white\", \"gridwidth\": 2, \"linecolor\": \"white\", \"showbackground\": true, \"ticks\": \"\", \"zerolinecolor\": \"white\"}}, \"shapedefaults\": {\"line\": {\"color\": \"#2a3f5f\"}}, \"ternary\": {\"aaxis\": {\"gridcolor\": \"white\", \"linecolor\": \"white\", \"ticks\": \"\"}, \"baxis\": {\"gridcolor\": \"white\", \"linecolor\": \"white\", \"ticks\": \"\"}, \"bgcolor\": \"#E5ECF6\", \"caxis\": {\"gridcolor\": \"white\", \"linecolor\": \"white\", \"ticks\": \"\"}}, \"title\": {\"x\": 0.05}, \"xaxis\": {\"automargin\": true, \"gridcolor\": \"white\", \"linecolor\": \"white\", \"ticks\": \"\", \"title\": {\"standoff\": 15}, \"zerolinecolor\": \"white\", \"zerolinewidth\": 2}, \"yaxis\": {\"automargin\": true, \"gridcolor\": \"white\", \"linecolor\": \"white\", \"ticks\": \"\", \"title\": {\"standoff\": 15}, \"zerolinecolor\": \"white\", \"zerolinewidth\": 2}}}, \"title\": {\"text\": \"Top 10 Synergies (w.r.t Season)\"}, \"xaxis\": {\"anchor\": \"y\", \"domain\": [0.0, 1.0], \"showticklabels\": true}, \"xaxis2\": {\"anchor\": \"y2\", \"domain\": [0.0, 1.0], \"showticklabels\": true}, \"xaxis3\": {\"anchor\": \"y3\", \"domain\": [0.0, 1.0], \"showticklabels\": true}, \"xaxis4\": {\"anchor\": \"y4\", \"domain\": [0.0, 1.0], \"showticklabels\": true}, \"xaxis5\": {\"anchor\": \"y5\", \"domain\": [0.0, 1.0], \"showticklabels\": true}, \"yaxis\": {\"anchor\": \"x\", \"domain\": [0.824, 0.9999999999999999], \"showticklabels\": true, \"title\": {\"text\": \"players\"}}, \"yaxis2\": {\"anchor\": \"x2\", \"domain\": [0.618, 0.7939999999999999], \"showticklabels\": true, \"title\": {\"text\": \"players\"}}, \"yaxis3\": {\"anchor\": \"x3\", \"domain\": [0.412, 0.588], \"showticklabels\": true, \"title\": {\"text\": \"players\"}}, \"yaxis4\": {\"anchor\": \"x4\", \"domain\": [0.206, 0.38199999999999995], \"showticklabels\": true, \"title\": {\"text\": \"players\"}}, \"yaxis5\": {\"anchor\": \"x5\", \"domain\": [0.0, 0.176], \"showticklabels\": true, \"title\": {\"text\": \"players\"}}},                        {\"responsive\": true}                    ).then(function(){\n",
       "                            \n",
       "var gd = document.getElementById('a6e13f83-8eb9-4256-89c2-80aac600c908');\n",
       "var x = new MutationObserver(function (mutations, observer) {{\n",
       "        var display = window.getComputedStyle(gd).display;\n",
       "        if (!display || display === 'none') {{\n",
       "            console.log([gd, 'removed!']);\n",
       "            Plotly.purge(gd);\n",
       "            observer.disconnect();\n",
       "        }}\n",
       "}});\n",
       "\n",
       "// Listen for the removal of the full notebook cells\n",
       "var notebookContainer = gd.closest('#notebook-container');\n",
       "if (notebookContainer) {{\n",
       "    x.observe(notebookContainer, {childList: true});\n",
       "}}\n",
       "\n",
       "// Listen for the clearing of the current output cell\n",
       "var outputEl = gd.closest('.output');\n",
       "if (outputEl) {{\n",
       "    x.observe(outputEl, {childList: true});\n",
       "}}\n",
       "\n",
       "                        })                };                });            </script>        </div>"
      ]
     },
     "metadata": {},
     "output_type": "display_data"
    }
   ],
   "source": [
    "fig = make_subplots(rows = 10,cols = 1, specs = [[{'type':\"bar\",'rowspan':2}],\n",
    "                                              [None],\n",
    "                                              [{'type':\"bar\",'rowspan':2}],\n",
    "                                              [None],\n",
    "                                              [{'type':\"bar\",'rowspan':2}],\n",
    "                                              [None],\n",
    "                                              [{'type':\"bar\",'rowspan':2}],\n",
    "                                              [None],\n",
    "                                              [{'type':\"bar\",'rowspan':2}],\n",
    "                                              [None]])\n",
    "\n",
    "fig.add_trace(go.Bar(y = synergy_gen(deliveries_2014)[0].tolist()[:10], x = synergy_gen(deliveries_2014)[1].tolist()[:10],\n",
    "                     name = \"2014\",orientation = \"h\"),1,1)\n",
    "fig.add_trace(go.Bar(y = synergy_gen(deliveries_2015)[0].tolist()[:10], x = synergy_gen(deliveries_2015)[1].tolist()[:10],\n",
    "                     name = \"2015\",orientation = \"h\"),3,1)\n",
    "fig.add_trace(go.Bar(y = synergy_gen(deliveries_2016)[0].tolist()[:10], x = synergy_gen(deliveries_2016)[1].tolist()[:10],\n",
    "                     name = \"2016\",orientation = \"h\"),5,1)\n",
    "fig.add_trace(go.Bar(y = synergy_gen(deliveries_2018)[0].tolist()[:10], x = synergy_gen(deliveries_2018)[1].tolist()[:10],\n",
    "                     name = \"2018\",orientation = \"h\"),7,1)\n",
    "fig.add_trace(go.Bar(y = synergy_gen(deliveries_2019)[0].tolist()[:10], x = synergy_gen(deliveries_2019)[1].tolist()[:10],\n",
    "                     name = \"2019\",orientation = \"h\"),9,1)\n",
    "fig.update_xaxes(showticklabels=True)\n",
    "fig.update_yaxes(showticklabels=True,title = \"players\")\n",
    "fig.update_layout(title = \"Top 10 Synergies (w.r.t Season)\",height = 1300)\n",
    "fig.show()"
   ]
  }
 ],
 "metadata": {
  "kernelspec": {
   "display_name": "Python 3",
   "language": "python",
   "name": "python3"
  },
  "language_info": {
   "codemirror_mode": {
    "name": "ipython",
    "version": 3
   },
   "file_extension": ".py",
   "mimetype": "text/x-python",
   "name": "python",
   "nbconvert_exporter": "python",
   "pygments_lexer": "ipython3",
   "version": "3.7.9"
  },
  "papermill": {
   "default_parameters": {},
   "duration": 48.517455,
   "end_time": "2021-03-09T15:32:40.146131",
   "environment_variables": {},
   "exception": null,
   "input_path": "__notebook__.ipynb",
   "output_path": "__notebook__.ipynb",
   "parameters": {},
   "start_time": "2021-03-09T15:31:51.628676",
   "version": "2.2.2"
  }
 },
 "nbformat": 4,
 "nbformat_minor": 4
}
